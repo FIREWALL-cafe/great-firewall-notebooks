{
 "cells": [
  {
   "cell_type": "markdown",
   "metadata": {},
   "source": [
    "## How can we get fully-sized images from automated Google searches?"
   ]
  },
  {
   "cell_type": "code",
   "execution_count": 1,
   "metadata": {},
   "outputs": [],
   "source": [
    "import requests"
   ]
  },
  {
   "cell_type": "markdown",
   "metadata": {},
   "source": [
    "This code seems to be outdated and just returns empty lists: https://gist.github.com/genekogan/ebd77196e4bf0705db51f86431099e57"
   ]
  },
  {
   "cell_type": "code",
   "execution_count": 2,
   "metadata": {},
   "outputs": [],
   "source": [
    "import requests\n",
    "from bs4 import BeautifulSoup\n",
    "from lxml import html"
   ]
  },
  {
   "cell_type": "code",
   "execution_count": 3,
   "metadata": {},
   "outputs": [],
   "source": [
    "r = requests.get('https://www.google.com/search?q=bunny&source=lnms&tbm=isch&sa=X&ved=2ahUKEwie44_AnqLpAhUhBWMBHUFGD90Q_AUoAXoECBUQAw&biw=1920&bih=947')"
   ]
  },
  {
   "cell_type": "code",
   "execution_count": 4,
   "metadata": {},
   "outputs": [],
   "source": [
    "soup = BeautifulSoup(r.text)"
   ]
  },
  {
   "cell_type": "code",
   "execution_count": 5,
   "metadata": {},
   "outputs": [],
   "source": [
    "def find_by_xpath(element_source,xpath_expression):\n",
    "    root = html.fromstring(element_source)\n",
    "    return root.xpath(xpath_expression)"
   ]
  },
  {
   "cell_type": "code",
   "execution_count": 6,
   "metadata": {},
   "outputs": [
    {
     "data": {
      "text/plain": [
       "[]"
      ]
     },
     "execution_count": 6,
     "metadata": {},
     "output_type": "execute_result"
    }
   ],
   "source": [
    "find_by_xpath(r.text, '//body/div[2]/c-wiz/div[3]/div[2]/div[3]/div/div/div[3]/div[2]/c-wiz/div[1]/div[1]/div/div[2]/a/img')"
   ]
  },
  {
   "cell_type": "code",
   "execution_count": 7,
   "metadata": {},
   "outputs": [
    {
     "data": {
      "text/plain": [
       "<table class=\"TxbwNb\"><tr><td><a href=\"/url?q=https://www.rd.com/list/cutest-bunnies/&amp;sa=U&amp;ved=2ahUKEwjkrpGD_rrvAhUdJjQIHY53AQ0QqoUBMAF6BAgPEAE&amp;usg=AOvVaw26r-8XU_H8nlU2JwV-6tgR\"><div class=\"RAyV4b\"><img alt=\"\" class=\"t0fcAb\" src=\"https://encrypted-tbn0.gstatic.com/images?q=tbn:ANd9GcS3ToLkgTspWAGrSpBX3OKSsv9snbS4P0kfr6TDsxNdlXsVUsc6UcnmqN4zSg&amp;s\"/></div></a></td></tr><tr><td><a href=\"/url?q=https://www.rd.com/list/cutest-bunnies/&amp;sa=U&amp;ved=2ahUKEwjkrpGD_rrvAhUdJjQIHY53AQ0Qr4kDMAF6BAgPEAI&amp;usg=AOvVaw3NfylQQlrgRC2UcjxNocVN\"><div class=\"Tor4Ec\"> <span class=\"qXLe6d x3G5ab\"> <span class=\"fYyStc\">Cutest Bunnies You'll Want...</span> </span> <span class=\"qXLe6d F9iS2e\"> <span class=\"fYyStc\">rd.com</span> </span> </div></a></td></tr></table>"
      ]
     },
     "execution_count": 7,
     "metadata": {},
     "output_type": "execute_result"
    }
   ],
   "source": [
    "dom_img = soup.find_all('img')[2]\n",
    "dom_img.parent.parent.parent.parent.parent"
   ]
  },
  {
   "cell_type": "code",
   "execution_count": 8,
   "metadata": {},
   "outputs": [],
   "source": [
    "from ipyplot import plot_images"
   ]
  },
  {
   "cell_type": "code",
   "execution_count": 9,
   "metadata": {},
   "outputs": [
    {
     "data": {
      "text/html": [
       "<div style=\"display: inline-block; width: 320px; vertical-align: top; text-align: center;\"><h4 style=\"font-size: 12px\">0</h4><h4 style=\"font-size: 9px; padding-left: 10px; padding-right: 10px; width: 90%; word-wrap: break-word; white-space: normal;\">/images/branding/searchlogo/1x/googlelogo_desk_heirloom_color_150x55dp.gif</h4><img src=\"/images/branding/searchlogo/1x/googlelogo_desk_heirloom_color_150x55dp.gif\" style=\"margin: 1px; width: 300px; border: 2px solid #ddd;\"/></div><div style=\"display: inline-block; width: 320px; vertical-align: top; text-align: center;\"><h4 style=\"font-size: 12px\">1</h4><h4 style=\"font-size: 9px; padding-left: 10px; padding-right: 10px; width: 90%; word-wrap: break-word; white-space: normal;\">https://encrypted-tbn0.gstatic.com/images?q=tbn:ANd9GcQfm7rYp1QfEx9mBR--UKWduDyF_7UdWw7kfxJUUrqvk6fKNnO7IaqwHvGoWA&s</h4><img src=\"https://encrypted-tbn0.gstatic.com/images?q=tbn:ANd9GcQfm7rYp1QfEx9mBR--UKWduDyF_7UdWw7kfxJUUrqvk6fKNnO7IaqwHvGoWA&s\" style=\"margin: 1px; width: 300px; border: 2px solid #ddd;\"/></div><div style=\"display: inline-block; width: 320px; vertical-align: top; text-align: center;\"><h4 style=\"font-size: 12px\">2</h4><h4 style=\"font-size: 9px; padding-left: 10px; padding-right: 10px; width: 90%; word-wrap: break-word; white-space: normal;\">https://encrypted-tbn0.gstatic.com/images?q=tbn:ANd9GcS3ToLkgTspWAGrSpBX3OKSsv9snbS4P0kfr6TDsxNdlXsVUsc6UcnmqN4zSg&s</h4><img src=\"https://encrypted-tbn0.gstatic.com/images?q=tbn:ANd9GcS3ToLkgTspWAGrSpBX3OKSsv9snbS4P0kfr6TDsxNdlXsVUsc6UcnmqN4zSg&s\" style=\"margin: 1px; width: 300px; border: 2px solid #ddd;\"/></div><div style=\"display: inline-block; width: 320px; vertical-align: top; text-align: center;\"><h4 style=\"font-size: 12px\">3</h4><h4 style=\"font-size: 9px; padding-left: 10px; padding-right: 10px; width: 90%; word-wrap: break-word; white-space: normal;\">https://encrypted-tbn0.gstatic.com/images?q=tbn:ANd9GcRLCdV99lxbkf63GKDF1g6Rw-Q4QnzKZx6vTLY7pOpRRBEO09e5WNAP8plL8Q&s</h4><img src=\"https://encrypted-tbn0.gstatic.com/images?q=tbn:ANd9GcRLCdV99lxbkf63GKDF1g6Rw-Q4QnzKZx6vTLY7pOpRRBEO09e5WNAP8plL8Q&s\" style=\"margin: 1px; width: 300px; border: 2px solid #ddd;\"/></div><div style=\"display: inline-block; width: 320px; vertical-align: top; text-align: center;\"><h4 style=\"font-size: 12px\">4</h4><h4 style=\"font-size: 9px; padding-left: 10px; padding-right: 10px; width: 90%; word-wrap: break-word; white-space: normal;\">https://encrypted-tbn0.gstatic.com/images?q=tbn:ANd9GcQjkCo0LSNFO-BAZ2cYDGlEyhVqdVwDWv9wI0z34i7qV96bAmLG69s5fGutEw&s</h4><img src=\"https://encrypted-tbn0.gstatic.com/images?q=tbn:ANd9GcQjkCo0LSNFO-BAZ2cYDGlEyhVqdVwDWv9wI0z34i7qV96bAmLG69s5fGutEw&s\" style=\"margin: 1px; width: 300px; border: 2px solid #ddd;\"/></div>"
      ],
      "text/plain": [
       "<IPython.core.display.HTML object>"
      ]
     },
     "metadata": {},
     "output_type": "display_data"
    }
   ],
   "source": [
    "plot_images([img.get('src') for img in soup.find_all('img')][:5])"
   ]
  },
  {
   "cell_type": "code",
   "execution_count": 10,
   "metadata": {},
   "outputs": [
    {
     "data": {
      "text/html": [
       "<div style=\"display: inline-block; width: 320px; vertical-align: top; text-align: center;\"><h4 style=\"font-size: 12px\">0</h4><h4 style=\"font-size: 9px; padding-left: 10px; padding-right: 10px; width: 90%; word-wrap: break-word; white-space: normal;\">https://encrypted-tbn0.gstatic.com/images?q=tbn:ANd9GcQfm7rYp1QfEx9mBR--UKWduDyF_7UdWw7kfxJUUrqvk6fKNnO7IaqwHvGoWA</h4><img src=\"https://encrypted-tbn0.gstatic.com/images?q=tbn:ANd9GcQfm7rYp1QfEx9mBR--UKWduDyF_7UdWw7kfxJUUrqvk6fKNnO7IaqwHvGoWA\" style=\"margin: 1px; width: 300px; border: 2px solid #ddd;\"/></div><div style=\"display: inline-block; width: 320px; vertical-align: top; text-align: center;\"><h4 style=\"font-size: 12px\">1</h4><h4 style=\"font-size: 9px; padding-left: 10px; padding-right: 10px; width: 90%; word-wrap: break-word; white-space: normal;\">https://encrypted-tbn0.gstatic.com/images?q=tbn:ANd9GcS3ToLkgTspWAGrSpBX3OKSsv9snbS4P0kfr6TDsxNdlXsVUsc6UcnmqN4zSg</h4><img src=\"https://encrypted-tbn0.gstatic.com/images?q=tbn:ANd9GcS3ToLkgTspWAGrSpBX3OKSsv9snbS4P0kfr6TDsxNdlXsVUsc6UcnmqN4zSg\" style=\"margin: 1px; width: 300px; border: 2px solid #ddd;\"/></div><div style=\"display: inline-block; width: 320px; vertical-align: top; text-align: center;\"><h4 style=\"font-size: 12px\">2</h4><h4 style=\"font-size: 9px; padding-left: 10px; padding-right: 10px; width: 90%; word-wrap: break-word; white-space: normal;\">https://encrypted-tbn0.gstatic.com/images?q=tbn:ANd9GcRLCdV99lxbkf63GKDF1g6Rw-Q4QnzKZx6vTLY7pOpRRBEO09e5WNAP8plL8Q</h4><img src=\"https://encrypted-tbn0.gstatic.com/images?q=tbn:ANd9GcRLCdV99lxbkf63GKDF1g6Rw-Q4QnzKZx6vTLY7pOpRRBEO09e5WNAP8plL8Q\" style=\"margin: 1px; width: 300px; border: 2px solid #ddd;\"/></div><div style=\"display: inline-block; width: 320px; vertical-align: top; text-align: center;\"><h4 style=\"font-size: 12px\">3</h4><h4 style=\"font-size: 9px; padding-left: 10px; padding-right: 10px; width: 90%; word-wrap: break-word; white-space: normal;\">https://encrypted-tbn0.gstatic.com/images?q=tbn:ANd9GcQjkCo0LSNFO-BAZ2cYDGlEyhVqdVwDWv9wI0z34i7qV96bAmLG69s5fGutEw</h4><img src=\"https://encrypted-tbn0.gstatic.com/images?q=tbn:ANd9GcQjkCo0LSNFO-BAZ2cYDGlEyhVqdVwDWv9wI0z34i7qV96bAmLG69s5fGutEw\" style=\"margin: 1px; width: 300px; border: 2px solid #ddd;\"/></div><div style=\"display: inline-block; width: 320px; vertical-align: top; text-align: center;\"><h4 style=\"font-size: 12px\">4</h4><h4 style=\"font-size: 9px; padding-left: 10px; padding-right: 10px; width: 90%; word-wrap: break-word; white-space: normal;\">https://encrypted-tbn0.gstatic.com/images?q=tbn:ANd9GcRDToo0Lja0ROGlOG7PreU2eO-kDiZoM-miTAo8K9FlYAWrRNIJPKt7oGPFlm4</h4><img src=\"https://encrypted-tbn0.gstatic.com/images?q=tbn:ANd9GcRDToo0Lja0ROGlOG7PreU2eO-kDiZoM-miTAo8K9FlYAWrRNIJPKt7oGPFlm4\" style=\"margin: 1px; width: 300px; border: 2px solid #ddd;\"/></div>"
      ],
      "text/plain": [
       "<IPython.core.display.HTML object>"
      ]
     },
     "metadata": {},
     "output_type": "display_data"
    }
   ],
   "source": [
    "plot_images(['https://encrypted-tbn0.gstatic.com/images?q=tbn:ANd9GcQfm7rYp1QfEx9mBR--UKWduDyF_7UdWw7kfxJUUrqvk6fKNnO7IaqwHvGoWA',\n",
    " 'https://encrypted-tbn0.gstatic.com/images?q=tbn:ANd9GcS3ToLkgTspWAGrSpBX3OKSsv9snbS4P0kfr6TDsxNdlXsVUsc6UcnmqN4zSg',\n",
    " 'https://encrypted-tbn0.gstatic.com/images?q=tbn:ANd9GcRLCdV99lxbkf63GKDF1g6Rw-Q4QnzKZx6vTLY7pOpRRBEO09e5WNAP8plL8Q',\n",
    " 'https://encrypted-tbn0.gstatic.com/images?q=tbn:ANd9GcQjkCo0LSNFO-BAZ2cYDGlEyhVqdVwDWv9wI0z34i7qV96bAmLG69s5fGutEw',\n",
    " 'https://encrypted-tbn0.gstatic.com/images?q=tbn:ANd9GcRDToo0Lja0ROGlOG7PreU2eO-kDiZoM-miTAo8K9FlYAWrRNIJPKt7oGPFlm4'])"
   ]
  },
  {
   "cell_type": "markdown",
   "metadata": {},
   "source": [
    "## Reverse image search with POST request\n",
    "\n",
    "The idea here is that maybe we should just scrape the thumbnails from google, then later another script could browse through images for which we only have a thumbnail and do a reverse image search with them to find the full-sized image."
   ]
  },
  {
   "cell_type": "code",
   "execution_count": 11,
   "metadata": {},
   "outputs": [
    {
     "data": {
      "text/plain": [
       "True"
      ]
     },
     "execution_count": 11,
     "metadata": {},
     "output_type": "execute_result"
    }
   ],
   "source": [
    "# copied from https://stackoverflow.com/questions/23270175/google-reverse-image-search-using-post-request\n",
    "import requests\n",
    "import webbrowser\n",
    "\n",
    "filePath = './thumbnails/0dde0e78a81038ab8482adc1cb94a590.jpg'\n",
    "searchUrl = 'http://www.google.com/searchbyimage/upload'\n",
    "multipart = {'encoded_image': (filePath, open(filePath, 'rb')), 'image_content': ''}\n",
    "response = requests.post(searchUrl, files=multipart, allow_redirects=False)\n",
    "fetchUrl = response.headers['Location']\n",
    "webbrowser.open(fetchUrl)"
   ]
  },
  {
   "cell_type": "markdown",
   "metadata": {},
   "source": [
    "Currently this opens a web browser, which won't work on a server. We'll have to set up a headless browser and have it click through until it can download the larger image size."
   ]
  }
 ],
 "metadata": {
  "kernelspec": {
   "display_name": "Python 3",
   "language": "python",
   "name": "python3"
  },
  "language_info": {
   "codemirror_mode": {
    "name": "ipython",
    "version": 3
   },
   "file_extension": ".py",
   "mimetype": "text/x-python",
   "name": "python",
   "nbconvert_exporter": "python",
   "pygments_lexer": "ipython3",
   "version": "3.8.3"
  }
 },
 "nbformat": 4,
 "nbformat_minor": 4
}
