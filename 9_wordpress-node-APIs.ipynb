{
 "cells": [
  {
   "cell_type": "markdown",
   "metadata": {},
   "source": [
    "## Comparing the old Wordpress API and the newer node API\n",
    "\n",
    "Do they have the same data? How do queries work on each? Let's check.\n",
    " - get all searches on both\n",
    " - get all images\n",
    " - get one search and all images\n",
    " - get voting data\n",
    " - do all searches on wordpress exist on node API?\n",
    " - do all images on wordpress exist on node API?\n"
   ]
  },
  {
   "cell_type": "markdown",
   "metadata": {},
   "source": [
    "Here is the endpoint that firewallcafe.com/archive is hitting to get the results."
   ]
  },
  {
   "cell_type": "code",
   "execution_count": 1,
   "metadata": {},
   "outputs": [],
   "source": [
    "url = 'https://firewallcafe.com/wp-json/wp/v2/search-result?per_page=25&page=1'"
   ]
  },
  {
   "cell_type": "code",
   "execution_count": 2,
   "metadata": {},
   "outputs": [],
   "source": [
    "import requests"
   ]
  },
  {
   "cell_type": "code",
   "execution_count": 3,
   "metadata": {},
   "outputs": [],
   "source": [
    "wp_res = requests.get(url).json()"
   ]
  },
  {
   "cell_type": "code",
   "execution_count": 4,
   "metadata": {},
   "outputs": [
    {
     "data": {
      "text/plain": [
       "25"
      ]
     },
     "execution_count": 4,
     "metadata": {},
     "output_type": "execute_result"
    }
   ],
   "source": [
    "len(wp_res)"
   ]
  },
  {
   "cell_type": "code",
   "execution_count": 5,
   "metadata": {},
   "outputs": [
    {
     "data": {
      "text/plain": [
       "dict_keys(['id', 'date', 'date_gmt', 'guid', 'modified', 'modified_gmt', 'slug', 'status', 'type', 'link', 'title', 'content', 'excerpt', 'template', 'meta', 'tags', 'galleries', '_links'])"
      ]
     },
     "execution_count": 5,
     "metadata": {},
     "output_type": "execute_result"
    }
   ],
   "source": [
    "wp_res[0].keys()"
   ]
  },
  {
   "cell_type": "code",
   "execution_count": 6,
   "metadata": {},
   "outputs": [
    {
     "data": {
      "text/plain": [
       "282427"
      ]
     },
     "execution_count": 6,
     "metadata": {},
     "output_type": "execute_result"
    }
   ],
   "source": [
    "wp_res[0]['id']"
   ]
  },
  {
   "cell_type": "markdown",
   "metadata": {},
   "source": [
    "The ID is of the top-most entry under Search Results in the admin panel: 282427, \"coronavirus\"."
   ]
  },
  {
   "cell_type": "code",
   "execution_count": 7,
   "metadata": {},
   "outputs": [
    {
     "data": {
      "text/plain": [
       "{'rendered': 'coronavirus'}"
      ]
     },
     "execution_count": 7,
     "metadata": {},
     "output_type": "execute_result"
    }
   ],
   "source": [
    "wp_res[0]['title']"
   ]
  },
  {
   "cell_type": "code",
   "execution_count": 8,
   "metadata": {},
   "outputs": [
    {
     "data": {
      "text/plain": [
       "['coronavirus',\n",
       " 'kim jong un',\n",
       " 'hitler',\n",
       " 'why communism is evil',\n",
       " 'red square',\n",
       " 'trump',\n",
       " 'hong kong',\n",
       " 'tiananmen square',\n",
       " 'hong kong protest flag',\n",
       " 'hong kong',\n",
       " 'chinese internment camps',\n",
       " 'united states',\n",
       " 'propaganda',\n",
       " 'missles',\n",
       " 'burger king',\n",
       " 'red bull',\n",
       " 'doritos',\n",
       " 'aliens',\n",
       " 'nascar',\n",
       " 'fox news',\n",
       " 'martin luther king jr',\n",
       " 'hot cheetos',\n",
       " 'nba',\n",
       " 'hamburgers',\n",
       " 'pizza']"
      ]
     },
     "execution_count": 8,
     "metadata": {},
     "output_type": "execute_result"
    }
   ],
   "source": [
    "[item['title']['rendered'] for item in wp_res]"
   ]
  },
  {
   "cell_type": "code",
   "execution_count": 9,
   "metadata": {},
   "outputs": [],
   "source": [
    "new_api_res = requests.get('http://api.firewallcafe.com/searches').json()"
   ]
  },
  {
   "cell_type": "code",
   "execution_count": 10,
   "metadata": {},
   "outputs": [
    {
     "data": {
      "text/plain": [
       "5579"
      ]
     },
     "execution_count": 10,
     "metadata": {},
     "output_type": "execute_result"
    }
   ],
   "source": [
    "len(new_api_res)"
   ]
  },
  {
   "cell_type": "markdown",
   "metadata": {},
   "source": [
    "The new API's order is reversed, so we have to look at the last item to find the corresponding search."
   ]
  },
  {
   "cell_type": "code",
   "execution_count": 11,
   "metadata": {},
   "outputs": [
    {
     "data": {
      "text/plain": [
       "{'search_id': 5579,\n",
       " 'search_timestamp': '1582773676000',\n",
       " 'search_location': 'poughkeepsie',\n",
       " 'search_ip_address': None,\n",
       " 'search_client_name': 'Anonymous',\n",
       " 'search_engine_initial': 'google',\n",
       " 'search_engine_translation': 'baidu',\n",
       " 'search_term_initial': 'coronavirus',\n",
       " 'search_term_initial_language_code': 'en',\n",
       " 'search_term_initial_language_confidence': '0.5703125',\n",
       " 'search_term_initial_language_alternate_code': '',\n",
       " 'search_term_translation': '冠状病毒',\n",
       " 'search_term_translation_language_code': 'zh-CN',\n",
       " 'search_term_status_banned': False,\n",
       " 'search_term_status_sensitive': False,\n",
       " 'search_schema_initial': 2,\n",
       " 'wordpress_search_term_popularity': None,\n",
       " 'wordpress_copyright_takedown': None,\n",
       " 'wordpress_unflattened': None,\n",
       " 'wordpress_regular_post_id': None,\n",
       " 'wordpress_search_result_post_id': 282427,\n",
       " 'wordpress_search_result_post_slug': 'coronavirus-1582773676'}"
      ]
     },
     "execution_count": 11,
     "metadata": {},
     "output_type": "execute_result"
    }
   ],
   "source": [
    "new_api_res[-1]"
   ]
  },
  {
   "cell_type": "markdown",
   "metadata": {},
   "source": [
    "However, there's a lot that's not here which is in the Wordpress result. There's no list of images. Instead we need to call this endpoint:"
   ]
  },
  {
   "cell_type": "code",
   "execution_count": 12,
   "metadata": {},
   "outputs": [],
   "source": [
    "r = requests.get('http://api.firewallcafe.com/searches/images/search_id/' + str(5579))"
   ]
  },
  {
   "cell_type": "markdown",
   "metadata": {},
   "source": [
    "Let's look at the result minus the raw image data."
   ]
  },
  {
   "cell_type": "code",
   "execution_count": 13,
   "metadata": {},
   "outputs": [],
   "source": [
    "imageset = r.json()\n",
    "for img in imageset:\n",
    "    img['image_data']['data'] = []"
   ]
  },
  {
   "cell_type": "code",
   "execution_count": 14,
   "metadata": {},
   "outputs": [
    {
     "data": {
      "text/plain": [
       "{'search_id': 5579,\n",
       " 'search_timestamp': '1582773676000',\n",
       " 'search_location': 'poughkeepsie',\n",
       " 'search_ip_address': None,\n",
       " 'search_client_name': 'Anonymous',\n",
       " 'search_engine_initial': 'google',\n",
       " 'search_engine_translation': 'baidu',\n",
       " 'search_term_initial': 'coronavirus',\n",
       " 'search_term_initial_language_code': 'en',\n",
       " 'search_term_initial_language_confidence': '0.5703125',\n",
       " 'search_term_initial_language_alternate_code': '',\n",
       " 'search_term_translation': '冠状病毒',\n",
       " 'search_term_translation_language_code': 'zh-CN',\n",
       " 'search_term_status_banned': False,\n",
       " 'search_term_status_sensitive': False,\n",
       " 'search_schema_initial': 2,\n",
       " 'wordpress_search_term_popularity': None,\n",
       " 'wordpress_copyright_takedown': None,\n",
       " 'wordpress_unflattened': None,\n",
       " 'wordpress_regular_post_id': None,\n",
       " 'wordpress_search_result_post_id': 282427,\n",
       " 'wordpress_search_result_post_slug': 'coronavirus-1582773676',\n",
       " 'image_id': 197428,\n",
       " 'image_search_engine': 'google',\n",
       " 'image_href': 'https://www.bloomberg.com/graphics/2020-wuhan-novel-coronavirus-outbreak/img/2020-wuhan-novel-coronavirus-outbreak-twitter.png?t=202002261144',\n",
       " 'image_rank': '01',\n",
       " 'image_mime_type': 'image/jpeg',\n",
       " 'image_data': {'type': 'Buffer', 'data': []},\n",
       " 'wordpress_attachment_post_id': 282428,\n",
       " 'wordpress_attachment_file_path': '/wp-content/uploads/2020/02/26/282427/google-1582773676-01.jpg'}"
      ]
     },
     "execution_count": 14,
     "metadata": {},
     "output_type": "execute_result"
    }
   ],
   "source": [
    "imageset[0]"
   ]
  },
  {
   "cell_type": "markdown",
   "metadata": {},
   "source": [
    "Looks like we can grab the images with the URLs."
   ]
  },
  {
   "cell_type": "code",
   "execution_count": 15,
   "metadata": {},
   "outputs": [
    {
     "data": {
      "text/html": [
       "<div style=\"display: inline-block; width: 170px; vertical-align: top; text-align: center;\"><h4 style=\"font-size: 12px\">0</h4><h4 style=\"font-size: 9px; padding-left: 10px; padding-right: 10px; width: 90%; word-wrap: break-word; white-space: normal;\">http://firewallcafe.com/wp-content/uploads/2020/02/26/282427/google-1582773676-01.jpg</h4><img src=\"http://firewallcafe.com/wp-content/uploads/2020/02/26/282427/google-1582773676-01.jpg\" style=\"margin: 1px; width: 150px; border: 2px solid #ddd;\"/></div><div style=\"display: inline-block; width: 170px; vertical-align: top; text-align: center;\"><h4 style=\"font-size: 12px\">1</h4><h4 style=\"font-size: 9px; padding-left: 10px; padding-right: 10px; width: 90%; word-wrap: break-word; white-space: normal;\">http://firewallcafe.com/wp-content/uploads/2020/02/26/282427/google-1582773676-02.jpg</h4><img src=\"http://firewallcafe.com/wp-content/uploads/2020/02/26/282427/google-1582773676-02.jpg\" style=\"margin: 1px; width: 150px; border: 2px solid #ddd;\"/></div><div style=\"display: inline-block; width: 170px; vertical-align: top; text-align: center;\"><h4 style=\"font-size: 12px\">2</h4><h4 style=\"font-size: 9px; padding-left: 10px; padding-right: 10px; width: 90%; word-wrap: break-word; white-space: normal;\">http://firewallcafe.com/wp-content/uploads/2020/02/26/282427/google-1582773676-03.jpg</h4><img src=\"http://firewallcafe.com/wp-content/uploads/2020/02/26/282427/google-1582773676-03.jpg\" style=\"margin: 1px; width: 150px; border: 2px solid #ddd;\"/></div><div style=\"display: inline-block; width: 170px; vertical-align: top; text-align: center;\"><h4 style=\"font-size: 12px\">3</h4><h4 style=\"font-size: 9px; padding-left: 10px; padding-right: 10px; width: 90%; word-wrap: break-word; white-space: normal;\">http://firewallcafe.com/wp-content/uploads/2020/02/26/282427/google-1582773676-04.jpg</h4><img src=\"http://firewallcafe.com/wp-content/uploads/2020/02/26/282427/google-1582773676-04.jpg\" style=\"margin: 1px; width: 150px; border: 2px solid #ddd;\"/></div><div style=\"display: inline-block; width: 170px; vertical-align: top; text-align: center;\"><h4 style=\"font-size: 12px\">4</h4><h4 style=\"font-size: 9px; padding-left: 10px; padding-right: 10px; width: 90%; word-wrap: break-word; white-space: normal;\">http://firewallcafe.com/wp-content/uploads/2020/02/26/282427/google-1582773676-05.jpg</h4><img src=\"http://firewallcafe.com/wp-content/uploads/2020/02/26/282427/google-1582773676-05.jpg\" style=\"margin: 1px; width: 150px; border: 2px solid #ddd;\"/></div><div style=\"display: inline-block; width: 170px; vertical-align: top; text-align: center;\"><h4 style=\"font-size: 12px\">5</h4><h4 style=\"font-size: 9px; padding-left: 10px; padding-right: 10px; width: 90%; word-wrap: break-word; white-space: normal;\">http://firewallcafe.com/wp-content/uploads/2020/02/26/282427/google-1582773676-06.jpg</h4><img src=\"http://firewallcafe.com/wp-content/uploads/2020/02/26/282427/google-1582773676-06.jpg\" style=\"margin: 1px; width: 150px; border: 2px solid #ddd;\"/></div><div style=\"display: inline-block; width: 170px; vertical-align: top; text-align: center;\"><h4 style=\"font-size: 12px\">6</h4><h4 style=\"font-size: 9px; padding-left: 10px; padding-right: 10px; width: 90%; word-wrap: break-word; white-space: normal;\">http://firewallcafe.com/wp-content/uploads/2020/02/26/282427/google-1582773676-07.jpg</h4><img src=\"http://firewallcafe.com/wp-content/uploads/2020/02/26/282427/google-1582773676-07.jpg\" style=\"margin: 1px; width: 150px; border: 2px solid #ddd;\"/></div><div style=\"display: inline-block; width: 170px; vertical-align: top; text-align: center;\"><h4 style=\"font-size: 12px\">7</h4><h4 style=\"font-size: 9px; padding-left: 10px; padding-right: 10px; width: 90%; word-wrap: break-word; white-space: normal;\">http://firewallcafe.com/wp-content/uploads/2020/02/26/282427/google-1582773676-08.jpg</h4><img src=\"http://firewallcafe.com/wp-content/uploads/2020/02/26/282427/google-1582773676-08.jpg\" style=\"margin: 1px; width: 150px; border: 2px solid #ddd;\"/></div><div style=\"display: inline-block; width: 170px; vertical-align: top; text-align: center;\"><h4 style=\"font-size: 12px\">8</h4><h4 style=\"font-size: 9px; padding-left: 10px; padding-right: 10px; width: 90%; word-wrap: break-word; white-space: normal;\">http://firewallcafe.com/wp-content/uploads/2020/02/26/282427/google-1582773676-09.jpg</h4><img src=\"http://firewallcafe.com/wp-content/uploads/2020/02/26/282427/google-1582773676-09.jpg\" style=\"margin: 1px; width: 150px; border: 2px solid #ddd;\"/></div><div style=\"display: inline-block; width: 170px; vertical-align: top; text-align: center;\"><h4 style=\"font-size: 12px\">9</h4><h4 style=\"font-size: 9px; padding-left: 10px; padding-right: 10px; width: 90%; word-wrap: break-word; white-space: normal;\">http://firewallcafe.com/wp-content/uploads/2020/02/26/282427/google-1582773676-10.jpg</h4><img src=\"http://firewallcafe.com/wp-content/uploads/2020/02/26/282427/google-1582773676-10.jpg\" style=\"margin: 1px; width: 150px; border: 2px solid #ddd;\"/></div>"
      ],
      "text/plain": [
       "<IPython.core.display.HTML object>"
      ]
     },
     "metadata": {},
     "output_type": "display_data"
    }
   ],
   "source": [
    "import ipyplot\n",
    "def get_full_img_url(img):\n",
    "    return 'http://firewallcafe.com' + img['wordpress_attachment_file_path']\n",
    "ipyplot.plot_images([get_full_img_url(img) for img in imageset[:10]], img_width=150)"
   ]
  },
  {
   "cell_type": "markdown",
   "metadata": {},
   "source": [
    "## Do all searches on wordpress API exist on node API?"
   ]
  },
  {
   "cell_type": "code",
   "execution_count": 51,
   "metadata": {},
   "outputs": [
    {
     "data": {
      "text/plain": [
       "('282427',\n",
       " {'id': 282427,\n",
       "  'date': '2020-02-27T03:21:16',\n",
       "  'date_gmt': '2020-02-27T03:21:16',\n",
       "  'guid': {'rendered': 'https://firewallcafe.com/?post_type=search-result&#038;p=282427'},\n",
       "  'modified': '2020-02-26T22:21:32',\n",
       "  'modified_gmt': '2020-02-27T03:21:32',\n",
       "  'slug': 'coronavirus-1582773676',\n",
       "  'status': 'publish',\n",
       "  'type': 'search-result',\n",
       "  'link': 'https://firewallcafe.com/archive/coronavirus-1582773676/',\n",
       "  'title': {'rendered': 'coronavirus'},\n",
       "  'content': {'rendered': '<p>Google<br />\\n<div id=\\'gallery-1\\' class=\\'gallery galleryid-282427 gallery-columns-3 gallery-size-thumbnail\\'><figure class=\\'gallery-item\\'>\\n\\t\\t\\t<div class=\\'gallery-icon landscape lazy-load\\'>\\n\\t\\t\\t\\t<a href=\\'https://firewallcafe.com/archive/coronavirus-1582773676/google-1582773676-01/\\'><img width=\"318\" height=\"159\" src=\"https://firewallcafe.com/wp-content/uploads/2020/02/26/282427/google-1582773676-01.jpg\" data-src=\"https://firewallcafe.com/wp-content/uploads/2020/02/26/282427/google-1582773676-01.jpg\" class=\"attachment-thumbnail size-thumbnail lazy-load\" alt=\"\" /></a>\\n\\t\\t\\t</div></figure><figure class=\\'gallery-item\\'>\\n\\t\\t\\t<div class=\\'gallery-icon landscape lazy-load\\'>\\n\\t\\t\\t\\t<a href=\\'https://firewallcafe.com/archive/coronavirus-1582773676/google-1582773676-02/\\'><img width=\"300\" height=\"168\" src=\"https://firewallcafe.com/wp-content/uploads/2020/02/26/282427/google-1582773676-02.jpg\" data-src=\"https://firewallcafe.com/wp-content/uploads/2020/02/26/282427/google-1582773676-02.jpg\" class=\"attachment-thumbnail size-thumbnail lazy-load\" alt=\"\" /></a>\\n\\t\\t\\t</div></figure><figure class=\\'gallery-item\\'>\\n\\t\\t\\t<div class=\\'gallery-icon landscape lazy-load\\'>\\n\\t\\t\\t\\t<a href=\\'https://firewallcafe.com/archive/coronavirus-1582773676/google-1582773676-03/\\'><img width=\"300\" height=\"168\" src=\"https://firewallcafe.com/wp-content/uploads/2020/02/26/282427/google-1582773676-03.jpg\" data-src=\"https://firewallcafe.com/wp-content/uploads/2020/02/26/282427/google-1582773676-03.jpg\" class=\"attachment-thumbnail size-thumbnail lazy-load\" alt=\"\" /></a>\\n\\t\\t\\t</div></figure><figure class=\\'gallery-item\\'>\\n\\t\\t\\t<div class=\\'gallery-icon landscape lazy-load\\'>\\n\\t\\t\\t\\t<a href=\\'https://firewallcafe.com/archive/coronavirus-1582773676/google-1582773676-04/\\'><img width=\"220\" height=\"220\" src=\"https://firewallcafe.com/wp-content/uploads/2020/02/26/282427/google-1582773676-04-220x220.jpg\" data-src=\"https://firewallcafe.com/wp-content/uploads/2020/02/26/282427/google-1582773676-04-220x220.jpg\" class=\"attachment-thumbnail size-thumbnail lazy-load\" alt=\"\" /></a>\\n\\t\\t\\t</div></figure><figure class=\\'gallery-item\\'>\\n\\t\\t\\t<div class=\\'gallery-icon landscape lazy-load\\'>\\n\\t\\t\\t\\t<a href=\\'https://firewallcafe.com/archive/coronavirus-1582773676/google-1582773676-05/\\'><img width=\"300\" height=\"168\" src=\"https://firewallcafe.com/wp-content/uploads/2020/02/26/282427/google-1582773676-05.jpg\" data-src=\"https://firewallcafe.com/wp-content/uploads/2020/02/26/282427/google-1582773676-05.jpg\" class=\"attachment-thumbnail size-thumbnail lazy-load\" alt=\"\" /></a>\\n\\t\\t\\t</div></figure><figure class=\\'gallery-item\\'>\\n\\t\\t\\t<div class=\\'gallery-icon landscape lazy-load\\'>\\n\\t\\t\\t\\t<a href=\\'https://firewallcafe.com/archive/coronavirus-1582773676/google-1582773676-06/\\'><img width=\"300\" height=\"168\" src=\"https://firewallcafe.com/wp-content/uploads/2020/02/26/282427/google-1582773676-06.jpg\" data-src=\"https://firewallcafe.com/wp-content/uploads/2020/02/26/282427/google-1582773676-06.jpg\" class=\"attachment-thumbnail size-thumbnail lazy-load\" alt=\"\" /></a>\\n\\t\\t\\t</div></figure><figure class=\\'gallery-item\\'>\\n\\t\\t\\t<div class=\\'gallery-icon portrait lazy-load\\'>\\n\\t\\t\\t\\t<a href=\\'https://firewallcafe.com/archive/coronavirus-1582773676/google-1582773676-07/\\'><img width=\"194\" height=\"220\" src=\"https://firewallcafe.com/wp-content/uploads/2020/02/26/282427/google-1582773676-07-194x220.jpg\" data-src=\"https://firewallcafe.com/wp-content/uploads/2020/02/26/282427/google-1582773676-07-194x220.jpg\" class=\"attachment-thumbnail size-thumbnail lazy-load\" alt=\"\" /></a>\\n\\t\\t\\t</div></figure><figure class=\\'gallery-item\\'>\\n\\t\\t\\t<div class=\\'gallery-icon landscape lazy-load\\'>\\n\\t\\t\\t\\t<a href=\\'https://firewallcafe.com/archive/coronavirus-1582773676/google-1582773676-08/\\'><img width=\"259\" height=\"194\" src=\"https://firewallcafe.com/wp-content/uploads/2020/02/26/282427/google-1582773676-08.jpg\" data-src=\"https://firewallcafe.com/wp-content/uploads/2020/02/26/282427/google-1582773676-08.jpg\" class=\"attachment-thumbnail size-thumbnail lazy-load\" alt=\"\" /></a>\\n\\t\\t\\t</div></figure><figure class=\\'gallery-item\\'>\\n\\t\\t\\t<div class=\\'gallery-icon landscape lazy-load\\'>\\n\\t\\t\\t\\t<a href=\\'https://firewallcafe.com/archive/coronavirus-1582773676/google-1582773676-09/\\'><img width=\"275\" height=\"183\" src=\"https://firewallcafe.com/wp-content/uploads/2020/02/26/282427/google-1582773676-09.jpg\" data-src=\"https://firewallcafe.com/wp-content/uploads/2020/02/26/282427/google-1582773676-09.jpg\" class=\"attachment-thumbnail size-thumbnail lazy-load\" alt=\"\" /></a>\\n\\t\\t\\t</div></figure><figure class=\\'gallery-item\\'>\\n\\t\\t\\t<div class=\\'gallery-icon landscape lazy-load\\'>\\n\\t\\t\\t\\t<a href=\\'https://firewallcafe.com/archive/coronavirus-1582773676/google-1582773676-10/\\'><img width=\"284\" height=\"178\" src=\"https://firewallcafe.com/wp-content/uploads/2020/02/26/282427/google-1582773676-10.jpg\" data-src=\"https://firewallcafe.com/wp-content/uploads/2020/02/26/282427/google-1582773676-10.jpg\" class=\"attachment-thumbnail size-thumbnail lazy-load\" alt=\"\" /></a>\\n\\t\\t\\t</div></figure><figure class=\\'gallery-item\\'>\\n\\t\\t\\t<div class=\\'gallery-icon landscape lazy-load\\'>\\n\\t\\t\\t\\t<a href=\\'https://firewallcafe.com/archive/coronavirus-1582773676/google-1582773676-11/\\'><img width=\"318\" height=\"159\" src=\"https://firewallcafe.com/wp-content/uploads/2020/02/26/282427/google-1582773676-11.png\" data-src=\"https://firewallcafe.com/wp-content/uploads/2020/02/26/282427/google-1582773676-11.png\" class=\"attachment-thumbnail size-thumbnail lazy-load\" alt=\"\" /></a>\\n\\t\\t\\t</div></figure><figure class=\\'gallery-item\\'>\\n\\t\\t\\t<div class=\\'gallery-icon landscape lazy-load\\'>\\n\\t\\t\\t\\t<a href=\\'https://firewallcafe.com/archive/coronavirus-1582773676/google-1582773676-12/\\'><img width=\"268\" height=\"188\" src=\"https://firewallcafe.com/wp-content/uploads/2020/02/26/282427/google-1582773676-12.jpg\" data-src=\"https://firewallcafe.com/wp-content/uploads/2020/02/26/282427/google-1582773676-12.jpg\" class=\"attachment-thumbnail size-thumbnail lazy-load\" alt=\"\" /></a>\\n\\t\\t\\t</div></figure><figure class=\\'gallery-item\\'>\\n\\t\\t\\t<div class=\\'gallery-icon landscape lazy-load\\'>\\n\\t\\t\\t\\t<a href=\\'https://firewallcafe.com/archive/coronavirus-1582773676/google-1582773676-13/\\'><img width=\"237\" height=\"213\" src=\"https://firewallcafe.com/wp-content/uploads/2020/02/26/282427/google-1582773676-13.jpg\" data-src=\"https://firewallcafe.com/wp-content/uploads/2020/02/26/282427/google-1582773676-13.jpg\" class=\"attachment-thumbnail size-thumbnail lazy-load\" alt=\"\" /></a>\\n\\t\\t\\t</div></figure><figure class=\\'gallery-item\\'>\\n\\t\\t\\t<div class=\\'gallery-icon landscape lazy-load\\'>\\n\\t\\t\\t\\t<a href=\\'https://firewallcafe.com/archive/coronavirus-1582773676/google-1582773676-14/\\'><img width=\"426\" height=\"118\" src=\"https://firewallcafe.com/wp-content/uploads/2020/02/26/282427/google-1582773676-14.jpg\" data-src=\"https://firewallcafe.com/wp-content/uploads/2020/02/26/282427/google-1582773676-14.jpg\" class=\"attachment-thumbnail size-thumbnail lazy-load\" alt=\"\" /></a>\\n\\t\\t\\t</div></figure><figure class=\\'gallery-item\\'>\\n\\t\\t\\t<div class=\\'gallery-icon landscape lazy-load\\'>\\n\\t\\t\\t\\t<a href=\\'https://firewallcafe.com/archive/coronavirus-1582773676/google-1582773676-15/\\'><img width=\"231\" height=\"218\" src=\"https://firewallcafe.com/wp-content/uploads/2020/02/26/282427/google-1582773676-15.jpg\" data-src=\"https://firewallcafe.com/wp-content/uploads/2020/02/26/282427/google-1582773676-15.jpg\" class=\"attachment-thumbnail size-thumbnail lazy-load\" alt=\"\" /></a>\\n\\t\\t\\t</div></figure><figure class=\\'gallery-item\\'>\\n\\t\\t\\t<div class=\\'gallery-icon landscape lazy-load\\'>\\n\\t\\t\\t\\t<a href=\\'https://firewallcafe.com/archive/coronavirus-1582773676/google-1582773676-16/\\'><img width=\"300\" height=\"168\" src=\"https://firewallcafe.com/wp-content/uploads/2020/02/26/282427/google-1582773676-16.jpg\" data-src=\"https://firewallcafe.com/wp-content/uploads/2020/02/26/282427/google-1582773676-16.jpg\" class=\"attachment-thumbnail size-thumbnail lazy-load\" alt=\"\" /></a>\\n\\t\\t\\t</div></figure><figure class=\\'gallery-item\\'>\\n\\t\\t\\t<div class=\\'gallery-icon landscape lazy-load\\'>\\n\\t\\t\\t\\t<a href=\\'https://firewallcafe.com/archive/coronavirus-1582773676/google-1582773676-17/\\'><img width=\"274\" height=\"184\" src=\"https://firewallcafe.com/wp-content/uploads/2020/02/26/282427/google-1582773676-17.jpg\" data-src=\"https://firewallcafe.com/wp-content/uploads/2020/02/26/282427/google-1582773676-17.jpg\" class=\"attachment-thumbnail size-thumbnail lazy-load\" alt=\"\" /></a>\\n\\t\\t\\t</div></figure><figure class=\\'gallery-item\\'>\\n\\t\\t\\t<div class=\\'gallery-icon landscape lazy-load\\'>\\n\\t\\t\\t\\t<a href=\\'https://firewallcafe.com/archive/coronavirus-1582773676/google-1582773676-18/\\'><img width=\"320\" height=\"157\" src=\"https://firewallcafe.com/wp-content/uploads/2020/02/26/282427/google-1582773676-18.png\" data-src=\"https://firewallcafe.com/wp-content/uploads/2020/02/26/282427/google-1582773676-18.png\" class=\"attachment-thumbnail size-thumbnail lazy-load\" alt=\"\" /></a>\\n\\t\\t\\t</div></figure><figure class=\\'gallery-item\\'>\\n\\t\\t\\t<div class=\\'gallery-icon landscape lazy-load\\'>\\n\\t\\t\\t\\t<a href=\\'https://firewallcafe.com/archive/coronavirus-1582773676/google-1582773676-19/\\'><img width=\"275\" height=\"183\" src=\"https://firewallcafe.com/wp-content/uploads/2020/02/26/282427/google-1582773676-19.jpg\" data-src=\"https://firewallcafe.com/wp-content/uploads/2020/02/26/282427/google-1582773676-19.jpg\" class=\"attachment-thumbnail size-thumbnail lazy-load\" alt=\"\" /></a>\\n\\t\\t\\t</div></figure><figure class=\\'gallery-item\\'>\\n\\t\\t\\t<div class=\\'gallery-icon landscape lazy-load\\'>\\n\\t\\t\\t\\t<a href=\\'https://firewallcafe.com/archive/coronavirus-1582773676/google-1582773676-20/\\'><img width=\"300\" height=\"168\" src=\"https://firewallcafe.com/wp-content/uploads/2020/02/26/282427/google-1582773676-20.jpg\" data-src=\"https://firewallcafe.com/wp-content/uploads/2020/02/26/282427/google-1582773676-20.jpg\" class=\"attachment-thumbnail size-thumbnail lazy-load\" alt=\"\" /></a>\\n\\t\\t\\t</div></figure>\\n\\t\\t</div>\\n<br />\\nBaidu<br />\\n<div id=\\'gallery-2\\' class=\\'gallery galleryid-282427 gallery-columns-3 gallery-size-thumbnail\\'><figure class=\\'gallery-item\\'>\\n\\t\\t\\t<div class=\\'gallery-icon landscape lazy-load\\'>\\n\\t\\t\\t\\t<a href=\\'https://firewallcafe.com/archive/coronavirus-1582773676/baidu-1582773676-01/\\'><img width=\"306\" height=\"220\" src=\"https://firewallcafe.com/wp-content/uploads/2020/02/26/282427/baidu-1582773676-01-306x220.jpg\" data-src=\"https://firewallcafe.com/wp-content/uploads/2020/02/26/282427/baidu-1582773676-01-306x220.jpg\" class=\"attachment-thumbnail size-thumbnail lazy-load\" alt=\"\" /></a>\\n\\t\\t\\t</div></figure><figure class=\\'gallery-item\\'>\\n\\t\\t\\t<div class=\\'gallery-icon landscape lazy-load\\'>\\n\\t\\t\\t\\t<a href=\\'https://firewallcafe.com/archive/coronavirus-1582773676/baidu-1582773676-02/\\'><img width=\"464\" height=\"220\" src=\"https://firewallcafe.com/wp-content/uploads/2020/02/26/282427/baidu-1582773676-02-464x220.jpg\" data-src=\"https://firewallcafe.com/wp-content/uploads/2020/02/26/282427/baidu-1582773676-02-464x220.jpg\" class=\"attachment-thumbnail size-thumbnail lazy-load\" alt=\"\" /></a>\\n\\t\\t\\t</div></figure><figure class=\\'gallery-item\\'>\\n\\t\\t\\t<div class=\\'gallery-icon landscape lazy-load\\'>\\n\\t\\t\\t\\t<a href=\\'https://firewallcafe.com/archive/coronavirus-1582773676/baidu-1582773676-03/\\'><img width=\"365\" height=\"220\" src=\"https://firewallcafe.com/wp-content/uploads/2020/02/26/282427/baidu-1582773676-03-365x220.jpg\" data-src=\"https://firewallcafe.com/wp-content/uploads/2020/02/26/282427/baidu-1582773676-03-365x220.jpg\" class=\"attachment-thumbnail size-thumbnail lazy-load\" alt=\"\" /></a>\\n\\t\\t\\t</div></figure><figure class=\\'gallery-item\\'>\\n\\t\\t\\t<div class=\\'gallery-icon portrait lazy-load\\'>\\n\\t\\t\\t\\t<a href=\\'https://firewallcafe.com/archive/coronavirus-1582773676/baidu-1582773676-04/\\'><img width=\"149\" height=\"220\" src=\"https://firewallcafe.com/wp-content/uploads/2020/02/26/282427/baidu-1582773676-04-149x220.jpg\" data-src=\"https://firewallcafe.com/wp-content/uploads/2020/02/26/282427/baidu-1582773676-04-149x220.jpg\" class=\"attachment-thumbnail size-thumbnail lazy-load\" alt=\"\" /></a>\\n\\t\\t\\t</div></figure><figure class=\\'gallery-item\\'>\\n\\t\\t\\t<div class=\\'gallery-icon portrait lazy-load\\'>\\n\\t\\t\\t\\t<a href=\\'https://firewallcafe.com/archive/coronavirus-1582773676/baidu-1582773676-05/\\'><img width=\"209\" height=\"220\" src=\"https://firewallcafe.com/wp-content/uploads/2020/02/26/282427/baidu-1582773676-05-209x220.jpg\" data-src=\"https://firewallcafe.com/wp-content/uploads/2020/02/26/282427/baidu-1582773676-05-209x220.jpg\" class=\"attachment-thumbnail size-thumbnail lazy-load\" alt=\"\" /></a>\\n\\t\\t\\t</div></figure><figure class=\\'gallery-item\\'>\\n\\t\\t\\t<div class=\\'gallery-icon landscape lazy-load\\'>\\n\\t\\t\\t\\t<a href=\\'https://firewallcafe.com/archive/coronavirus-1582773676/baidu-1582773676-06/\\'><img width=\"370\" height=\"220\" src=\"https://firewallcafe.com/wp-content/uploads/2020/02/26/282427/baidu-1582773676-06-370x220.jpg\" data-src=\"https://firewallcafe.com/wp-content/uploads/2020/02/26/282427/baidu-1582773676-06-370x220.jpg\" class=\"attachment-thumbnail size-thumbnail lazy-load\" alt=\"\" /></a>\\n\\t\\t\\t</div></figure><figure class=\\'gallery-item\\'>\\n\\t\\t\\t<div class=\\'gallery-icon landscape lazy-load\\'>\\n\\t\\t\\t\\t<a href=\\'https://firewallcafe.com/archive/coronavirus-1582773676/baidu-1582773676-07/\\'><img width=\"438\" height=\"220\" src=\"https://firewallcafe.com/wp-content/uploads/2020/02/26/282427/baidu-1582773676-07-438x220.jpg\" data-src=\"https://firewallcafe.com/wp-content/uploads/2020/02/26/282427/baidu-1582773676-07-438x220.jpg\" class=\"attachment-thumbnail size-thumbnail lazy-load\" alt=\"\" /></a>\\n\\t\\t\\t</div></figure><figure class=\\'gallery-item\\'>\\n\\t\\t\\t<div class=\\'gallery-icon landscape lazy-load\\'>\\n\\t\\t\\t\\t<a href=\\'https://firewallcafe.com/archive/coronavirus-1582773676/baidu-1582773676-08/\\'><img width=\"293\" height=\"220\" src=\"https://firewallcafe.com/wp-content/uploads/2020/02/26/282427/baidu-1582773676-08-293x220.jpg\" data-src=\"https://firewallcafe.com/wp-content/uploads/2020/02/26/282427/baidu-1582773676-08-293x220.jpg\" class=\"attachment-thumbnail size-thumbnail lazy-load\" alt=\"\" /></a>\\n\\t\\t\\t</div></figure><figure class=\\'gallery-item\\'>\\n\\t\\t\\t<div class=\\'gallery-icon landscape lazy-load\\'>\\n\\t\\t\\t\\t<a href=\\'https://firewallcafe.com/archive/coronavirus-1582773676/baidu-1582773676-09/\\'><img width=\"293\" height=\"220\" src=\"https://firewallcafe.com/wp-content/uploads/2020/02/26/282427/baidu-1582773676-09-293x220.jpg\" data-src=\"https://firewallcafe.com/wp-content/uploads/2020/02/26/282427/baidu-1582773676-09-293x220.jpg\" class=\"attachment-thumbnail size-thumbnail lazy-load\" alt=\"\" /></a>\\n\\t\\t\\t</div></figure><figure class=\\'gallery-item\\'>\\n\\t\\t\\t<div class=\\'gallery-icon landscape lazy-load\\'>\\n\\t\\t\\t\\t<a href=\\'https://firewallcafe.com/archive/coronavirus-1582773676/baidu-1582773676-10/\\'><img width=\"294\" height=\"195\" src=\"https://firewallcafe.com/wp-content/uploads/2020/02/26/282427/baidu-1582773676-10.jpg\" data-src=\"https://firewallcafe.com/wp-content/uploads/2020/02/26/282427/baidu-1582773676-10.jpg\" class=\"attachment-thumbnail size-thumbnail lazy-load\" alt=\"\" /></a>\\n\\t\\t\\t</div></figure><figure class=\\'gallery-item\\'>\\n\\t\\t\\t<div class=\\'gallery-icon landscape lazy-load\\'>\\n\\t\\t\\t\\t<a href=\\'https://firewallcafe.com/archive/coronavirus-1582773676/baidu-1582773676-11/\\'><img width=\"330\" height=\"220\" src=\"https://firewallcafe.com/wp-content/uploads/2020/02/26/282427/baidu-1582773676-11-330x220.jpg\" data-src=\"https://firewallcafe.com/wp-content/uploads/2020/02/26/282427/baidu-1582773676-11-330x220.jpg\" class=\"attachment-thumbnail size-thumbnail lazy-load\" alt=\"\" /></a>\\n\\t\\t\\t</div></figure><figure class=\\'gallery-item\\'>\\n\\t\\t\\t<div class=\\'gallery-icon landscape lazy-load\\'>\\n\\t\\t\\t\\t<a href=\\'https://firewallcafe.com/archive/coronavirus-1582773676/baidu-1582773676-12/\\'><img width=\"353\" height=\"220\" src=\"https://firewallcafe.com/wp-content/uploads/2020/02/26/282427/baidu-1582773676-12-353x220.jpg\" data-src=\"https://firewallcafe.com/wp-content/uploads/2020/02/26/282427/baidu-1582773676-12-353x220.jpg\" class=\"attachment-thumbnail size-thumbnail lazy-load\" alt=\"\" /></a>\\n\\t\\t\\t</div></figure><figure class=\\'gallery-item\\'>\\n\\t\\t\\t<div class=\\'gallery-icon landscape lazy-load\\'>\\n\\t\\t\\t\\t<a href=\\'https://firewallcafe.com/archive/coronavirus-1582773676/baidu-1582773676-13/\\'><img width=\"386\" height=\"220\" src=\"https://firewallcafe.com/wp-content/uploads/2020/02/26/282427/baidu-1582773676-13-386x220.jpg\" data-src=\"https://firewallcafe.com/wp-content/uploads/2020/02/26/282427/baidu-1582773676-13-386x220.jpg\" class=\"attachment-thumbnail size-thumbnail lazy-load\" alt=\"\" /></a>\\n\\t\\t\\t</div></figure><figure class=\\'gallery-item\\'>\\n\\t\\t\\t<div class=\\'gallery-icon landscape lazy-load\\'>\\n\\t\\t\\t\\t<a href=\\'https://firewallcafe.com/archive/coronavirus-1582773676/baidu-1582773676-14/\\'><img width=\"379\" height=\"220\" src=\"https://firewallcafe.com/wp-content/uploads/2020/02/26/282427/baidu-1582773676-14-379x220.jpg\" data-src=\"https://firewallcafe.com/wp-content/uploads/2020/02/26/282427/baidu-1582773676-14-379x220.jpg\" class=\"attachment-thumbnail size-thumbnail lazy-load\" alt=\"\" /></a>\\n\\t\\t\\t</div></figure><figure class=\\'gallery-item\\'>\\n\\t\\t\\t<div class=\\'gallery-icon landscape lazy-load\\'>\\n\\t\\t\\t\\t<a href=\\'https://firewallcafe.com/archive/coronavirus-1582773676/baidu-1582773676-15/\\'><img width=\"263\" height=\"220\" src=\"https://firewallcafe.com/wp-content/uploads/2020/02/26/282427/baidu-1582773676-15-263x220.jpg\" data-src=\"https://firewallcafe.com/wp-content/uploads/2020/02/26/282427/baidu-1582773676-15-263x220.jpg\" class=\"attachment-thumbnail size-thumbnail lazy-load\" alt=\"\" /></a>\\n\\t\\t\\t</div></figure><figure class=\\'gallery-item\\'>\\n\\t\\t\\t<div class=\\'gallery-icon landscape lazy-load\\'>\\n\\t\\t\\t\\t<a href=\\'https://firewallcafe.com/archive/coronavirus-1582773676/baidu-1582773676-16/\\'><img width=\"518\" height=\"220\" src=\"https://firewallcafe.com/wp-content/uploads/2020/02/26/282427/baidu-1582773676-16-518x220.jpg\" data-src=\"https://firewallcafe.com/wp-content/uploads/2020/02/26/282427/baidu-1582773676-16-518x220.jpg\" class=\"attachment-thumbnail size-thumbnail lazy-load\" alt=\"\" /></a>\\n\\t\\t\\t</div></figure><figure class=\\'gallery-item\\'>\\n\\t\\t\\t<div class=\\'gallery-icon landscape lazy-load\\'>\\n\\t\\t\\t\\t<a href=\\'https://firewallcafe.com/archive/coronavirus-1582773676/baidu-1582773676-17/\\'><img width=\"326\" height=\"196\" src=\"https://firewallcafe.com/wp-content/uploads/2020/02/26/282427/baidu-1582773676-17.jpg\" data-src=\"https://firewallcafe.com/wp-content/uploads/2020/02/26/282427/baidu-1582773676-17.jpg\" class=\"attachment-thumbnail size-thumbnail lazy-load\" alt=\"\" /></a>\\n\\t\\t\\t</div></figure><figure class=\\'gallery-item\\'>\\n\\t\\t\\t<div class=\\'gallery-icon landscape lazy-load\\'>\\n\\t\\t\\t\\t<a href=\\'https://firewallcafe.com/archive/coronavirus-1582773676/baidu-1582773676-18/\\'><img width=\"330\" height=\"220\" src=\"https://firewallcafe.com/wp-content/uploads/2020/02/26/282427/baidu-1582773676-18-330x220.jpg\" data-src=\"https://firewallcafe.com/wp-content/uploads/2020/02/26/282427/baidu-1582773676-18-330x220.jpg\" class=\"attachment-thumbnail size-thumbnail lazy-load\" alt=\"\" /></a>\\n\\t\\t\\t</div></figure><figure class=\\'gallery-item\\'>\\n\\t\\t\\t<div class=\\'gallery-icon landscape lazy-load\\'>\\n\\t\\t\\t\\t<a href=\\'https://firewallcafe.com/archive/coronavirus-1582773676/baidu-1582773676-19/\\'><img width=\"313\" height=\"220\" src=\"https://firewallcafe.com/wp-content/uploads/2020/02/26/282427/baidu-1582773676-19-313x220.jpg\" data-src=\"https://firewallcafe.com/wp-content/uploads/2020/02/26/282427/baidu-1582773676-19-313x220.jpg\" class=\"attachment-thumbnail size-thumbnail lazy-load\" alt=\"\" /></a>\\n\\t\\t\\t</div></figure><figure class=\\'gallery-item\\'>\\n\\t\\t\\t<div class=\\'gallery-icon landscape lazy-load\\'>\\n\\t\\t\\t\\t<a href=\\'https://firewallcafe.com/archive/coronavirus-1582773676/baidu-1582773676-20/\\'><img width=\"437\" height=\"220\" src=\"https://firewallcafe.com/wp-content/uploads/2020/02/26/282427/baidu-1582773676-20-437x220.jpg\" data-src=\"https://firewallcafe.com/wp-content/uploads/2020/02/26/282427/baidu-1582773676-20-437x220.jpg\" class=\"attachment-thumbnail size-thumbnail lazy-load\" alt=\"\" /></a>\\n\\t\\t\\t</div></figure>\\n\\t\\t</div>\\n</p>\\n',\n",
       "   'protected': False},\n",
       "  'excerpt': {'rendered': '<p>冠状病毒</p>\\n', 'protected': False},\n",
       "  'template': '',\n",
       "  'meta': [],\n",
       "  'tags': [{'term_id': 102,\n",
       "    'name': '2020',\n",
       "    'slug': 'has_search_year_2020',\n",
       "    'term_group': 0,\n",
       "    'term_taxonomy_id': 102,\n",
       "    'taxonomy': 'post_tag',\n",
       "    'description': '',\n",
       "    'parent': 0,\n",
       "    'count': 961,\n",
       "    'filter': 'raw'},\n",
       "   {'term_id': 116,\n",
       "    'name': 'Bad Translation',\n",
       "    'slug': 'has_votes_bad_translation',\n",
       "    'term_group': 0,\n",
       "    'term_taxonomy_id': 116,\n",
       "    'taxonomy': 'post_tag',\n",
       "    'description': '',\n",
       "    'parent': 0,\n",
       "    'count': 504,\n",
       "    'filter': 'raw'},\n",
       "   {'term_id': 111,\n",
       "    'name': 'Censored',\n",
       "    'slug': 'has_votes_censored',\n",
       "    'term_group': 0,\n",
       "    'term_taxonomy_id': 111,\n",
       "    'taxonomy': 'post_tag',\n",
       "    'description': '',\n",
       "    'parent': 0,\n",
       "    'count': 796,\n",
       "    'filter': 'raw'},\n",
       "   {'term_id': 98,\n",
       "    'name': 'Good Translation',\n",
       "    'slug': 'has_votes_good_translation',\n",
       "    'term_group': 0,\n",
       "    'term_taxonomy_id': 98,\n",
       "    'taxonomy': 'post_tag',\n",
       "    'description': '',\n",
       "    'parent': 0,\n",
       "    'count': 1955,\n",
       "    'filter': 'raw'},\n",
       "   {'term_id': 97,\n",
       "    'name': 'Language English',\n",
       "    'slug': 'has_search_term_language_initial_code_en',\n",
       "    'term_group': 0,\n",
       "    'term_taxonomy_id': 97,\n",
       "    'taxonomy': 'post_tag',\n",
       "    'description': '',\n",
       "    'parent': 0,\n",
       "    'count': 2062,\n",
       "    'filter': 'raw'},\n",
       "   {'term_id': 166,\n",
       "    'name': 'Poughkeepsie',\n",
       "    'slug': 'has_search_location_poughkeepsie',\n",
       "    'term_group': 0,\n",
       "    'term_taxonomy_id': 166,\n",
       "    'taxonomy': 'post_tag',\n",
       "    'description': '',\n",
       "    'parent': 0,\n",
       "    'count': 494,\n",
       "    'filter': 'raw'},\n",
       "   {'term_id': 105,\n",
       "    'name': 'Uncensored',\n",
       "    'slug': 'has_votes_uncensored',\n",
       "    'term_group': 0,\n",
       "    'term_taxonomy_id': 105,\n",
       "    'taxonomy': 'post_tag',\n",
       "    'description': '',\n",
       "    'parent': 0,\n",
       "    'count': 547,\n",
       "    'filter': 'raw'},\n",
       "   {'term_id': 109,\n",
       "    'name': 'WTF',\n",
       "    'slug': 'has_votes_bad_result',\n",
       "    'term_group': 0,\n",
       "    'term_taxonomy_id': 109,\n",
       "    'taxonomy': 'post_tag',\n",
       "    'description': '',\n",
       "    'parent': 0,\n",
       "    'count': 873,\n",
       "    'filter': 'raw'}],\n",
       "  'galleries': [{'ids': '282428,282429,282430,282431,282432,282433,282434,282435,282436,282437,282438,282439,282440,282441,282442,282443,282444,282445,282446,282447',\n",
       "    'src': ['https://firewallcafe.com/wp-content/uploads/2020/02/26/282427/google-1582773676-01.jpg',\n",
       "     'https://firewallcafe.com/wp-content/uploads/2020/02/26/282427/google-1582773676-02.jpg',\n",
       "     'https://firewallcafe.com/wp-content/uploads/2020/02/26/282427/google-1582773676-03.jpg',\n",
       "     'https://firewallcafe.com/wp-content/uploads/2020/02/26/282427/google-1582773676-04-220x220.jpg',\n",
       "     'https://firewallcafe.com/wp-content/uploads/2020/02/26/282427/google-1582773676-05.jpg',\n",
       "     'https://firewallcafe.com/wp-content/uploads/2020/02/26/282427/google-1582773676-06.jpg',\n",
       "     'https://firewallcafe.com/wp-content/uploads/2020/02/26/282427/google-1582773676-07-194x220.jpg',\n",
       "     'https://firewallcafe.com/wp-content/uploads/2020/02/26/282427/google-1582773676-08.jpg',\n",
       "     'https://firewallcafe.com/wp-content/uploads/2020/02/26/282427/google-1582773676-09.jpg',\n",
       "     'https://firewallcafe.com/wp-content/uploads/2020/02/26/282427/google-1582773676-10.jpg',\n",
       "     'https://firewallcafe.com/wp-content/uploads/2020/02/26/282427/google-1582773676-11.png',\n",
       "     'https://firewallcafe.com/wp-content/uploads/2020/02/26/282427/google-1582773676-12.jpg',\n",
       "     'https://firewallcafe.com/wp-content/uploads/2020/02/26/282427/google-1582773676-13.jpg',\n",
       "     'https://firewallcafe.com/wp-content/uploads/2020/02/26/282427/google-1582773676-14.jpg',\n",
       "     'https://firewallcafe.com/wp-content/uploads/2020/02/26/282427/google-1582773676-15.jpg',\n",
       "     'https://firewallcafe.com/wp-content/uploads/2020/02/26/282427/google-1582773676-16.jpg',\n",
       "     'https://firewallcafe.com/wp-content/uploads/2020/02/26/282427/google-1582773676-17.jpg',\n",
       "     'https://firewallcafe.com/wp-content/uploads/2020/02/26/282427/google-1582773676-18.png',\n",
       "     'https://firewallcafe.com/wp-content/uploads/2020/02/26/282427/google-1582773676-19.jpg',\n",
       "     'https://firewallcafe.com/wp-content/uploads/2020/02/26/282427/google-1582773676-20.jpg']},\n",
       "   {'ids': '282448,282449,282450,282451,282452,282453,282454,282455,282456,282457,282458,282459,282460,282461,282462,282463,282464,282465,282466,282467',\n",
       "    'src': ['https://firewallcafe.com/wp-content/uploads/2020/02/26/282427/baidu-1582773676-01-306x220.jpg',\n",
       "     'https://firewallcafe.com/wp-content/uploads/2020/02/26/282427/baidu-1582773676-02-464x220.jpg',\n",
       "     'https://firewallcafe.com/wp-content/uploads/2020/02/26/282427/baidu-1582773676-03-365x220.jpg',\n",
       "     'https://firewallcafe.com/wp-content/uploads/2020/02/26/282427/baidu-1582773676-04-149x220.jpg',\n",
       "     'https://firewallcafe.com/wp-content/uploads/2020/02/26/282427/baidu-1582773676-05-209x220.jpg',\n",
       "     'https://firewallcafe.com/wp-content/uploads/2020/02/26/282427/baidu-1582773676-06-370x220.jpg',\n",
       "     'https://firewallcafe.com/wp-content/uploads/2020/02/26/282427/baidu-1582773676-07-438x220.jpg',\n",
       "     'https://firewallcafe.com/wp-content/uploads/2020/02/26/282427/baidu-1582773676-08-293x220.jpg',\n",
       "     'https://firewallcafe.com/wp-content/uploads/2020/02/26/282427/baidu-1582773676-09-293x220.jpg',\n",
       "     'https://firewallcafe.com/wp-content/uploads/2020/02/26/282427/baidu-1582773676-10.jpg',\n",
       "     'https://firewallcafe.com/wp-content/uploads/2020/02/26/282427/baidu-1582773676-11-330x220.jpg',\n",
       "     'https://firewallcafe.com/wp-content/uploads/2020/02/26/282427/baidu-1582773676-12-353x220.jpg',\n",
       "     'https://firewallcafe.com/wp-content/uploads/2020/02/26/282427/baidu-1582773676-13-386x220.jpg',\n",
       "     'https://firewallcafe.com/wp-content/uploads/2020/02/26/282427/baidu-1582773676-14-379x220.jpg',\n",
       "     'https://firewallcafe.com/wp-content/uploads/2020/02/26/282427/baidu-1582773676-15-263x220.jpg',\n",
       "     'https://firewallcafe.com/wp-content/uploads/2020/02/26/282427/baidu-1582773676-16-518x220.jpg',\n",
       "     'https://firewallcafe.com/wp-content/uploads/2020/02/26/282427/baidu-1582773676-17.jpg',\n",
       "     'https://firewallcafe.com/wp-content/uploads/2020/02/26/282427/baidu-1582773676-18-330x220.jpg',\n",
       "     'https://firewallcafe.com/wp-content/uploads/2020/02/26/282427/baidu-1582773676-19-313x220.jpg',\n",
       "     'https://firewallcafe.com/wp-content/uploads/2020/02/26/282427/baidu-1582773676-20-437x220.jpg']}],\n",
       "  '_links': {'self': [{'href': 'https://firewallcafe.com/wp-json/wp/v2/search-result/282427'}],\n",
       "   'collection': [{'href': 'https://firewallcafe.com/wp-json/wp/v2/search-result'}],\n",
       "   'about': [{'href': 'https://firewallcafe.com/wp-json/wp/v2/types/search-result'}],\n",
       "   'wp:attachment': [{'href': 'https://firewallcafe.com/wp-json/wp/v2/media?parent=282427'}],\n",
       "   'wp:term': [{'taxonomy': 'post_tag',\n",
       "     'embeddable': True,\n",
       "     'href': 'https://firewallcafe.com/wp-json/wp/v2/tags?post=282427'}],\n",
       "   'curies': [{'name': 'wp',\n",
       "     'href': 'https://api.w.org/{rel}',\n",
       "     'templated': True}]}})"
      ]
     },
     "execution_count": 51,
     "metadata": {},
     "output_type": "execute_result"
    }
   ],
   "source": [
    "# get all wordpress searches\n",
    "# search_by_wp_id = {}\n",
    "# for page in range(1, 100):\n",
    "#     print(\"getting page\", page)\n",
    "#     r = requests.get(f'https://firewallcafe.com/wp-json/wp/v2/search-result?per_page=100&page={page}')\n",
    "#     j = r.json()\n",
    "#     if 'data' in j and j['data']['status'] == 400:\n",
    "#         break\n",
    "#     print('got', len(j), 'first search:', j[0]['title']['rendered'])\n",
    "#     for search in j:\n",
    "#         search_by_wp_id[search['id']] = search\n",
    "\n",
    "import json\n",
    "with open('temp/wp_results.json') as f:\n",
    "    search_by_wp_id = json.loads(f.read())\n",
    "list(search_by_wp_id.items())[0]"
   ]
  },
  {
   "cell_type": "code",
   "execution_count": 29,
   "metadata": {},
   "outputs": [],
   "source": [
    "# get all node searches\n",
    "# new_api_res = requests.get('http://api.firewallcafe.com/searches').json()\n",
    "\n",
    "with open('temp/node_results.json') as f:\n",
    "    new_api_res = json.loads(f.read())"
   ]
  },
  {
   "cell_type": "code",
   "execution_count": 30,
   "metadata": {},
   "outputs": [],
   "source": [
    "# with open('temp/wp_results.json', 'w') as f:\n",
    "#     f.write(json.dumps(search_by_wp_id))\n",
    "# with open('temp/node_results.json', 'w') as f:\n",
    "#     f.write(json.dumps(new_api_res))"
   ]
  },
  {
   "cell_type": "code",
   "execution_count": 31,
   "metadata": {},
   "outputs": [
    {
     "data": {
      "text/plain": [
       "{'search_id': 1,\n",
       " 'search_timestamp': '1454979377000',\n",
       " 'search_location': 'new_york_city',\n",
       " 'search_ip_address': None,\n",
       " 'search_client_name': 'Dan',\n",
       " 'search_engine_initial': None,\n",
       " 'search_engine_translation': None,\n",
       " 'search_term_initial': 'football',\n",
       " 'search_term_initial_language_code': None,\n",
       " 'search_term_initial_language_confidence': None,\n",
       " 'search_term_initial_language_alternate_code': None,\n",
       " 'search_term_translation': '足球',\n",
       " 'search_term_translation_language_code': None,\n",
       " 'search_term_status_banned': False,\n",
       " 'search_term_status_sensitive': False,\n",
       " 'search_schema_initial': 0,\n",
       " 'wordpress_search_term_popularity': 1,\n",
       " 'wordpress_copyright_takedown': None,\n",
       " 'wordpress_unflattened': None,\n",
       " 'wordpress_regular_post_id': 223,\n",
       " 'wordpress_search_result_post_id': 241408,\n",
       " 'wordpress_search_result_post_slug': 'football-1454979377'}"
      ]
     },
     "execution_count": 31,
     "metadata": {},
     "output_type": "execute_result"
    }
   ],
   "source": [
    "new_api_res[0]"
   ]
  },
  {
   "cell_type": "code",
   "execution_count": 36,
   "metadata": {},
   "outputs": [],
   "source": [
    "wp_ids = set([str(_id) for _id in search_by_wp_id.keys()])\n",
    "node_ids = set([str(item['wordpress_search_result_post_id']) for item in new_api_res])"
   ]
  },
  {
   "cell_type": "code",
   "execution_count": 37,
   "metadata": {},
   "outputs": [
    {
     "data": {
      "text/plain": [
       "0"
      ]
     },
     "execution_count": 37,
     "metadata": {},
     "output_type": "execute_result"
    }
   ],
   "source": [
    "len(wp_ids - node_ids)"
   ]
  },
  {
   "cell_type": "code",
   "execution_count": 38,
   "metadata": {},
   "outputs": [
    {
     "data": {
      "text/plain": [
       "0"
      ]
     },
     "execution_count": 38,
     "metadata": {},
     "output_type": "execute_result"
    }
   ],
   "source": [
    "len(node_ids - wp_ids)"
   ]
  },
  {
   "cell_type": "code",
   "execution_count": 39,
   "metadata": {},
   "outputs": [
    {
     "data": {
      "text/plain": [
       "5579"
      ]
     },
     "execution_count": 39,
     "metadata": {},
     "output_type": "execute_result"
    }
   ],
   "source": [
    "len(wp_ids)"
   ]
  },
  {
   "cell_type": "markdown",
   "metadata": {},
   "source": [
    "Perfect, so the two sets are equal."
   ]
  },
  {
   "cell_type": "markdown",
   "metadata": {},
   "source": [
    "## Get a list of all image files on Wordpress"
   ]
  },
  {
   "cell_type": "code",
   "execution_count": 48,
   "metadata": {},
   "outputs": [],
   "source": [
    "wp_imgset = []\n",
    "for wp_id, search in search_by_wp_id.items():\n",
    "    for gallery in search['galleries']:\n",
    "        wp_imgset += gallery['src']"
   ]
  },
  {
   "cell_type": "code",
   "execution_count": 49,
   "metadata": {},
   "outputs": [
    {
     "data": {
      "text/plain": [
       "187132"
      ]
     },
     "execution_count": 49,
     "metadata": {},
     "output_type": "execute_result"
    }
   ],
   "source": [
    "len(imgset)"
   ]
  },
  {
   "cell_type": "code",
   "execution_count": 50,
   "metadata": {},
   "outputs": [
    {
     "data": {
      "text/plain": [
       "['https://firewallcafe.com/wp-content/uploads/2020/02/26/282427/google-1582773676-01.jpg',\n",
       " 'https://firewallcafe.com/wp-content/uploads/2020/02/26/282427/google-1582773676-02.jpg',\n",
       " 'https://firewallcafe.com/wp-content/uploads/2020/02/26/282427/google-1582773676-03.jpg',\n",
       " 'https://firewallcafe.com/wp-content/uploads/2020/02/26/282427/google-1582773676-04-220x220.jpg',\n",
       " 'https://firewallcafe.com/wp-content/uploads/2020/02/26/282427/google-1582773676-05.jpg',\n",
       " 'https://firewallcafe.com/wp-content/uploads/2020/02/26/282427/google-1582773676-06.jpg',\n",
       " 'https://firewallcafe.com/wp-content/uploads/2020/02/26/282427/google-1582773676-07-194x220.jpg',\n",
       " 'https://firewallcafe.com/wp-content/uploads/2020/02/26/282427/google-1582773676-08.jpg',\n",
       " 'https://firewallcafe.com/wp-content/uploads/2020/02/26/282427/google-1582773676-09.jpg',\n",
       " 'https://firewallcafe.com/wp-content/uploads/2020/02/26/282427/google-1582773676-10.jpg']"
      ]
     },
     "execution_count": 50,
     "metadata": {},
     "output_type": "execute_result"
    }
   ],
   "source": [
    "wp_imgset[:10]"
   ]
  },
  {
   "cell_type": "markdown",
   "metadata": {},
   "source": [
    "## Get a list of all image files on Node API"
   ]
  },
  {
   "cell_type": "markdown",
   "metadata": {},
   "source": [
    "This is currently infeasible given that the Node API returns raw image data--I'd have to download essentially the entire contents of the multi-GB DB. I'm going to investigate removing that from results since we're not going to be using it soon anyway."
   ]
  },
  {
   "cell_type": "markdown",
   "metadata": {},
   "source": [
    "## Do all images on Wordpress exist on Node API?"
   ]
  },
  {
   "cell_type": "code",
   "execution_count": null,
   "metadata": {},
   "outputs": [],
   "source": [
    "# for item in new_api_res:\n",
    "list(search_by_wp_id.items())[0][1]['galleries']\n",
    "# r = requests.get('http://api.firewallcafe.com/searches/images/search_id/' + str(5579))"
   ]
  },
  {
   "cell_type": "code",
   "execution_count": null,
   "metadata": {},
   "outputs": [],
   "source": []
  }
 ],
 "metadata": {
  "kernelspec": {
   "display_name": "Python 3",
   "language": "python",
   "name": "python3"
  },
  "language_info": {
   "codemirror_mode": {
    "name": "ipython",
    "version": 3
   },
   "file_extension": ".py",
   "mimetype": "text/x-python",
   "name": "python",
   "nbconvert_exporter": "python",
   "pygments_lexer": "ipython3",
   "version": "3.8.3"
  }
 },
 "nbformat": 4,
 "nbformat_minor": 4
}
