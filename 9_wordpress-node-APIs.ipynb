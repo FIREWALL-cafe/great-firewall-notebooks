{
 "cells": [
  {
   "cell_type": "markdown",
   "metadata": {},
   "source": [
    "## Comparing the old Wordpress API and the newer node API\n",
    "\n",
    "Do they have the same data? How do queries work on each? Let's check.\n",
    " - get all searches on both\n",
    " - get all images\n",
    " - get one search and all images\n",
    " - get voting data\n",
    " - do all searches on wordpress exist on node API?\n",
    " - do all images on wordpress exist on node API?\n"
   ]
  },
  {
   "cell_type": "markdown",
   "metadata": {},
   "source": [
    "Here is the endpoint that firewallcafe.com/archive is hitting to get the results."
   ]
  },
  {
   "cell_type": "code",
   "execution_count": 1,
   "metadata": {},
   "outputs": [],
   "source": [
    "url = 'https://firewallcafe.com/wp-json/wp/v2/search-result?per_page=25&page=1'"
   ]
  },
  {
   "cell_type": "code",
   "execution_count": 2,
   "metadata": {},
   "outputs": [],
   "source": [
    "import requests"
   ]
  },
  {
   "cell_type": "code",
   "execution_count": 3,
   "metadata": {},
   "outputs": [],
   "source": [
    "wp_res = requests.get(url).json()"
   ]
  },
  {
   "cell_type": "code",
   "execution_count": 4,
   "metadata": {},
   "outputs": [
    {
     "data": {
      "text/plain": [
       "25"
      ]
     },
     "execution_count": 4,
     "metadata": {},
     "output_type": "execute_result"
    }
   ],
   "source": [
    "len(wp_res)"
   ]
  },
  {
   "cell_type": "code",
   "execution_count": 5,
   "metadata": {},
   "outputs": [
    {
     "data": {
      "text/plain": [
       "dict_keys(['id', 'date', 'date_gmt', 'guid', 'modified', 'modified_gmt', 'slug', 'status', 'type', 'link', 'title', 'content', 'excerpt', 'template', 'meta', 'tags', 'galleries', '_links'])"
      ]
     },
     "execution_count": 5,
     "metadata": {},
     "output_type": "execute_result"
    }
   ],
   "source": [
    "wp_res[0].keys()"
   ]
  },
  {
   "cell_type": "code",
   "execution_count": 6,
   "metadata": {},
   "outputs": [
    {
     "data": {
      "text/plain": [
       "282427"
      ]
     },
     "execution_count": 6,
     "metadata": {},
     "output_type": "execute_result"
    }
   ],
   "source": [
    "wp_res[0]['id']"
   ]
  },
  {
   "cell_type": "markdown",
   "metadata": {},
   "source": [
    "The ID is of the top-most entry under Search Results in the admin panel: 282427, \"coronavirus\"."
   ]
  },
  {
   "cell_type": "code",
   "execution_count": 7,
   "metadata": {},
   "outputs": [
    {
     "data": {
      "text/plain": [
       "{'rendered': 'coronavirus'}"
      ]
     },
     "execution_count": 7,
     "metadata": {},
     "output_type": "execute_result"
    }
   ],
   "source": [
    "wp_res[0]['title']"
   ]
  },
  {
   "cell_type": "code",
   "execution_count": 8,
   "metadata": {},
   "outputs": [
    {
     "data": {
      "text/plain": [
       "['coronavirus',\n",
       " 'kim jong un',\n",
       " 'hitler',\n",
       " 'why communism is evil',\n",
       " 'red square',\n",
       " 'trump',\n",
       " 'hong kong',\n",
       " 'tiananmen square',\n",
       " 'hong kong protest flag',\n",
       " 'hong kong',\n",
       " 'chinese internment camps',\n",
       " 'united states',\n",
       " 'propaganda',\n",
       " 'missles',\n",
       " 'burger king',\n",
       " 'red bull',\n",
       " 'doritos',\n",
       " 'aliens',\n",
       " 'nascar',\n",
       " 'fox news',\n",
       " 'martin luther king jr',\n",
       " 'hot cheetos',\n",
       " 'nba',\n",
       " 'hamburgers',\n",
       " 'pizza']"
      ]
     },
     "execution_count": 8,
     "metadata": {},
     "output_type": "execute_result"
    }
   ],
   "source": [
    "[item['title']['rendered'] for item in wp_res]"
   ]
  },
  {
   "cell_type": "code",
   "execution_count": 9,
   "metadata": {},
   "outputs": [],
   "source": [
    "new_api_res = requests.get('http://api.firewallcafe.com/searches').json()"
   ]
  },
  {
   "cell_type": "code",
   "execution_count": 10,
   "metadata": {},
   "outputs": [
    {
     "data": {
      "text/plain": [
       "5579"
      ]
     },
     "execution_count": 10,
     "metadata": {},
     "output_type": "execute_result"
    }
   ],
   "source": [
    "len(new_api_res)"
   ]
  },
  {
   "cell_type": "markdown",
   "metadata": {},
   "source": [
    "The new API's order is reversed, so we have to look at the last item to find the corresponding search."
   ]
  },
  {
   "cell_type": "code",
   "execution_count": 11,
   "metadata": {},
   "outputs": [
    {
     "data": {
      "text/plain": [
       "{'search_id': 5579,\n",
       " 'search_timestamp': '1582773676000',\n",
       " 'search_location': 'poughkeepsie',\n",
       " 'search_ip_address': None,\n",
       " 'search_client_name': 'Anonymous',\n",
       " 'search_engine_initial': 'google',\n",
       " 'search_engine_translation': 'baidu',\n",
       " 'search_term_initial': 'coronavirus',\n",
       " 'search_term_initial_language_code': 'en',\n",
       " 'search_term_initial_language_confidence': '0.5703125',\n",
       " 'search_term_initial_language_alternate_code': '',\n",
       " 'search_term_translation': '冠状病毒',\n",
       " 'search_term_translation_language_code': 'zh-CN',\n",
       " 'search_term_status_banned': False,\n",
       " 'search_term_status_sensitive': False,\n",
       " 'search_schema_initial': 2,\n",
       " 'wordpress_search_term_popularity': None,\n",
       " 'wordpress_copyright_takedown': None,\n",
       " 'wordpress_unflattened': None,\n",
       " 'wordpress_regular_post_id': None,\n",
       " 'wordpress_search_result_post_id': 282427,\n",
       " 'wordpress_search_result_post_slug': 'coronavirus-1582773676'}"
      ]
     },
     "execution_count": 11,
     "metadata": {},
     "output_type": "execute_result"
    }
   ],
   "source": [
    "new_api_res[-1]"
   ]
  },
  {
   "cell_type": "markdown",
   "metadata": {},
   "source": [
    "However, there's a lot that's not here which is in the Wordpress result. There's no list of images. Instead we need to call this endpoint:"
   ]
  },
  {
   "cell_type": "code",
   "execution_count": 12,
   "metadata": {},
   "outputs": [],
   "source": [
    "r = requests.get('http://api.firewallcafe.com/searches/images/search_id/' + str(5579))"
   ]
  },
  {
   "cell_type": "markdown",
   "metadata": {},
   "source": [
    "Let's look at the result minus the raw image data."
   ]
  },
  {
   "cell_type": "code",
   "execution_count": 13,
   "metadata": {},
   "outputs": [],
   "source": [
    "imageset = r.json()\n",
    "for img in imageset:\n",
    "    img['image_data']['data'] = []"
   ]
  },
  {
   "cell_type": "code",
   "execution_count": 14,
   "metadata": {},
   "outputs": [
    {
     "data": {
      "text/plain": [
       "{'search_id': 5579,\n",
       " 'search_timestamp': '1582773676000',\n",
       " 'search_location': 'poughkeepsie',\n",
       " 'search_ip_address': None,\n",
       " 'search_client_name': 'Anonymous',\n",
       " 'search_engine_initial': 'google',\n",
       " 'search_engine_translation': 'baidu',\n",
       " 'search_term_initial': 'coronavirus',\n",
       " 'search_term_initial_language_code': 'en',\n",
       " 'search_term_initial_language_confidence': '0.5703125',\n",
       " 'search_term_initial_language_alternate_code': '',\n",
       " 'search_term_translation': '冠状病毒',\n",
       " 'search_term_translation_language_code': 'zh-CN',\n",
       " 'search_term_status_banned': False,\n",
       " 'search_term_status_sensitive': False,\n",
       " 'search_schema_initial': 2,\n",
       " 'wordpress_search_term_popularity': None,\n",
       " 'wordpress_copyright_takedown': None,\n",
       " 'wordpress_unflattened': None,\n",
       " 'wordpress_regular_post_id': None,\n",
       " 'wordpress_search_result_post_id': 282427,\n",
       " 'wordpress_search_result_post_slug': 'coronavirus-1582773676',\n",
       " 'image_id': 197428,\n",
       " 'image_search_engine': 'google',\n",
       " 'image_href': 'https://www.bloomberg.com/graphics/2020-wuhan-novel-coronavirus-outbreak/img/2020-wuhan-novel-coronavirus-outbreak-twitter.png?t=202002261144',\n",
       " 'image_rank': '01',\n",
       " 'image_mime_type': 'image/jpeg',\n",
       " 'image_data': {'type': 'Buffer', 'data': []},\n",
       " 'wordpress_attachment_post_id': 282428,\n",
       " 'wordpress_attachment_file_path': '/wp-content/uploads/2020/02/26/282427/google-1582773676-01.jpg'}"
      ]
     },
     "execution_count": 14,
     "metadata": {},
     "output_type": "execute_result"
    }
   ],
   "source": [
    "imageset[0]"
   ]
  },
  {
   "cell_type": "markdown",
   "metadata": {},
   "source": [
    "Looks like we can grab the images with the URLs."
   ]
  },
  {
   "cell_type": "code",
   "execution_count": 15,
   "metadata": {},
   "outputs": [
    {
     "data": {
      "text/html": [
       "<div style=\"display: inline-block; width: 170px; vertical-align: top; text-align: center;\"><h4 style=\"font-size: 12px\">0</h4><h4 style=\"font-size: 9px; padding-left: 10px; padding-right: 10px; width: 90%; word-wrap: break-word; white-space: normal;\">http://firewallcafe.com/wp-content/uploads/2020/02/26/282427/google-1582773676-01.jpg</h4><img src=\"http://firewallcafe.com/wp-content/uploads/2020/02/26/282427/google-1582773676-01.jpg\" style=\"margin: 1px; width: 150px; border: 2px solid #ddd;\"/></div><div style=\"display: inline-block; width: 170px; vertical-align: top; text-align: center;\"><h4 style=\"font-size: 12px\">1</h4><h4 style=\"font-size: 9px; padding-left: 10px; padding-right: 10px; width: 90%; word-wrap: break-word; white-space: normal;\">http://firewallcafe.com/wp-content/uploads/2020/02/26/282427/google-1582773676-02.jpg</h4><img src=\"http://firewallcafe.com/wp-content/uploads/2020/02/26/282427/google-1582773676-02.jpg\" style=\"margin: 1px; width: 150px; border: 2px solid #ddd;\"/></div><div style=\"display: inline-block; width: 170px; vertical-align: top; text-align: center;\"><h4 style=\"font-size: 12px\">2</h4><h4 style=\"font-size: 9px; padding-left: 10px; padding-right: 10px; width: 90%; word-wrap: break-word; white-space: normal;\">http://firewallcafe.com/wp-content/uploads/2020/02/26/282427/google-1582773676-03.jpg</h4><img src=\"http://firewallcafe.com/wp-content/uploads/2020/02/26/282427/google-1582773676-03.jpg\" style=\"margin: 1px; width: 150px; border: 2px solid #ddd;\"/></div><div style=\"display: inline-block; width: 170px; vertical-align: top; text-align: center;\"><h4 style=\"font-size: 12px\">3</h4><h4 style=\"font-size: 9px; padding-left: 10px; padding-right: 10px; width: 90%; word-wrap: break-word; white-space: normal;\">http://firewallcafe.com/wp-content/uploads/2020/02/26/282427/google-1582773676-04.jpg</h4><img src=\"http://firewallcafe.com/wp-content/uploads/2020/02/26/282427/google-1582773676-04.jpg\" style=\"margin: 1px; width: 150px; border: 2px solid #ddd;\"/></div><div style=\"display: inline-block; width: 170px; vertical-align: top; text-align: center;\"><h4 style=\"font-size: 12px\">4</h4><h4 style=\"font-size: 9px; padding-left: 10px; padding-right: 10px; width: 90%; word-wrap: break-word; white-space: normal;\">http://firewallcafe.com/wp-content/uploads/2020/02/26/282427/google-1582773676-05.jpg</h4><img src=\"http://firewallcafe.com/wp-content/uploads/2020/02/26/282427/google-1582773676-05.jpg\" style=\"margin: 1px; width: 150px; border: 2px solid #ddd;\"/></div><div style=\"display: inline-block; width: 170px; vertical-align: top; text-align: center;\"><h4 style=\"font-size: 12px\">5</h4><h4 style=\"font-size: 9px; padding-left: 10px; padding-right: 10px; width: 90%; word-wrap: break-word; white-space: normal;\">http://firewallcafe.com/wp-content/uploads/2020/02/26/282427/google-1582773676-06.jpg</h4><img src=\"http://firewallcafe.com/wp-content/uploads/2020/02/26/282427/google-1582773676-06.jpg\" style=\"margin: 1px; width: 150px; border: 2px solid #ddd;\"/></div><div style=\"display: inline-block; width: 170px; vertical-align: top; text-align: center;\"><h4 style=\"font-size: 12px\">6</h4><h4 style=\"font-size: 9px; padding-left: 10px; padding-right: 10px; width: 90%; word-wrap: break-word; white-space: normal;\">http://firewallcafe.com/wp-content/uploads/2020/02/26/282427/google-1582773676-07.jpg</h4><img src=\"http://firewallcafe.com/wp-content/uploads/2020/02/26/282427/google-1582773676-07.jpg\" style=\"margin: 1px; width: 150px; border: 2px solid #ddd;\"/></div><div style=\"display: inline-block; width: 170px; vertical-align: top; text-align: center;\"><h4 style=\"font-size: 12px\">7</h4><h4 style=\"font-size: 9px; padding-left: 10px; padding-right: 10px; width: 90%; word-wrap: break-word; white-space: normal;\">http://firewallcafe.com/wp-content/uploads/2020/02/26/282427/google-1582773676-08.jpg</h4><img src=\"http://firewallcafe.com/wp-content/uploads/2020/02/26/282427/google-1582773676-08.jpg\" style=\"margin: 1px; width: 150px; border: 2px solid #ddd;\"/></div><div style=\"display: inline-block; width: 170px; vertical-align: top; text-align: center;\"><h4 style=\"font-size: 12px\">8</h4><h4 style=\"font-size: 9px; padding-left: 10px; padding-right: 10px; width: 90%; word-wrap: break-word; white-space: normal;\">http://firewallcafe.com/wp-content/uploads/2020/02/26/282427/google-1582773676-09.jpg</h4><img src=\"http://firewallcafe.com/wp-content/uploads/2020/02/26/282427/google-1582773676-09.jpg\" style=\"margin: 1px; width: 150px; border: 2px solid #ddd;\"/></div><div style=\"display: inline-block; width: 170px; vertical-align: top; text-align: center;\"><h4 style=\"font-size: 12px\">9</h4><h4 style=\"font-size: 9px; padding-left: 10px; padding-right: 10px; width: 90%; word-wrap: break-word; white-space: normal;\">http://firewallcafe.com/wp-content/uploads/2020/02/26/282427/google-1582773676-10.jpg</h4><img src=\"http://firewallcafe.com/wp-content/uploads/2020/02/26/282427/google-1582773676-10.jpg\" style=\"margin: 1px; width: 150px; border: 2px solid #ddd;\"/></div>"
      ],
      "text/plain": [
       "<IPython.core.display.HTML object>"
      ]
     },
     "metadata": {},
     "output_type": "display_data"
    }
   ],
   "source": [
    "import ipyplot\n",
    "def get_full_img_url(img):\n",
    "    return 'http://firewallcafe.com' + img['wordpress_attachment_file_path']\n",
    "ipyplot.plot_images([get_full_img_url(img) for img in imageset[:10]], img_width=150)"
   ]
  },
  {
   "cell_type": "markdown",
   "metadata": {},
   "source": [
    "## Do all searches on wordpress API exist on node API?"
   ]
  },
  {
   "cell_type": "code",
   "execution_count": 17,
   "metadata": {},
   "outputs": [],
   "source": [
    "# get all wordpress searches\n",
    "# search_by_wp_id = {}\n",
    "# for page in range(1, 100):\n",
    "#     print(\"getting page\", page)\n",
    "#     r = requests.get(f'https://firewallcafe.com/wp-json/wp/v2/search-result?per_page=100&page={page}')\n",
    "#     j = r.json()\n",
    "#     if 'data' in j and j['data']['status'] == 400:\n",
    "#         break\n",
    "#     print('got', len(j), 'first search:', j[0]['title']['rendered'])\n",
    "#     for search in j:\n",
    "#         search_by_wp_id[search['id']] = search\n",
    "\n",
    "import json\n",
    "with open('temp/wp_results.json') as f:\n",
    "    search_by_wp_id = json.loads(f.read())"
   ]
  },
  {
   "cell_type": "code",
   "execution_count": 29,
   "metadata": {},
   "outputs": [],
   "source": [
    "# get all node searches\n",
    "# new_api_res = requests.get('http://api.firewallcafe.com/searches').json()\n",
    "\n",
    "with open('temp/node_results.json') as f:\n",
    "    new_api_res = json.loads(f.read())"
   ]
  },
  {
   "cell_type": "code",
   "execution_count": 30,
   "metadata": {},
   "outputs": [],
   "source": [
    "# with open('temp/wp_results.json', 'w') as f:\n",
    "#     f.write(json.dumps(search_by_wp_id))\n",
    "# with open('temp/node_results.json', 'w') as f:\n",
    "#     f.write(json.dumps(new_api_res))"
   ]
  },
  {
   "cell_type": "code",
   "execution_count": 31,
   "metadata": {},
   "outputs": [
    {
     "data": {
      "text/plain": [
       "{'search_id': 1,\n",
       " 'search_timestamp': '1454979377000',\n",
       " 'search_location': 'new_york_city',\n",
       " 'search_ip_address': None,\n",
       " 'search_client_name': 'Dan',\n",
       " 'search_engine_initial': None,\n",
       " 'search_engine_translation': None,\n",
       " 'search_term_initial': 'football',\n",
       " 'search_term_initial_language_code': None,\n",
       " 'search_term_initial_language_confidence': None,\n",
       " 'search_term_initial_language_alternate_code': None,\n",
       " 'search_term_translation': '足球',\n",
       " 'search_term_translation_language_code': None,\n",
       " 'search_term_status_banned': False,\n",
       " 'search_term_status_sensitive': False,\n",
       " 'search_schema_initial': 0,\n",
       " 'wordpress_search_term_popularity': 1,\n",
       " 'wordpress_copyright_takedown': None,\n",
       " 'wordpress_unflattened': None,\n",
       " 'wordpress_regular_post_id': 223,\n",
       " 'wordpress_search_result_post_id': 241408,\n",
       " 'wordpress_search_result_post_slug': 'football-1454979377'}"
      ]
     },
     "execution_count": 31,
     "metadata": {},
     "output_type": "execute_result"
    }
   ],
   "source": [
    "new_api_res[0]"
   ]
  },
  {
   "cell_type": "code",
   "execution_count": 36,
   "metadata": {},
   "outputs": [],
   "source": [
    "wp_ids = set([str(_id) for _id in search_by_wp_id.keys()])\n",
    "node_ids = set([str(item['wordpress_search_result_post_id']) for item in new_api_res])"
   ]
  },
  {
   "cell_type": "code",
   "execution_count": 37,
   "metadata": {},
   "outputs": [
    {
     "data": {
      "text/plain": [
       "0"
      ]
     },
     "execution_count": 37,
     "metadata": {},
     "output_type": "execute_result"
    }
   ],
   "source": [
    "len(wp_ids - node_ids)"
   ]
  },
  {
   "cell_type": "code",
   "execution_count": 38,
   "metadata": {},
   "outputs": [
    {
     "data": {
      "text/plain": [
       "0"
      ]
     },
     "execution_count": 38,
     "metadata": {},
     "output_type": "execute_result"
    }
   ],
   "source": [
    "len(node_ids - wp_ids)"
   ]
  },
  {
   "cell_type": "code",
   "execution_count": 39,
   "metadata": {},
   "outputs": [
    {
     "data": {
      "text/plain": [
       "5579"
      ]
     },
     "execution_count": 39,
     "metadata": {},
     "output_type": "execute_result"
    }
   ],
   "source": [
    "len(wp_ids)"
   ]
  },
  {
   "cell_type": "markdown",
   "metadata": {},
   "source": [
    "Perfect, so the two sets are equal."
   ]
  },
  {
   "cell_type": "markdown",
   "metadata": {},
   "source": [
    "## Get a list of all image files on Wordpress"
   ]
  },
  {
   "cell_type": "code",
   "execution_count": 48,
   "metadata": {},
   "outputs": [],
   "source": [
    "wp_imgset = []\n",
    "for wp_id, search in search_by_wp_id.items():\n",
    "    for gallery in search['galleries']:\n",
    "        wp_imgset += gallery['src']"
   ]
  },
  {
   "cell_type": "code",
   "execution_count": 49,
   "metadata": {},
   "outputs": [
    {
     "data": {
      "text/plain": [
       "187132"
      ]
     },
     "execution_count": 49,
     "metadata": {},
     "output_type": "execute_result"
    }
   ],
   "source": [
    "len(imgset)"
   ]
  },
  {
   "cell_type": "code",
   "execution_count": 50,
   "metadata": {},
   "outputs": [
    {
     "data": {
      "text/plain": [
       "['https://firewallcafe.com/wp-content/uploads/2020/02/26/282427/google-1582773676-01.jpg',\n",
       " 'https://firewallcafe.com/wp-content/uploads/2020/02/26/282427/google-1582773676-02.jpg',\n",
       " 'https://firewallcafe.com/wp-content/uploads/2020/02/26/282427/google-1582773676-03.jpg',\n",
       " 'https://firewallcafe.com/wp-content/uploads/2020/02/26/282427/google-1582773676-04-220x220.jpg',\n",
       " 'https://firewallcafe.com/wp-content/uploads/2020/02/26/282427/google-1582773676-05.jpg',\n",
       " 'https://firewallcafe.com/wp-content/uploads/2020/02/26/282427/google-1582773676-06.jpg',\n",
       " 'https://firewallcafe.com/wp-content/uploads/2020/02/26/282427/google-1582773676-07-194x220.jpg',\n",
       " 'https://firewallcafe.com/wp-content/uploads/2020/02/26/282427/google-1582773676-08.jpg',\n",
       " 'https://firewallcafe.com/wp-content/uploads/2020/02/26/282427/google-1582773676-09.jpg',\n",
       " 'https://firewallcafe.com/wp-content/uploads/2020/02/26/282427/google-1582773676-10.jpg']"
      ]
     },
     "execution_count": 50,
     "metadata": {},
     "output_type": "execute_result"
    }
   ],
   "source": [
    "wp_imgset[:10]"
   ]
  },
  {
   "cell_type": "markdown",
   "metadata": {},
   "source": [
    "## Get a list of all image files on Node API"
   ]
  },
  {
   "cell_type": "markdown",
   "metadata": {},
   "source": [
    "This is currently infeasible given that the Node API returns raw image data--I'd have to download essentially the entire contents of the multi-GB DB. I'm going to investigate removing that from results since we're not going to be using it soon anyway."
   ]
  },
  {
   "cell_type": "markdown",
   "metadata": {},
   "source": [
    "## Do all images on Wordpress exist on Node API?"
   ]
  },
  {
   "cell_type": "code",
   "execution_count": null,
   "metadata": {},
   "outputs": [],
   "source": [
    "# for item in new_api_res:\n",
    "list(search_by_wp_id.items())[0][1]['galleries']\n",
    "# r = requests.get('http://api.firewallcafe.com/searches/images/search_id/' + str(5579))"
   ]
  },
  {
   "cell_type": "code",
   "execution_count": null,
   "metadata": {},
   "outputs": [],
   "source": []
  }
 ],
 "metadata": {
  "kernelspec": {
   "display_name": "Python 3",
   "language": "python",
   "name": "python3"
  },
  "language_info": {
   "codemirror_mode": {
    "name": "ipython",
    "version": 3
   },
   "file_extension": ".py",
   "mimetype": "text/x-python",
   "name": "python",
   "nbconvert_exporter": "python",
   "pygments_lexer": "ipython3",
   "version": "3.8.3"
  }
 },
 "nbformat": 4,
 "nbformat_minor": 4
}
