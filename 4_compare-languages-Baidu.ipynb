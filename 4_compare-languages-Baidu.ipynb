{
 "cells": [
  {
   "cell_type": "markdown",
   "metadata": {},
   "source": [
    "# Search Baidu simultaneously in English and Chinese\n",
    "\n",
    "Pick a search term to start with."
   ]
  },
  {
   "cell_type": "code",
   "execution_count": null,
   "metadata": {},
   "outputs": [],
   "source": [
    "search_term_english = 'kitten'"
   ]
  },
  {
   "cell_type": "code",
   "execution_count": 2,
   "metadata": {},
   "outputs": [],
   "source": [
    "from translate import Translator\n",
    "translator = Translator()\n",
    "search_term_chinese = translator.to_chinese(search_term_english)"
   ]
  },
  {
   "cell_type": "markdown",
   "metadata": {},
   "source": [
    "Turns out we don't need to use a webdriver, requests will still work."
   ]
  },
  {
   "cell_type": "code",
   "execution_count": 3,
   "metadata": {},
   "outputs": [],
   "source": [
    "# from selenium import webdriver\n",
    "baidu_template = 'https://image.baidu.com/search/index?tn=baiduimage&word={}'\n",
    "\n",
    "# DRIVER = 'chromedriver.exe'\n",
    "# driver = webdriver.Chrome(DRIVER)\n",
    "# driver.get(baidu_template.format(search_term_english))\n",
    "# english_png = driver.get_screenshot_as_png()\n",
    "\n",
    "# driver.get(baidu_template.format(search_term_chinese))\n",
    "# chinese_png = driver.get_screenshot_as_png()\n",
    "\n",
    "# driver.quit()"
   ]
  },
  {
   "cell_type": "code",
   "execution_count": 4,
   "metadata": {},
   "outputs": [],
   "source": [
    "# from IPython.display import Image, display\n",
    "# display(Image(chinese_png))"
   ]
  },
  {
   "cell_type": "code",
   "execution_count": 5,
   "metadata": {},
   "outputs": [],
   "source": [
    "# display(Image(english_png))"
   ]
  },
  {
   "cell_type": "markdown",
   "metadata": {},
   "source": [
    "Following this: https://dev.to/petercour/image-scraping-with-python-330a"
   ]
  },
  {
   "cell_type": "code",
   "execution_count": 6,
   "metadata": {},
   "outputs": [],
   "source": [
    "import re\n",
    "from bs4 import BeautifulSoup\n",
    "import requests"
   ]
  },
  {
   "cell_type": "code",
   "execution_count": 7,
   "metadata": {},
   "outputs": [],
   "source": [
    "url = 'https://image.baidu.com/search/flip?tn=baiduimage&ie=utf-8&word='+search_term_english+'&ct=201326592&v=flip'\n",
    "r = requests.get(url, timeout=10,\n",
    "                proxies={'https':None, 'http':None},\n",
    "                headers={'User-Agent':'Mozilla/5.0 (Windows NT 10.0; Win64; x64) AppleWebKit/537.36 (KHTML, like Gecko) Chrome/63.0.3239.132 Safari/537.36'})"
   ]
  },
  {
   "cell_type": "code",
   "execution_count": 8,
   "metadata": {},
   "outputs": [],
   "source": [
    "html = r.text\n",
    "urls = re.findall('\"objURL\":\"(.*?)\",',html,re.S)"
   ]
  },
  {
   "cell_type": "code",
   "execution_count": 9,
   "metadata": {},
   "outputs": [
    {
     "data": {
      "text/html": [
       "<div style=\"display: inline-block; width: 170px; vertical-align: top; text-align: center;\"><h4 style=\"font-size: 12px\">kitten 0</h4><h4 style=\"font-size: 9px; padding-left: 10px; padding-right: 10px; width: 90%; word-wrap: break-word; white-space: normal;\">http://images6.fanpop.com/image/photos/36700000/Cats-image-cats-36712791-1222-917.jpg</h4><img src=\"http://images6.fanpop.com/image/photos/36700000/Cats-image-cats-36712791-1222-917.jpg\" style=\"margin: 1px; width: 150px; border: 2px solid #ddd;\"/></div><div style=\"display: inline-block; width: 170px; vertical-align: top; text-align: center;\"><h4 style=\"font-size: 12px\">kitten 1</h4><h4 style=\"font-size: 9px; padding-left: 10px; padding-right: 10px; width: 90%; word-wrap: break-word; white-space: normal;\">http://images6.fanpop.com/image/photos/39200000/Kitten-cats-39256436-450-324.jpg</h4><img src=\"http://images6.fanpop.com/image/photos/39200000/Kitten-cats-39256436-450-324.jpg\" style=\"margin: 1px; width: 150px; border: 2px solid #ddd;\"/></div><div style=\"display: inline-block; width: 170px; vertical-align: top; text-align: center;\"><h4 style=\"font-size: 12px\">kitten 2</h4><h4 style=\"font-size: 9px; padding-left: 10px; padding-right: 10px; width: 90%; word-wrap: break-word; white-space: normal;\">http://f.vividscreen.info/soft/cff27ee1bc75f9bec9daf9f905680175/Super-Cute-Kitten-1152x864.jpg</h4><img src=\"http://f.vividscreen.info/soft/cff27ee1bc75f9bec9daf9f905680175/Super-Cute-Kitten-1152x864.jpg\" style=\"margin: 1px; width: 150px; border: 2px solid #ddd;\"/></div><div style=\"display: inline-block; width: 170px; vertical-align: top; text-align: center;\"><h4 style=\"font-size: 12px\">kitten 3</h4><h4 style=\"font-size: 9px; padding-left: 10px; padding-right: 10px; width: 90%; word-wrap: break-word; white-space: normal;\">http://images4.fanpop.com/image/photos/16100000/Cute-Kitten-kittens-16123796-1280-800.jpg</h4><img src=\"http://images4.fanpop.com/image/photos/16100000/Cute-Kitten-kittens-16123796-1280-800.jpg\" style=\"margin: 1px; width: 150px; border: 2px solid #ddd;\"/></div><div style=\"display: inline-block; width: 170px; vertical-align: top; text-align: center;\"><h4 style=\"font-size: 12px\">kitten 4</h4><h4 style=\"font-size: 9px; padding-left: 10px; padding-right: 10px; width: 90%; word-wrap: break-word; white-space: normal;\">http://images6.fanpop.com/image/photos/39600000/Kitten-kittens-39689310-1280-720.jpg</h4><img src=\"http://images6.fanpop.com/image/photos/39600000/Kitten-kittens-39689310-1280-720.jpg\" style=\"margin: 1px; width: 150px; border: 2px solid #ddd;\"/></div><div style=\"display: inline-block; width: 170px; vertical-align: top; text-align: center;\"><h4 style=\"font-size: 12px\">kitten 5</h4><h4 style=\"font-size: 9px; padding-left: 10px; padding-right: 10px; width: 90%; word-wrap: break-word; white-space: normal;\">http://hbimg.b0.upaiyun.com/0cd7039b11dd4e993260e260ea2692c802a490484a32-nrrFh1_fw658</h4><img src=\"http://hbimg.b0.upaiyun.com/0cd7039b11dd4e993260e260ea2692c802a490484a32-nrrFh1_fw658\" style=\"margin: 1px; width: 150px; border: 2px solid #ddd;\"/></div><div style=\"display: inline-block; width: 170px; vertical-align: top; text-align: center;\"><h4 style=\"font-size: 12px\">kitten 6</h4><h4 style=\"font-size: 9px; padding-left: 10px; padding-right: 10px; width: 90%; word-wrap: break-word; white-space: normal;\">http://images6.fanpop.com/image/photos/39600000/Kitten-kittens-39689307-640-480.jpg</h4><img src=\"http://images6.fanpop.com/image/photos/39600000/Kitten-kittens-39689307-640-480.jpg\" style=\"margin: 1px; width: 150px; border: 2px solid #ddd;\"/></div><div style=\"display: inline-block; width: 170px; vertical-align: top; text-align: center;\"><h4 style=\"font-size: 12px\">kitten 7</h4><h4 style=\"font-size: 9px; padding-left: 10px; padding-right: 10px; width: 90%; word-wrap: break-word; white-space: normal;\">http://hbimg.b0.upaiyun.com/66ff9bf04b5e8c79817bfa940fbaed57898bdafa5d31-E8eKhW_fw658</h4><img src=\"http://hbimg.b0.upaiyun.com/66ff9bf04b5e8c79817bfa940fbaed57898bdafa5d31-E8eKhW_fw658\" style=\"margin: 1px; width: 150px; border: 2px solid #ddd;\"/></div><div style=\"display: inline-block; width: 170px; vertical-align: top; text-align: center;\"><h4 style=\"font-size: 12px\">kitten 8</h4><h4 style=\"font-size: 9px; padding-left: 10px; padding-right: 10px; width: 90%; word-wrap: break-word; white-space: normal;\">http://hbimg.b0.upaiyun.com/40639e5edbe03116f9da871b1b92f1c1651c2aa24f719-03wf8J_fw658</h4><img src=\"http://hbimg.b0.upaiyun.com/40639e5edbe03116f9da871b1b92f1c1651c2aa24f719-03wf8J_fw658\" style=\"margin: 1px; width: 150px; border: 2px solid #ddd;\"/></div><div style=\"display: inline-block; width: 170px; vertical-align: top; text-align: center;\"><h4 style=\"font-size: 12px\">kitten 9</h4><h4 style=\"font-size: 9px; padding-left: 10px; padding-right: 10px; width: 90%; word-wrap: break-word; white-space: normal;\">http://images6.fanpop.com/image/photos/40700000/Kitten-cats-40762262-1680-1050.jpg</h4><img src=\"http://images6.fanpop.com/image/photos/40700000/Kitten-cats-40762262-1680-1050.jpg\" style=\"margin: 1px; width: 150px; border: 2px solid #ddd;\"/></div><div style=\"display: inline-block; width: 170px; vertical-align: top; text-align: center;\"><h4 style=\"font-size: 12px\">kitten 10</h4><h4 style=\"font-size: 9px; padding-left: 10px; padding-right: 10px; width: 90%; word-wrap: break-word; white-space: normal;\">http://images4.fanpop.com/image/photos/16000000/Cute-Kitten-Wallpaper-kittens-16094681-1280-800.jpg</h4><img src=\"http://images4.fanpop.com/image/photos/16000000/Cute-Kitten-Wallpaper-kittens-16094681-1280-800.jpg\" style=\"margin: 1px; width: 150px; border: 2px solid #ddd;\"/></div><div style=\"display: inline-block; width: 170px; vertical-align: top; text-align: center;\"><h4 style=\"font-size: 12px\">kitten 11</h4><h4 style=\"font-size: 9px; padding-left: 10px; padding-right: 10px; width: 90%; word-wrap: break-word; white-space: normal;\">http://hbimg.b0.upaiyun.com/6892291766ffd3b4c494f659d1183fcc27b1486819853-K7Xl3s_fw658</h4><img src=\"http://hbimg.b0.upaiyun.com/6892291766ffd3b4c494f659d1183fcc27b1486819853-K7Xl3s_fw658\" style=\"margin: 1px; width: 150px; border: 2px solid #ddd;\"/></div><div style=\"display: inline-block; width: 170px; vertical-align: top; text-align: center;\"><h4 style=\"font-size: 12px\">kitten 12</h4><h4 style=\"font-size: 9px; padding-left: 10px; padding-right: 10px; width: 90%; word-wrap: break-word; white-space: normal;\">http://st2.imgcontent.net/thumbs/1177973/image/7122/71228519/api_thumb_450.jpg</h4><img src=\"http://st2.imgcontent.net/thumbs/1177973/image/7122/71228519/api_thumb_450.jpg\" style=\"margin: 1px; width: 150px; border: 2px solid #ddd;\"/></div><div style=\"display: inline-block; width: 170px; vertical-align: top; text-align: center;\"><h4 style=\"font-size: 12px\">kitten 13</h4><h4 style=\"font-size: 9px; padding-left: 10px; padding-right: 10px; width: 90%; word-wrap: break-word; white-space: normal;\">http://p8.qhimg.com/t01a605117e0e182d67.png</h4><img src=\"http://p8.qhimg.com/t01a605117e0e182d67.png\" style=\"margin: 1px; width: 150px; border: 2px solid #ddd;\"/></div><div style=\"display: inline-block; width: 170px; vertical-align: top; text-align: center;\"><h4 style=\"font-size: 12px\">kitten 14</h4><h4 style=\"font-size: 9px; padding-left: 10px; padding-right: 10px; width: 90%; word-wrap: break-word; white-space: normal;\">http://img.alicdn.com/bao/uploaded/i2/3042229505/TB2z5tfdOOYBuNjSsD4XXbSkFXa_%21%213042229505.jpg</h4><img src=\"http://img.alicdn.com/bao/uploaded/i2/3042229505/TB2z5tfdOOYBuNjSsD4XXbSkFXa_%21%213042229505.jpg\" style=\"margin: 1px; width: 150px; border: 2px solid #ddd;\"/></div><div style=\"display: inline-block; width: 170px; vertical-align: top; text-align: center;\"><h4 style=\"font-size: 12px\">kitten 15</h4><h4 style=\"font-size: 9px; padding-left: 10px; padding-right: 10px; width: 90%; word-wrap: break-word; white-space: normal;\">http://images6.fanpop.com/image/photos/37000000/KITTEN-3333-sini12-37029887-1366-768.jpg</h4><img src=\"http://images6.fanpop.com/image/photos/37000000/KITTEN-3333-sini12-37029887-1366-768.jpg\" style=\"margin: 1px; width: 150px; border: 2px solid #ddd;\"/></div><div style=\"display: inline-block; width: 170px; vertical-align: top; text-align: center;\"><h4 style=\"font-size: 12px\">kitten 16</h4><h4 style=\"font-size: 9px; padding-left: 10px; padding-right: 10px; width: 90%; word-wrap: break-word; white-space: normal;\">http://images4.fanpop.com/image/photos/22800000/surprised-kitten-cats-parrots-and-butterflies-22812302-1024-768.jpg</h4><img src=\"http://images4.fanpop.com/image/photos/22800000/surprised-kitten-cats-parrots-and-butterflies-22812302-1024-768.jpg\" style=\"margin: 1px; width: 150px; border: 2px solid #ddd;\"/></div><div style=\"display: inline-block; width: 170px; vertical-align: top; text-align: center;\"><h4 style=\"font-size: 12px\">kitten 17</h4><h4 style=\"font-size: 9px; padding-left: 10px; padding-right: 10px; width: 90%; word-wrap: break-word; white-space: normal;\">http://wallpapershome.com/images/pages/ico_h/15367.jpg</h4><img src=\"http://wallpapershome.com/images/pages/ico_h/15367.jpg\" style=\"margin: 1px; width: 150px; border: 2px solid #ddd;\"/></div><div style=\"display: inline-block; width: 170px; vertical-align: top; text-align: center;\"><h4 style=\"font-size: 12px\">kitten 18</h4><h4 style=\"font-size: 9px; padding-left: 10px; padding-right: 10px; width: 90%; word-wrap: break-word; white-space: normal;\">http://img.jf258.com/i/1a1009923260x2489015819b27.jpg</h4><img src=\"http://img.jf258.com/i/1a1009923260x2489015819b27.jpg\" style=\"margin: 1px; width: 150px; border: 2px solid #ddd;\"/></div><div style=\"display: inline-block; width: 170px; vertical-align: top; text-align: center;\"><h4 style=\"font-size: 12px\">kitten 19</h4><h4 style=\"font-size: 9px; padding-left: 10px; padding-right: 10px; width: 90%; word-wrap: break-word; white-space: normal;\">http://hbimg.b0.upaiyun.com/077533f8694b970444d5653140a64112b18d319ab45a-xRuXe4_fw658</h4><img src=\"http://hbimg.b0.upaiyun.com/077533f8694b970444d5653140a64112b18d319ab45a-xRuXe4_fw658\" style=\"margin: 1px; width: 150px; border: 2px solid #ddd;\"/></div><div style=\"display: inline-block; width: 170px; vertical-align: top; text-align: center;\"><h4 style=\"font-size: 12px\">kitten 20</h4><h4 style=\"font-size: 9px; padding-left: 10px; padding-right: 10px; width: 90%; word-wrap: break-word; white-space: normal;\">http://images.freeimages.com/images/large-previews/7cc/kitten-1560106.jpg</h4><img src=\"http://images.freeimages.com/images/large-previews/7cc/kitten-1560106.jpg\" style=\"margin: 1px; width: 150px; border: 2px solid #ddd;\"/></div><div style=\"display: inline-block; width: 170px; vertical-align: top; text-align: center;\"><h4 style=\"font-size: 12px\">kitten 21</h4><h4 style=\"font-size: 9px; padding-left: 10px; padding-right: 10px; width: 90%; word-wrap: break-word; white-space: normal;\">http://img.zcool.cn/community/01d85d5a2d48caa80120ba3825b2c5.jpg@1280w_1l_2o_100sh.jpg</h4><img src=\"http://img.zcool.cn/community/01d85d5a2d48caa80120ba3825b2c5.jpg@1280w_1l_2o_100sh.jpg\" style=\"margin: 1px; width: 150px; border: 2px solid #ddd;\"/></div><div style=\"display: inline-block; width: 170px; vertical-align: top; text-align: center;\"><h4 style=\"font-size: 12px\">kitten 22</h4><h4 style=\"font-size: 9px; padding-left: 10px; padding-right: 10px; width: 90%; word-wrap: break-word; white-space: normal;\">http://t-1.tuzhan.com/eada2a92e99a/c-2/l/2013/01/30/02/3e320bd81b624f86a57b086765cfd3da.jpg</h4><img src=\"http://t-1.tuzhan.com/eada2a92e99a/c-2/l/2013/01/30/02/3e320bd81b624f86a57b086765cfd3da.jpg\" style=\"margin: 1px; width: 150px; border: 2px solid #ddd;\"/></div><div style=\"display: inline-block; width: 170px; vertical-align: top; text-align: center;\"><h4 style=\"font-size: 12px\">kitten 23</h4><h4 style=\"font-size: 9px; padding-left: 10px; padding-right: 10px; width: 90%; word-wrap: break-word; white-space: normal;\">http://p0.qhimg.com/t0109f872bcf8b9496f.png</h4><img src=\"http://p0.qhimg.com/t0109f872bcf8b9496f.png\" style=\"margin: 1px; width: 150px; border: 2px solid #ddd;\"/></div><div style=\"display: inline-block; width: 170px; vertical-align: top; text-align: center;\"><h4 style=\"font-size: 12px\">kitten 24</h4><h4 style=\"font-size: 9px; padding-left: 10px; padding-right: 10px; width: 90%; word-wrap: break-word; white-space: normal;\">http://images6.fanpop.com/image/polls/1316000/1316639_1387076727271_full.jpg?v=1387077248</h4><img src=\"http://images6.fanpop.com/image/polls/1316000/1316639_1387076727271_full.jpg?v=1387077248\" style=\"margin: 1px; width: 150px; border: 2px solid #ddd;\"/></div><div style=\"display: inline-block; width: 170px; vertical-align: top; text-align: center;\"><h4 style=\"font-size: 12px\">kitten 25</h4><h4 style=\"font-size: 9px; padding-left: 10px; padding-right: 10px; width: 90%; word-wrap: break-word; white-space: normal;\">http://images4.fanpop.com/image/photos/16100000/Cute-Kitten-kittens-16122928-1280-800.jpg</h4><img src=\"http://images4.fanpop.com/image/photos/16100000/Cute-Kitten-kittens-16122928-1280-800.jpg\" style=\"margin: 1px; width: 150px; border: 2px solid #ddd;\"/></div><div style=\"display: inline-block; width: 170px; vertical-align: top; text-align: center;\"><h4 style=\"font-size: 12px\">kitten 26</h4><h4 style=\"font-size: 9px; padding-left: 10px; padding-right: 10px; width: 90%; word-wrap: break-word; white-space: normal;\">http://hbimg.b0.upaiyun.com/9f580f62f4c5f165e987dad554fd2c604c7e6db434e8-j4JY9G_fw658</h4><img src=\"http://hbimg.b0.upaiyun.com/9f580f62f4c5f165e987dad554fd2c604c7e6db434e8-j4JY9G_fw658\" style=\"margin: 1px; width: 150px; border: 2px solid #ddd;\"/></div><div style=\"display: inline-block; width: 170px; vertical-align: top; text-align: center;\"><h4 style=\"font-size: 12px\">kitten 27</h4><h4 style=\"font-size: 9px; padding-left: 10px; padding-right: 10px; width: 90%; word-wrap: break-word; white-space: normal;\">http://image.game.uc.cn/2016/3/9/12467317_.jpg</h4><img src=\"http://image.game.uc.cn/2016/3/9/12467317_.jpg\" style=\"margin: 1px; width: 150px; border: 2px solid #ddd;\"/></div><div style=\"display: inline-block; width: 170px; vertical-align: top; text-align: center;\"><h4 style=\"font-size: 12px\">kitten 28</h4><h4 style=\"font-size: 9px; padding-left: 10px; padding-right: 10px; width: 90%; word-wrap: break-word; white-space: normal;\">http://d2hu9cc0x5vz48.cloudfront.net/wp-content/uploads/2018/07/980x-7.jpg</h4><img src=\"http://d2hu9cc0x5vz48.cloudfront.net/wp-content/uploads/2018/07/980x-7.jpg\" style=\"margin: 1px; width: 150px; border: 2px solid #ddd;\"/></div><div style=\"display: inline-block; width: 170px; vertical-align: top; text-align: center;\"><h4 style=\"font-size: 12px\">kitten 29</h4><h4 style=\"font-size: 9px; padding-left: 10px; padding-right: 10px; width: 90%; word-wrap: break-word; white-space: normal;\">http://img.zcool.cn/community/0108cc5568d903000001271655e90f.jpg@1280w_1l_2o_100sh.jpg</h4><img src=\"http://img.zcool.cn/community/0108cc5568d903000001271655e90f.jpg@1280w_1l_2o_100sh.jpg\" style=\"margin: 1px; width: 150px; border: 2px solid #ddd;\"/></div>"
      ],
      "text/plain": [
       "<IPython.core.display.HTML object>"
      ]
     },
     "metadata": {},
     "output_type": "display_data"
    }
   ],
   "source": [
    "import ipyplot\n",
    "ipyplot.plot_images(urls, [f'{search_term_english} {i}' for i in range(len(urls))], img_width=150)"
   ]
  },
  {
   "cell_type": "code",
   "execution_count": 10,
   "metadata": {},
   "outputs": [
    {
     "data": {
      "text/html": [
       "<div style=\"display: inline-block; width: 170px; vertical-align: top; text-align: center;\"><h4 style=\"font-size: 12px\">小猫 0</h4><h4 style=\"font-size: 9px; padding-left: 10px; padding-right: 10px; width: 90%; word-wrap: break-word; white-space: normal;\">http://bpic.588ku.com/element_origin_min_pic/16/06/04/235752f5a5d2498.jpg</h4><img src=\"http://bpic.588ku.com/element_origin_min_pic/16/06/04/235752f5a5d2498.jpg\" style=\"margin: 1px; width: 150px; border: 2px solid #ddd;\"/></div><div style=\"display: inline-block; width: 170px; vertical-align: top; text-align: center;\"><h4 style=\"font-size: 12px\">小猫 1</h4><h4 style=\"font-size: 9px; padding-left: 10px; padding-right: 10px; width: 90%; word-wrap: break-word; white-space: normal;\">http://m.360buyimg.com/pop/jfs/t25168/33/166786854/85434/1f2b7808/5b681c1fn4f745897.jpg</h4><img src=\"http://m.360buyimg.com/pop/jfs/t25168/33/166786854/85434/1f2b7808/5b681c1fn4f745897.jpg\" style=\"margin: 1px; width: 150px; border: 2px solid #ddd;\"/></div><div style=\"display: inline-block; width: 170px; vertical-align: top; text-align: center;\"><h4 style=\"font-size: 12px\">小猫 2</h4><h4 style=\"font-size: 9px; padding-left: 10px; padding-right: 10px; width: 90%; word-wrap: break-word; white-space: normal;\">http://bos.pgzs.com/rbpiczy/Wallpaper/2012/1/6/aeae710d55ed4afab8a5993d457634bc-2.jpg</h4><img src=\"http://bos.pgzs.com/rbpiczy/Wallpaper/2012/1/6/aeae710d55ed4afab8a5993d457634bc-2.jpg\" style=\"margin: 1px; width: 150px; border: 2px solid #ddd;\"/></div><div style=\"display: inline-block; width: 170px; vertical-align: top; text-align: center;\"><h4 style=\"font-size: 12px\">小猫 3</h4><h4 style=\"font-size: 9px; padding-left: 10px; padding-right: 10px; width: 90%; word-wrap: break-word; white-space: normal;\">http://pics3.baidu.com/feed/314e251f95cad1c8d3bcb2b96371c90fc83d51fa.jpeg?token=237910011e6eb06da5b964d6ff283bb6&s=F8BA77D91662150513A4663803001054</h4><img src=\"http://pics3.baidu.com/feed/314e251f95cad1c8d3bcb2b96371c90fc83d51fa.jpeg?token=237910011e6eb06da5b964d6ff283bb6&s=F8BA77D91662150513A4663803001054\" style=\"margin: 1px; width: 150px; border: 2px solid #ddd;\"/></div><div style=\"display: inline-block; width: 170px; vertical-align: top; text-align: center;\"><h4 style=\"font-size: 12px\">小猫 4</h4><h4 style=\"font-size: 9px; padding-left: 10px; padding-right: 10px; width: 90%; word-wrap: break-word; white-space: normal;\">http://www.boruisz.com/images/mixhu33mfvuw2zzomnxw2ltdny/desk/bizhi/image/1/960x600/1351668870163.jpg</h4><img src=\"http://www.boruisz.com/images/mixhu33mfvuw2zzomnxw2ltdny/desk/bizhi/image/1/960x600/1351668870163.jpg\" style=\"margin: 1px; width: 150px; border: 2px solid #ddd;\"/></div><div style=\"display: inline-block; width: 170px; vertical-align: top; text-align: center;\"><h4 style=\"font-size: 12px\">小猫 5</h4><h4 style=\"font-size: 9px; padding-left: 10px; padding-right: 10px; width: 90%; word-wrap: break-word; white-space: normal;\">http://b.zol-img.com.cn/sjbizhi/images/5/320x510/137760363184.jpg</h4><img src=\"http://b.zol-img.com.cn/sjbizhi/images/5/320x510/137760363184.jpg\" style=\"margin: 1px; width: 150px; border: 2px solid #ddd;\"/></div><div style=\"display: inline-block; width: 170px; vertical-align: top; text-align: center;\"><h4 style=\"font-size: 12px\">小猫 6</h4><h4 style=\"font-size: 9px; padding-left: 10px; padding-right: 10px; width: 90%; word-wrap: break-word; white-space: normal;\">http://www.17qq.com/img_qqtouxiang/89769194.jpeg</h4><img src=\"http://www.17qq.com/img_qqtouxiang/89769194.jpeg\" style=\"margin: 1px; width: 150px; border: 2px solid #ddd;\"/></div><div style=\"display: inline-block; width: 170px; vertical-align: top; text-align: center;\"><h4 style=\"font-size: 12px\">小猫 7</h4><h4 style=\"font-size: 9px; padding-left: 10px; padding-right: 10px; width: 90%; word-wrap: break-word; white-space: normal;\">http://dpic.tiankong.com/ha/kl/QJ8493024329.jpg</h4><img src=\"http://dpic.tiankong.com/ha/kl/QJ8493024329.jpg\" style=\"margin: 1px; width: 150px; border: 2px solid #ddd;\"/></div><div style=\"display: inline-block; width: 170px; vertical-align: top; text-align: center;\"><h4 style=\"font-size: 12px\">小猫 8</h4><h4 style=\"font-size: 9px; padding-left: 10px; padding-right: 10px; width: 90%; word-wrap: break-word; white-space: normal;\">http://img.article.pchome.net/00/38/24/45/pic_lib/s960x639/maomaos38s960x639.jpg</h4><img src=\"http://img.article.pchome.net/00/38/24/45/pic_lib/s960x639/maomaos38s960x639.jpg\" style=\"margin: 1px; width: 150px; border: 2px solid #ddd;\"/></div><div style=\"display: inline-block; width: 170px; vertical-align: top; text-align: center;\"><h4 style=\"font-size: 12px\">小猫 9</h4><h4 style=\"font-size: 9px; padding-left: 10px; padding-right: 10px; width: 90%; word-wrap: break-word; white-space: normal;\">http://www.dzdtss.com/uploadfile/2019/1220/20191220015603676.jpg</h4><img src=\"http://www.dzdtss.com/uploadfile/2019/1220/20191220015603676.jpg\" style=\"margin: 1px; width: 150px; border: 2px solid #ddd;\"/></div><div style=\"display: inline-block; width: 170px; vertical-align: top; text-align: center;\"><h4 style=\"font-size: 12px\">小猫 10</h4><h4 style=\"font-size: 9px; padding-left: 10px; padding-right: 10px; width: 90%; word-wrap: break-word; white-space: normal;\">http://dpic.tiankong.com/px/j1/QJ8779167699.jpg</h4><img src=\"http://dpic.tiankong.com/px/j1/QJ8779167699.jpg\" style=\"margin: 1px; width: 150px; border: 2px solid #ddd;\"/></div><div style=\"display: inline-block; width: 170px; vertical-align: top; text-align: center;\"><h4 style=\"font-size: 12px\">小猫 11</h4><h4 style=\"font-size: 9px; padding-left: 10px; padding-right: 10px; width: 90%; word-wrap: break-word; white-space: normal;\">http://b-ssl.duitang.com/uploads/item/201511/28/20151128201007_8xjPf.jpeg</h4><img src=\"http://b-ssl.duitang.com/uploads/item/201511/28/20151128201007_8xjPf.jpeg\" style=\"margin: 1px; width: 150px; border: 2px solid #ddd;\"/></div><div style=\"display: inline-block; width: 170px; vertical-align: top; text-align: center;\"><h4 style=\"font-size: 12px\">小猫 12</h4><h4 style=\"font-size: 9px; padding-left: 10px; padding-right: 10px; width: 90%; word-wrap: break-word; white-space: normal;\">http://www.cms9.com/attachs/image/1707/2800001371386.jpg</h4><img src=\"http://www.cms9.com/attachs/image/1707/2800001371386.jpg\" style=\"margin: 1px; width: 150px; border: 2px solid #ddd;\"/></div><div style=\"display: inline-block; width: 170px; vertical-align: top; text-align: center;\"><h4 style=\"font-size: 12px\">小猫 13</h4><h4 style=\"font-size: 9px; padding-left: 10px; padding-right: 10px; width: 90%; word-wrap: break-word; white-space: normal;\">http://www.17qq.com/img_qqtouxiang/89991102.jpeg</h4><img src=\"http://www.17qq.com/img_qqtouxiang/89991102.jpeg\" style=\"margin: 1px; width: 150px; border: 2px solid #ddd;\"/></div><div style=\"display: inline-block; width: 170px; vertical-align: top; text-align: center;\"><h4 style=\"font-size: 12px\">小猫 14</h4><h4 style=\"font-size: 9px; padding-left: 10px; padding-right: 10px; width: 90%; word-wrap: break-word; white-space: normal;\">http://dpic.tiankong.com/n9/n7/QJ6286622351.jpg</h4><img src=\"http://dpic.tiankong.com/n9/n7/QJ6286622351.jpg\" style=\"margin: 1px; width: 150px; border: 2px solid #ddd;\"/></div><div style=\"display: inline-block; width: 170px; vertical-align: top; text-align: center;\"><h4 style=\"font-size: 12px\">小猫 15</h4><h4 style=\"font-size: 9px; padding-left: 10px; padding-right: 10px; width: 90%; word-wrap: break-word; white-space: normal;\">http://i0.hdslb.com/bfs/article/518643f2e5c6578160aaec3177020aaa6ea54cc0.jpg</h4><img src=\"http://i0.hdslb.com/bfs/article/518643f2e5c6578160aaec3177020aaa6ea54cc0.jpg\" style=\"margin: 1px; width: 150px; border: 2px solid #ddd;\"/></div><div style=\"display: inline-block; width: 170px; vertical-align: top; text-align: center;\"><h4 style=\"font-size: 12px\">小猫 16</h4><h4 style=\"font-size: 9px; padding-left: 10px; padding-right: 10px; width: 90%; word-wrap: break-word; white-space: normal;\">http://img.xshuma.com/201207/202752120718964683.jpg</h4><img src=\"http://img.xshuma.com/201207/202752120718964683.jpg\" style=\"margin: 1px; width: 150px; border: 2px solid #ddd;\"/></div><div style=\"display: inline-block; width: 170px; vertical-align: top; text-align: center;\"><h4 style=\"font-size: 12px\">小猫 17</h4><h4 style=\"font-size: 9px; padding-left: 10px; padding-right: 10px; width: 90%; word-wrap: break-word; white-space: normal;\">http://cdn.duitang.com/uploads/blog/201306/23/20130623172655_zrAmz.jpeg</h4><img src=\"http://cdn.duitang.com/uploads/blog/201306/23/20130623172655_zrAmz.jpeg\" style=\"margin: 1px; width: 150px; border: 2px solid #ddd;\"/></div><div style=\"display: inline-block; width: 170px; vertical-align: top; text-align: center;\"><h4 style=\"font-size: 12px\">小猫 18</h4><h4 style=\"font-size: 9px; padding-left: 10px; padding-right: 10px; width: 90%; word-wrap: break-word; white-space: normal;\">http://www.sydiaocha.cn/img.php?img.article.pchome.net/00/25/11/38/pic_lib/s960x639/kaxm_12s960x639.jpg</h4><img src=\"http://www.sydiaocha.cn/img.php?img.article.pchome.net/00/25/11/38/pic_lib/s960x639/kaxm_12s960x639.jpg\" style=\"margin: 1px; width: 150px; border: 2px solid #ddd;\"/></div><div style=\"display: inline-block; width: 170px; vertical-align: top; text-align: center;\"><h4 style=\"font-size: 12px\">小猫 19</h4><h4 style=\"font-size: 9px; padding-left: 10px; padding-right: 10px; width: 90%; word-wrap: break-word; white-space: normal;\">http://images6.fanpop.com/image/photos/39400000/Fluffy-Kittens-cats-39464229-2560-1600.jpg</h4><img src=\"http://images6.fanpop.com/image/photos/39400000/Fluffy-Kittens-cats-39464229-2560-1600.jpg\" style=\"margin: 1px; width: 150px; border: 2px solid #ddd;\"/></div><div style=\"display: inline-block; width: 170px; vertical-align: top; text-align: center;\"><h4 style=\"font-size: 12px\">小猫 20</h4><h4 style=\"font-size: 9px; padding-left: 10px; padding-right: 10px; width: 90%; word-wrap: break-word; white-space: normal;\">http://thumbs.dreamstime.com/b/%E5%9C%A8%E4%B8%80%E4%B8%AA-%E8%89%B2%E8%8D%89%E7%94%B8%E7%9A%84%E4%B8%89%E4%B8%AA-%E4%BA%BA%E5%B0%8F%E7%8C%AB-49007854.jpg</h4><img src=\"http://thumbs.dreamstime.com/b/%E5%9C%A8%E4%B8%80%E4%B8%AA-%E8%89%B2%E8%8D%89%E7%94%B8%E7%9A%84%E4%B8%89%E4%B8%AA-%E4%BA%BA%E5%B0%8F%E7%8C%AB-49007854.jpg\" style=\"margin: 1px; width: 150px; border: 2px solid #ddd;\"/></div><div style=\"display: inline-block; width: 170px; vertical-align: top; text-align: center;\"><h4 style=\"font-size: 12px\">小猫 21</h4><h4 style=\"font-size: 9px; padding-left: 10px; padding-right: 10px; width: 90%; word-wrap: break-word; white-space: normal;\">http://pp.qn.img-space.com/g2/M00/01/D3/Cg-4klSMTb2IKT86AAOj-mF4kAgAAC2hwJMHuoAA6QS608.jpg?imageView2/2/w/1200/q/90/ignore-error/1/</h4><img src=\"http://pp.qn.img-space.com/g2/M00/01/D3/Cg-4klSMTb2IKT86AAOj-mF4kAgAAC2hwJMHuoAA6QS608.jpg?imageView2/2/w/1200/q/90/ignore-error/1/\" style=\"margin: 1px; width: 150px; border: 2px solid #ddd;\"/></div><div style=\"display: inline-block; width: 170px; vertical-align: top; text-align: center;\"><h4 style=\"font-size: 12px\">小猫 22</h4><h4 style=\"font-size: 9px; padding-left: 10px; padding-right: 10px; width: 90%; word-wrap: break-word; white-space: normal;\">http://hbimg.b0.upaiyun.com/8b5492f7f1e8f3f1a65c139646f31b22ab61d9e58caa-QsjTGP_fw658</h4><img src=\"http://hbimg.b0.upaiyun.com/8b5492f7f1e8f3f1a65c139646f31b22ab61d9e58caa-QsjTGP_fw658\" style=\"margin: 1px; width: 150px; border: 2px solid #ddd;\"/></div><div style=\"display: inline-block; width: 170px; vertical-align: top; text-align: center;\"><h4 style=\"font-size: 12px\">小猫 23</h4><h4 style=\"font-size: 9px; padding-left: 10px; padding-right: 10px; width: 90%; word-wrap: break-word; white-space: normal;\">http://photocdn.sohu.com/20141115/Img406062584.jpg</h4><img src=\"http://photocdn.sohu.com/20141115/Img406062584.jpg\" style=\"margin: 1px; width: 150px; border: 2px solid #ddd;\"/></div><div style=\"display: inline-block; width: 170px; vertical-align: top; text-align: center;\"><h4 style=\"font-size: 12px\">小猫 24</h4><h4 style=\"font-size: 9px; padding-left: 10px; padding-right: 10px; width: 90%; word-wrap: break-word; white-space: normal;\">http://news.sxrb.com/upload/resources/image/2015/04/09/235631_600x800.jpg</h4><img src=\"http://news.sxrb.com/upload/resources/image/2015/04/09/235631_600x800.jpg\" style=\"margin: 1px; width: 150px; border: 2px solid #ddd;\"/></div><div style=\"display: inline-block; width: 170px; vertical-align: top; text-align: center;\"><h4 style=\"font-size: 12px\">小猫 25</h4><h4 style=\"font-size: 9px; padding-left: 10px; padding-right: 10px; width: 90%; word-wrap: break-word; white-space: normal;\">http://dpic.tiankong.com/ga/f5/QJ8202752095.jpg</h4><img src=\"http://dpic.tiankong.com/ga/f5/QJ8202752095.jpg\" style=\"margin: 1px; width: 150px; border: 2px solid #ddd;\"/></div><div style=\"display: inline-block; width: 170px; vertical-align: top; text-align: center;\"><h4 style=\"font-size: 12px\">小猫 26</h4><h4 style=\"font-size: 9px; padding-left: 10px; padding-right: 10px; width: 90%; word-wrap: break-word; white-space: normal;\">http://www.17qq.com/img_qqtouxiang/88410433.jpeg</h4><img src=\"http://www.17qq.com/img_qqtouxiang/88410433.jpeg\" style=\"margin: 1px; width: 150px; border: 2px solid #ddd;\"/></div><div style=\"display: inline-block; width: 170px; vertical-align: top; text-align: center;\"><h4 style=\"font-size: 12px\">小猫 27</h4><h4 style=\"font-size: 9px; padding-left: 10px; padding-right: 10px; width: 90%; word-wrap: break-word; white-space: normal;\">http://img.alicdn.com/imgextra/i2/1730563220/TB2IhVijwLD8KJjSszeXXaGRpXa_%21%211730563220.jpg</h4><img src=\"http://img.alicdn.com/imgextra/i2/1730563220/TB2IhVijwLD8KJjSszeXXaGRpXa_%21%211730563220.jpg\" style=\"margin: 1px; width: 150px; border: 2px solid #ddd;\"/></div><div style=\"display: inline-block; width: 170px; vertical-align: top; text-align: center;\"><h4 style=\"font-size: 12px\">小猫 28</h4><h4 style=\"font-size: 9px; padding-left: 10px; padding-right: 10px; width: 90%; word-wrap: break-word; white-space: normal;\">http://www.tp88.net/uploads/allimg/200517/0010142H5-1.jpg</h4><img src=\"http://www.tp88.net/uploads/allimg/200517/0010142H5-1.jpg\" style=\"margin: 1px; width: 150px; border: 2px solid #ddd;\"/></div><div style=\"display: inline-block; width: 170px; vertical-align: top; text-align: center;\"><h4 style=\"font-size: 12px\">小猫 29</h4><h4 style=\"font-size: 9px; padding-left: 10px; padding-right: 10px; width: 90%; word-wrap: break-word; white-space: normal;\">http://pic1.win4000.com/wallpaper/7/513e9a5819bc4.jpg</h4><img src=\"http://pic1.win4000.com/wallpaper/7/513e9a5819bc4.jpg\" style=\"margin: 1px; width: 150px; border: 2px solid #ddd;\"/></div>"
      ],
      "text/plain": [
       "<IPython.core.display.HTML object>"
      ]
     },
     "metadata": {},
     "output_type": "display_data"
    }
   ],
   "source": [
    "url = 'https://image.baidu.com/search/flip?tn=baiduimage&ie=utf-8&word='+search_term_chinese+'&ct=201326592&v=flip'\n",
    "r = requests.get(url, timeout=10,\n",
    "                proxies={'https':None, 'http':None},\n",
    "                headers={'User-Agent':'Mozilla/5.0 (Windows NT 10.0; Win64; x64) AppleWebKit/537.36 (KHTML, like Gecko) Chrome/63.0.3239.132 Safari/537.36'})\n",
    "html = r.text\n",
    "urls = re.findall('\"objURL\":\"(.*?)\",',html,re.S)\n",
    "ipyplot.plot_images(urls, [f'{search_term_chinese} {i}' for i in range(len(urls))], img_width=150)"
   ]
  },
  {
   "cell_type": "code",
   "execution_count": null,
   "metadata": {},
   "outputs": [],
   "source": []
  }
 ],
 "metadata": {
  "kernelspec": {
   "display_name": "Python 3",
   "language": "python",
   "name": "python3"
  },
  "language_info": {
   "codemirror_mode": {
    "name": "ipython",
    "version": 3
   },
   "file_extension": ".py",
   "mimetype": "text/x-python",
   "name": "python",
   "nbconvert_exporter": "python",
   "pygments_lexer": "ipython3",
   "version": "3.8.3"
  }
 },
 "nbformat": 4,
 "nbformat_minor": 4
}
