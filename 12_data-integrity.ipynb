{
 "cells": [
  {
   "cell_type": "markdown",
   "metadata": {},
   "source": [
    "# Data integrity audit\n",
    "\n",
    "We want guarantees that:\n",
    " - the scraper is saving the correct images to searches, with correct terms\n",
    " - the API returns the same images that were saved for a search\n",
    " \n",
    "Additionally, we need answers to these questions:\n",
    " - why do some terms on dataserve appear to be a random mishmash of images?\n",
    " - some terms visible on the Search Archive don't seem to match the results being shown by dataserve. Is there a mismatch?"
   ]
  },
  {
   "cell_type": "code",
   "execution_count": 25,
   "metadata": {},
   "outputs": [],
   "source": [
    "from datetime import datetime\n",
    "import ipyplot\n",
    "import json\n",
    "from pandas import DataFrame, read_excel\n",
    "import requests\n",
    "from scrape import run"
   ]
  },
  {
   "cell_type": "code",
   "execution_count": 6,
   "metadata": {},
   "outputs": [],
   "source": [
    "base_url = \"http://api.firewallcafe.com\""
   ]
  },
  {
   "cell_type": "markdown",
   "metadata": {},
   "source": [
    "### Saving correct images to searches with correct terms\n",
    "\n",
    "Let's run an example search and check the images it finds. Is it outputting to the API correctly?\n",
    "\n",
    "The details of each search are saved in a JSON file and uploaded to the Space before they're POSTed to the API. Let's check the JSON files that we're creating first."
   ]
  },
  {
   "cell_type": "code",
   "execution_count": 54,
   "metadata": {},
   "outputs": [
    {
     "data": {
      "text/html": [
       "<div>\n",
       "<style scoped>\n",
       "    .dataframe tbody tr th:only-of-type {\n",
       "        vertical-align: middle;\n",
       "    }\n",
       "\n",
       "    .dataframe tbody tr th {\n",
       "        vertical-align: top;\n",
       "    }\n",
       "\n",
       "    .dataframe thead th {\n",
       "        text-align: right;\n",
       "    }\n",
       "</style>\n",
       "<table border=\"1\" class=\"dataframe\">\n",
       "  <thead>\n",
       "    <tr style=\"text-align: right;\">\n",
       "      <th></th>\n",
       "      <th>english</th>\n",
       "      <th>chinese</th>\n",
       "    </tr>\n",
       "  </thead>\n",
       "  <tbody>\n",
       "    <tr>\n",
       "      <th>0</th>\n",
       "      <td>backpacking</td>\n",
       "      <td></td>\n",
       "    </tr>\n",
       "    <tr>\n",
       "      <th>1</th>\n",
       "      <td>verner vinge</td>\n",
       "      <td></td>\n",
       "    </tr>\n",
       "  </tbody>\n",
       "</table>\n",
       "</div>"
      ],
      "text/plain": [
       "        english chinese\n",
       "0   backpacking        \n",
       "1  verner vinge        "
      ]
     },
     "execution_count": 54,
     "metadata": {},
     "output_type": "execute_result"
    }
   ],
   "source": [
    "terms = [\"backpacking\", \"verner vinge\"]\n",
    "df = DataFrame([{\"english\":term, \"chinese\":\"\"} for term in terms])\n",
    "df"
   ]
  },
  {
   "cell_type": "code",
   "execution_count": 55,
   "metadata": {},
   "outputs": [],
   "source": [
    "df.to_excel('data_integrity_test.xlsx')"
   ]
  },
  {
   "cell_type": "markdown",
   "metadata": {},
   "source": [
    "Running even a very small, one-query scraper query produces a lot of print output, most of it unnecessary for our purposes."
   ]
  },
  {
   "cell_type": "code",
   "execution_count": 56,
   "metadata": {},
   "outputs": [
    {
     "name": "stdout",
     "output_type": "stream",
     "text": [
      "could not make directory [WinError 183] Cannot create a file when that file already exists: 'search_results'\n",
      "querying 2 terms for 24 seconds\n",
      "_write_file: https://firewall-cafe-space.nyc3.digitaloceanspaces.com/log.json\n",
      "wrote to log: querying 2 terms for 24 seconds\n",
      "request 0, term idx 0: \"backpacking\", \"nan\"\n",
      "\tGoogle got 20 images\n",
      "\tBaidu fail\n",
      "done querying search engines for term backpacking\n",
      "writing search results\n",
      "_write_file: https://firewall-cafe-space.nyc3.digitaloceanspaces.com/search_results/google_searches_2021-02-25.json\n",
      "200 getting image https://encrypted-tbn0.gstatic.com/images?q=tbn:ANd9GcTRAKP_JTGKg1r9mn_3g3MXv496gKnKOXU-IbvvKF7_8uVuYtWFXHjWEBAPEdI&s\n",
      "_write_file: https://firewall-cafe-space.nyc3.digitaloceanspaces.com/images/hashed/9986a4de875c2d59.jpg\n",
      "200 getting image https://encrypted-tbn0.gstatic.com/images?q=tbn:ANd9GcQxIhlzqCl1_n7zepOg-_GvDH7jsfs2F6Ogf86RSXhrF4GozZhQ34Ml3Xj1vA&s\n",
      "_write_file: https://firewall-cafe-space.nyc3.digitaloceanspaces.com/images/hashed/b3a3b2ce4c4ccc9a.jpg\n",
      "200 getting image https://encrypted-tbn0.gstatic.com/images?q=tbn:ANd9GcQC3GuNmJ7rHvuwKhqdLBi5ofnd_rbYubRN2NntvUjhNyQXPU3tc7hoXzTCCQ&s\n",
      "_write_file: https://firewall-cafe-space.nyc3.digitaloceanspaces.com/images/hashed/c8cae59cb6339934.jpg\n",
      "200 getting image https://encrypted-tbn0.gstatic.com/images?q=tbn:ANd9GcQnj-83tKq46u6QN1C_tia5OHQc304J9LlW99QaafO7hrn2PiNY5F6fnz1V9kc&s\n",
      "_write_file: https://firewall-cafe-space.nyc3.digitaloceanspaces.com/images/hashed/edec1513d6c33149.jpg\n",
      "200 getting image https://encrypted-tbn0.gstatic.com/images?q=tbn:ANd9GcQMLJ7nABsfSfzPa45s16igeC3WdF8uR-_OyJBF3CZaB5cBSHv823jxfrwCPLQ&s\n",
      "_write_file: https://firewall-cafe-space.nyc3.digitaloceanspaces.com/images/hashed/94996e0d976b3f04.jpg\n",
      "result {'english_term': 'backpacking', 'chinese_term': nan, 'urls': ['https://encrypted-tbn0.gstatic.com/images?q=tbn:ANd9GcTRAKP_JTGKg1r9mn_3g3MXv496gKnKOXU-IbvvKF7_8uVuYtWFXHjWEBAPEdI&s', 'https://encrypted-tbn0.gstatic.com/images?q=tbn:ANd9GcQxIhlzqCl1_n7zepOg-_GvDH7jsfs2F6Ogf86RSXhrF4GozZhQ34Ml3Xj1vA&s', 'https://encrypted-tbn0.gstatic.com/images?q=tbn:ANd9GcQC3GuNmJ7rHvuwKhqdLBi5ofnd_rbYubRN2NntvUjhNyQXPU3tc7hoXzTCCQ&s', 'https://encrypted-tbn0.gstatic.com/images?q=tbn:ANd9GcQnj-83tKq46u6QN1C_tia5OHQc304J9LlW99QaafO7hrn2PiNY5F6fnz1V9kc&s', 'https://encrypted-tbn0.gstatic.com/images?q=tbn:ANd9GcQMLJ7nABsfSfzPa45s16igeC3WdF8uR-_OyJBF3CZaB5cBSHv823jxfrwCPLQ&s'], 'ts': 1614211362.1400764}\n",
      "posting images associated with search ID 8576\n",
      "result: 201\n",
      "search IDs: {'backpacking': 8576}\n",
      "writing search results\n",
      "_write_file: https://firewall-cafe-space.nyc3.digitaloceanspaces.com/search_results/baidu_searches_2021-02-25.json\n",
      "search IDs: {}\n",
      "request 1, term idx 1: \"verner vinge\", \"nan\"\n",
      "\tGoogle got 20 images\n",
      "\tBaidu fail\n",
      "done querying search engines for term verner vinge\n",
      "writing search results\n",
      "_write_file: https://firewall-cafe-space.nyc3.digitaloceanspaces.com/search_results/google_searches_2021-02-25.json\n",
      "200 getting image https://encrypted-tbn0.gstatic.com/images?q=tbn:ANd9GcQkNtRsq1BzGTqO8nKqgE7ytV6tPwB8dbso8yZOF9ts-7NsKdwPlfaUKfm7RQ&s\n",
      "_write_file: https://firewall-cafe-space.nyc3.digitaloceanspaces.com/images/hashed/8c81b7c65c7b087d.jpg\n",
      "200 getting image https://encrypted-tbn0.gstatic.com/images?q=tbn:ANd9GcQTSk7SKI8DUQSQtg2LgyEQEsriciXpCg-J6jQQMbQc2ge_BMAYD44eRFqkHA&s\n",
      "_write_file: https://firewall-cafe-space.nyc3.digitaloceanspaces.com/images/hashed/8cf35ea65229d14b.jpg\n",
      "200 getting image https://encrypted-tbn0.gstatic.com/images?q=tbn:ANd9GcS1obirEYK3g9rNrdlckgDb9Ax4goGYP5bL1d5LLvuKFE5xOgBCT1jP1lJWbQ&s\n",
      "_write_file: https://firewall-cafe-space.nyc3.digitaloceanspaces.com/images/hashed/abab265c4a66d853.jpg\n",
      "200 getting image https://encrypted-tbn0.gstatic.com/images?q=tbn:ANd9GcTFa5uenOxKOZyybxo2uItX53-CiM9mTWec6Q4It_xfhG0Pdo7gZXy2iyemIQ&s\n",
      "_write_file: https://firewall-cafe-space.nyc3.digitaloceanspaces.com/images/hashed/940dbb5a4af35d41.jpg\n",
      "200 getting image https://encrypted-tbn0.gstatic.com/images?q=tbn:ANd9GcQgS-fTwaRYA19XAKMX6c_SBoDzc5ATxXMLdvcNEUAqLlMKrm88ZHdeAnci_gE&s\n",
      "_write_file: https://firewall-cafe-space.nyc3.digitaloceanspaces.com/images/hashed/c39aad240ad73cb5.jpg\n",
      "result {'english_term': 'verner vinge', 'chinese_term': nan, 'urls': ['https://encrypted-tbn0.gstatic.com/images?q=tbn:ANd9GcQkNtRsq1BzGTqO8nKqgE7ytV6tPwB8dbso8yZOF9ts-7NsKdwPlfaUKfm7RQ&s', 'https://encrypted-tbn0.gstatic.com/images?q=tbn:ANd9GcQTSk7SKI8DUQSQtg2LgyEQEsriciXpCg-J6jQQMbQc2ge_BMAYD44eRFqkHA&s', 'https://encrypted-tbn0.gstatic.com/images?q=tbn:ANd9GcS1obirEYK3g9rNrdlckgDb9Ax4goGYP5bL1d5LLvuKFE5xOgBCT1jP1lJWbQ&s', 'https://encrypted-tbn0.gstatic.com/images?q=tbn:ANd9GcTFa5uenOxKOZyybxo2uItX53-CiM9mTWec6Q4It_xfhG0Pdo7gZXy2iyemIQ&s', 'https://encrypted-tbn0.gstatic.com/images?q=tbn:ANd9GcQgS-fTwaRYA19XAKMX6c_SBoDzc5ATxXMLdvcNEUAqLlMKrm88ZHdeAnci_gE&s'], 'ts': 1614211381.0571017}\n",
      "posting images associated with search ID 8577\n",
      "result: 201\n",
      "search IDs: {'verner vinge': 8577}\n",
      "writing search results\n",
      "_write_file: https://firewall-cafe-space.nyc3.digitaloceanspaces.com/search_results/baidu_searches_2021-02-25.json\n",
      "search IDs: {}\n",
      "wrote 10 google images and 0 baidu images\n",
      "_write_file: https://firewall-cafe-space.nyc3.digitaloceanspaces.com/log.json\n",
      "wrote to log: wrote 10 google images and 0 baidu images\n",
      "_write_file: https://firewall-cafe-space.nyc3.digitaloceanspaces.com/errors.json\n",
      "_write_file: https://firewall-cafe-space.nyc3.digitaloceanspaces.com/error.txt\n",
      "took 40 seconds\n"
     ]
    },
    {
     "data": {
      "text/plain": [
       "(10, 0, 2)"
      ]
     },
     "execution_count": 56,
     "metadata": {},
     "output_type": "execute_result"
    }
   ],
   "source": [
    "run(termlist=read_excel('data_integrity_test.xlsx'))"
   ]
  },
  {
   "cell_type": "markdown",
   "metadata": {},
   "source": [
    "As we can see from the output, we just wrote to `https://firewall-cafe-space.nyc3.digitaloceanspaces.com/search_results/google_searches_2021-02-25.json`, which means the local file is `search_results/google_searches_2021-02-25.json`. Let's take a look at the JSON file we wrote as output."
   ]
  },
  {
   "cell_type": "code",
   "execution_count": 57,
   "metadata": {},
   "outputs": [],
   "source": [
    "fname = 'search_results/google_searches_2021-02-25.json'\n",
    "with open(fname) as f:\n",
    "    j = json.loads(f.read())"
   ]
  },
  {
   "cell_type": "code",
   "execution_count": 58,
   "metadata": {},
   "outputs": [],
   "source": [
    "result = [item for item in j if item['english_term'] in terms]\n",
    "urls = []\n",
    "for item in j:\n",
    "    if item['english_term'] in terms:\n",
    "        urls += item['urls']"
   ]
  },
  {
   "cell_type": "code",
   "execution_count": 59,
   "metadata": {},
   "outputs": [
    {
     "data": {
      "text/html": [
       "<div style=\"display: inline-block; width: 170px; vertical-align: top; text-align: center;\"><h4 style=\"font-size: 12px\">0</h4><h4 style=\"font-size: 9px; padding-left: 10px; padding-right: 10px; width: 90%; word-wrap: break-word; white-space: normal;\">https://encrypted-tbn0.gstatic.com/images?q=tbn:ANd9GcTRAKP_JTGKg1r9mn_3g3MXv496gKnKOXU-IbvvKF7_8uVuYtWFXHjWEBAPEdI&s</h4><img src=\"https://encrypted-tbn0.gstatic.com/images?q=tbn:ANd9GcTRAKP_JTGKg1r9mn_3g3MXv496gKnKOXU-IbvvKF7_8uVuYtWFXHjWEBAPEdI&s\" style=\"margin: 1px; width: 150px; border: 2px solid #ddd;\"/></div><div style=\"display: inline-block; width: 170px; vertical-align: top; text-align: center;\"><h4 style=\"font-size: 12px\">1</h4><h4 style=\"font-size: 9px; padding-left: 10px; padding-right: 10px; width: 90%; word-wrap: break-word; white-space: normal;\">https://encrypted-tbn0.gstatic.com/images?q=tbn:ANd9GcQxIhlzqCl1_n7zepOg-_GvDH7jsfs2F6Ogf86RSXhrF4GozZhQ34Ml3Xj1vA&s</h4><img src=\"https://encrypted-tbn0.gstatic.com/images?q=tbn:ANd9GcQxIhlzqCl1_n7zepOg-_GvDH7jsfs2F6Ogf86RSXhrF4GozZhQ34Ml3Xj1vA&s\" style=\"margin: 1px; width: 150px; border: 2px solid #ddd;\"/></div><div style=\"display: inline-block; width: 170px; vertical-align: top; text-align: center;\"><h4 style=\"font-size: 12px\">2</h4><h4 style=\"font-size: 9px; padding-left: 10px; padding-right: 10px; width: 90%; word-wrap: break-word; white-space: normal;\">https://encrypted-tbn0.gstatic.com/images?q=tbn:ANd9GcQC3GuNmJ7rHvuwKhqdLBi5ofnd_rbYubRN2NntvUjhNyQXPU3tc7hoXzTCCQ&s</h4><img src=\"https://encrypted-tbn0.gstatic.com/images?q=tbn:ANd9GcQC3GuNmJ7rHvuwKhqdLBi5ofnd_rbYubRN2NntvUjhNyQXPU3tc7hoXzTCCQ&s\" style=\"margin: 1px; width: 150px; border: 2px solid #ddd;\"/></div><div style=\"display: inline-block; width: 170px; vertical-align: top; text-align: center;\"><h4 style=\"font-size: 12px\">3</h4><h4 style=\"font-size: 9px; padding-left: 10px; padding-right: 10px; width: 90%; word-wrap: break-word; white-space: normal;\">https://encrypted-tbn0.gstatic.com/images?q=tbn:ANd9GcQnj-83tKq46u6QN1C_tia5OHQc304J9LlW99QaafO7hrn2PiNY5F6fnz1V9kc&s</h4><img src=\"https://encrypted-tbn0.gstatic.com/images?q=tbn:ANd9GcQnj-83tKq46u6QN1C_tia5OHQc304J9LlW99QaafO7hrn2PiNY5F6fnz1V9kc&s\" style=\"margin: 1px; width: 150px; border: 2px solid #ddd;\"/></div><div style=\"display: inline-block; width: 170px; vertical-align: top; text-align: center;\"><h4 style=\"font-size: 12px\">4</h4><h4 style=\"font-size: 9px; padding-left: 10px; padding-right: 10px; width: 90%; word-wrap: break-word; white-space: normal;\">https://encrypted-tbn0.gstatic.com/images?q=tbn:ANd9GcQMLJ7nABsfSfzPa45s16igeC3WdF8uR-_OyJBF3CZaB5cBSHv823jxfrwCPLQ&s</h4><img src=\"https://encrypted-tbn0.gstatic.com/images?q=tbn:ANd9GcQMLJ7nABsfSfzPa45s16igeC3WdF8uR-_OyJBF3CZaB5cBSHv823jxfrwCPLQ&s\" style=\"margin: 1px; width: 150px; border: 2px solid #ddd;\"/></div><div style=\"display: inline-block; width: 170px; vertical-align: top; text-align: center;\"><h4 style=\"font-size: 12px\">5</h4><h4 style=\"font-size: 9px; padding-left: 10px; padding-right: 10px; width: 90%; word-wrap: break-word; white-space: normal;\">https://encrypted-tbn0.gstatic.com/images?q=tbn:ANd9GcQkNtRsq1BzGTqO8nKqgE7ytV6tPwB8dbso8yZOF9ts-7NsKdwPlfaUKfm7RQ&s</h4><img src=\"https://encrypted-tbn0.gstatic.com/images?q=tbn:ANd9GcQkNtRsq1BzGTqO8nKqgE7ytV6tPwB8dbso8yZOF9ts-7NsKdwPlfaUKfm7RQ&s\" style=\"margin: 1px; width: 150px; border: 2px solid #ddd;\"/></div><div style=\"display: inline-block; width: 170px; vertical-align: top; text-align: center;\"><h4 style=\"font-size: 12px\">6</h4><h4 style=\"font-size: 9px; padding-left: 10px; padding-right: 10px; width: 90%; word-wrap: break-word; white-space: normal;\">https://encrypted-tbn0.gstatic.com/images?q=tbn:ANd9GcQTSk7SKI8DUQSQtg2LgyEQEsriciXpCg-J6jQQMbQc2ge_BMAYD44eRFqkHA&s</h4><img src=\"https://encrypted-tbn0.gstatic.com/images?q=tbn:ANd9GcQTSk7SKI8DUQSQtg2LgyEQEsriciXpCg-J6jQQMbQc2ge_BMAYD44eRFqkHA&s\" style=\"margin: 1px; width: 150px; border: 2px solid #ddd;\"/></div><div style=\"display: inline-block; width: 170px; vertical-align: top; text-align: center;\"><h4 style=\"font-size: 12px\">7</h4><h4 style=\"font-size: 9px; padding-left: 10px; padding-right: 10px; width: 90%; word-wrap: break-word; white-space: normal;\">https://encrypted-tbn0.gstatic.com/images?q=tbn:ANd9GcS1obirEYK3g9rNrdlckgDb9Ax4goGYP5bL1d5LLvuKFE5xOgBCT1jP1lJWbQ&s</h4><img src=\"https://encrypted-tbn0.gstatic.com/images?q=tbn:ANd9GcS1obirEYK3g9rNrdlckgDb9Ax4goGYP5bL1d5LLvuKFE5xOgBCT1jP1lJWbQ&s\" style=\"margin: 1px; width: 150px; border: 2px solid #ddd;\"/></div><div style=\"display: inline-block; width: 170px; vertical-align: top; text-align: center;\"><h4 style=\"font-size: 12px\">8</h4><h4 style=\"font-size: 9px; padding-left: 10px; padding-right: 10px; width: 90%; word-wrap: break-word; white-space: normal;\">https://encrypted-tbn0.gstatic.com/images?q=tbn:ANd9GcTFa5uenOxKOZyybxo2uItX53-CiM9mTWec6Q4It_xfhG0Pdo7gZXy2iyemIQ&s</h4><img src=\"https://encrypted-tbn0.gstatic.com/images?q=tbn:ANd9GcTFa5uenOxKOZyybxo2uItX53-CiM9mTWec6Q4It_xfhG0Pdo7gZXy2iyemIQ&s\" style=\"margin: 1px; width: 150px; border: 2px solid #ddd;\"/></div><div style=\"display: inline-block; width: 170px; vertical-align: top; text-align: center;\"><h4 style=\"font-size: 12px\">9</h4><h4 style=\"font-size: 9px; padding-left: 10px; padding-right: 10px; width: 90%; word-wrap: break-word; white-space: normal;\">https://encrypted-tbn0.gstatic.com/images?q=tbn:ANd9GcQgS-fTwaRYA19XAKMX6c_SBoDzc5ATxXMLdvcNEUAqLlMKrm88ZHdeAnci_gE&s</h4><img src=\"https://encrypted-tbn0.gstatic.com/images?q=tbn:ANd9GcQgS-fTwaRYA19XAKMX6c_SBoDzc5ATxXMLdvcNEUAqLlMKrm88ZHdeAnci_gE&s\" style=\"margin: 1px; width: 150px; border: 2px solid #ddd;\"/></div>"
      ],
      "text/plain": [
       "<IPython.core.display.HTML object>"
      ]
     },
     "metadata": {},
     "output_type": "display_data"
    }
   ],
   "source": [
    "ipyplot.plot_images(urls, img_width=150)"
   ]
  },
  {
   "cell_type": "markdown",
   "metadata": {},
   "source": [
    "Okay, let's check that the JSON on DO is the same thing."
   ]
  },
  {
   "cell_type": "code",
   "execution_count": 60,
   "metadata": {},
   "outputs": [],
   "source": [
    "j = requests.get(f'https://firewall-cafe-space.nyc3.digitaloceanspaces.com/{fname}').json()\n",
    "result = [item for item in j if item['english_term'] in terms]\n",
    "urls = []\n",
    "for item in j:\n",
    "    if item['english_term'] == term:\n",
    "        urls += item['urls']"
   ]
  },
  {
   "cell_type": "code",
   "execution_count": 64,
   "metadata": {},
   "outputs": [
    {
     "data": {
      "text/plain": [
       "[]"
      ]
     },
     "execution_count": 64,
     "metadata": {},
     "output_type": "execute_result"
    }
   ],
   "source": [
    "urls"
   ]
  },
  {
   "cell_type": "code",
   "execution_count": 61,
   "metadata": {},
   "outputs": [
    {
     "data": {
      "text/html": [],
      "text/plain": [
       "<IPython.core.display.HTML object>"
      ]
     },
     "metadata": {},
     "output_type": "display_data"
    }
   ],
   "source": [
    "ipyplot.plot_images(urls, img_width=150)"
   ]
  },
  {
   "cell_type": "markdown",
   "metadata": {},
   "source": [
    "Now check that that corresponds to what you get when browsing Google."
   ]
  },
  {
   "cell_type": "markdown",
   "metadata": {},
   "source": [
    "### Checking that the API returns the same images and other metadata\n",
    "\n",
    "Let's check the search object it creates in the database, and see if the image objects associated with it are the same.\n",
    "\n",
    "Again, check the output of the scraper run above. It'll give you the ID of the search object in the database (search for \"search IDs\"). First, let's make sure that the first search ID we grabbed matches the first term that we searched."
   ]
  },
  {
   "cell_type": "code",
   "execution_count": 65,
   "metadata": {},
   "outputs": [
    {
     "data": {
      "text/plain": [
       "<Response [200]>"
      ]
     },
     "execution_count": 65,
     "metadata": {},
     "output_type": "execute_result"
    }
   ],
   "source": [
    "search_id = 8577\n",
    "r = requests.get(\"http://api.firewallcafe.com/searches/search_id/\"+str(search_id))\n",
    "r"
   ]
  },
  {
   "cell_type": "code",
   "execution_count": 66,
   "metadata": {},
   "outputs": [
    {
     "data": {
      "text/plain": [
       "[{'search_id': 8577,\n",
       "  'search_timestamp': '1614211381057',\n",
       "  'search_location': 'automated_scraper',\n",
       "  'search_ip_address': '192.168.0.1',\n",
       "  'search_client_name': 'automated_scraper',\n",
       "  'search_engine_initial': None,\n",
       "  'search_engine_translation': None,\n",
       "  'search_term_initial': 'verner vinge',\n",
       "  'search_term_initial_language_code': 'EN',\n",
       "  'search_term_initial_language_confidence': '1.0',\n",
       "  'search_term_initial_language_alternate_code': None,\n",
       "  'search_term_translation': 'nan',\n",
       "  'search_term_translation_language_code': 'zh-CN',\n",
       "  'search_term_status_banned': False,\n",
       "  'search_term_status_sensitive': False,\n",
       "  'search_schema_initial': None,\n",
       "  'wordpress_search_term_popularity': None,\n",
       "  'wordpress_copyright_takedown': None,\n",
       "  'wordpress_unflattened': None,\n",
       "  'wordpress_regular_post_id': None,\n",
       "  'wordpress_search_result_post_id': None,\n",
       "  'wordpress_search_result_post_slug': None}]"
      ]
     },
     "execution_count": 66,
     "metadata": {},
     "output_type": "execute_result"
    }
   ],
   "source": [
    "j = r.json()\n",
    "j"
   ]
  },
  {
   "cell_type": "markdown",
   "metadata": {},
   "source": [
    "Great. Now we'll request all the images that are associated with the search term."
   ]
  },
  {
   "cell_type": "code",
   "execution_count": 67,
   "metadata": {},
   "outputs": [
    {
     "data": {
      "text/plain": [
       "{'image_id': 577709,\n",
       " 'image_search_engine': 'google',\n",
       " 'image_href': 'https://firewall-cafe-space.nyc3.digitaloceanspaces.com/images/hashed/8c81b7c65c7b087d.jpg',\n",
       " 'image_rank': '1',\n",
       " 'image_mime_type': None,\n",
       " 'wordpress_attachment_post_id': None,\n",
       " 'wordpress_attachment_file_path': None}"
      ]
     },
     "execution_count": 67,
     "metadata": {},
     "output_type": "execute_result"
    }
   ],
   "source": [
    "r = requests.get(\"http://api.firewallcafe.com/images/search_id/\"+str(search_id))\n",
    "j = r.json()\n",
    "j[0]"
   ]
  },
  {
   "cell_type": "code",
   "execution_count": 68,
   "metadata": {},
   "outputs": [],
   "source": [
    "urls = [item['image_href'] for item in j]"
   ]
  },
  {
   "cell_type": "code",
   "execution_count": 69,
   "metadata": {},
   "outputs": [
    {
     "data": {
      "text/html": [
       "<div style=\"display: inline-block; width: 170px; vertical-align: top; text-align: center;\"><h4 style=\"font-size: 12px\">0</h4><h4 style=\"font-size: 9px; padding-left: 10px; padding-right: 10px; width: 90%; word-wrap: break-word; white-space: normal;\">https://firewall-cafe-space.nyc3.digitaloceanspaces.com/images/hashed/8c81b7c65c7b087d.jpg</h4><img src=\"https://firewall-cafe-space.nyc3.digitaloceanspaces.com/images/hashed/8c81b7c65c7b087d.jpg\" style=\"margin: 1px; width: 150px; border: 2px solid #ddd;\"/></div><div style=\"display: inline-block; width: 170px; vertical-align: top; text-align: center;\"><h4 style=\"font-size: 12px\">1</h4><h4 style=\"font-size: 9px; padding-left: 10px; padding-right: 10px; width: 90%; word-wrap: break-word; white-space: normal;\">https://firewall-cafe-space.nyc3.digitaloceanspaces.com/images/hashed/c39aad240ad73cb5.jpg</h4><img src=\"https://firewall-cafe-space.nyc3.digitaloceanspaces.com/images/hashed/c39aad240ad73cb5.jpg\" style=\"margin: 1px; width: 150px; border: 2px solid #ddd;\"/></div><div style=\"display: inline-block; width: 170px; vertical-align: top; text-align: center;\"><h4 style=\"font-size: 12px\">2</h4><h4 style=\"font-size: 9px; padding-left: 10px; padding-right: 10px; width: 90%; word-wrap: break-word; white-space: normal;\">https://firewall-cafe-space.nyc3.digitaloceanspaces.com/images/hashed/abab265c4a66d853.jpg</h4><img src=\"https://firewall-cafe-space.nyc3.digitaloceanspaces.com/images/hashed/abab265c4a66d853.jpg\" style=\"margin: 1px; width: 150px; border: 2px solid #ddd;\"/></div><div style=\"display: inline-block; width: 170px; vertical-align: top; text-align: center;\"><h4 style=\"font-size: 12px\">3</h4><h4 style=\"font-size: 9px; padding-left: 10px; padding-right: 10px; width: 90%; word-wrap: break-word; white-space: normal;\">https://firewall-cafe-space.nyc3.digitaloceanspaces.com/images/hashed/940dbb5a4af35d41.jpg</h4><img src=\"https://firewall-cafe-space.nyc3.digitaloceanspaces.com/images/hashed/940dbb5a4af35d41.jpg\" style=\"margin: 1px; width: 150px; border: 2px solid #ddd;\"/></div><div style=\"display: inline-block; width: 170px; vertical-align: top; text-align: center;\"><h4 style=\"font-size: 12px\">4</h4><h4 style=\"font-size: 9px; padding-left: 10px; padding-right: 10px; width: 90%; word-wrap: break-word; white-space: normal;\">https://firewall-cafe-space.nyc3.digitaloceanspaces.com/images/hashed/8cf35ea65229d14b.jpg</h4><img src=\"https://firewall-cafe-space.nyc3.digitaloceanspaces.com/images/hashed/8cf35ea65229d14b.jpg\" style=\"margin: 1px; width: 150px; border: 2px solid #ddd;\"/></div>"
      ],
      "text/plain": [
       "<IPython.core.display.HTML object>"
      ]
     },
     "metadata": {},
     "output_type": "display_data"
    }
   ],
   "source": [
    "ipyplot.plot_images(urls, img_width=150)"
   ]
  },
  {
   "cell_type": "markdown",
   "metadata": {},
   "source": [
    "We've shown that this is all being handled properly, and the results are showing up accurately."
   ]
  },
  {
   "cell_type": "markdown",
   "metadata": {},
   "source": [
    "## Do API endpoints agree on what images match which search IDs?\n",
    "\n",
    "Search objects are treated as a unit and given an ID. There are also image objects, which have image IDs, the ID of the search they belong to, and the URL of the actual image file. An image *object* can only belong to one search object, though any number of image objects can refer to the same actual file (that means that that particular image has shown up in lots of searches). \n",
    "\n",
    "Let's make sure that a few endpoints that we're using agree on which image objects belong to which searches.\n",
    "\n",
    "`/searches/term` is a way of getting all search objects for a given term. Since it was written for the dataserve, it also returns a compact list of image file URLs instead of all the image object data.\n",
    "\n",
    "`/images/search_id` is a way of getting all that image object data, but you can only return the image object data from one search object at a time.\n",
    "\n",
    "This test starts from a term, and uses the first endpoint to request all search objects for that term. Then it iterates through each search ID, using the second endpoint to request the image object data, comparing the URLs for both."
   ]
  },
  {
   "cell_type": "code",
   "execution_count": 70,
   "metadata": {},
   "outputs": [],
   "source": [
    "term = \"backpacking\""
   ]
  },
  {
   "cell_type": "code",
   "execution_count": 71,
   "metadata": {},
   "outputs": [
    {
     "name": "stdout",
     "output_type": "stream",
     "text": [
      "id     len1  len2   date\n",
      "  120    20    20   2016-02-10 13:56:31\n",
      " 6480   125   125   2021-02-05 17:19:31.396000\n",
      " 6505   125   125   2021-02-05 17:19:33.774000\n",
      " 6757   125   125   2021-02-06 16:40:27.015000\n",
      " 6782   125   125   2021-02-06 16:40:29.382000\n",
      " 7384   125   125   2021-02-07 17:03:31.260000\n",
      " 7409   125   125   2021-02-07 17:03:33.634000\n",
      " 7640   245   245   2021-02-08 16:59:47.226000\n",
      " 7739   245   245   2021-02-08 16:59:47.226000\n",
      " 7913   120   120   2021-02-08 17:57:42.972000\n",
      " 8039   370   370   2021-02-17 13:04:07.246000\n",
      " 8113   370   370   2021-02-17 13:04:08.483000\n",
      " 8291   120   120   2021-02-22 13:37:32.803000\n",
      " 8315   120   120   2021-02-22 13:37:35.589000\n",
      " 8518   120   120   2021-02-23 16:37:22.436000\n",
      " 8542   120   120   2021-02-23 16:37:22.436000\n",
      " 8566   120   120   2021-02-23 16:37:24.596000\n",
      " 8576     5     5   2021-02-24 16:02:42.140000\n"
     ]
    }
   ],
   "source": [
    "r = requests.get(base_url + \"/searches/terms?term=\" + term)\n",
    "j = r.json()\n",
    "\n",
    "first_endpoint = {}\n",
    "second_endpoint = {}\n",
    "print(\"id     len1  len2   date\")\n",
    "for item in j:\n",
    "    first_endpoint[item['search_id']] = item\n",
    "    r = requests.get(base_url + \"/images/search_id/\"+str(item['search_id']))\n",
    "    j = r.json()\n",
    "    second_endpoint[item['search_id']] = j\n",
    "    print(f\"{item['search_id']:5} {len(item['image_hrefs']):5} {len(j):5}   {datetime.fromtimestamp(int(item['search_timestamp'])/1000)}\")"
   ]
  },
  {
   "cell_type": "markdown",
   "metadata": {},
   "source": [
    "The search we just did above shows up with only 5, as expected. However, the one that happened yesterday has 120 photos. This hints at what is possibly the real cuprit for this results soup: each search only receives 5 image results, and the searches are POSTed to the API in batches of 25 (or possibly 24 in some cases).\n",
    "\n",
    "Let's take a look at one of these results soups."
   ]
  },
  {
   "cell_type": "code",
   "execution_count": 75,
   "metadata": {},
   "outputs": [
    {
     "name": "stdout",
     "output_type": "stream",
     "text": [
      "automated_scraper 120 2021-02-23 16:37:24.596000\n"
     ]
    }
   ],
   "source": [
    "search_id = 8566\n",
    "print(first_endpoint[search_id]['search_location'], len(first_endpoint[search_id]['image_hrefs']),\n",
    "      datetime.fromtimestamp(int(first_endpoint[search_id]['search_timestamp'])/1000))"
   ]
  },
  {
   "cell_type": "code",
   "execution_count": 76,
   "metadata": {},
   "outputs": [
    {
     "data": {
      "text/html": [
       "<div style=\"display: inline-block; width: 170px; vertical-align: top; text-align: center;\"><h4 style=\"font-size: 12px\">0</h4><h4 style=\"font-size: 9px; padding-left: 10px; padding-right: 10px; width: 90%; word-wrap: break-word; white-space: normal;\">https://firewall-cafe-space.nyc3.digitaloceanspaces.com/images/hashed/ebbdfc5a8261844a.jpg</h4><img src=\"https://firewall-cafe-space.nyc3.digitaloceanspaces.com/images/hashed/ebbdfc5a8261844a.jpg\" style=\"margin: 1px; width: 150px; border: 2px solid #ddd;\"/></div><div style=\"display: inline-block; width: 170px; vertical-align: top; text-align: center;\"><h4 style=\"font-size: 12px\">1</h4><h4 style=\"font-size: 9px; padding-left: 10px; padding-right: 10px; width: 90%; word-wrap: break-word; white-space: normal;\">https://firewall-cafe-space.nyc3.digitaloceanspaces.com/images/hashed/95a94ed570c2b17a.jpg</h4><img src=\"https://firewall-cafe-space.nyc3.digitaloceanspaces.com/images/hashed/95a94ed570c2b17a.jpg\" style=\"margin: 1px; width: 150px; border: 2px solid #ddd;\"/></div><div style=\"display: inline-block; width: 170px; vertical-align: top; text-align: center;\"><h4 style=\"font-size: 12px\">2</h4><h4 style=\"font-size: 9px; padding-left: 10px; padding-right: 10px; width: 90%; word-wrap: break-word; white-space: normal;\">https://firewall-cafe-space.nyc3.digitaloceanspaces.com/images/hashed/ea6d2569999691b2.jpg</h4><img src=\"https://firewall-cafe-space.nyc3.digitaloceanspaces.com/images/hashed/ea6d2569999691b2.jpg\" style=\"margin: 1px; width: 150px; border: 2px solid #ddd;\"/></div><div style=\"display: inline-block; width: 170px; vertical-align: top; text-align: center;\"><h4 style=\"font-size: 12px\">3</h4><h4 style=\"font-size: 9px; padding-left: 10px; padding-right: 10px; width: 90%; word-wrap: break-word; white-space: normal;\">https://firewall-cafe-space.nyc3.digitaloceanspaces.com/images/hashed/8000000000000000.gif</h4><img src=\"https://firewall-cafe-space.nyc3.digitaloceanspaces.com/images/hashed/8000000000000000.gif\" style=\"margin: 1px; width: 150px; border: 2px solid #ddd;\"/></div><div style=\"display: inline-block; width: 170px; vertical-align: top; text-align: center;\"><h4 style=\"font-size: 12px\">4</h4><h4 style=\"font-size: 9px; padding-left: 10px; padding-right: 10px; width: 90%; word-wrap: break-word; white-space: normal;\">https://firewall-cafe-space.nyc3.digitaloceanspaces.com/images/hashed/c0709a4cf3cb3d2e.jpg</h4><img src=\"https://firewall-cafe-space.nyc3.digitaloceanspaces.com/images/hashed/c0709a4cf3cb3d2e.jpg\" style=\"margin: 1px; width: 150px; border: 2px solid #ddd;\"/></div><div style=\"display: inline-block; width: 170px; vertical-align: top; text-align: center;\"><h4 style=\"font-size: 12px\">5</h4><h4 style=\"font-size: 9px; padding-left: 10px; padding-right: 10px; width: 90%; word-wrap: break-word; white-space: normal;\">https://firewall-cafe-space.nyc3.digitaloceanspaces.com/images/hashed/9ae98765a19e9549.jpg</h4><img src=\"https://firewall-cafe-space.nyc3.digitaloceanspaces.com/images/hashed/9ae98765a19e9549.jpg\" style=\"margin: 1px; width: 150px; border: 2px solid #ddd;\"/></div><div style=\"display: inline-block; width: 170px; vertical-align: top; text-align: center;\"><h4 style=\"font-size: 12px\">6</h4><h4 style=\"font-size: 9px; padding-left: 10px; padding-right: 10px; width: 90%; word-wrap: break-word; white-space: normal;\">https://firewall-cafe-space.nyc3.digitaloceanspaces.com/images/hashed/b31faebc585120ea.jpg</h4><img src=\"https://firewall-cafe-space.nyc3.digitaloceanspaces.com/images/hashed/b31faebc585120ea.jpg\" style=\"margin: 1px; width: 150px; border: 2px solid #ddd;\"/></div><div style=\"display: inline-block; width: 170px; vertical-align: top; text-align: center;\"><h4 style=\"font-size: 12px\">7</h4><h4 style=\"font-size: 9px; padding-left: 10px; padding-right: 10px; width: 90%; word-wrap: break-word; white-space: normal;\">https://firewall-cafe-space.nyc3.digitaloceanspaces.com/images/hashed/e5cc9a31cdc664cc.jpg</h4><img src=\"https://firewall-cafe-space.nyc3.digitaloceanspaces.com/images/hashed/e5cc9a31cdc664cc.jpg\" style=\"margin: 1px; width: 150px; border: 2px solid #ddd;\"/></div><div style=\"display: inline-block; width: 170px; vertical-align: top; text-align: center;\"><h4 style=\"font-size: 12px\">8</h4><h4 style=\"font-size: 9px; padding-left: 10px; padding-right: 10px; width: 90%; word-wrap: break-word; white-space: normal;\">https://firewall-cafe-space.nyc3.digitaloceanspaces.com/images/hashed/d6ee3e4e9a101dc1.jpg</h4><img src=\"https://firewall-cafe-space.nyc3.digitaloceanspaces.com/images/hashed/d6ee3e4e9a101dc1.jpg\" style=\"margin: 1px; width: 150px; border: 2px solid #ddd;\"/></div><div style=\"display: inline-block; width: 170px; vertical-align: top; text-align: center;\"><h4 style=\"font-size: 12px\">9</h4><h4 style=\"font-size: 9px; padding-left: 10px; padding-right: 10px; width: 90%; word-wrap: break-word; white-space: normal;\">https://firewall-cafe-space.nyc3.digitaloceanspaces.com/images/hashed/eaf885a5f303780d.jpg</h4><img src=\"https://firewall-cafe-space.nyc3.digitaloceanspaces.com/images/hashed/eaf885a5f303780d.jpg\" style=\"margin: 1px; width: 150px; border: 2px solid #ddd;\"/></div>"
      ],
      "text/plain": [
       "<IPython.core.display.HTML object>"
      ]
     },
     "metadata": {},
     "output_type": "display_data"
    }
   ],
   "source": [
    "ipyplot.plot_images(first_endpoint[search_id]['image_hrefs'][:10], img_width=150)"
   ]
  },
  {
   "cell_type": "code",
   "execution_count": 77,
   "metadata": {},
   "outputs": [
    {
     "data": {
      "text/html": [
       "<div style=\"display: inline-block; width: 170px; vertical-align: top; text-align: center;\"><h4 style=\"font-size: 12px\">0</h4><h4 style=\"font-size: 9px; padding-left: 10px; padding-right: 10px; width: 90%; word-wrap: break-word; white-space: normal;\">https://firewall-cafe-space.nyc3.digitaloceanspaces.com/images/hashed/e92596ca979a619a.jpg</h4><img src=\"https://firewall-cafe-space.nyc3.digitaloceanspaces.com/images/hashed/e92596ca979a619a.jpg\" style=\"margin: 1px; width: 150px; border: 2px solid #ddd;\"/></div><div style=\"display: inline-block; width: 170px; vertical-align: top; text-align: center;\"><h4 style=\"font-size: 12px\">1</h4><h4 style=\"font-size: 9px; padding-left: 10px; padding-right: 10px; width: 90%; word-wrap: break-word; white-space: normal;\">https://firewall-cafe-space.nyc3.digitaloceanspaces.com/images/hashed/8000000000000000.gif</h4><img src=\"https://firewall-cafe-space.nyc3.digitaloceanspaces.com/images/hashed/8000000000000000.gif\" style=\"margin: 1px; width: 150px; border: 2px solid #ddd;\"/></div><div style=\"display: inline-block; width: 170px; vertical-align: top; text-align: center;\"><h4 style=\"font-size: 12px\">2</h4><h4 style=\"font-size: 9px; padding-left: 10px; padding-right: 10px; width: 90%; word-wrap: break-word; white-space: normal;\">https://firewall-cafe-space.nyc3.digitaloceanspaces.com/images/hashed/cf4ae0eccbe08933.jpg</h4><img src=\"https://firewall-cafe-space.nyc3.digitaloceanspaces.com/images/hashed/cf4ae0eccbe08933.jpg\" style=\"margin: 1px; width: 150px; border: 2px solid #ddd;\"/></div><div style=\"display: inline-block; width: 170px; vertical-align: top; text-align: center;\"><h4 style=\"font-size: 12px\">3</h4><h4 style=\"font-size: 9px; padding-left: 10px; padding-right: 10px; width: 90%; word-wrap: break-word; white-space: normal;\">https://firewall-cafe-space.nyc3.digitaloceanspaces.com/images/hashed/d9188095beeaf0ea.jpg</h4><img src=\"https://firewall-cafe-space.nyc3.digitaloceanspaces.com/images/hashed/d9188095beeaf0ea.jpg\" style=\"margin: 1px; width: 150px; border: 2px solid #ddd;\"/></div><div style=\"display: inline-block; width: 170px; vertical-align: top; text-align: center;\"><h4 style=\"font-size: 12px\">4</h4><h4 style=\"font-size: 9px; padding-left: 10px; padding-right: 10px; width: 90%; word-wrap: break-word; white-space: normal;\">https://firewall-cafe-space.nyc3.digitaloceanspaces.com/images/hashed/87b93996166cc6b1.jpg</h4><img src=\"https://firewall-cafe-space.nyc3.digitaloceanspaces.com/images/hashed/87b93996166cc6b1.jpg\" style=\"margin: 1px; width: 150px; border: 2px solid #ddd;\"/></div><div style=\"display: inline-block; width: 170px; vertical-align: top; text-align: center;\"><h4 style=\"font-size: 12px\">5</h4><h4 style=\"font-size: 9px; padding-left: 10px; padding-right: 10px; width: 90%; word-wrap: break-word; white-space: normal;\">https://firewall-cafe-space.nyc3.digitaloceanspaces.com/images/hashed/bf9599cac64c44c5.jpg</h4><img src=\"https://firewall-cafe-space.nyc3.digitaloceanspaces.com/images/hashed/bf9599cac64c44c5.jpg\" style=\"margin: 1px; width: 150px; border: 2px solid #ddd;\"/></div><div style=\"display: inline-block; width: 170px; vertical-align: top; text-align: center;\"><h4 style=\"font-size: 12px\">6</h4><h4 style=\"font-size: 9px; padding-left: 10px; padding-right: 10px; width: 90%; word-wrap: break-word; white-space: normal;\">https://firewall-cafe-space.nyc3.digitaloceanspaces.com/images/hashed/afd0d502d43b2af4.jpg</h4><img src=\"https://firewall-cafe-space.nyc3.digitaloceanspaces.com/images/hashed/afd0d502d43b2af4.jpg\" style=\"margin: 1px; width: 150px; border: 2px solid #ddd;\"/></div><div style=\"display: inline-block; width: 170px; vertical-align: top; text-align: center;\"><h4 style=\"font-size: 12px\">7</h4><h4 style=\"font-size: 9px; padding-left: 10px; padding-right: 10px; width: 90%; word-wrap: break-word; white-space: normal;\">https://firewall-cafe-space.nyc3.digitaloceanspaces.com/images/hashed/bcb638699649874b.jpg</h4><img src=\"https://firewall-cafe-space.nyc3.digitaloceanspaces.com/images/hashed/bcb638699649874b.jpg\" style=\"margin: 1px; width: 150px; border: 2px solid #ddd;\"/></div><div style=\"display: inline-block; width: 170px; vertical-align: top; text-align: center;\"><h4 style=\"font-size: 12px\">8</h4><h4 style=\"font-size: 9px; padding-left: 10px; padding-right: 10px; width: 90%; word-wrap: break-word; white-space: normal;\">https://firewall-cafe-space.nyc3.digitaloceanspaces.com/images/hashed/8000000000000000.gif</h4><img src=\"https://firewall-cafe-space.nyc3.digitaloceanspaces.com/images/hashed/8000000000000000.gif\" style=\"margin: 1px; width: 150px; border: 2px solid #ddd;\"/></div><div style=\"display: inline-block; width: 170px; vertical-align: top; text-align: center;\"><h4 style=\"font-size: 12px\">9</h4><h4 style=\"font-size: 9px; padding-left: 10px; padding-right: 10px; width: 90%; word-wrap: break-word; white-space: normal;\">https://firewall-cafe-space.nyc3.digitaloceanspaces.com/images/hashed/8000000000000000.gif</h4><img src=\"https://firewall-cafe-space.nyc3.digitaloceanspaces.com/images/hashed/8000000000000000.gif\" style=\"margin: 1px; width: 150px; border: 2px solid #ddd;\"/></div>"
      ],
      "text/plain": [
       "<IPython.core.display.HTML object>"
      ]
     },
     "metadata": {},
     "output_type": "display_data"
    }
   ],
   "source": [
    "urls = [item['image_href'] for item in second_endpoint[search_id]]\n",
    "ipyplot.plot_images(urls[:10], img_width=150)"
   ]
  },
  {
   "cell_type": "markdown",
   "metadata": {},
   "source": [
    "For this term, we can see that both endpoints agree that these are the images in the database. Let's look at one more thing before we move on. The ranks should always be 1-5, are they?"
   ]
  },
  {
   "cell_type": "code",
   "execution_count": 83,
   "metadata": {},
   "outputs": [
    {
     "data": {
      "text/plain": [
       "'1, 10, 100, 101, 102, 103, 104, 105, 106, 107, 108, 109, 11, 110, 111, 112, 113, 114, 115, 116, 117, 118, 119, 12, 120, 13, 14, 15, 16, 17, 18, 19, 2, 20, 21, 22, 23, 24, 25, 26, 27, 28, 29, 3, 30, 31, 32, 33, 34, 35, 36, 37, 38, 39, 4, 40, 41, 42, 43, 44, 45, 46, 47, 48, 49, 5, 50, 51, 52, 53, 54, 55, 56, 57, 58, 59, 6, 60, 61, 62, 63, 64, 65, 66, 67, 68, 69, 7, 70, 71, 72, 73, 74, 75, 76, 77, 78, 79, 8, 80, 81, 82, 83, 84, 85, 86, 87, 88, 89, 9, 90, 91, 92, 93, 94, 95, 96, 97, 98, 99'"
      ]
     },
     "execution_count": 83,
     "metadata": {},
     "output_type": "execute_result"
    }
   ],
   "source": [
    "', '.join(sorted([item['image_rank'] for item in second_endpoint[search_id]]))"
   ]
  },
  {
   "cell_type": "markdown",
   "metadata": {},
   "source": [
    "It appears that the scraper is incorrectly lumping the image results from a number of searches into one search object on the DB side."
   ]
  },
  {
   "cell_type": "code",
   "execution_count": 93,
   "metadata": {},
   "outputs": [
    {
     "data": {
      "text/html": [
       "<div style=\"display: inline-block; width: 170px; vertical-align: top; text-align: center;\"><h4 style=\"font-size: 12px\">0</h4><h4 style=\"font-size: 9px; padding-left: 10px; padding-right: 10px; width: 90%; word-wrap: break-word; white-space: normal;\">https://firewall-cafe-space.nyc3.digitaloceanspaces.com/images/hashed/e2978e589365d932.jpg</h4><img src=\"https://firewall-cafe-space.nyc3.digitaloceanspaces.com/images/hashed/e2978e589365d932.jpg\" style=\"margin: 1px; width: 150px; border: 2px solid #ddd;\"/></div><div style=\"display: inline-block; width: 170px; vertical-align: top; text-align: center;\"><h4 style=\"font-size: 12px\">1</h4><h4 style=\"font-size: 9px; padding-left: 10px; padding-right: 10px; width: 90%; word-wrap: break-word; white-space: normal;\">https://firewall-cafe-space.nyc3.digitaloceanspaces.com/images/hashed/cc3911b220eb59bf.jpg</h4><img src=\"https://firewall-cafe-space.nyc3.digitaloceanspaces.com/images/hashed/cc3911b220eb59bf.jpg\" style=\"margin: 1px; width: 150px; border: 2px solid #ddd;\"/></div><div style=\"display: inline-block; width: 170px; vertical-align: top; text-align: center;\"><h4 style=\"font-size: 12px\">2</h4><h4 style=\"font-size: 9px; padding-left: 10px; padding-right: 10px; width: 90%; word-wrap: break-word; white-space: normal;\">https://firewall-cafe-space.nyc3.digitaloceanspaces.com/images/hashed/ebe3941dc494633a.jpg</h4><img src=\"https://firewall-cafe-space.nyc3.digitaloceanspaces.com/images/hashed/ebe3941dc494633a.jpg\" style=\"margin: 1px; width: 150px; border: 2px solid #ddd;\"/></div><div style=\"display: inline-block; width: 170px; vertical-align: top; text-align: center;\"><h4 style=\"font-size: 12px\">3</h4><h4 style=\"font-size: 9px; padding-left: 10px; padding-right: 10px; width: 90%; word-wrap: break-word; white-space: normal;\">https://firewall-cafe-space.nyc3.digitaloceanspaces.com/images/hashed/d1ca1ebd4dd42525.jpg</h4><img src=\"https://firewall-cafe-space.nyc3.digitaloceanspaces.com/images/hashed/d1ca1ebd4dd42525.jpg\" style=\"margin: 1px; width: 150px; border: 2px solid #ddd;\"/></div><div style=\"display: inline-block; width: 170px; vertical-align: top; text-align: center;\"><h4 style=\"font-size: 12px\">4</h4><h4 style=\"font-size: 9px; padding-left: 10px; padding-right: 10px; width: 90%; word-wrap: break-word; white-space: normal;\">https://firewall-cafe-space.nyc3.digitaloceanspaces.com/images/hashed/d16e2f910f523479.jpg</h4><img src=\"https://firewall-cafe-space.nyc3.digitaloceanspaces.com/images/hashed/d16e2f910f523479.jpg\" style=\"margin: 1px; width: 150px; border: 2px solid #ddd;\"/></div>"
      ],
      "text/plain": [
       "<IPython.core.display.HTML object>"
      ]
     },
     "metadata": {},
     "output_type": "display_data"
    }
   ],
   "source": [
    "# given a search id, print out the images\n",
    "search_id = 8821\n",
    "urls = [item['image_href'] for item in requests.get(base_url + \"/images/search_id/\"+str(search_id)).json()]\n",
    "ipyplot.plot_images(urls[:10], img_width=150)"
   ]
  },
  {
   "cell_type": "markdown",
   "metadata": {},
   "source": [
    "## Issue: mismatch of search archive and dataserve?"
   ]
  }
 ],
 "metadata": {
  "kernelspec": {
   "display_name": "Python 3",
   "language": "python",
   "name": "python3"
  },
  "language_info": {
   "codemirror_mode": {
    "name": "ipython",
    "version": 3
   },
   "file_extension": ".py",
   "mimetype": "text/x-python",
   "name": "python",
   "nbconvert_exporter": "python",
   "pygments_lexer": "ipython3",
   "version": "3.8.3"
  }
 },
 "nbformat": 4,
 "nbformat_minor": 4
}
