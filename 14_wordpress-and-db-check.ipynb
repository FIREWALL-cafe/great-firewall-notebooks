{
 "cells": [
  {
   "cell_type": "code",
   "execution_count": 1,
   "metadata": {},
   "outputs": [],
   "source": [
    "from bs4 import BeautifulSoup\n",
    "from datetime import datetime\n",
    "import dateutil\n",
    "import ipyplot\n",
    "import json\n",
    "import requests\n",
    "import time\n",
    "api_base = 'http://api.firewallcafe.com'"
   ]
  },
  {
   "cell_type": "code",
   "execution_count": 2,
   "metadata": {},
   "outputs": [],
   "source": [
    "r = requests.get('https://firewallcafe.com/wp-json/wp/v2/search-result?per_page=25&page=1')"
   ]
  },
  {
   "cell_type": "code",
   "execution_count": 3,
   "metadata": {},
   "outputs": [],
   "source": [
    "wp = r.json()"
   ]
  },
  {
   "cell_type": "code",
   "execution_count": 4,
   "metadata": {},
   "outputs": [
    {
     "data": {
      "text/plain": [
       "'coronavirus-1582773676'"
      ]
     },
     "execution_count": 4,
     "metadata": {},
     "output_type": "execute_result"
    }
   ],
   "source": [
    "wp[0]['slug']"
   ]
  },
  {
   "cell_type": "code",
   "execution_count": 5,
   "metadata": {},
   "outputs": [
    {
     "data": {
      "text/html": [
       "<div style=\"display: inline-block; width: 170px; vertical-align: top; text-align: center;\"><h4 style=\"font-size: 12px\">0</h4><h4 style=\"font-size: 9px; padding-left: 10px; padding-right: 10px; width: 90%; word-wrap: break-word; white-space: normal;\">https://firewallcafe.com/wp-content/uploads/2020/02/26/282427/google-1582773676-01.jpg</h4><img src=\"https://firewallcafe.com/wp-content/uploads/2020/02/26/282427/google-1582773676-01.jpg\" style=\"margin: 1px; width: 150px; border: 2px solid #ddd;\"/></div><div style=\"display: inline-block; width: 170px; vertical-align: top; text-align: center;\"><h4 style=\"font-size: 12px\">1</h4><h4 style=\"font-size: 9px; padding-left: 10px; padding-right: 10px; width: 90%; word-wrap: break-word; white-space: normal;\">https://firewallcafe.com/wp-content/uploads/2020/02/26/282427/google-1582773676-02.jpg</h4><img src=\"https://firewallcafe.com/wp-content/uploads/2020/02/26/282427/google-1582773676-02.jpg\" style=\"margin: 1px; width: 150px; border: 2px solid #ddd;\"/></div><div style=\"display: inline-block; width: 170px; vertical-align: top; text-align: center;\"><h4 style=\"font-size: 12px\">2</h4><h4 style=\"font-size: 9px; padding-left: 10px; padding-right: 10px; width: 90%; word-wrap: break-word; white-space: normal;\">https://firewallcafe.com/wp-content/uploads/2020/02/26/282427/google-1582773676-03.jpg</h4><img src=\"https://firewallcafe.com/wp-content/uploads/2020/02/26/282427/google-1582773676-03.jpg\" style=\"margin: 1px; width: 150px; border: 2px solid #ddd;\"/></div><div style=\"display: inline-block; width: 170px; vertical-align: top; text-align: center;\"><h4 style=\"font-size: 12px\">3</h4><h4 style=\"font-size: 9px; padding-left: 10px; padding-right: 10px; width: 90%; word-wrap: break-word; white-space: normal;\">https://firewallcafe.com/wp-content/uploads/2020/02/26/282427/google-1582773676-04-220x220.jpg</h4><img src=\"https://firewallcafe.com/wp-content/uploads/2020/02/26/282427/google-1582773676-04-220x220.jpg\" style=\"margin: 1px; width: 150px; border: 2px solid #ddd;\"/></div><div style=\"display: inline-block; width: 170px; vertical-align: top; text-align: center;\"><h4 style=\"font-size: 12px\">4</h4><h4 style=\"font-size: 9px; padding-left: 10px; padding-right: 10px; width: 90%; word-wrap: break-word; white-space: normal;\">https://firewallcafe.com/wp-content/uploads/2020/02/26/282427/google-1582773676-05.jpg</h4><img src=\"https://firewallcafe.com/wp-content/uploads/2020/02/26/282427/google-1582773676-05.jpg\" style=\"margin: 1px; width: 150px; border: 2px solid #ddd;\"/></div><div style=\"display: inline-block; width: 170px; vertical-align: top; text-align: center;\"><h4 style=\"font-size: 12px\">5</h4><h4 style=\"font-size: 9px; padding-left: 10px; padding-right: 10px; width: 90%; word-wrap: break-word; white-space: normal;\">https://firewallcafe.com/wp-content/uploads/2020/02/26/282427/google-1582773676-06.jpg</h4><img src=\"https://firewallcafe.com/wp-content/uploads/2020/02/26/282427/google-1582773676-06.jpg\" style=\"margin: 1px; width: 150px; border: 2px solid #ddd;\"/></div><div style=\"display: inline-block; width: 170px; vertical-align: top; text-align: center;\"><h4 style=\"font-size: 12px\">6</h4><h4 style=\"font-size: 9px; padding-left: 10px; padding-right: 10px; width: 90%; word-wrap: break-word; white-space: normal;\">https://firewallcafe.com/wp-content/uploads/2020/02/26/282427/google-1582773676-07-194x220.jpg</h4><img src=\"https://firewallcafe.com/wp-content/uploads/2020/02/26/282427/google-1582773676-07-194x220.jpg\" style=\"margin: 1px; width: 150px; border: 2px solid #ddd;\"/></div><div style=\"display: inline-block; width: 170px; vertical-align: top; text-align: center;\"><h4 style=\"font-size: 12px\">7</h4><h4 style=\"font-size: 9px; padding-left: 10px; padding-right: 10px; width: 90%; word-wrap: break-word; white-space: normal;\">https://firewallcafe.com/wp-content/uploads/2020/02/26/282427/google-1582773676-08.jpg</h4><img src=\"https://firewallcafe.com/wp-content/uploads/2020/02/26/282427/google-1582773676-08.jpg\" style=\"margin: 1px; width: 150px; border: 2px solid #ddd;\"/></div><div style=\"display: inline-block; width: 170px; vertical-align: top; text-align: center;\"><h4 style=\"font-size: 12px\">8</h4><h4 style=\"font-size: 9px; padding-left: 10px; padding-right: 10px; width: 90%; word-wrap: break-word; white-space: normal;\">https://firewallcafe.com/wp-content/uploads/2020/02/26/282427/google-1582773676-09.jpg</h4><img src=\"https://firewallcafe.com/wp-content/uploads/2020/02/26/282427/google-1582773676-09.jpg\" style=\"margin: 1px; width: 150px; border: 2px solid #ddd;\"/></div><div style=\"display: inline-block; width: 170px; vertical-align: top; text-align: center;\"><h4 style=\"font-size: 12px\">9</h4><h4 style=\"font-size: 9px; padding-left: 10px; padding-right: 10px; width: 90%; word-wrap: break-word; white-space: normal;\">https://firewallcafe.com/wp-content/uploads/2020/02/26/282427/google-1582773676-10.jpg</h4><img src=\"https://firewallcafe.com/wp-content/uploads/2020/02/26/282427/google-1582773676-10.jpg\" style=\"margin: 1px; width: 150px; border: 2px solid #ddd;\"/></div><div style=\"display: inline-block; width: 170px; vertical-align: top; text-align: center;\"><h4 style=\"font-size: 12px\">10</h4><h4 style=\"font-size: 9px; padding-left: 10px; padding-right: 10px; width: 90%; word-wrap: break-word; white-space: normal;\">https://firewallcafe.com/wp-content/uploads/2020/02/26/282427/google-1582773676-11.png</h4><img src=\"https://firewallcafe.com/wp-content/uploads/2020/02/26/282427/google-1582773676-11.png\" style=\"margin: 1px; width: 150px; border: 2px solid #ddd;\"/></div><div style=\"display: inline-block; width: 170px; vertical-align: top; text-align: center;\"><h4 style=\"font-size: 12px\">11</h4><h4 style=\"font-size: 9px; padding-left: 10px; padding-right: 10px; width: 90%; word-wrap: break-word; white-space: normal;\">https://firewallcafe.com/wp-content/uploads/2020/02/26/282427/google-1582773676-12.jpg</h4><img src=\"https://firewallcafe.com/wp-content/uploads/2020/02/26/282427/google-1582773676-12.jpg\" style=\"margin: 1px; width: 150px; border: 2px solid #ddd;\"/></div><div style=\"display: inline-block; width: 170px; vertical-align: top; text-align: center;\"><h4 style=\"font-size: 12px\">12</h4><h4 style=\"font-size: 9px; padding-left: 10px; padding-right: 10px; width: 90%; word-wrap: break-word; white-space: normal;\">https://firewallcafe.com/wp-content/uploads/2020/02/26/282427/google-1582773676-13.jpg</h4><img src=\"https://firewallcafe.com/wp-content/uploads/2020/02/26/282427/google-1582773676-13.jpg\" style=\"margin: 1px; width: 150px; border: 2px solid #ddd;\"/></div><div style=\"display: inline-block; width: 170px; vertical-align: top; text-align: center;\"><h4 style=\"font-size: 12px\">13</h4><h4 style=\"font-size: 9px; padding-left: 10px; padding-right: 10px; width: 90%; word-wrap: break-word; white-space: normal;\">https://firewallcafe.com/wp-content/uploads/2020/02/26/282427/google-1582773676-14.jpg</h4><img src=\"https://firewallcafe.com/wp-content/uploads/2020/02/26/282427/google-1582773676-14.jpg\" style=\"margin: 1px; width: 150px; border: 2px solid #ddd;\"/></div><div style=\"display: inline-block; width: 170px; vertical-align: top; text-align: center;\"><h4 style=\"font-size: 12px\">14</h4><h4 style=\"font-size: 9px; padding-left: 10px; padding-right: 10px; width: 90%; word-wrap: break-word; white-space: normal;\">https://firewallcafe.com/wp-content/uploads/2020/02/26/282427/google-1582773676-15.jpg</h4><img src=\"https://firewallcafe.com/wp-content/uploads/2020/02/26/282427/google-1582773676-15.jpg\" style=\"margin: 1px; width: 150px; border: 2px solid #ddd;\"/></div><div style=\"display: inline-block; width: 170px; vertical-align: top; text-align: center;\"><h4 style=\"font-size: 12px\">15</h4><h4 style=\"font-size: 9px; padding-left: 10px; padding-right: 10px; width: 90%; word-wrap: break-word; white-space: normal;\">https://firewallcafe.com/wp-content/uploads/2020/02/26/282427/google-1582773676-16.jpg</h4><img src=\"https://firewallcafe.com/wp-content/uploads/2020/02/26/282427/google-1582773676-16.jpg\" style=\"margin: 1px; width: 150px; border: 2px solid #ddd;\"/></div><div style=\"display: inline-block; width: 170px; vertical-align: top; text-align: center;\"><h4 style=\"font-size: 12px\">16</h4><h4 style=\"font-size: 9px; padding-left: 10px; padding-right: 10px; width: 90%; word-wrap: break-word; white-space: normal;\">https://firewallcafe.com/wp-content/uploads/2020/02/26/282427/google-1582773676-17.jpg</h4><img src=\"https://firewallcafe.com/wp-content/uploads/2020/02/26/282427/google-1582773676-17.jpg\" style=\"margin: 1px; width: 150px; border: 2px solid #ddd;\"/></div><div style=\"display: inline-block; width: 170px; vertical-align: top; text-align: center;\"><h4 style=\"font-size: 12px\">17</h4><h4 style=\"font-size: 9px; padding-left: 10px; padding-right: 10px; width: 90%; word-wrap: break-word; white-space: normal;\">https://firewallcafe.com/wp-content/uploads/2020/02/26/282427/google-1582773676-18.png</h4><img src=\"https://firewallcafe.com/wp-content/uploads/2020/02/26/282427/google-1582773676-18.png\" style=\"margin: 1px; width: 150px; border: 2px solid #ddd;\"/></div><div style=\"display: inline-block; width: 170px; vertical-align: top; text-align: center;\"><h4 style=\"font-size: 12px\">18</h4><h4 style=\"font-size: 9px; padding-left: 10px; padding-right: 10px; width: 90%; word-wrap: break-word; white-space: normal;\">https://firewallcafe.com/wp-content/uploads/2020/02/26/282427/google-1582773676-19.jpg</h4><img src=\"https://firewallcafe.com/wp-content/uploads/2020/02/26/282427/google-1582773676-19.jpg\" style=\"margin: 1px; width: 150px; border: 2px solid #ddd;\"/></div><div style=\"display: inline-block; width: 170px; vertical-align: top; text-align: center;\"><h4 style=\"font-size: 12px\">19</h4><h4 style=\"font-size: 9px; padding-left: 10px; padding-right: 10px; width: 90%; word-wrap: break-word; white-space: normal;\">https://firewallcafe.com/wp-content/uploads/2020/02/26/282427/google-1582773676-20.jpg</h4><img src=\"https://firewallcafe.com/wp-content/uploads/2020/02/26/282427/google-1582773676-20.jpg\" style=\"margin: 1px; width: 150px; border: 2px solid #ddd;\"/></div>"
      ],
      "text/plain": [
       "<IPython.core.display.HTML object>"
      ]
     },
     "metadata": {},
     "output_type": "display_data"
    }
   ],
   "source": [
    "ipyplot.plot_images(wp[0]['galleries'][0]['src'], img_width=150)"
   ]
  },
  {
   "cell_type": "code",
   "execution_count": 6,
   "metadata": {},
   "outputs": [
    {
     "data": {
      "text/plain": [
       "'2020-02-27T03:21:16'"
      ]
     },
     "execution_count": 6,
     "metadata": {},
     "output_type": "execute_result"
    }
   ],
   "source": [
    "wp[0]['date']"
   ]
  },
  {
   "cell_type": "code",
   "execution_count": 7,
   "metadata": {},
   "outputs": [
    {
     "data": {
      "text/plain": [
       "datetime.datetime(2020, 2, 27, 3, 21, 16)"
      ]
     },
     "execution_count": 7,
     "metadata": {},
     "output_type": "execute_result"
    }
   ],
   "source": [
    "dateutil.parser.parse(wp[0]['date'])"
   ]
  },
  {
   "cell_type": "markdown",
   "metadata": {},
   "source": [
    "Since there isn't an API endpoint to get searches by Wordpress ID, let's just scoop up all the searches first. "
   ]
  },
  {
   "cell_type": "code",
   "execution_count": 8,
   "metadata": {},
   "outputs": [
    {
     "name": "stdout",
     "output_type": "stream",
     "text": [
      "0 5.2 seconds\n",
      "1 3.5 seconds\n",
      "2 3.4 seconds\n",
      "3 4.0 seconds\n",
      "4 3.4 seconds\n",
      "5 3.4 seconds\n",
      "6 3.4 seconds\n",
      "7 3.4 seconds\n",
      "8 2.3 seconds\n",
      "9 0.4 seconds\n"
     ]
    }
   ],
   "source": [
    "searches = []\n",
    "ts = time.time()\n",
    "for i in range(10):\n",
    "    j = requests.get(api_base + f\"/searches?page={i}&page_size=1000\").json()\n",
    "    searches += j\n",
    "    print(i, round(time.time()-ts,1), \"seconds\")\n",
    "    ts = time.time()"
   ]
  },
  {
   "cell_type": "code",
   "execution_count": 9,
   "metadata": {},
   "outputs": [],
   "source": [
    "with open('all_searches.json', 'w') as f:\n",
    "    f.write(json.dumps(searches))"
   ]
  },
  {
   "cell_type": "code",
   "execution_count": 10,
   "metadata": {},
   "outputs": [
    {
     "data": {
      "text/plain": [
       "{'search_id': 10060,\n",
       " 'search_timestamp': '1614731797243',\n",
       " 'search_location': 'automated_scraper',\n",
       " 'search_ip_address': '192.168.0.1',\n",
       " 'search_client_name': 'automated_scraper',\n",
       " 'search_engine_initial': None,\n",
       " 'search_engine_translation': None,\n",
       " 'search_term_initial': 'clubbing',\n",
       " 'search_term_initial_language_code': 'EN',\n",
       " 'search_term_initial_language_confidence': '1.0',\n",
       " 'search_term_initial_language_alternate_code': None,\n",
       " 'search_term_translation': '泡吧',\n",
       " 'search_term_translation_language_code': 'zh-CN',\n",
       " 'search_term_status_banned': False,\n",
       " 'search_term_status_sensitive': False,\n",
       " 'search_schema_initial': None,\n",
       " 'wordpress_search_term_popularity': None,\n",
       " 'wordpress_copyright_takedown': None,\n",
       " 'wordpress_unflattened': None,\n",
       " 'wordpress_regular_post_id': None,\n",
       " 'wordpress_search_result_post_id': None,\n",
       " 'wordpress_search_result_post_slug': None}"
      ]
     },
     "execution_count": 10,
     "metadata": {},
     "output_type": "execute_result"
    }
   ],
   "source": [
    "searches[0]"
   ]
  },
  {
   "cell_type": "code",
   "execution_count": 11,
   "metadata": {},
   "outputs": [],
   "source": [
    "wp_ids = set([search['wordpress_regular_post_id'] for search in searches])\n",
    "wp_ids2 = set([search['wordpress_search_result_post_id'] for search in searches])"
   ]
  },
  {
   "cell_type": "code",
   "execution_count": 12,
   "metadata": {},
   "outputs": [
    {
     "data": {
      "text/plain": [
       "282427"
      ]
     },
     "execution_count": 12,
     "metadata": {},
     "output_type": "execute_result"
    }
   ],
   "source": [
    "wp[0]['id']"
   ]
  },
  {
   "cell_type": "code",
   "execution_count": 13,
   "metadata": {},
   "outputs": [
    {
     "data": {
      "text/plain": [
       "True"
      ]
     },
     "execution_count": 13,
     "metadata": {},
     "output_type": "execute_result"
    }
   ],
   "source": [
    "wp[0]['id'] in wp_ids2"
   ]
  },
  {
   "cell_type": "code",
   "execution_count": 14,
   "metadata": {},
   "outputs": [
    {
     "data": {
      "text/plain": [
       "set()"
      ]
     },
     "execution_count": 14,
     "metadata": {},
     "output_type": "execute_result"
    }
   ],
   "source": [
    "set([item['id'] for item in wp]) - wp_ids2"
   ]
  },
  {
   "cell_type": "markdown",
   "metadata": {},
   "source": [
    "Looks like all the IDs of what we got back from the Wordpress API are in the DB; the ID field we care about is called \"wordpress_search_result_post_id\" there.\n",
    "\n",
    "Now, how would we check that they have the same images?"
   ]
  },
  {
   "cell_type": "code",
   "execution_count": 15,
   "metadata": {},
   "outputs": [
    {
     "data": {
      "text/plain": [
       "{'search_id': 5579,\n",
       " 'search_timestamp': '1582773676000',\n",
       " 'search_location': 'poughkeepsie',\n",
       " 'search_ip_address': None,\n",
       " 'search_client_name': 'Anonymous',\n",
       " 'search_engine_initial': 'google',\n",
       " 'search_engine_translation': 'baidu',\n",
       " 'search_term_initial': 'coronavirus',\n",
       " 'search_term_initial_language_code': 'en',\n",
       " 'search_term_initial_language_confidence': '0.5703125',\n",
       " 'search_term_initial_language_alternate_code': '',\n",
       " 'search_term_translation': '冠状病毒',\n",
       " 'search_term_translation_language_code': 'zh-CN',\n",
       " 'search_term_status_banned': False,\n",
       " 'search_term_status_sensitive': False,\n",
       " 'search_schema_initial': 2,\n",
       " 'wordpress_search_term_popularity': None,\n",
       " 'wordpress_copyright_takedown': None,\n",
       " 'wordpress_unflattened': None,\n",
       " 'wordpress_regular_post_id': None,\n",
       " 'wordpress_search_result_post_id': 282427,\n",
       " 'wordpress_search_result_post_slug': 'coronavirus-1582773676'}"
      ]
     },
     "execution_count": 15,
     "metadata": {},
     "output_type": "execute_result"
    }
   ],
   "source": [
    "def get_search(wp_id):\n",
    "    results = [search for search in searches if search['wordpress_search_result_post_id'] == wp_id]\n",
    "    if len(results) != 1:\n",
    "        raise Exception(\"hmm, this doesn't seem to be the right length\", len(results), wp_id)\n",
    "    return results[0]\n",
    "get_search(wp[0]['id'])"
   ]
  },
  {
   "cell_type": "markdown",
   "metadata": {},
   "source": [
    "Next step: request the images from the DB using that search ID, and see if they match the images from the Wordpress results. We're going to limit ourselves to Google for simplicity."
   ]
  },
  {
   "cell_type": "code",
   "execution_count": 16,
   "metadata": {},
   "outputs": [
    {
     "name": "stdout",
     "output_type": "stream",
     "text": [
      "plotting Wordpress images\n"
     ]
    },
    {
     "data": {
      "text/html": [
       "<div style=\"display: inline-block; width: 120px; vertical-align: top; text-align: center;\"><h4 style=\"font-size: 12px\">0</h4><h4 style=\"font-size: 9px; padding-left: 10px; padding-right: 10px; width: 90%; word-wrap: break-word; white-space: normal;\">https://firewallcafe.com/wp-content/uploads/2020/02/26/282427/google-1582773676-01.jpg</h4><img src=\"https://firewallcafe.com/wp-content/uploads/2020/02/26/282427/google-1582773676-01.jpg\" style=\"margin: 1px; width: 100px; border: 2px solid #ddd;\"/></div><div style=\"display: inline-block; width: 120px; vertical-align: top; text-align: center;\"><h4 style=\"font-size: 12px\">1</h4><h4 style=\"font-size: 9px; padding-left: 10px; padding-right: 10px; width: 90%; word-wrap: break-word; white-space: normal;\">https://firewallcafe.com/wp-content/uploads/2020/02/26/282427/google-1582773676-02.jpg</h4><img src=\"https://firewallcafe.com/wp-content/uploads/2020/02/26/282427/google-1582773676-02.jpg\" style=\"margin: 1px; width: 100px; border: 2px solid #ddd;\"/></div><div style=\"display: inline-block; width: 120px; vertical-align: top; text-align: center;\"><h4 style=\"font-size: 12px\">2</h4><h4 style=\"font-size: 9px; padding-left: 10px; padding-right: 10px; width: 90%; word-wrap: break-word; white-space: normal;\">https://firewallcafe.com/wp-content/uploads/2020/02/26/282427/google-1582773676-03.jpg</h4><img src=\"https://firewallcafe.com/wp-content/uploads/2020/02/26/282427/google-1582773676-03.jpg\" style=\"margin: 1px; width: 100px; border: 2px solid #ddd;\"/></div><div style=\"display: inline-block; width: 120px; vertical-align: top; text-align: center;\"><h4 style=\"font-size: 12px\">3</h4><h4 style=\"font-size: 9px; padding-left: 10px; padding-right: 10px; width: 90%; word-wrap: break-word; white-space: normal;\">https://firewallcafe.com/wp-content/uploads/2020/02/26/282427/google-1582773676-04-220x220.jpg</h4><img src=\"https://firewallcafe.com/wp-content/uploads/2020/02/26/282427/google-1582773676-04-220x220.jpg\" style=\"margin: 1px; width: 100px; border: 2px solid #ddd;\"/></div><div style=\"display: inline-block; width: 120px; vertical-align: top; text-align: center;\"><h4 style=\"font-size: 12px\">4</h4><h4 style=\"font-size: 9px; padding-left: 10px; padding-right: 10px; width: 90%; word-wrap: break-word; white-space: normal;\">https://firewallcafe.com/wp-content/uploads/2020/02/26/282427/google-1582773676-05.jpg</h4><img src=\"https://firewallcafe.com/wp-content/uploads/2020/02/26/282427/google-1582773676-05.jpg\" style=\"margin: 1px; width: 100px; border: 2px solid #ddd;\"/></div><div style=\"display: inline-block; width: 120px; vertical-align: top; text-align: center;\"><h4 style=\"font-size: 12px\">5</h4><h4 style=\"font-size: 9px; padding-left: 10px; padding-right: 10px; width: 90%; word-wrap: break-word; white-space: normal;\">https://firewallcafe.com/wp-content/uploads/2020/02/26/282427/google-1582773676-06.jpg</h4><img src=\"https://firewallcafe.com/wp-content/uploads/2020/02/26/282427/google-1582773676-06.jpg\" style=\"margin: 1px; width: 100px; border: 2px solid #ddd;\"/></div><div style=\"display: inline-block; width: 120px; vertical-align: top; text-align: center;\"><h4 style=\"font-size: 12px\">6</h4><h4 style=\"font-size: 9px; padding-left: 10px; padding-right: 10px; width: 90%; word-wrap: break-word; white-space: normal;\">https://firewallcafe.com/wp-content/uploads/2020/02/26/282427/google-1582773676-07-194x220.jpg</h4><img src=\"https://firewallcafe.com/wp-content/uploads/2020/02/26/282427/google-1582773676-07-194x220.jpg\" style=\"margin: 1px; width: 100px; border: 2px solid #ddd;\"/></div><div style=\"display: inline-block; width: 120px; vertical-align: top; text-align: center;\"><h4 style=\"font-size: 12px\">7</h4><h4 style=\"font-size: 9px; padding-left: 10px; padding-right: 10px; width: 90%; word-wrap: break-word; white-space: normal;\">https://firewallcafe.com/wp-content/uploads/2020/02/26/282427/google-1582773676-08.jpg</h4><img src=\"https://firewallcafe.com/wp-content/uploads/2020/02/26/282427/google-1582773676-08.jpg\" style=\"margin: 1px; width: 100px; border: 2px solid #ddd;\"/></div><div style=\"display: inline-block; width: 120px; vertical-align: top; text-align: center;\"><h4 style=\"font-size: 12px\">8</h4><h4 style=\"font-size: 9px; padding-left: 10px; padding-right: 10px; width: 90%; word-wrap: break-word; white-space: normal;\">https://firewallcafe.com/wp-content/uploads/2020/02/26/282427/google-1582773676-09.jpg</h4><img src=\"https://firewallcafe.com/wp-content/uploads/2020/02/26/282427/google-1582773676-09.jpg\" style=\"margin: 1px; width: 100px; border: 2px solid #ddd;\"/></div><div style=\"display: inline-block; width: 120px; vertical-align: top; text-align: center;\"><h4 style=\"font-size: 12px\">9</h4><h4 style=\"font-size: 9px; padding-left: 10px; padding-right: 10px; width: 90%; word-wrap: break-word; white-space: normal;\">https://firewallcafe.com/wp-content/uploads/2020/02/26/282427/google-1582773676-10.jpg</h4><img src=\"https://firewallcafe.com/wp-content/uploads/2020/02/26/282427/google-1582773676-10.jpg\" style=\"margin: 1px; width: 100px; border: 2px solid #ddd;\"/></div><div style=\"display: inline-block; width: 120px; vertical-align: top; text-align: center;\"><h4 style=\"font-size: 12px\">10</h4><h4 style=\"font-size: 9px; padding-left: 10px; padding-right: 10px; width: 90%; word-wrap: break-word; white-space: normal;\">https://firewallcafe.com/wp-content/uploads/2020/02/26/282427/google-1582773676-11.png</h4><img src=\"https://firewallcafe.com/wp-content/uploads/2020/02/26/282427/google-1582773676-11.png\" style=\"margin: 1px; width: 100px; border: 2px solid #ddd;\"/></div><div style=\"display: inline-block; width: 120px; vertical-align: top; text-align: center;\"><h4 style=\"font-size: 12px\">11</h4><h4 style=\"font-size: 9px; padding-left: 10px; padding-right: 10px; width: 90%; word-wrap: break-word; white-space: normal;\">https://firewallcafe.com/wp-content/uploads/2020/02/26/282427/google-1582773676-12.jpg</h4><img src=\"https://firewallcafe.com/wp-content/uploads/2020/02/26/282427/google-1582773676-12.jpg\" style=\"margin: 1px; width: 100px; border: 2px solid #ddd;\"/></div><div style=\"display: inline-block; width: 120px; vertical-align: top; text-align: center;\"><h4 style=\"font-size: 12px\">12</h4><h4 style=\"font-size: 9px; padding-left: 10px; padding-right: 10px; width: 90%; word-wrap: break-word; white-space: normal;\">https://firewallcafe.com/wp-content/uploads/2020/02/26/282427/google-1582773676-13.jpg</h4><img src=\"https://firewallcafe.com/wp-content/uploads/2020/02/26/282427/google-1582773676-13.jpg\" style=\"margin: 1px; width: 100px; border: 2px solid #ddd;\"/></div><div style=\"display: inline-block; width: 120px; vertical-align: top; text-align: center;\"><h4 style=\"font-size: 12px\">13</h4><h4 style=\"font-size: 9px; padding-left: 10px; padding-right: 10px; width: 90%; word-wrap: break-word; white-space: normal;\">https://firewallcafe.com/wp-content/uploads/2020/02/26/282427/google-1582773676-14.jpg</h4><img src=\"https://firewallcafe.com/wp-content/uploads/2020/02/26/282427/google-1582773676-14.jpg\" style=\"margin: 1px; width: 100px; border: 2px solid #ddd;\"/></div><div style=\"display: inline-block; width: 120px; vertical-align: top; text-align: center;\"><h4 style=\"font-size: 12px\">14</h4><h4 style=\"font-size: 9px; padding-left: 10px; padding-right: 10px; width: 90%; word-wrap: break-word; white-space: normal;\">https://firewallcafe.com/wp-content/uploads/2020/02/26/282427/google-1582773676-15.jpg</h4><img src=\"https://firewallcafe.com/wp-content/uploads/2020/02/26/282427/google-1582773676-15.jpg\" style=\"margin: 1px; width: 100px; border: 2px solid #ddd;\"/></div><div style=\"display: inline-block; width: 120px; vertical-align: top; text-align: center;\"><h4 style=\"font-size: 12px\">15</h4><h4 style=\"font-size: 9px; padding-left: 10px; padding-right: 10px; width: 90%; word-wrap: break-word; white-space: normal;\">https://firewallcafe.com/wp-content/uploads/2020/02/26/282427/google-1582773676-16.jpg</h4><img src=\"https://firewallcafe.com/wp-content/uploads/2020/02/26/282427/google-1582773676-16.jpg\" style=\"margin: 1px; width: 100px; border: 2px solid #ddd;\"/></div><div style=\"display: inline-block; width: 120px; vertical-align: top; text-align: center;\"><h4 style=\"font-size: 12px\">16</h4><h4 style=\"font-size: 9px; padding-left: 10px; padding-right: 10px; width: 90%; word-wrap: break-word; white-space: normal;\">https://firewallcafe.com/wp-content/uploads/2020/02/26/282427/google-1582773676-17.jpg</h4><img src=\"https://firewallcafe.com/wp-content/uploads/2020/02/26/282427/google-1582773676-17.jpg\" style=\"margin: 1px; width: 100px; border: 2px solid #ddd;\"/></div><div style=\"display: inline-block; width: 120px; vertical-align: top; text-align: center;\"><h4 style=\"font-size: 12px\">17</h4><h4 style=\"font-size: 9px; padding-left: 10px; padding-right: 10px; width: 90%; word-wrap: break-word; white-space: normal;\">https://firewallcafe.com/wp-content/uploads/2020/02/26/282427/google-1582773676-18.png</h4><img src=\"https://firewallcafe.com/wp-content/uploads/2020/02/26/282427/google-1582773676-18.png\" style=\"margin: 1px; width: 100px; border: 2px solid #ddd;\"/></div><div style=\"display: inline-block; width: 120px; vertical-align: top; text-align: center;\"><h4 style=\"font-size: 12px\">18</h4><h4 style=\"font-size: 9px; padding-left: 10px; padding-right: 10px; width: 90%; word-wrap: break-word; white-space: normal;\">https://firewallcafe.com/wp-content/uploads/2020/02/26/282427/google-1582773676-19.jpg</h4><img src=\"https://firewallcafe.com/wp-content/uploads/2020/02/26/282427/google-1582773676-19.jpg\" style=\"margin: 1px; width: 100px; border: 2px solid #ddd;\"/></div><div style=\"display: inline-block; width: 120px; vertical-align: top; text-align: center;\"><h4 style=\"font-size: 12px\">19</h4><h4 style=\"font-size: 9px; padding-left: 10px; padding-right: 10px; width: 90%; word-wrap: break-word; white-space: normal;\">https://firewallcafe.com/wp-content/uploads/2020/02/26/282427/google-1582773676-20.jpg</h4><img src=\"https://firewallcafe.com/wp-content/uploads/2020/02/26/282427/google-1582773676-20.jpg\" style=\"margin: 1px; width: 100px; border: 2px solid #ddd;\"/></div>"
      ],
      "text/plain": [
       "<IPython.core.display.HTML object>"
      ]
     },
     "metadata": {},
     "output_type": "display_data"
    },
    {
     "name": "stdout",
     "output_type": "stream",
     "text": [
      "plotting DB images\n"
     ]
    },
    {
     "data": {
      "text/html": [
       "<div style=\"display: inline-block; width: 120px; vertical-align: top; text-align: center;\"><h4 style=\"font-size: 12px\">0</h4><h4 style=\"font-size: 9px; padding-left: 10px; padding-right: 10px; width: 90%; word-wrap: break-word; white-space: normal;\">https://www.bloomberg.com/graphics/2020-wuhan-novel-coronavirus-outbreak/img/2020-wuhan-novel-coronavirus-outbreak-twitter.png?t=202002261144</h4><img src=\"https://www.bloomberg.com/graphics/2020-wuhan-novel-coronavirus-outbreak/img/2020-wuhan-novel-coronavirus-outbreak-twitter.png?t=202002261144\" style=\"margin: 1px; width: 100px; border: 2px solid #ddd;\"/></div><div style=\"display: inline-block; width: 120px; vertical-align: top; text-align: center;\"><h4 style=\"font-size: 12px\">1</h4><h4 style=\"font-size: 9px; padding-left: 10px; padding-right: 10px; width: 90%; word-wrap: break-word; white-space: normal;\">http://www.sloveniatimes.com/modules/uploader/uploads/Aktualno/Podobe1/https___cdn.cnn.com_cnnnext_dam_assets_200108214800-coronavirus.jpg</h4><img src=\"http://www.sloveniatimes.com/modules/uploader/uploads/Aktualno/Podobe1/https___cdn.cnn.com_cnnnext_dam_assets_200108214800-coronavirus.jpg\" style=\"margin: 1px; width: 100px; border: 2px solid #ddd;\"/></div><div style=\"display: inline-block; width: 120px; vertical-align: top; text-align: center;\"><h4 style=\"font-size: 12px\">2</h4><h4 style=\"font-size: 9px; padding-left: 10px; padding-right: 10px; width: 90%; word-wrap: break-word; white-space: normal;\">https://img.medscape.com/thumbnail_library/dt_200121_coronavirus_800x450.jpg</h4><img src=\"https://img.medscape.com/thumbnail_library/dt_200121_coronavirus_800x450.jpg\" style=\"margin: 1px; width: 100px; border: 2px solid #ddd;\"/></div><div style=\"display: inline-block; width: 120px; vertical-align: top; text-align: center;\"><h4 style=\"font-size: 12px\">3</h4><h4 style=\"font-size: 9px; padding-left: 10px; padding-right: 10px; width: 90%; word-wrap: break-word; white-space: normal;\">https://media.nature.com/lw800/magazine-assets/d41586-020-00253-8/d41586-020-00253-8_17608790.jpg</h4><img src=\"https://media.nature.com/lw800/magazine-assets/d41586-020-00253-8/d41586-020-00253-8_17608790.jpg\" style=\"margin: 1px; width: 100px; border: 2px solid #ddd;\"/></div><div style=\"display: inline-block; width: 120px; vertical-align: top; text-align: center;\"><h4 style=\"font-size: 12px\">4</h4><h4 style=\"font-size: 9px; padding-left: 10px; padding-right: 10px; width: 90%; word-wrap: break-word; white-space: normal;\">https://www.cdc.gov/coronavirus/2019-ncov/images/social/covid-19-social-map-as-of-02-26-2020-1200x675-brz.jpg</h4><img src=\"https://www.cdc.gov/coronavirus/2019-ncov/images/social/covid-19-social-map-as-of-02-26-2020-1200x675-brz.jpg\" style=\"margin: 1px; width: 100px; border: 2px solid #ddd;\"/></div><div style=\"display: inline-block; width: 120px; vertical-align: top; text-align: center;\"><h4 style=\"font-size: 12px\">5</h4><h4 style=\"font-size: 9px; padding-left: 10px; padding-right: 10px; width: 90%; word-wrap: break-word; white-space: normal;\">https://static01.nyt.com/images/2020/01/31/multimedia/china-wuhan-coronavirus-maps-promo/china-wuhan-coronavirus-maps-promo-videoSixteenByNineJumbo1600-v78.png</h4><img src=\"https://static01.nyt.com/images/2020/01/31/multimedia/china-wuhan-coronavirus-maps-promo/china-wuhan-coronavirus-maps-promo-videoSixteenByNineJumbo1600-v78.png\" style=\"margin: 1px; width: 100px; border: 2px solid #ddd;\"/></div><div style=\"display: inline-block; width: 120px; vertical-align: top; text-align: center;\"><h4 style=\"font-size: 12px\">6</h4><h4 style=\"font-size: 9px; padding-left: 10px; padding-right: 10px; width: 90%; word-wrap: break-word; white-space: normal;\">https://ichef.bbci.co.uk/news/208/cpsprodpb/0CA2/production/_111043230_italy_quaratine_cornavirus_640-nc.png</h4><img src=\"https://ichef.bbci.co.uk/news/208/cpsprodpb/0CA2/production/_111043230_italy_quaratine_cornavirus_640-nc.png\" style=\"margin: 1px; width: 100px; border: 2px solid #ddd;\"/></div><div style=\"display: inline-block; width: 120px; vertical-align: top; text-align: center;\"><h4 style=\"font-size: 12px\">7</h4><h4 style=\"font-size: 9px; padding-left: 10px; padding-right: 10px; width: 90%; word-wrap: break-word; white-space: normal;\">https://media.npr.org/assets/img/2020/01/22/sciencesource_ss2413465-bd5e295079f203794a6d35a99a4db82fa5615d4d-s800-c85.jpg</h4><img src=\"https://media.npr.org/assets/img/2020/01/22/sciencesource_ss2413465-bd5e295079f203794a6d35a99a4db82fa5615d4d-s800-c85.jpg\" style=\"margin: 1px; width: 100px; border: 2px solid #ddd;\"/></div><div style=\"display: inline-block; width: 120px; vertical-align: top; text-align: center;\"><h4 style=\"font-size: 12px\">8</h4><h4 style=\"font-size: 9px; padding-left: 10px; padding-right: 10px; width: 90%; word-wrap: break-word; white-space: normal;\">https://www.inquirer.com/resizer/CiwgX_mknaEMHprl0soM8TCazo0=/1400x932/smart/arc-anglerfish-arc2-prod-pmn.s3.amazonaws.com/public/PCDN4SDFNVHJRI4VRFRA43UPH4.jpg</h4><img src=\"https://www.inquirer.com/resizer/CiwgX_mknaEMHprl0soM8TCazo0=/1400x932/smart/arc-anglerfish-arc2-prod-pmn.s3.amazonaws.com/public/PCDN4SDFNVHJRI4VRFRA43UPH4.jpg\" style=\"margin: 1px; width: 100px; border: 2px solid #ddd;\"/></div><div style=\"display: inline-block; width: 120px; vertical-align: top; text-align: center;\"><h4 style=\"font-size: 12px\">9</h4><h4 style=\"font-size: 9px; padding-left: 10px; padding-right: 10px; width: 90%; word-wrap: break-word; white-space: normal;\">https://montgomerycountymd.gov/OPI/Resources/Images/coronavirus.png</h4><img src=\"https://montgomerycountymd.gov/OPI/Resources/Images/coronavirus.png\" style=\"margin: 1px; width: 100px; border: 2px solid #ddd;\"/></div><div style=\"display: inline-block; width: 120px; vertical-align: top; text-align: center;\"><h4 style=\"font-size: 12px\">10</h4><h4 style=\"font-size: 9px; padding-left: 10px; padding-right: 10px; width: 90%; word-wrap: break-word; white-space: normal;\">https://media4.s-nbcnews.com/i/newscms/2020_09/3245116/200226-coronavirus-map-2x1_f2e349325e2a0f7324e76dcfc88ce873.png</h4><img src=\"https://media4.s-nbcnews.com/i/newscms/2020_09/3245116/200226-coronavirus-map-2x1_f2e349325e2a0f7324e76dcfc88ce873.png\" style=\"margin: 1px; width: 100px; border: 2px solid #ddd;\"/></div><div style=\"display: inline-block; width: 120px; vertical-align: top; text-align: center;\"><h4 style=\"font-size: 12px\">11</h4><h4 style=\"font-size: 9px; padding-left: 10px; padding-right: 10px; width: 90%; word-wrap: break-word; white-space: normal;\">https://cdn.the-scientist.com/assets/articleNo/67006/aImg/35679/coronavirus-thumb-l.png</h4><img src=\"https://cdn.the-scientist.com/assets/articleNo/67006/aImg/35679/coronavirus-thumb-l.png\" style=\"margin: 1px; width: 100px; border: 2px solid #ddd;\"/></div><div style=\"display: inline-block; width: 120px; vertical-align: top; text-align: center;\"><h4 style=\"font-size: 12px\">12</h4><h4 style=\"font-size: 9px; padding-left: 10px; padding-right: 10px; width: 90%; word-wrap: break-word; white-space: normal;\">https://www.nejm.org/na101/home/literatum/publisher/mms/journals/content/nejm/2003/nejm_2003.348.issue-20/nejmp030078/production/images/img_medium/nejmp030078_f1.jpeg</h4><img src=\"https://www.nejm.org/na101/home/literatum/publisher/mms/journals/content/nejm/2003/nejm_2003.348.issue-20/nejmp030078/production/images/img_medium/nejmp030078_f1.jpeg\" style=\"margin: 1px; width: 100px; border: 2px solid #ddd;\"/></div><div style=\"display: inline-block; width: 120px; vertical-align: top; text-align: center;\"><h4 style=\"font-size: 12px\">13</h4><h4 style=\"font-size: 9px; padding-left: 10px; padding-right: 10px; width: 90%; word-wrap: break-word; white-space: normal;\">https://www.cdc.gov/coronavirus/2019-ncov/images/home-banner.jpg</h4><img src=\"https://www.cdc.gov/coronavirus/2019-ncov/images/home-banner.jpg\" style=\"margin: 1px; width: 100px; border: 2px solid #ddd;\"/></div><div style=\"display: inline-block; width: 120px; vertical-align: top; text-align: center;\"><h4 style=\"font-size: 12px\">14</h4><h4 style=\"font-size: 9px; padding-left: 10px; padding-right: 10px; width: 90%; word-wrap: break-word; white-space: normal;\">https://ichef.bbci.co.uk/news/640/cpsprodpb/1D5B/production/_111051570_coronavirus_cases_europe_clean_640-nc.png</h4><img src=\"https://ichef.bbci.co.uk/news/640/cpsprodpb/1D5B/production/_111051570_coronavirus_cases_europe_clean_640-nc.png\" style=\"margin: 1px; width: 100px; border: 2px solid #ddd;\"/></div><div style=\"display: inline-block; width: 120px; vertical-align: top; text-align: center;\"><h4 style=\"font-size: 12px\">15</h4><h4 style=\"font-size: 9px; padding-left: 10px; padding-right: 10px; width: 90%; word-wrap: break-word; white-space: normal;\">https://www.gannett-cdn.com/presto/2020/01/29/USAT/7241aba8-a934-4f7b-8b3a-65d4daacacdb-corona-virus-promo_art-01.png?auto=webp&crop=847,476,x795,y890&format=pjpg&width=1200</h4><img src=\"https://www.gannett-cdn.com/presto/2020/01/29/USAT/7241aba8-a934-4f7b-8b3a-65d4daacacdb-corona-virus-promo_art-01.png?auto=webp&crop=847,476,x795,y890&format=pjpg&width=1200\" style=\"margin: 1px; width: 100px; border: 2px solid #ddd;\"/></div><div style=\"display: inline-block; width: 120px; vertical-align: top; text-align: center;\"><h4 style=\"font-size: 12px\">16</h4><h4 style=\"font-size: 9px; padding-left: 10px; padding-right: 10px; width: 90%; word-wrap: break-word; white-space: normal;\">https://d3i6fh83elv35t.cloudfront.net/static/2020/01/Screen-Shot-2020-01-22-at-6.39.27-PM-1024x689.png</h4><img src=\"https://d3i6fh83elv35t.cloudfront.net/static/2020/01/Screen-Shot-2020-01-22-at-6.39.27-PM-1024x689.png\" style=\"margin: 1px; width: 100px; border: 2px solid #ddd;\"/></div><div style=\"display: inline-block; width: 120px; vertical-align: top; text-align: center;\"><h4 style=\"font-size: 12px\">17</h4><h4 style=\"font-size: 9px; padding-left: 10px; padding-right: 10px; width: 90%; word-wrap: break-word; white-space: normal;\">https://www.cdc.gov/coronavirus/2019-ncov/images/outbreak-coronavirus-world.png</h4><img src=\"https://www.cdc.gov/coronavirus/2019-ncov/images/outbreak-coronavirus-world.png\" style=\"margin: 1px; width: 100px; border: 2px solid #ddd;\"/></div><div style=\"display: inline-block; width: 120px; vertical-align: top; text-align: center;\"><h4 style=\"font-size: 12px\">18</h4><h4 style=\"font-size: 9px; padding-left: 10px; padding-right: 10px; width: 90%; word-wrap: break-word; white-space: normal;\">https://img.webmd.com/dtmcms/live/webmd/consumer_assets/site_images/article_thumbnails/news/2020/01_2020/coronavirus_1/1800x1200_coronavirus_1.jpg</h4><img src=\"https://img.webmd.com/dtmcms/live/webmd/consumer_assets/site_images/article_thumbnails/news/2020/01_2020/coronavirus_1/1800x1200_coronavirus_1.jpg\" style=\"margin: 1px; width: 100px; border: 2px solid #ddd;\"/></div><div style=\"display: inline-block; width: 120px; vertical-align: top; text-align: center;\"><h4 style=\"font-size: 12px\">19</h4><h4 style=\"font-size: 9px; padding-left: 10px; padding-right: 10px; width: 90%; word-wrap: break-word; white-space: normal;\">https://www.aljazeera.com/mritems/imagecache/mbdxxlarge/mritems/Images/2020/2/26/60281c6a6d654031babffeff67b160f0_18.jpg</h4><img src=\"https://www.aljazeera.com/mritems/imagecache/mbdxxlarge/mritems/Images/2020/2/26/60281c6a6d654031babffeff67b160f0_18.jpg\" style=\"margin: 1px; width: 100px; border: 2px solid #ddd;\"/></div>"
      ],
      "text/plain": [
       "<IPython.core.display.HTML object>"
      ]
     },
     "metadata": {},
     "output_type": "display_data"
    },
    {
     "name": "stdout",
     "output_type": "stream",
     "text": [
      "plotting Wordpress images\n"
     ]
    },
    {
     "data": {
      "text/html": [
       "<div style=\"display: inline-block; width: 120px; vertical-align: top; text-align: center;\"><h4 style=\"font-size: 12px\">0</h4><h4 style=\"font-size: 9px; padding-left: 10px; padding-right: 10px; width: 90%; word-wrap: break-word; white-space: normal;\">https://firewallcafe.com/wp-content/uploads/2020/02/26/282386/google-1582773653-01-160x220.jpg</h4><img src=\"https://firewallcafe.com/wp-content/uploads/2020/02/26/282386/google-1582773653-01-160x220.jpg\" style=\"margin: 1px; width: 100px; border: 2px solid #ddd;\"/></div><div style=\"display: inline-block; width: 120px; vertical-align: top; text-align: center;\"><h4 style=\"font-size: 12px\">1</h4><h4 style=\"font-size: 9px; padding-left: 10px; padding-right: 10px; width: 90%; word-wrap: break-word; white-space: normal;\">https://firewallcafe.com/wp-content/uploads/2020/02/26/282386/google-1582773653-02.jpg</h4><img src=\"https://firewallcafe.com/wp-content/uploads/2020/02/26/282386/google-1582773653-02.jpg\" style=\"margin: 1px; width: 100px; border: 2px solid #ddd;\"/></div><div style=\"display: inline-block; width: 120px; vertical-align: top; text-align: center;\"><h4 style=\"font-size: 12px\">2</h4><h4 style=\"font-size: 9px; padding-left: 10px; padding-right: 10px; width: 90%; word-wrap: break-word; white-space: normal;\">https://firewallcafe.com/wp-content/uploads/2020/02/26/282386/google-1582773653-03.jpg</h4><img src=\"https://firewallcafe.com/wp-content/uploads/2020/02/26/282386/google-1582773653-03.jpg\" style=\"margin: 1px; width: 100px; border: 2px solid #ddd;\"/></div><div style=\"display: inline-block; width: 120px; vertical-align: top; text-align: center;\"><h4 style=\"font-size: 12px\">3</h4><h4 style=\"font-size: 9px; padding-left: 10px; padding-right: 10px; width: 90%; word-wrap: break-word; white-space: normal;\">https://firewallcafe.com/wp-content/uploads/2020/02/26/282386/google-1582773653-04.jpg</h4><img src=\"https://firewallcafe.com/wp-content/uploads/2020/02/26/282386/google-1582773653-04.jpg\" style=\"margin: 1px; width: 100px; border: 2px solid #ddd;\"/></div><div style=\"display: inline-block; width: 120px; vertical-align: top; text-align: center;\"><h4 style=\"font-size: 12px\">4</h4><h4 style=\"font-size: 9px; padding-left: 10px; padding-right: 10px; width: 90%; word-wrap: break-word; white-space: normal;\">https://firewallcafe.com/wp-content/uploads/2020/02/26/282386/google-1582773653-05.jpg</h4><img src=\"https://firewallcafe.com/wp-content/uploads/2020/02/26/282386/google-1582773653-05.jpg\" style=\"margin: 1px; width: 100px; border: 2px solid #ddd;\"/></div><div style=\"display: inline-block; width: 120px; vertical-align: top; text-align: center;\"><h4 style=\"font-size: 12px\">5</h4><h4 style=\"font-size: 9px; padding-left: 10px; padding-right: 10px; width: 90%; word-wrap: break-word; white-space: normal;\">https://firewallcafe.com/wp-content/uploads/2020/02/26/282386/google-1582773653-06.jpg</h4><img src=\"https://firewallcafe.com/wp-content/uploads/2020/02/26/282386/google-1582773653-06.jpg\" style=\"margin: 1px; width: 100px; border: 2px solid #ddd;\"/></div><div style=\"display: inline-block; width: 120px; vertical-align: top; text-align: center;\"><h4 style=\"font-size: 12px\">6</h4><h4 style=\"font-size: 9px; padding-left: 10px; padding-right: 10px; width: 90%; word-wrap: break-word; white-space: normal;\">https://firewallcafe.com/wp-content/uploads/2020/02/26/282386/google-1582773653-07-220x220.jpg</h4><img src=\"https://firewallcafe.com/wp-content/uploads/2020/02/26/282386/google-1582773653-07-220x220.jpg\" style=\"margin: 1px; width: 100px; border: 2px solid #ddd;\"/></div><div style=\"display: inline-block; width: 120px; vertical-align: top; text-align: center;\"><h4 style=\"font-size: 12px\">7</h4><h4 style=\"font-size: 9px; padding-left: 10px; padding-right: 10px; width: 90%; word-wrap: break-word; white-space: normal;\">https://firewallcafe.com/wp-content/uploads/2020/02/26/282386/google-1582773653-08.jpg</h4><img src=\"https://firewallcafe.com/wp-content/uploads/2020/02/26/282386/google-1582773653-08.jpg\" style=\"margin: 1px; width: 100px; border: 2px solid #ddd;\"/></div><div style=\"display: inline-block; width: 120px; vertical-align: top; text-align: center;\"><h4 style=\"font-size: 12px\">8</h4><h4 style=\"font-size: 9px; padding-left: 10px; padding-right: 10px; width: 90%; word-wrap: break-word; white-space: normal;\">https://firewallcafe.com/wp-content/uploads/2020/02/26/282386/google-1582773653-09-220x220.jpg</h4><img src=\"https://firewallcafe.com/wp-content/uploads/2020/02/26/282386/google-1582773653-09-220x220.jpg\" style=\"margin: 1px; width: 100px; border: 2px solid #ddd;\"/></div><div style=\"display: inline-block; width: 120px; vertical-align: top; text-align: center;\"><h4 style=\"font-size: 12px\">9</h4><h4 style=\"font-size: 9px; padding-left: 10px; padding-right: 10px; width: 90%; word-wrap: break-word; white-space: normal;\">https://firewallcafe.com/wp-content/uploads/2020/02/26/282386/google-1582773653-10.jpg</h4><img src=\"https://firewallcafe.com/wp-content/uploads/2020/02/26/282386/google-1582773653-10.jpg\" style=\"margin: 1px; width: 100px; border: 2px solid #ddd;\"/></div><div style=\"display: inline-block; width: 120px; vertical-align: top; text-align: center;\"><h4 style=\"font-size: 12px\">10</h4><h4 style=\"font-size: 9px; padding-left: 10px; padding-right: 10px; width: 90%; word-wrap: break-word; white-space: normal;\">https://firewallcafe.com/wp-content/uploads/2020/02/26/282386/google-1582773653-11.jpg</h4><img src=\"https://firewallcafe.com/wp-content/uploads/2020/02/26/282386/google-1582773653-11.jpg\" style=\"margin: 1px; width: 100px; border: 2px solid #ddd;\"/></div><div style=\"display: inline-block; width: 120px; vertical-align: top; text-align: center;\"><h4 style=\"font-size: 12px\">11</h4><h4 style=\"font-size: 9px; padding-left: 10px; padding-right: 10px; width: 90%; word-wrap: break-word; white-space: normal;\">https://firewallcafe.com/wp-content/uploads/2020/02/26/282386/google-1582773653-12.jpg</h4><img src=\"https://firewallcafe.com/wp-content/uploads/2020/02/26/282386/google-1582773653-12.jpg\" style=\"margin: 1px; width: 100px; border: 2px solid #ddd;\"/></div><div style=\"display: inline-block; width: 120px; vertical-align: top; text-align: center;\"><h4 style=\"font-size: 12px\">12</h4><h4 style=\"font-size: 9px; padding-left: 10px; padding-right: 10px; width: 90%; word-wrap: break-word; white-space: normal;\">https://firewallcafe.com/wp-content/uploads/2020/02/26/282386/google-1582773653-13.jpg</h4><img src=\"https://firewallcafe.com/wp-content/uploads/2020/02/26/282386/google-1582773653-13.jpg\" style=\"margin: 1px; width: 100px; border: 2px solid #ddd;\"/></div><div style=\"display: inline-block; width: 120px; vertical-align: top; text-align: center;\"><h4 style=\"font-size: 12px\">13</h4><h4 style=\"font-size: 9px; padding-left: 10px; padding-right: 10px; width: 90%; word-wrap: break-word; white-space: normal;\">https://firewallcafe.com/wp-content/uploads/2020/02/26/282386/google-1582773653-14.jpg</h4><img src=\"https://firewallcafe.com/wp-content/uploads/2020/02/26/282386/google-1582773653-14.jpg\" style=\"margin: 1px; width: 100px; border: 2px solid #ddd;\"/></div><div style=\"display: inline-block; width: 120px; vertical-align: top; text-align: center;\"><h4 style=\"font-size: 12px\">14</h4><h4 style=\"font-size: 9px; padding-left: 10px; padding-right: 10px; width: 90%; word-wrap: break-word; white-space: normal;\">https://firewallcafe.com/wp-content/uploads/2020/02/26/282386/google-1582773653-15.jpg</h4><img src=\"https://firewallcafe.com/wp-content/uploads/2020/02/26/282386/google-1582773653-15.jpg\" style=\"margin: 1px; width: 100px; border: 2px solid #ddd;\"/></div><div style=\"display: inline-block; width: 120px; vertical-align: top; text-align: center;\"><h4 style=\"font-size: 12px\">15</h4><h4 style=\"font-size: 9px; padding-left: 10px; padding-right: 10px; width: 90%; word-wrap: break-word; white-space: normal;\">https://firewallcafe.com/wp-content/uploads/2020/02/26/282386/google-1582773653-16.jpg</h4><img src=\"https://firewallcafe.com/wp-content/uploads/2020/02/26/282386/google-1582773653-16.jpg\" style=\"margin: 1px; width: 100px; border: 2px solid #ddd;\"/></div><div style=\"display: inline-block; width: 120px; vertical-align: top; text-align: center;\"><h4 style=\"font-size: 12px\">16</h4><h4 style=\"font-size: 9px; padding-left: 10px; padding-right: 10px; width: 90%; word-wrap: break-word; white-space: normal;\">https://firewallcafe.com/wp-content/uploads/2020/02/26/282386/google-1582773653-17.jpg</h4><img src=\"https://firewallcafe.com/wp-content/uploads/2020/02/26/282386/google-1582773653-17.jpg\" style=\"margin: 1px; width: 100px; border: 2px solid #ddd;\"/></div><div style=\"display: inline-block; width: 120px; vertical-align: top; text-align: center;\"><h4 style=\"font-size: 12px\">17</h4><h4 style=\"font-size: 9px; padding-left: 10px; padding-right: 10px; width: 90%; word-wrap: break-word; white-space: normal;\">https://firewallcafe.com/wp-content/uploads/2020/02/26/282386/google-1582773653-18.jpg</h4><img src=\"https://firewallcafe.com/wp-content/uploads/2020/02/26/282386/google-1582773653-18.jpg\" style=\"margin: 1px; width: 100px; border: 2px solid #ddd;\"/></div><div style=\"display: inline-block; width: 120px; vertical-align: top; text-align: center;\"><h4 style=\"font-size: 12px\">18</h4><h4 style=\"font-size: 9px; padding-left: 10px; padding-right: 10px; width: 90%; word-wrap: break-word; white-space: normal;\">https://firewallcafe.com/wp-content/uploads/2020/02/26/282386/google-1582773653-19.jpg</h4><img src=\"https://firewallcafe.com/wp-content/uploads/2020/02/26/282386/google-1582773653-19.jpg\" style=\"margin: 1px; width: 100px; border: 2px solid #ddd;\"/></div><div style=\"display: inline-block; width: 120px; vertical-align: top; text-align: center;\"><h4 style=\"font-size: 12px\">19</h4><h4 style=\"font-size: 9px; padding-left: 10px; padding-right: 10px; width: 90%; word-wrap: break-word; white-space: normal;\">https://firewallcafe.com/wp-content/uploads/2020/02/26/282386/google-1582773653-20.jpg</h4><img src=\"https://firewallcafe.com/wp-content/uploads/2020/02/26/282386/google-1582773653-20.jpg\" style=\"margin: 1px; width: 100px; border: 2px solid #ddd;\"/></div>"
      ],
      "text/plain": [
       "<IPython.core.display.HTML object>"
      ]
     },
     "metadata": {},
     "output_type": "display_data"
    },
    {
     "name": "stdout",
     "output_type": "stream",
     "text": [
      "plotting DB images\n"
     ]
    },
    {
     "data": {
      "text/html": [
       "<div style=\"display: inline-block; width: 120px; vertical-align: top; text-align: center;\"><h4 style=\"font-size: 12px\">0</h4><h4 style=\"font-size: 9px; padding-left: 10px; padding-right: 10px; width: 90%; word-wrap: break-word; white-space: normal;\">https://upload.wikimedia.org/wikipedia/commons/7/76/Kim_and_Trump_standing_next_to_each_other_%28cropped%29.jpg</h4><img src=\"https://upload.wikimedia.org/wikipedia/commons/7/76/Kim_and_Trump_standing_next_to_each_other_%28cropped%29.jpg\" style=\"margin: 1px; width: 100px; border: 2px solid #ddd;\"/></div><div style=\"display: inline-block; width: 120px; vertical-align: top; text-align: center;\"><h4 style=\"font-size: 12px\">1</h4><h4 style=\"font-size: 9px; padding-left: 10px; padding-right: 10px; width: 90%; word-wrap: break-word; white-space: normal;\">https://assets.bwbx.io/images/users/iqjWHBFdfxIU/iklwuuDFZRSs/v1/1000x-1.jpg</h4><img src=\"https://assets.bwbx.io/images/users/iqjWHBFdfxIU/iklwuuDFZRSs/v1/1000x-1.jpg\" style=\"margin: 1px; width: 100px; border: 2px solid #ddd;\"/></div><div style=\"display: inline-block; width: 120px; vertical-align: top; text-align: center;\"><h4 style=\"font-size: 12px\">2</h4><h4 style=\"font-size: 9px; padding-left: 10px; padding-right: 10px; width: 90%; word-wrap: break-word; white-space: normal;\">https://storage.googleapis.com/afs-prod/media/media:a4ca8f5d57fc4d01a4186afad37b8b42/800.jpeg</h4><img src=\"https://storage.googleapis.com/afs-prod/media/media:a4ca8f5d57fc4d01a4186afad37b8b42/800.jpeg\" style=\"margin: 1px; width: 100px; border: 2px solid #ddd;\"/></div><div style=\"display: inline-block; width: 120px; vertical-align: top; text-align: center;\"><h4 style=\"font-size: 12px\">3</h4><h4 style=\"font-size: 9px; padding-left: 10px; padding-right: 10px; width: 90%; word-wrap: break-word; white-space: normal;\">https://i.insider.com/5d185ef4a17d6c352104a0b2?width=1100&format=jpeg&auto=webp</h4><img src=\"https://i.insider.com/5d185ef4a17d6c352104a0b2?width=1100&format=jpeg&auto=webp\" style=\"margin: 1px; width: 100px; border: 2px solid #ddd;\"/></div><div style=\"display: inline-block; width: 120px; vertical-align: top; text-align: center;\"><h4 style=\"font-size: 12px\">4</h4><h4 style=\"font-size: 9px; padding-left: 10px; padding-right: 10px; width: 90%; word-wrap: break-word; white-space: normal;\">https://foreignpolicy.com/wp-content/uploads/2019/06/GettyImages-1139002623.jpg?w=800&h=533&quality=90</h4><img src=\"https://foreignpolicy.com/wp-content/uploads/2019/06/GettyImages-1139002623.jpg?w=800&h=533&quality=90\" style=\"margin: 1px; width: 100px; border: 2px solid #ddd;\"/></div><div style=\"display: inline-block; width: 120px; vertical-align: top; text-align: center;\"><h4 style=\"font-size: 12px\">5</h4><h4 style=\"font-size: 9px; padding-left: 10px; padding-right: 10px; width: 90%; word-wrap: break-word; white-space: normal;\">https://ca-times.brightspotcdn.com/dims4/default/2c35a3d/2147483647/strip/true/crop/2047x1151+0+0/resize/840x472!/quality/90/?url=https%3A%2F%2Fcalifornia-times-brightspot.s3.amazonaws.com%2F63%2F01%2F28dec6d3f955283c7ffac037436b%2Fla-1556194285-9yj4dt7jbt-snap-image</h4><img src=\"https://ca-times.brightspotcdn.com/dims4/default/2c35a3d/2147483647/strip/true/crop/2047x1151+0+0/resize/840x472!/quality/90/?url=https%3A%2F%2Fcalifornia-times-brightspot.s3.amazonaws.com%2F63%2F01%2F28dec6d3f955283c7ffac037436b%2Fla-1556194285-9yj4dt7jbt-snap-image\" style=\"margin: 1px; width: 100px; border: 2px solid #ddd;\"/></div><div style=\"display: inline-block; width: 120px; vertical-align: top; text-align: center;\"><h4 style=\"font-size: 12px\">6</h4><h4 style=\"font-size: 9px; padding-left: 10px; padding-right: 10px; width: 90%; word-wrap: break-word; white-space: normal;\">https://cdn.i-scmp.com/sites/default/files/styles/768x768/public/d8/images/methode/2019/06/21/4909c71a-9316-11e9-a6c8-8445313d8ede_image_hires_052158.JPG?itok=MfjAQTji&v=1561065725</h4><img src=\"https://cdn.i-scmp.com/sites/default/files/styles/768x768/public/d8/images/methode/2019/06/21/4909c71a-9316-11e9-a6c8-8445313d8ede_image_hires_052158.JPG?itok=MfjAQTji&v=1561065725\" style=\"margin: 1px; width: 100px; border: 2px solid #ddd;\"/></div><div style=\"display: inline-block; width: 120px; vertical-align: top; text-align: center;\"><h4 style=\"font-size: 12px\">7</h4><h4 style=\"font-size: 9px; padding-left: 10px; padding-right: 10px; width: 90%; word-wrap: break-word; white-space: normal;\">https://img.thedailybeast.com/image/upload/c_crop,d_placeholder_euli9k,h_1440,w_2560,x_0,y_0/dpr_1.5/c_limit,w_1044/fl_lossy,q_auto/v1559345438/190531-chang-un-tease_wleajb</h4><img src=\"https://img.thedailybeast.com/image/upload/c_crop,d_placeholder_euli9k,h_1440,w_2560,x_0,y_0/dpr_1.5/c_limit,w_1044/fl_lossy,q_auto/v1559345438/190531-chang-un-tease_wleajb\" style=\"margin: 1px; width: 100px; border: 2px solid #ddd;\"/></div><div style=\"display: inline-block; width: 120px; vertical-align: top; text-align: center;\"><h4 style=\"font-size: 12px\">8</h4><h4 style=\"font-size: 9px; padding-left: 10px; padding-right: 10px; width: 90%; word-wrap: break-word; white-space: normal;\">https://www.biography.com/.image/t_share/MTIwNjA4NjM0MjAzODMzODY4/to-go-with-oly-2012-prkfeaturefiles.jpg</h4><img src=\"https://www.biography.com/.image/t_share/MTIwNjA4NjM0MjAzODMzODY4/to-go-with-oly-2012-prkfeaturefiles.jpg\" style=\"margin: 1px; width: 100px; border: 2px solid #ddd;\"/></div><div style=\"display: inline-block; width: 120px; vertical-align: top; text-align: center;\"><h4 style=\"font-size: 12px\">9</h4><h4 style=\"font-size: 9px; padding-left: 10px; padding-right: 10px; width: 90%; word-wrap: break-word; white-space: normal;\">https://media.voltron.voanews.com/Drupal/01live-166/styles/sourced/s3/reuters-pictures/2020/01/RTS2WX67.jpg?itok=uFwoOi2a</h4><img src=\"https://media.voltron.voanews.com/Drupal/01live-166/styles/sourced/s3/reuters-pictures/2020/01/RTS2WX67.jpg?itok=uFwoOi2a\" style=\"margin: 1px; width: 100px; border: 2px solid #ddd;\"/></div><div style=\"display: inline-block; width: 120px; vertical-align: top; text-align: center;\"><h4 style=\"font-size: 12px\">10</h4><h4 style=\"font-size: 9px; padding-left: 10px; padding-right: 10px; width: 90%; word-wrap: break-word; white-space: normal;\">https://image.cnbcfm.com/api/v1/image/106312389-1577369980326gettyimages-1152948850.jpeg?v=1578876889</h4><img src=\"https://image.cnbcfm.com/api/v1/image/106312389-1577369980326gettyimages-1152948850.jpeg?v=1578876889\" style=\"margin: 1px; width: 100px; border: 2px solid #ddd;\"/></div><div style=\"display: inline-block; width: 120px; vertical-align: top; text-align: center;\"><h4 style=\"font-size: 12px\">11</h4><h4 style=\"font-size: 9px; padding-left: 10px; padding-right: 10px; width: 90%; word-wrap: break-word; white-space: normal;\">https://s.france24.com/media/display/613e796a-af32-11e9-8cfc-005056bff430/w:1240/p:16x9/kim_jong_un_afp_000_1i22xi_0.jpg</h4><img src=\"https://s.france24.com/media/display/613e796a-af32-11e9-8cfc-005056bff430/w:1240/p:16x9/kim_jong_un_afp_000_1i22xi_0.jpg\" style=\"margin: 1px; width: 100px; border: 2px solid #ddd;\"/></div><div style=\"display: inline-block; width: 120px; vertical-align: top; text-align: center;\"><h4 style=\"font-size: 12px\">12</h4><h4 style=\"font-size: 9px; padding-left: 10px; padding-right: 10px; width: 90%; word-wrap: break-word; white-space: normal;\">https://cdn.cnn.com/cnnnext/dam/assets/200101032720-kim-jong-un-june-30-2019-01-exlarge-169.jpg</h4><img src=\"https://cdn.cnn.com/cnnnext/dam/assets/200101032720-kim-jong-un-june-30-2019-01-exlarge-169.jpg\" style=\"margin: 1px; width: 100px; border: 2px solid #ddd;\"/></div><div style=\"display: inline-block; width: 120px; vertical-align: top; text-align: center;\"><h4 style=\"font-size: 12px\">13</h4><h4 style=\"font-size: 9px; padding-left: 10px; padding-right: 10px; width: 90%; word-wrap: break-word; white-space: normal;\">https://www.ft.com/__origami/service/image/v2/images/raw/https%3A%2F%2Fs3-ap-northeast-1.amazonaws.com%2Fpsh-ex-ftnikkei-3937bb4%2Fimages%2F9%2F6%2F6%2F8%2F20258669-4-eng-GB%2FCropped-15549487280338864.jpg?source=nar-cms</h4><img src=\"https://www.ft.com/__origami/service/image/v2/images/raw/https%3A%2F%2Fs3-ap-northeast-1.amazonaws.com%2Fpsh-ex-ftnikkei-3937bb4%2Fimages%2F9%2F6%2F6%2F8%2F20258669-4-eng-GB%2FCropped-15549487280338864.jpg?source=nar-cms\" style=\"margin: 1px; width: 100px; border: 2px solid #ddd;\"/></div><div style=\"display: inline-block; width: 120px; vertical-align: top; text-align: center;\"><h4 style=\"font-size: 12px\">14</h4><h4 style=\"font-size: 9px; padding-left: 10px; padding-right: 10px; width: 90%; word-wrap: break-word; white-space: normal;\">https://d3i6fh83elv35t.cloudfront.net/static/2019/02/RTX6OXZQ-1024x709.jpg</h4><img src=\"https://d3i6fh83elv35t.cloudfront.net/static/2019/02/RTX6OXZQ-1024x709.jpg\" style=\"margin: 1px; width: 100px; border: 2px solid #ddd;\"/></div><div style=\"display: inline-block; width: 120px; vertical-align: top; text-align: center;\"><h4 style=\"font-size: 12px\">15</h4><h4 style=\"font-size: 9px; padding-left: 10px; padding-right: 10px; width: 90%; word-wrap: break-word; white-space: normal;\">https://cdn.cnn.com/cnnnext/dam/assets/190225204003-02-bernie-sanders-town-hall-vpx-exlarge-169.jpg</h4><img src=\"https://cdn.cnn.com/cnnnext/dam/assets/190225204003-02-bernie-sanders-town-hall-vpx-exlarge-169.jpg\" style=\"margin: 1px; width: 100px; border: 2px solid #ddd;\"/></div><div style=\"display: inline-block; width: 120px; vertical-align: top; text-align: center;\"><h4 style=\"font-size: 12px\">16</h4><h4 style=\"font-size: 9px; padding-left: 10px; padding-right: 10px; width: 90%; word-wrap: break-word; white-space: normal;\">https://www.washingtonpost.com/resizer/cxYi2P2Rab1HMjtQ00qizcMK7pc=/1484x0/arc-anglerfish-washpost-prod-washpost.s3.amazonaws.com/public/IFR2MYEUSUI6PCP2XOBCURW2LM.jpg</h4><img src=\"https://www.washingtonpost.com/resizer/cxYi2P2Rab1HMjtQ00qizcMK7pc=/1484x0/arc-anglerfish-washpost-prod-washpost.s3.amazonaws.com/public/IFR2MYEUSUI6PCP2XOBCURW2LM.jpg\" style=\"margin: 1px; width: 100px; border: 2px solid #ddd;\"/></div><div style=\"display: inline-block; width: 120px; vertical-align: top; text-align: center;\"><h4 style=\"font-size: 12px\">17</h4><h4 style=\"font-size: 9px; padding-left: 10px; padding-right: 10px; width: 90%; word-wrap: break-word; white-space: normal;\">https://i.insider.com/5b0e876f1ae66247008b4861?width=938&format=jpeg</h4><img src=\"https://i.insider.com/5b0e876f1ae66247008b4861?width=938&format=jpeg\" style=\"margin: 1px; width: 100px; border: 2px solid #ddd;\"/></div><div style=\"display: inline-block; width: 120px; vertical-align: top; text-align: center;\"><h4 style=\"font-size: 12px\">18</h4><h4 style=\"font-size: 9px; padding-left: 10px; padding-right: 10px; width: 90%; word-wrap: break-word; white-space: normal;\">https://static01.nyt.com/images/2018/03/29/world/28kim5/28kim5-videoSixteenByNineJumbo1600.jpg</h4><img src=\"https://static01.nyt.com/images/2018/03/29/world/28kim5/28kim5-videoSixteenByNineJumbo1600.jpg\" style=\"margin: 1px; width: 100px; border: 2px solid #ddd;\"/></div><div style=\"display: inline-block; width: 120px; vertical-align: top; text-align: center;\"><h4 style=\"font-size: 12px\">19</h4><h4 style=\"font-size: 9px; padding-left: 10px; padding-right: 10px; width: 90%; word-wrap: break-word; white-space: normal;\">https://thehill.com/sites/default/files/styles/article_full/public/trump-and-kim-jong-un-summit.jpg?itok=bYsS-eLj</h4><img src=\"https://thehill.com/sites/default/files/styles/article_full/public/trump-and-kim-jong-un-summit.jpg?itok=bYsS-eLj\" style=\"margin: 1px; width: 100px; border: 2px solid #ddd;\"/></div>"
      ],
      "text/plain": [
       "<IPython.core.display.HTML object>"
      ]
     },
     "metadata": {},
     "output_type": "display_data"
    },
    {
     "name": "stdout",
     "output_type": "stream",
     "text": [
      "plotting Wordpress images\n"
     ]
    },
    {
     "data": {
      "text/html": [
       "<div style=\"display: inline-block; width: 120px; vertical-align: top; text-align: center;\"><h4 style=\"font-size: 12px\">0</h4><h4 style=\"font-size: 9px; padding-left: 10px; padding-right: 10px; width: 90%; word-wrap: break-word; white-space: normal;\">https://firewallcafe.com/wp-content/uploads/2020/02/26/282345/google-1582773612-01-165x220.jpg</h4><img src=\"https://firewallcafe.com/wp-content/uploads/2020/02/26/282345/google-1582773612-01-165x220.jpg\" style=\"margin: 1px; width: 100px; border: 2px solid #ddd;\"/></div><div style=\"display: inline-block; width: 120px; vertical-align: top; text-align: center;\"><h4 style=\"font-size: 12px\">1</h4><h4 style=\"font-size: 9px; padding-left: 10px; padding-right: 10px; width: 90%; word-wrap: break-word; white-space: normal;\">https://firewallcafe.com/wp-content/uploads/2020/02/26/282345/google-1582773612-02-168x220.jpg</h4><img src=\"https://firewallcafe.com/wp-content/uploads/2020/02/26/282345/google-1582773612-02-168x220.jpg\" style=\"margin: 1px; width: 100px; border: 2px solid #ddd;\"/></div><div style=\"display: inline-block; width: 120px; vertical-align: top; text-align: center;\"><h4 style=\"font-size: 12px\">2</h4><h4 style=\"font-size: 9px; padding-left: 10px; padding-right: 10px; width: 90%; word-wrap: break-word; white-space: normal;\">https://firewallcafe.com/wp-content/uploads/2020/02/26/282345/google-1582773612-03-220x220.jpg</h4><img src=\"https://firewallcafe.com/wp-content/uploads/2020/02/26/282345/google-1582773612-03-220x220.jpg\" style=\"margin: 1px; width: 100px; border: 2px solid #ddd;\"/></div><div style=\"display: inline-block; width: 120px; vertical-align: top; text-align: center;\"><h4 style=\"font-size: 12px\">3</h4><h4 style=\"font-size: 9px; padding-left: 10px; padding-right: 10px; width: 90%; word-wrap: break-word; white-space: normal;\">https://firewallcafe.com/wp-content/uploads/2020/02/26/282345/google-1582773612-04.jpg</h4><img src=\"https://firewallcafe.com/wp-content/uploads/2020/02/26/282345/google-1582773612-04.jpg\" style=\"margin: 1px; width: 100px; border: 2px solid #ddd;\"/></div><div style=\"display: inline-block; width: 120px; vertical-align: top; text-align: center;\"><h4 style=\"font-size: 12px\">4</h4><h4 style=\"font-size: 9px; padding-left: 10px; padding-right: 10px; width: 90%; word-wrap: break-word; white-space: normal;\">https://firewallcafe.com/wp-content/uploads/2020/02/26/282345/google-1582773612-05-152x220.jpg</h4><img src=\"https://firewallcafe.com/wp-content/uploads/2020/02/26/282345/google-1582773612-05-152x220.jpg\" style=\"margin: 1px; width: 100px; border: 2px solid #ddd;\"/></div><div style=\"display: inline-block; width: 120px; vertical-align: top; text-align: center;\"><h4 style=\"font-size: 12px\">5</h4><h4 style=\"font-size: 9px; padding-left: 10px; padding-right: 10px; width: 90%; word-wrap: break-word; white-space: normal;\">https://firewallcafe.com/wp-content/uploads/2020/02/26/282345/google-1582773612-06.jpg</h4><img src=\"https://firewallcafe.com/wp-content/uploads/2020/02/26/282345/google-1582773612-06.jpg\" style=\"margin: 1px; width: 100px; border: 2px solid #ddd;\"/></div><div style=\"display: inline-block; width: 120px; vertical-align: top; text-align: center;\"><h4 style=\"font-size: 12px\">6</h4><h4 style=\"font-size: 9px; padding-left: 10px; padding-right: 10px; width: 90%; word-wrap: break-word; white-space: normal;\">https://firewallcafe.com/wp-content/uploads/2020/02/26/282345/google-1582773612-07.jpg</h4><img src=\"https://firewallcafe.com/wp-content/uploads/2020/02/26/282345/google-1582773612-07.jpg\" style=\"margin: 1px; width: 100px; border: 2px solid #ddd;\"/></div><div style=\"display: inline-block; width: 120px; vertical-align: top; text-align: center;\"><h4 style=\"font-size: 12px\">7</h4><h4 style=\"font-size: 9px; padding-left: 10px; padding-right: 10px; width: 90%; word-wrap: break-word; white-space: normal;\">https://firewallcafe.com/wp-content/uploads/2020/02/26/282345/google-1582773612-08.jpg</h4><img src=\"https://firewallcafe.com/wp-content/uploads/2020/02/26/282345/google-1582773612-08.jpg\" style=\"margin: 1px; width: 100px; border: 2px solid #ddd;\"/></div><div style=\"display: inline-block; width: 120px; vertical-align: top; text-align: center;\"><h4 style=\"font-size: 12px\">8</h4><h4 style=\"font-size: 9px; padding-left: 10px; padding-right: 10px; width: 90%; word-wrap: break-word; white-space: normal;\">https://firewallcafe.com/wp-content/uploads/2020/02/26/282345/google-1582773612-09.jpg</h4><img src=\"https://firewallcafe.com/wp-content/uploads/2020/02/26/282345/google-1582773612-09.jpg\" style=\"margin: 1px; width: 100px; border: 2px solid #ddd;\"/></div><div style=\"display: inline-block; width: 120px; vertical-align: top; text-align: center;\"><h4 style=\"font-size: 12px\">9</h4><h4 style=\"font-size: 9px; padding-left: 10px; padding-right: 10px; width: 90%; word-wrap: break-word; white-space: normal;\">https://firewallcafe.com/wp-content/uploads/2020/02/26/282345/google-1582773612-10-220x220.jpg</h4><img src=\"https://firewallcafe.com/wp-content/uploads/2020/02/26/282345/google-1582773612-10-220x220.jpg\" style=\"margin: 1px; width: 100px; border: 2px solid #ddd;\"/></div><div style=\"display: inline-block; width: 120px; vertical-align: top; text-align: center;\"><h4 style=\"font-size: 12px\">10</h4><h4 style=\"font-size: 9px; padding-left: 10px; padding-right: 10px; width: 90%; word-wrap: break-word; white-space: normal;\">https://firewallcafe.com/wp-content/uploads/2020/02/26/282345/google-1582773612-11-165x220.jpg</h4><img src=\"https://firewallcafe.com/wp-content/uploads/2020/02/26/282345/google-1582773612-11-165x220.jpg\" style=\"margin: 1px; width: 100px; border: 2px solid #ddd;\"/></div><div style=\"display: inline-block; width: 120px; vertical-align: top; text-align: center;\"><h4 style=\"font-size: 12px\">11</h4><h4 style=\"font-size: 9px; padding-left: 10px; padding-right: 10px; width: 90%; word-wrap: break-word; white-space: normal;\">https://firewallcafe.com/wp-content/uploads/2020/02/26/282345/google-1582773612-12.jpg</h4><img src=\"https://firewallcafe.com/wp-content/uploads/2020/02/26/282345/google-1582773612-12.jpg\" style=\"margin: 1px; width: 100px; border: 2px solid #ddd;\"/></div><div style=\"display: inline-block; width: 120px; vertical-align: top; text-align: center;\"><h4 style=\"font-size: 12px\">12</h4><h4 style=\"font-size: 9px; padding-left: 10px; padding-right: 10px; width: 90%; word-wrap: break-word; white-space: normal;\">https://firewallcafe.com/wp-content/uploads/2020/02/26/282345/google-1582773612-13.jpg</h4><img src=\"https://firewallcafe.com/wp-content/uploads/2020/02/26/282345/google-1582773612-13.jpg\" style=\"margin: 1px; width: 100px; border: 2px solid #ddd;\"/></div><div style=\"display: inline-block; width: 120px; vertical-align: top; text-align: center;\"><h4 style=\"font-size: 12px\">13</h4><h4 style=\"font-size: 9px; padding-left: 10px; padding-right: 10px; width: 90%; word-wrap: break-word; white-space: normal;\">https://firewallcafe.com/wp-content/uploads/2020/02/26/282345/google-1582773612-14.jpg</h4><img src=\"https://firewallcafe.com/wp-content/uploads/2020/02/26/282345/google-1582773612-14.jpg\" style=\"margin: 1px; width: 100px; border: 2px solid #ddd;\"/></div><div style=\"display: inline-block; width: 120px; vertical-align: top; text-align: center;\"><h4 style=\"font-size: 12px\">14</h4><h4 style=\"font-size: 9px; padding-left: 10px; padding-right: 10px; width: 90%; word-wrap: break-word; white-space: normal;\">https://firewallcafe.com/wp-content/uploads/2020/02/26/282345/google-1582773612-15.jpg</h4><img src=\"https://firewallcafe.com/wp-content/uploads/2020/02/26/282345/google-1582773612-15.jpg\" style=\"margin: 1px; width: 100px; border: 2px solid #ddd;\"/></div><div style=\"display: inline-block; width: 120px; vertical-align: top; text-align: center;\"><h4 style=\"font-size: 12px\">15</h4><h4 style=\"font-size: 9px; padding-left: 10px; padding-right: 10px; width: 90%; word-wrap: break-word; white-space: normal;\">https://firewallcafe.com/wp-content/uploads/2020/02/26/282345/google-1582773612-16.jpg</h4><img src=\"https://firewallcafe.com/wp-content/uploads/2020/02/26/282345/google-1582773612-16.jpg\" style=\"margin: 1px; width: 100px; border: 2px solid #ddd;\"/></div><div style=\"display: inline-block; width: 120px; vertical-align: top; text-align: center;\"><h4 style=\"font-size: 12px\">16</h4><h4 style=\"font-size: 9px; padding-left: 10px; padding-right: 10px; width: 90%; word-wrap: break-word; white-space: normal;\">https://firewallcafe.com/wp-content/uploads/2020/02/26/282345/google-1582773612-17.jpg</h4><img src=\"https://firewallcafe.com/wp-content/uploads/2020/02/26/282345/google-1582773612-17.jpg\" style=\"margin: 1px; width: 100px; border: 2px solid #ddd;\"/></div><div style=\"display: inline-block; width: 120px; vertical-align: top; text-align: center;\"><h4 style=\"font-size: 12px\">17</h4><h4 style=\"font-size: 9px; padding-left: 10px; padding-right: 10px; width: 90%; word-wrap: break-word; white-space: normal;\">https://firewallcafe.com/wp-content/uploads/2020/02/26/282345/google-1582773612-18-206x220.jpg</h4><img src=\"https://firewallcafe.com/wp-content/uploads/2020/02/26/282345/google-1582773612-18-206x220.jpg\" style=\"margin: 1px; width: 100px; border: 2px solid #ddd;\"/></div><div style=\"display: inline-block; width: 120px; vertical-align: top; text-align: center;\"><h4 style=\"font-size: 12px\">18</h4><h4 style=\"font-size: 9px; padding-left: 10px; padding-right: 10px; width: 90%; word-wrap: break-word; white-space: normal;\">https://firewallcafe.com/wp-content/uploads/2020/02/26/282345/google-1582773612-19.jpg</h4><img src=\"https://firewallcafe.com/wp-content/uploads/2020/02/26/282345/google-1582773612-19.jpg\" style=\"margin: 1px; width: 100px; border: 2px solid #ddd;\"/></div><div style=\"display: inline-block; width: 120px; vertical-align: top; text-align: center;\"><h4 style=\"font-size: 12px\">19</h4><h4 style=\"font-size: 9px; padding-left: 10px; padding-right: 10px; width: 90%; word-wrap: break-word; white-space: normal;\">https://firewallcafe.com/wp-content/uploads/2020/02/26/282345/google-1582773612-20.jpg</h4><img src=\"https://firewallcafe.com/wp-content/uploads/2020/02/26/282345/google-1582773612-20.jpg\" style=\"margin: 1px; width: 100px; border: 2px solid #ddd;\"/></div>"
      ],
      "text/plain": [
       "<IPython.core.display.HTML object>"
      ]
     },
     "metadata": {},
     "output_type": "display_data"
    },
    {
     "name": "stdout",
     "output_type": "stream",
     "text": [
      "plotting DB images\n"
     ]
    },
    {
     "data": {
      "text/html": [
       "<div style=\"display: inline-block; width: 120px; vertical-align: top; text-align: center;\"><h4 style=\"font-size: 12px\">0</h4><h4 style=\"font-size: 9px; padding-left: 10px; padding-right: 10px; width: 90%; word-wrap: break-word; white-space: normal;\">https://upload.wikimedia.org/wikipedia/commons/thumb/e/e1/Hitler_portrait_crop.jpg/220px-Hitler_portrait_crop.jpg</h4><img src=\"https://upload.wikimedia.org/wikipedia/commons/thumb/e/e1/Hitler_portrait_crop.jpg/220px-Hitler_portrait_crop.jpg\" style=\"margin: 1px; width: 100px; border: 2px solid #ddd;\"/></div><div style=\"display: inline-block; width: 120px; vertical-align: top; text-align: center;\"><h4 style=\"font-size: 12px\">1</h4><h4 style=\"font-size: 9px; padding-left: 10px; padding-right: 10px; width: 90%; word-wrap: break-word; white-space: normal;\">https://cdn.britannica.com/58/129958-050-C3FE2DD2/Adolf-Hitler-1933.jpg</h4><img src=\"https://cdn.britannica.com/58/129958-050-C3FE2DD2/Adolf-Hitler-1933.jpg\" style=\"margin: 1px; width: 100px; border: 2px solid #ddd;\"/></div><div style=\"display: inline-block; width: 120px; vertical-align: top; text-align: center;\"><h4 style=\"font-size: 12px\">2</h4><h4 style=\"font-size: 9px; padding-left: 10px; padding-right: 10px; width: 90%; word-wrap: break-word; white-space: normal;\">https://www.biography.com/.image/t_share/MTE4MDAzNDEwNTU1MDc4MTU4/adolf-hitler-9340144-1-402.jpg</h4><img src=\"https://www.biography.com/.image/t_share/MTE4MDAzNDEwNTU1MDc4MTU4/adolf-hitler-9340144-1-402.jpg\" style=\"margin: 1px; width: 100px; border: 2px solid #ddd;\"/></div><div style=\"display: inline-block; width: 120px; vertical-align: top; text-align: center;\"><h4 style=\"font-size: 12px\">3</h4><h4 style=\"font-size: 9px; padding-left: 10px; padding-right: 10px; width: 90%; word-wrap: break-word; white-space: normal;\">https://images.jpost.com/image/upload/f_auto,fl_lossy/t_JD_ArticleMainImageFaceDetect/444512</h4><img src=\"https://images.jpost.com/image/upload/f_auto,fl_lossy/t_JD_ArticleMainImageFaceDetect/444512\" style=\"margin: 1px; width: 100px; border: 2px solid #ddd;\"/></div><div style=\"display: inline-block; width: 120px; vertical-align: top; text-align: center;\"><h4 style=\"font-size: 12px\">4</h4><h4 style=\"font-size: 9px; padding-left: 10px; padding-right: 10px; width: 90%; word-wrap: break-word; white-space: normal;\">https://upload.wikimedia.org/wikipedia/commons/thumb/e/ee/Adolf_Hitler_Berghof-1936.jpg/170px-Adolf_Hitler_Berghof-1936.jpg</h4><img src=\"https://upload.wikimedia.org/wikipedia/commons/thumb/e/ee/Adolf_Hitler_Berghof-1936.jpg/170px-Adolf_Hitler_Berghof-1936.jpg\" style=\"margin: 1px; width: 100px; border: 2px solid #ddd;\"/></div><div style=\"display: inline-block; width: 120px; vertical-align: top; text-align: center;\"><h4 style=\"font-size: 12px\">5</h4><h4 style=\"font-size: 9px; padding-left: 10px; padding-right: 10px; width: 90%; word-wrap: break-word; white-space: normal;\">https://img.thedailybeast.com/image/upload/c_crop,d_placeholder_euli9k,h_1439,w_2560,x_0,y_0/dpr_1.5/c_limit,w_1044/fl_lossy,q_auto/v1492182102/articles/2015/04/30/hitler-s-strange-last-orders/150430-kempowski-hitler-tease2_xdgmdi</h4><img src=\"https://img.thedailybeast.com/image/upload/c_crop,d_placeholder_euli9k,h_1439,w_2560,x_0,y_0/dpr_1.5/c_limit,w_1044/fl_lossy,q_auto/v1492182102/articles/2015/04/30/hitler-s-strange-last-orders/150430-kempowski-hitler-tease2_xdgmdi\" style=\"margin: 1px; width: 100px; border: 2px solid #ddd;\"/></div><div style=\"display: inline-block; width: 120px; vertical-align: top; text-align: center;\"><h4 style=\"font-size: 12px\">6</h4><h4 style=\"font-size: 9px; padding-left: 10px; padding-right: 10px; width: 90%; word-wrap: break-word; white-space: normal;\">https://i.insider.com/5511876decad045577176cfe?width=1100&format=jpeg&auto=webp</h4><img src=\"https://i.insider.com/5511876decad045577176cfe?width=1100&format=jpeg&auto=webp\" style=\"margin: 1px; width: 100px; border: 2px solid #ddd;\"/></div><div style=\"display: inline-block; width: 120px; vertical-align: top; text-align: center;\"><h4 style=\"font-size: 12px\">7</h4><h4 style=\"font-size: 9px; padding-left: 10px; padding-right: 10px; width: 90%; word-wrap: break-word; white-space: normal;\">https://images.jpost.com/image/upload/f_auto,fl_lossy/t_JD_ArticleMainImageFaceDetect/434372</h4><img src=\"https://images.jpost.com/image/upload/f_auto,fl_lossy/t_JD_ArticleMainImageFaceDetect/434372\" style=\"margin: 1px; width: 100px; border: 2px solid #ddd;\"/></div><div style=\"display: inline-block; width: 120px; vertical-align: top; text-align: center;\"><h4 style=\"font-size: 12px\">8</h4><h4 style=\"font-size: 9px; padding-left: 10px; padding-right: 10px; width: 90%; word-wrap: break-word; white-space: normal;\">https://www.historyonthenet.com/wp-content/uploads/2014/11/PROD-Adolf-Hitler-whrend-einer-Rede.jpg</h4><img src=\"https://www.historyonthenet.com/wp-content/uploads/2014/11/PROD-Adolf-Hitler-whrend-einer-Rede.jpg\" style=\"margin: 1px; width: 100px; border: 2px solid #ddd;\"/></div><div style=\"display: inline-block; width: 120px; vertical-align: top; text-align: center;\"><h4 style=\"font-size: 12px\">9</h4><h4 style=\"font-size: 9px; padding-left: 10px; padding-right: 10px; width: 90%; word-wrap: break-word; white-space: normal;\">https://media.newyorker.com/photos/5ad75d81b231f616c3247feb/2:2/w_1666,h_1666,c_limit/180430_r31962.jpg</h4><img src=\"https://media.newyorker.com/photos/5ad75d81b231f616c3247feb/2:2/w_1666,h_1666,c_limit/180430_r31962.jpg\" style=\"margin: 1px; width: 100px; border: 2px solid #ddd;\"/></div><div style=\"display: inline-block; width: 120px; vertical-align: top; text-align: center;\"><h4 style=\"font-size: 12px\">10</h4><h4 style=\"font-size: 9px; padding-left: 10px; padding-right: 10px; width: 90%; word-wrap: break-word; white-space: normal;\">https://jewishvirtuallibrary.org/jsource/images/People/Adolf_Hitler1.jpg</h4><img src=\"https://jewishvirtuallibrary.org/jsource/images/People/Adolf_Hitler1.jpg\" style=\"margin: 1px; width: 100px; border: 2px solid #ddd;\"/></div><div style=\"display: inline-block; width: 120px; vertical-align: top; text-align: center;\"><h4 style=\"font-size: 12px\">11</h4><h4 style=\"font-size: 9px; padding-left: 10px; padding-right: 10px; width: 90%; word-wrap: break-word; white-space: normal;\">https://images.theconversation.com/files/193819/original/file-20171108-14177-a1lv3m.png?ixlib=rb-1.1.0&q=45&auto=format&w=926&fit=clip</h4><img src=\"https://images.theconversation.com/files/193819/original/file-20171108-14177-a1lv3m.png?ixlib=rb-1.1.0&q=45&auto=format&w=926&fit=clip\" style=\"margin: 1px; width: 100px; border: 2px solid #ddd;\"/></div><div style=\"display: inline-block; width: 120px; vertical-align: top; text-align: center;\"><h4 style=\"font-size: 12px\">12</h4><h4 style=\"font-size: 9px; padding-left: 10px; padding-right: 10px; width: 90%; word-wrap: break-word; white-space: normal;\">https://www.newstatesman.com/sites/default/files/styles/lead_image/public/Longreads_2019/08/2019_35_hitler.jpg?itok=JJ7SwA8r</h4><img src=\"https://www.newstatesman.com/sites/default/files/styles/lead_image/public/Longreads_2019/08/2019_35_hitler.jpg?itok=JJ7SwA8r\" style=\"margin: 1px; width: 100px; border: 2px solid #ddd;\"/></div><div style=\"display: inline-block; width: 120px; vertical-align: top; text-align: center;\"><h4 style=\"font-size: 12px\">13</h4><h4 style=\"font-size: 9px; padding-left: 10px; padding-right: 10px; width: 90%; word-wrap: break-word; white-space: normal;\">https://img.thedailybeast.com/image/upload/c_crop,d_placeholder_euli9k,h_1439,w_2560,x_0,y_0/dpr_1.5/c_limit,w_1044/fl_lossy,q_auto/v1492198541/articles/2014/06/27/adolf-hitler-secret-billionaire/140626-hines-hitler-tease_yb7yyv</h4><img src=\"https://img.thedailybeast.com/image/upload/c_crop,d_placeholder_euli9k,h_1439,w_2560,x_0,y_0/dpr_1.5/c_limit,w_1044/fl_lossy,q_auto/v1492198541/articles/2014/06/27/adolf-hitler-secret-billionaire/140626-hines-hitler-tease_yb7yyv\" style=\"margin: 1px; width: 100px; border: 2px solid #ddd;\"/></div><div style=\"display: inline-block; width: 120px; vertical-align: top; text-align: center;\"><h4 style=\"font-size: 12px\">14</h4><h4 style=\"font-size: 9px; padding-left: 10px; padding-right: 10px; width: 90%; word-wrap: break-word; white-space: normal;\">https://static.independent.co.uk/s3fs-public/thumbnails/image/2013/09/11/15/hitler.jpg?w968h681</h4><img src=\"https://static.independent.co.uk/s3fs-public/thumbnails/image/2013/09/11/15/hitler.jpg?w968h681\" style=\"margin: 1px; width: 100px; border: 2px solid #ddd;\"/></div><div style=\"display: inline-block; width: 120px; vertical-align: top; text-align: center;\"><h4 style=\"font-size: 12px\">15</h4><h4 style=\"font-size: 9px; padding-left: 10px; padding-right: 10px; width: 90%; word-wrap: break-word; white-space: normal;\">https://www.telegraph.co.uk/content/dam/news/2016/07/12/hitler_1881083c_trans_NvBQzQNjv4Bq6f7LZ7seCW96zliyTYX6ViIMpBIiS72GQ3QPBtusw-s.jpg?imwidth=450</h4><img src=\"https://www.telegraph.co.uk/content/dam/news/2016/07/12/hitler_1881083c_trans_NvBQzQNjv4Bq6f7LZ7seCW96zliyTYX6ViIMpBIiS72GQ3QPBtusw-s.jpg?imwidth=450\" style=\"margin: 1px; width: 100px; border: 2px solid #ddd;\"/></div><div style=\"display: inline-block; width: 120px; vertical-align: top; text-align: center;\"><h4 style=\"font-size: 12px\">16</h4><h4 style=\"font-size: 9px; padding-left: 10px; padding-right: 10px; width: 90%; word-wrap: break-word; white-space: normal;\">https://annefrank.freetls.fastly.net/media/filer_public_thumbnails/filer_public/17/7d/177d0a29-d701-4897-b181-796316b8ef04/afs_de_p38.jpg__2160x1296_q85_crop_subsampling-2_upscale.jpg</h4><img src=\"https://annefrank.freetls.fastly.net/media/filer_public_thumbnails/filer_public/17/7d/177d0a29-d701-4897-b181-796316b8ef04/afs_de_p38.jpg__2160x1296_q85_crop_subsampling-2_upscale.jpg\" style=\"margin: 1px; width: 100px; border: 2px solid #ddd;\"/></div><div style=\"display: inline-block; width: 120px; vertical-align: top; text-align: center;\"><h4 style=\"font-size: 12px\">17</h4><h4 style=\"font-size: 9px; padding-left: 10px; padding-right: 10px; width: 90%; word-wrap: break-word; white-space: normal;\">https://www.nzherald.co.nz/resizer/xGFLrQ5Wt-o1y8YGvdtu-5Po5lQ=/360x384/filters:quality(70)/arc-anglerfish-syd-prod-nzme.s3.amazonaws.com/public/ISACFQXKOVDJBEDVWJ7QNGNBRU.jpg</h4><img src=\"https://www.nzherald.co.nz/resizer/xGFLrQ5Wt-o1y8YGvdtu-5Po5lQ=/360x384/filters:quality(70)/arc-anglerfish-syd-prod-nzme.s3.amazonaws.com/public/ISACFQXKOVDJBEDVWJ7QNGNBRU.jpg\" style=\"margin: 1px; width: 100px; border: 2px solid #ddd;\"/></div><div style=\"display: inline-block; width: 120px; vertical-align: top; text-align: center;\"><h4 style=\"font-size: 12px\">18</h4><h4 style=\"font-size: 9px; padding-left: 10px; padding-right: 10px; width: 90%; word-wrap: break-word; white-space: normal;\">https://thenypost.files.wordpress.com/2016/02/hitler-3.jpg?quality=80&strip=all&w=618&h=410&crop=1</h4><img src=\"https://thenypost.files.wordpress.com/2016/02/hitler-3.jpg?quality=80&strip=all&w=618&h=410&crop=1\" style=\"margin: 1px; width: 100px; border: 2px solid #ddd;\"/></div><div style=\"display: inline-block; width: 120px; vertical-align: top; text-align: center;\"><h4 style=\"font-size: 12px\">19</h4><h4 style=\"font-size: 9px; padding-left: 10px; padding-right: 10px; width: 90%; word-wrap: break-word; white-space: normal;\">https://i.kym-cdn.com/entries/icons/original/000/011/617/adolf-hitler.jpg</h4><img src=\"https://i.kym-cdn.com/entries/icons/original/000/011/617/adolf-hitler.jpg\" style=\"margin: 1px; width: 100px; border: 2px solid #ddd;\"/></div>"
      ],
      "text/plain": [
       "<IPython.core.display.HTML object>"
      ]
     },
     "metadata": {},
     "output_type": "display_data"
    },
    {
     "name": "stdout",
     "output_type": "stream",
     "text": [
      "plotting Wordpress images\n"
     ]
    },
    {
     "data": {
      "text/html": [
       "<div style=\"display: inline-block; width: 120px; vertical-align: top; text-align: center;\"><h4 style=\"font-size: 12px\">0</h4><h4 style=\"font-size: 9px; padding-left: 10px; padding-right: 10px; width: 90%; word-wrap: break-word; white-space: normal;\">https://firewallcafe.com/wp-content/uploads/2020/02/26/282304/google-1582773368-01-125x220.png</h4><img src=\"https://firewallcafe.com/wp-content/uploads/2020/02/26/282304/google-1582773368-01-125x220.png\" style=\"margin: 1px; width: 100px; border: 2px solid #ddd;\"/></div><div style=\"display: inline-block; width: 120px; vertical-align: top; text-align: center;\"><h4 style=\"font-size: 12px\">1</h4><h4 style=\"font-size: 9px; padding-left: 10px; padding-right: 10px; width: 90%; word-wrap: break-word; white-space: normal;\">https://firewallcafe.com/wp-content/uploads/2020/02/26/282304/google-1582773368-02.jpg</h4><img src=\"https://firewallcafe.com/wp-content/uploads/2020/02/26/282304/google-1582773368-02.jpg\" style=\"margin: 1px; width: 100px; border: 2px solid #ddd;\"/></div><div style=\"display: inline-block; width: 120px; vertical-align: top; text-align: center;\"><h4 style=\"font-size: 12px\">2</h4><h4 style=\"font-size: 9px; padding-left: 10px; padding-right: 10px; width: 90%; word-wrap: break-word; white-space: normal;\">https://firewallcafe.com/wp-content/uploads/2020/02/26/282304/google-1582773368-03-146x220.jpg</h4><img src=\"https://firewallcafe.com/wp-content/uploads/2020/02/26/282304/google-1582773368-03-146x220.jpg\" style=\"margin: 1px; width: 100px; border: 2px solid #ddd;\"/></div><div style=\"display: inline-block; width: 120px; vertical-align: top; text-align: center;\"><h4 style=\"font-size: 12px\">3</h4><h4 style=\"font-size: 9px; padding-left: 10px; padding-right: 10px; width: 90%; word-wrap: break-word; white-space: normal;\">https://firewallcafe.com/wp-content/uploads/2020/02/26/282304/google-1582773368-04-220x220.jpg</h4><img src=\"https://firewallcafe.com/wp-content/uploads/2020/02/26/282304/google-1582773368-04-220x220.jpg\" style=\"margin: 1px; width: 100px; border: 2px solid #ddd;\"/></div><div style=\"display: inline-block; width: 120px; vertical-align: top; text-align: center;\"><h4 style=\"font-size: 12px\">4</h4><h4 style=\"font-size: 9px; padding-left: 10px; padding-right: 10px; width: 90%; word-wrap: break-word; white-space: normal;\">https://firewallcafe.com/wp-content/uploads/2020/02/26/282304/google-1582773368-05-146x220.jpg</h4><img src=\"https://firewallcafe.com/wp-content/uploads/2020/02/26/282304/google-1582773368-05-146x220.jpg\" style=\"margin: 1px; width: 100px; border: 2px solid #ddd;\"/></div><div style=\"display: inline-block; width: 120px; vertical-align: top; text-align: center;\"><h4 style=\"font-size: 12px\">5</h4><h4 style=\"font-size: 9px; padding-left: 10px; padding-right: 10px; width: 90%; word-wrap: break-word; white-space: normal;\">https://firewallcafe.com/wp-content/uploads/2020/02/26/282304/google-1582773368-06-146x220.jpg</h4><img src=\"https://firewallcafe.com/wp-content/uploads/2020/02/26/282304/google-1582773368-06-146x220.jpg\" style=\"margin: 1px; width: 100px; border: 2px solid #ddd;\"/></div><div style=\"display: inline-block; width: 120px; vertical-align: top; text-align: center;\"><h4 style=\"font-size: 12px\">6</h4><h4 style=\"font-size: 9px; padding-left: 10px; padding-right: 10px; width: 90%; word-wrap: break-word; white-space: normal;\">https://firewallcafe.com/wp-content/uploads/2020/02/26/282304/google-1582773368-07.jpg</h4><img src=\"https://firewallcafe.com/wp-content/uploads/2020/02/26/282304/google-1582773368-07.jpg\" style=\"margin: 1px; width: 100px; border: 2px solid #ddd;\"/></div><div style=\"display: inline-block; width: 120px; vertical-align: top; text-align: center;\"><h4 style=\"font-size: 12px\">7</h4><h4 style=\"font-size: 9px; padding-left: 10px; padding-right: 10px; width: 90%; word-wrap: break-word; white-space: normal;\">https://firewallcafe.com/wp-content/uploads/2020/02/26/282304/google-1582773368-08.png</h4><img src=\"https://firewallcafe.com/wp-content/uploads/2020/02/26/282304/google-1582773368-08.png\" style=\"margin: 1px; width: 100px; border: 2px solid #ddd;\"/></div><div style=\"display: inline-block; width: 120px; vertical-align: top; text-align: center;\"><h4 style=\"font-size: 12px\">8</h4><h4 style=\"font-size: 9px; padding-left: 10px; padding-right: 10px; width: 90%; word-wrap: break-word; white-space: normal;\">https://firewallcafe.com/wp-content/uploads/2020/02/26/282304/google-1582773368-09-146x220.jpg</h4><img src=\"https://firewallcafe.com/wp-content/uploads/2020/02/26/282304/google-1582773368-09-146x220.jpg\" style=\"margin: 1px; width: 100px; border: 2px solid #ddd;\"/></div><div style=\"display: inline-block; width: 120px; vertical-align: top; text-align: center;\"><h4 style=\"font-size: 12px\">9</h4><h4 style=\"font-size: 9px; padding-left: 10px; padding-right: 10px; width: 90%; word-wrap: break-word; white-space: normal;\">https://firewallcafe.com/wp-content/uploads/2020/02/26/282304/google-1582773368-10-116x220.jpg</h4><img src=\"https://firewallcafe.com/wp-content/uploads/2020/02/26/282304/google-1582773368-10-116x220.jpg\" style=\"margin: 1px; width: 100px; border: 2px solid #ddd;\"/></div><div style=\"display: inline-block; width: 120px; vertical-align: top; text-align: center;\"><h4 style=\"font-size: 12px\">10</h4><h4 style=\"font-size: 9px; padding-left: 10px; padding-right: 10px; width: 90%; word-wrap: break-word; white-space: normal;\">https://firewallcafe.com/wp-content/uploads/2020/02/26/282304/google-1582773368-11.jpg</h4><img src=\"https://firewallcafe.com/wp-content/uploads/2020/02/26/282304/google-1582773368-11.jpg\" style=\"margin: 1px; width: 100px; border: 2px solid #ddd;\"/></div><div style=\"display: inline-block; width: 120px; vertical-align: top; text-align: center;\"><h4 style=\"font-size: 12px\">11</h4><h4 style=\"font-size: 9px; padding-left: 10px; padding-right: 10px; width: 90%; word-wrap: break-word; white-space: normal;\">https://firewallcafe.com/wp-content/uploads/2020/02/26/282304/google-1582773368-12-164x220.jpg</h4><img src=\"https://firewallcafe.com/wp-content/uploads/2020/02/26/282304/google-1582773368-12-164x220.jpg\" style=\"margin: 1px; width: 100px; border: 2px solid #ddd;\"/></div><div style=\"display: inline-block; width: 120px; vertical-align: top; text-align: center;\"><h4 style=\"font-size: 12px\">12</h4><h4 style=\"font-size: 9px; padding-left: 10px; padding-right: 10px; width: 90%; word-wrap: break-word; white-space: normal;\">https://firewallcafe.com/wp-content/uploads/2020/02/26/282304/google-1582773368-13-154x220.jpg</h4><img src=\"https://firewallcafe.com/wp-content/uploads/2020/02/26/282304/google-1582773368-13-154x220.jpg\" style=\"margin: 1px; width: 100px; border: 2px solid #ddd;\"/></div><div style=\"display: inline-block; width: 120px; vertical-align: top; text-align: center;\"><h4 style=\"font-size: 12px\">13</h4><h4 style=\"font-size: 9px; padding-left: 10px; padding-right: 10px; width: 90%; word-wrap: break-word; white-space: normal;\">https://firewallcafe.com/wp-content/uploads/2020/02/26/282304/google-1582773368-14-151x220.jpg</h4><img src=\"https://firewallcafe.com/wp-content/uploads/2020/02/26/282304/google-1582773368-14-151x220.jpg\" style=\"margin: 1px; width: 100px; border: 2px solid #ddd;\"/></div><div style=\"display: inline-block; width: 120px; vertical-align: top; text-align: center;\"><h4 style=\"font-size: 12px\">14</h4><h4 style=\"font-size: 9px; padding-left: 10px; padding-right: 10px; width: 90%; word-wrap: break-word; white-space: normal;\">https://firewallcafe.com/wp-content/uploads/2020/02/26/282304/google-1582773368-15.jpg</h4><img src=\"https://firewallcafe.com/wp-content/uploads/2020/02/26/282304/google-1582773368-15.jpg\" style=\"margin: 1px; width: 100px; border: 2px solid #ddd;\"/></div><div style=\"display: inline-block; width: 120px; vertical-align: top; text-align: center;\"><h4 style=\"font-size: 12px\">15</h4><h4 style=\"font-size: 9px; padding-left: 10px; padding-right: 10px; width: 90%; word-wrap: break-word; white-space: normal;\">https://firewallcafe.com/wp-content/uploads/2020/02/26/282304/google-1582773368-16.jpg</h4><img src=\"https://firewallcafe.com/wp-content/uploads/2020/02/26/282304/google-1582773368-16.jpg\" style=\"margin: 1px; width: 100px; border: 2px solid #ddd;\"/></div><div style=\"display: inline-block; width: 120px; vertical-align: top; text-align: center;\"><h4 style=\"font-size: 12px\">16</h4><h4 style=\"font-size: 9px; padding-left: 10px; padding-right: 10px; width: 90%; word-wrap: break-word; white-space: normal;\">https://firewallcafe.com/wp-content/uploads/2020/02/26/282304/google-1582773368-17.jpg</h4><img src=\"https://firewallcafe.com/wp-content/uploads/2020/02/26/282304/google-1582773368-17.jpg\" style=\"margin: 1px; width: 100px; border: 2px solid #ddd;\"/></div><div style=\"display: inline-block; width: 120px; vertical-align: top; text-align: center;\"><h4 style=\"font-size: 12px\">17</h4><h4 style=\"font-size: 9px; padding-left: 10px; padding-right: 10px; width: 90%; word-wrap: break-word; white-space: normal;\">https://firewallcafe.com/wp-content/uploads/2020/02/26/282304/google-1582773368-18-141x220.jpg</h4><img src=\"https://firewallcafe.com/wp-content/uploads/2020/02/26/282304/google-1582773368-18-141x220.jpg\" style=\"margin: 1px; width: 100px; border: 2px solid #ddd;\"/></div><div style=\"display: inline-block; width: 120px; vertical-align: top; text-align: center;\"><h4 style=\"font-size: 12px\">18</h4><h4 style=\"font-size: 9px; padding-left: 10px; padding-right: 10px; width: 90%; word-wrap: break-word; white-space: normal;\">https://firewallcafe.com/wp-content/uploads/2020/02/26/282304/google-1582773368-19-143x220.jpg</h4><img src=\"https://firewallcafe.com/wp-content/uploads/2020/02/26/282304/google-1582773368-19-143x220.jpg\" style=\"margin: 1px; width: 100px; border: 2px solid #ddd;\"/></div><div style=\"display: inline-block; width: 120px; vertical-align: top; text-align: center;\"><h4 style=\"font-size: 12px\">19</h4><h4 style=\"font-size: 9px; padding-left: 10px; padding-right: 10px; width: 90%; word-wrap: break-word; white-space: normal;\">https://firewallcafe.com/wp-content/uploads/2020/02/26/282304/google-1582773368-20-171x220.jpg</h4><img src=\"https://firewallcafe.com/wp-content/uploads/2020/02/26/282304/google-1582773368-20-171x220.jpg\" style=\"margin: 1px; width: 100px; border: 2px solid #ddd;\"/></div>"
      ],
      "text/plain": [
       "<IPython.core.display.HTML object>"
      ]
     },
     "metadata": {},
     "output_type": "display_data"
    },
    {
     "name": "stdout",
     "output_type": "stream",
     "text": [
      "plotting DB images\n"
     ]
    },
    {
     "data": {
      "text/html": [
       "<div style=\"display: inline-block; width: 120px; vertical-align: top; text-align: center;\"><h4 style=\"font-size: 12px\">0</h4><h4 style=\"font-size: 9px; padding-left: 10px; padding-right: 10px; width: 90%; word-wrap: break-word; white-space: normal;\">https://danieljmitchell.files.wordpress.com/2013/12/communism-in-real-life.jpg?w=169&h=298</h4><img src=\"https://danieljmitchell.files.wordpress.com/2013/12/communism-in-real-life.jpg?w=169&h=298\" style=\"margin: 1px; width: 100px; border: 2px solid #ddd;\"/></div><div style=\"display: inline-block; width: 120px; vertical-align: top; text-align: center;\"><h4 style=\"font-size: 12px\">1</h4><h4 style=\"font-size: 9px; padding-left: 10px; padding-right: 10px; width: 90%; word-wrap: break-word; white-space: normal;\">https://theestablishment.co/wp-content/uploads/2018/08/1S6_MGO8r_pskL61hxHoSaA-1.jpg</h4><img src=\"https://theestablishment.co/wp-content/uploads/2018/08/1S6_MGO8r_pskL61hxHoSaA-1.jpg\" style=\"margin: 1px; width: 100px; border: 2px solid #ddd;\"/></div><div style=\"display: inline-block; width: 120px; vertical-align: top; text-align: center;\"><h4 style=\"font-size: 12px\">2</h4><h4 style=\"font-size: 9px; padding-left: 10px; padding-right: 10px; width: 90%; word-wrap: break-word; white-space: normal;\">https://img.thedailybeast.com/image/upload/c_crop,d_placeholder_euli9k/dpr_1.5/c_limit,w_690/fl_lossy,q_auto/v1/articles/2012/09/28/communism-and-fascism-the-reason-they-are-so-similar/devil-in-history-cover_bipstg</h4><img src=\"https://img.thedailybeast.com/image/upload/c_crop,d_placeholder_euli9k/dpr_1.5/c_limit,w_690/fl_lossy,q_auto/v1/articles/2012/09/28/communism-and-fascism-the-reason-they-are-so-similar/devil-in-history-cover_bipstg\" style=\"margin: 1px; width: 100px; border: 2px solid #ddd;\"/></div><div style=\"display: inline-block; width: 120px; vertical-align: top; text-align: center;\"><h4 style=\"font-size: 12px\">3</h4><h4 style=\"font-size: 9px; padding-left: 10px; padding-right: 10px; width: 90%; word-wrap: break-word; white-space: normal;\">https://pbs.twimg.com/media/DmcvlJAUwAAWtFp.jpg</h4><img src=\"https://pbs.twimg.com/media/DmcvlJAUwAAWtFp.jpg\" style=\"margin: 1px; width: 100px; border: 2px solid #ddd;\"/></div><div style=\"display: inline-block; width: 120px; vertical-align: top; text-align: center;\"><h4 style=\"font-size: 12px\">4</h4><h4 style=\"font-size: 9px; padding-left: 10px; padding-right: 10px; width: 90%; word-wrap: break-word; white-space: normal;\">https://images-na.ssl-images-amazon.com/images/I/319zSu8gXDL._SX331_BO1,204,203,200_.jpg</h4><img src=\"https://images-na.ssl-images-amazon.com/images/I/319zSu8gXDL._SX331_BO1,204,203,200_.jpg\" style=\"margin: 1px; width: 100px; border: 2px solid #ddd;\"/></div><div style=\"display: inline-block; width: 120px; vertical-align: top; text-align: center;\"><h4 style=\"font-size: 12px\">5</h4><h4 style=\"font-size: 9px; padding-left: 10px; padding-right: 10px; width: 90%; word-wrap: break-word; white-space: normal;\">https://images-na.ssl-images-amazon.com/images/I/51ej2DDknNL._SX330_BO1,204,203,200_.jpg</h4><img src=\"https://images-na.ssl-images-amazon.com/images/I/51ej2DDknNL._SX330_BO1,204,203,200_.jpg\" style=\"margin: 1px; width: 100px; border: 2px solid #ddd;\"/></div><div style=\"display: inline-block; width: 120px; vertical-align: top; text-align: center;\"><h4 style=\"font-size: 12px\">6</h4><h4 style=\"font-size: 9px; padding-left: 10px; padding-right: 10px; width: 90%; word-wrap: break-word; white-space: normal;\">https://www.washingtonpost.com/wp-apps/imrs.php?src=https://arc-anglerfish-washpost-prod-washpost.s3.amazonaws.com/public/ZSFM7XAC7YZFRJDVHOUFAGV3EU.jpg&w=767</h4><img src=\"https://www.washingtonpost.com/wp-apps/imrs.php?src=https://arc-anglerfish-washpost-prod-washpost.s3.amazonaws.com/public/ZSFM7XAC7YZFRJDVHOUFAGV3EU.jpg&w=767\" style=\"margin: 1px; width: 100px; border: 2px solid #ddd;\"/></div><div style=\"display: inline-block; width: 120px; vertical-align: top; text-align: center;\"><h4 style=\"font-size: 12px\">7</h4><h4 style=\"font-size: 9px; padding-left: 10px; padding-right: 10px; width: 90%; word-wrap: break-word; white-space: normal;\">https://assets.forwardcdn.com/images/cropped/symbol-combo-1506965295.jpg</h4><img src=\"https://assets.forwardcdn.com/images/cropped/symbol-combo-1506965295.jpg\" style=\"margin: 1px; width: 100px; border: 2px solid #ddd;\"/></div><div style=\"display: inline-block; width: 120px; vertical-align: top; text-align: center;\"><h4 style=\"font-size: 12px\">8</h4><h4 style=\"font-size: 9px; padding-left: 10px; padding-right: 10px; width: 90%; word-wrap: break-word; white-space: normal;\">http://resizer.shared.arcpublishing.com/nItJP-RjPGlvTXVLW1HRWnb-8ZU=/arc-anglerfish-arc2-prod-bonnier/public/AOHXBSA7JSRRWHHA46NGX2NL2E.jpg</h4><img src=\"http://resizer.shared.arcpublishing.com/nItJP-RjPGlvTXVLW1HRWnb-8ZU=/arc-anglerfish-arc2-prod-bonnier/public/AOHXBSA7JSRRWHHA46NGX2NL2E.jpg\" style=\"margin: 1px; width: 100px; border: 2px solid #ddd;\"/></div><div style=\"display: inline-block; width: 120px; vertical-align: top; text-align: center;\"><h4 style=\"font-size: 12px\">9</h4><h4 style=\"font-size: 9px; padding-left: 10px; padding-right: 10px; width: 90%; word-wrap: break-word; white-space: normal;\">https://pbs.twimg.com/media/DMuqkwdWkAAbEsl.jpg</h4><img src=\"https://pbs.twimg.com/media/DMuqkwdWkAAbEsl.jpg\" style=\"margin: 1px; width: 100px; border: 2px solid #ddd;\"/></div><div style=\"display: inline-block; width: 120px; vertical-align: top; text-align: center;\"><h4 style=\"font-size: 12px\">10</h4><h4 style=\"font-size: 9px; padding-left: 10px; padding-right: 10px; width: 90%; word-wrap: break-word; white-space: normal;\">https://cms.qz.com/wp-content/uploads/2017/04/ap_1206030481701.jpg?quality=75&strip=all&w=1600&h=900&crop=1</h4><img src=\"https://cms.qz.com/wp-content/uploads/2017/04/ap_1206030481701.jpg?quality=75&strip=all&w=1600&h=900&crop=1\" style=\"margin: 1px; width: 100px; border: 2px solid #ddd;\"/></div><div style=\"display: inline-block; width: 120px; vertical-align: top; text-align: center;\"><h4 style=\"font-size: 12px\">11</h4><h4 style=\"font-size: 9px; padding-left: 10px; padding-right: 10px; width: 90%; word-wrap: break-word; white-space: normal;\">https://i.stack.imgur.com/dbzTE.jpg</h4><img src=\"https://i.stack.imgur.com/dbzTE.jpg\" style=\"margin: 1px; width: 100px; border: 2px solid #ddd;\"/></div><div style=\"display: inline-block; width: 120px; vertical-align: top; text-align: center;\"><h4 style=\"font-size: 12px\">12</h4><h4 style=\"font-size: 9px; padding-left: 10px; padding-right: 10px; width: 90%; word-wrap: break-word; white-space: normal;\">https://images-na.ssl-images-amazon.com/images/I/41USxDeP6EL._SX349_BO1,204,203,200_.jpg</h4><img src=\"https://images-na.ssl-images-amazon.com/images/I/41USxDeP6EL._SX349_BO1,204,203,200_.jpg\" style=\"margin: 1px; width: 100px; border: 2px solid #ddd;\"/></div><div style=\"display: inline-block; width: 120px; vertical-align: top; text-align: center;\"><h4 style=\"font-size: 12px\">13</h4><h4 style=\"font-size: 9px; padding-left: 10px; padding-right: 10px; width: 90%; word-wrap: break-word; white-space: normal;\">https://images.jacobinmag.com/2017/12/12120006/412px-Is_this_tomorrow-371x540.jpg</h4><img src=\"https://images.jacobinmag.com/2017/12/12120006/412px-Is_this_tomorrow-371x540.jpg\" style=\"margin: 1px; width: 100px; border: 2px solid #ddd;\"/></div><div style=\"display: inline-block; width: 120px; vertical-align: top; text-align: center;\"><h4 style=\"font-size: 12px\">14</h4><h4 style=\"font-size: 9px; padding-left: 10px; padding-right: 10px; width: 90%; word-wrap: break-word; white-space: normal;\">https://cms.qz.com/wp-content/uploads/2017/04/ap_12050108912.jpg?quality=75&strip=all&w=450&h=254&crop=1</h4><img src=\"https://cms.qz.com/wp-content/uploads/2017/04/ap_12050108912.jpg?quality=75&strip=all&w=450&h=254&crop=1\" style=\"margin: 1px; width: 100px; border: 2px solid #ddd;\"/></div><div style=\"display: inline-block; width: 120px; vertical-align: top; text-align: center;\"><h4 style=\"font-size: 12px\">15</h4><h4 style=\"font-size: 9px; padding-left: 10px; padding-right: 10px; width: 90%; word-wrap: break-word; white-space: normal;\">https://kinginstitute.stanford.edu/sites/mlk/files/communism_fitch.jpg</h4><img src=\"https://kinginstitute.stanford.edu/sites/mlk/files/communism_fitch.jpg\" style=\"margin: 1px; width: 100px; border: 2px solid #ddd;\"/></div><div style=\"display: inline-block; width: 120px; vertical-align: top; text-align: center;\"><h4 style=\"font-size: 12px\">16</h4><h4 style=\"font-size: 9px; padding-left: 10px; padding-right: 10px; width: 90%; word-wrap: break-word; white-space: normal;\">https://images-na.ssl-images-amazon.com/images/I/91SQVep4XdL._AC_UL200_SR200,200_.jpg</h4><img src=\"https://images-na.ssl-images-amazon.com/images/I/91SQVep4XdL._AC_UL200_SR200,200_.jpg\" style=\"margin: 1px; width: 100px; border: 2px solid #ddd;\"/></div><div style=\"display: inline-block; width: 120px; vertical-align: top; text-align: center;\"><h4 style=\"font-size: 12px\">17</h4><h4 style=\"font-size: 9px; padding-left: 10px; padding-right: 10px; width: 90%; word-wrap: break-word; white-space: normal;\">https://upload.wikimedia.org/wikipedia/commons/c/cf/Le_Livre_noir_du_communisme.jpg</h4><img src=\"https://upload.wikimedia.org/wikipedia/commons/c/cf/Le_Livre_noir_du_communisme.jpg\" style=\"margin: 1px; width: 100px; border: 2px solid #ddd;\"/></div><div style=\"display: inline-block; width: 120px; vertical-align: top; text-align: center;\"><h4 style=\"font-size: 12px\">18</h4><h4 style=\"font-size: 9px; padding-left: 10px; padding-right: 10px; width: 90%; word-wrap: break-word; white-space: normal;\">https://i.stack.imgur.com/rzVLU.jpg</h4><img src=\"https://i.stack.imgur.com/rzVLU.jpg\" style=\"margin: 1px; width: 100px; border: 2px solid #ddd;\"/></div><div style=\"display: inline-block; width: 120px; vertical-align: top; text-align: center;\"><h4 style=\"font-size: 12px\">19</h4><h4 style=\"font-size: 9px; padding-left: 10px; padding-right: 10px; width: 90%; word-wrap: break-word; white-space: normal;\">https://www.voorwaarts.net/cjb-site/wp-content/uploads/2017/03/antisovetskie-plakaty-12-500x640.jpg</h4><img src=\"https://www.voorwaarts.net/cjb-site/wp-content/uploads/2017/03/antisovetskie-plakaty-12-500x640.jpg\" style=\"margin: 1px; width: 100px; border: 2px solid #ddd;\"/></div>"
      ],
      "text/plain": [
       "<IPython.core.display.HTML object>"
      ]
     },
     "metadata": {},
     "output_type": "display_data"
    },
    {
     "name": "stdout",
     "output_type": "stream",
     "text": [
      "plotting Wordpress images\n"
     ]
    },
    {
     "data": {
      "text/html": [
       "<div style=\"display: inline-block; width: 120px; vertical-align: top; text-align: center;\"><h4 style=\"font-size: 12px\">0</h4><h4 style=\"font-size: 9px; padding-left: 10px; padding-right: 10px; width: 90%; word-wrap: break-word; white-space: normal;\">https://firewallcafe.com/wp-content/uploads/2020/02/26/282263/google-1582773252-01.jpg</h4><img src=\"https://firewallcafe.com/wp-content/uploads/2020/02/26/282263/google-1582773252-01.jpg\" style=\"margin: 1px; width: 100px; border: 2px solid #ddd;\"/></div><div style=\"display: inline-block; width: 120px; vertical-align: top; text-align: center;\"><h4 style=\"font-size: 12px\">1</h4><h4 style=\"font-size: 9px; padding-left: 10px; padding-right: 10px; width: 90%; word-wrap: break-word; white-space: normal;\">https://firewallcafe.com/wp-content/uploads/2020/02/26/282263/google-1582773252-02.jpg</h4><img src=\"https://firewallcafe.com/wp-content/uploads/2020/02/26/282263/google-1582773252-02.jpg\" style=\"margin: 1px; width: 100px; border: 2px solid #ddd;\"/></div><div style=\"display: inline-block; width: 120px; vertical-align: top; text-align: center;\"><h4 style=\"font-size: 12px\">2</h4><h4 style=\"font-size: 9px; padding-left: 10px; padding-right: 10px; width: 90%; word-wrap: break-word; white-space: normal;\">https://firewallcafe.com/wp-content/uploads/2020/02/26/282263/google-1582773252-03.jpg</h4><img src=\"https://firewallcafe.com/wp-content/uploads/2020/02/26/282263/google-1582773252-03.jpg\" style=\"margin: 1px; width: 100px; border: 2px solid #ddd;\"/></div><div style=\"display: inline-block; width: 120px; vertical-align: top; text-align: center;\"><h4 style=\"font-size: 12px\">3</h4><h4 style=\"font-size: 9px; padding-left: 10px; padding-right: 10px; width: 90%; word-wrap: break-word; white-space: normal;\">https://firewallcafe.com/wp-content/uploads/2020/02/26/282263/google-1582773252-04.jpg</h4><img src=\"https://firewallcafe.com/wp-content/uploads/2020/02/26/282263/google-1582773252-04.jpg\" style=\"margin: 1px; width: 100px; border: 2px solid #ddd;\"/></div><div style=\"display: inline-block; width: 120px; vertical-align: top; text-align: center;\"><h4 style=\"font-size: 12px\">4</h4><h4 style=\"font-size: 9px; padding-left: 10px; padding-right: 10px; width: 90%; word-wrap: break-word; white-space: normal;\">https://firewallcafe.com/wp-content/uploads/2020/02/26/282263/google-1582773252-05.jpg</h4><img src=\"https://firewallcafe.com/wp-content/uploads/2020/02/26/282263/google-1582773252-05.jpg\" style=\"margin: 1px; width: 100px; border: 2px solid #ddd;\"/></div><div style=\"display: inline-block; width: 120px; vertical-align: top; text-align: center;\"><h4 style=\"font-size: 12px\">5</h4><h4 style=\"font-size: 9px; padding-left: 10px; padding-right: 10px; width: 90%; word-wrap: break-word; white-space: normal;\">https://firewallcafe.com/wp-content/uploads/2020/02/26/282263/google-1582773252-06.jpg</h4><img src=\"https://firewallcafe.com/wp-content/uploads/2020/02/26/282263/google-1582773252-06.jpg\" style=\"margin: 1px; width: 100px; border: 2px solid #ddd;\"/></div><div style=\"display: inline-block; width: 120px; vertical-align: top; text-align: center;\"><h4 style=\"font-size: 12px\">6</h4><h4 style=\"font-size: 9px; padding-left: 10px; padding-right: 10px; width: 90%; word-wrap: break-word; white-space: normal;\">https://firewallcafe.com/wp-content/uploads/2020/02/26/282263/google-1582773252-07.jpg</h4><img src=\"https://firewallcafe.com/wp-content/uploads/2020/02/26/282263/google-1582773252-07.jpg\" style=\"margin: 1px; width: 100px; border: 2px solid #ddd;\"/></div><div style=\"display: inline-block; width: 120px; vertical-align: top; text-align: center;\"><h4 style=\"font-size: 12px\">7</h4><h4 style=\"font-size: 9px; padding-left: 10px; padding-right: 10px; width: 90%; word-wrap: break-word; white-space: normal;\">https://firewallcafe.com/wp-content/uploads/2020/02/26/282263/google-1582773252-08-146x220.jpg</h4><img src=\"https://firewallcafe.com/wp-content/uploads/2020/02/26/282263/google-1582773252-08-146x220.jpg\" style=\"margin: 1px; width: 100px; border: 2px solid #ddd;\"/></div><div style=\"display: inline-block; width: 120px; vertical-align: top; text-align: center;\"><h4 style=\"font-size: 12px\">8</h4><h4 style=\"font-size: 9px; padding-left: 10px; padding-right: 10px; width: 90%; word-wrap: break-word; white-space: normal;\">https://firewallcafe.com/wp-content/uploads/2020/02/26/282263/google-1582773252-09.jpg</h4><img src=\"https://firewallcafe.com/wp-content/uploads/2020/02/26/282263/google-1582773252-09.jpg\" style=\"margin: 1px; width: 100px; border: 2px solid #ddd;\"/></div><div style=\"display: inline-block; width: 120px; vertical-align: top; text-align: center;\"><h4 style=\"font-size: 12px\">9</h4><h4 style=\"font-size: 9px; padding-left: 10px; padding-right: 10px; width: 90%; word-wrap: break-word; white-space: normal;\">https://firewallcafe.com/wp-content/uploads/2020/02/26/282263/google-1582773252-10-220x220.png</h4><img src=\"https://firewallcafe.com/wp-content/uploads/2020/02/26/282263/google-1582773252-10-220x220.png\" style=\"margin: 1px; width: 100px; border: 2px solid #ddd;\"/></div><div style=\"display: inline-block; width: 120px; vertical-align: top; text-align: center;\"><h4 style=\"font-size: 12px\">10</h4><h4 style=\"font-size: 9px; padding-left: 10px; padding-right: 10px; width: 90%; word-wrap: break-word; white-space: normal;\">https://firewallcafe.com/wp-content/uploads/2020/02/26/282263/google-1582773252-11.jpg</h4><img src=\"https://firewallcafe.com/wp-content/uploads/2020/02/26/282263/google-1582773252-11.jpg\" style=\"margin: 1px; width: 100px; border: 2px solid #ddd;\"/></div><div style=\"display: inline-block; width: 120px; vertical-align: top; text-align: center;\"><h4 style=\"font-size: 12px\">11</h4><h4 style=\"font-size: 9px; padding-left: 10px; padding-right: 10px; width: 90%; word-wrap: break-word; white-space: normal;\">https://firewallcafe.com/wp-content/uploads/2020/02/26/282263/google-1582773252-12.jpg</h4><img src=\"https://firewallcafe.com/wp-content/uploads/2020/02/26/282263/google-1582773252-12.jpg\" style=\"margin: 1px; width: 100px; border: 2px solid #ddd;\"/></div><div style=\"display: inline-block; width: 120px; vertical-align: top; text-align: center;\"><h4 style=\"font-size: 12px\">12</h4><h4 style=\"font-size: 9px; padding-left: 10px; padding-right: 10px; width: 90%; word-wrap: break-word; white-space: normal;\">https://firewallcafe.com/wp-content/uploads/2020/02/26/282263/google-1582773252-13.jpg</h4><img src=\"https://firewallcafe.com/wp-content/uploads/2020/02/26/282263/google-1582773252-13.jpg\" style=\"margin: 1px; width: 100px; border: 2px solid #ddd;\"/></div><div style=\"display: inline-block; width: 120px; vertical-align: top; text-align: center;\"><h4 style=\"font-size: 12px\">13</h4><h4 style=\"font-size: 9px; padding-left: 10px; padding-right: 10px; width: 90%; word-wrap: break-word; white-space: normal;\">https://firewallcafe.com/wp-content/uploads/2020/02/26/282263/google-1582773252-14.jpg</h4><img src=\"https://firewallcafe.com/wp-content/uploads/2020/02/26/282263/google-1582773252-14.jpg\" style=\"margin: 1px; width: 100px; border: 2px solid #ddd;\"/></div><div style=\"display: inline-block; width: 120px; vertical-align: top; text-align: center;\"><h4 style=\"font-size: 12px\">14</h4><h4 style=\"font-size: 9px; padding-left: 10px; padding-right: 10px; width: 90%; word-wrap: break-word; white-space: normal;\">https://firewallcafe.com/wp-content/uploads/2020/02/26/282263/google-1582773252-15.jpg</h4><img src=\"https://firewallcafe.com/wp-content/uploads/2020/02/26/282263/google-1582773252-15.jpg\" style=\"margin: 1px; width: 100px; border: 2px solid #ddd;\"/></div><div style=\"display: inline-block; width: 120px; vertical-align: top; text-align: center;\"><h4 style=\"font-size: 12px\">15</h4><h4 style=\"font-size: 9px; padding-left: 10px; padding-right: 10px; width: 90%; word-wrap: break-word; white-space: normal;\">https://firewallcafe.com/wp-content/uploads/2020/02/26/282263/google-1582773252-16.jpg</h4><img src=\"https://firewallcafe.com/wp-content/uploads/2020/02/26/282263/google-1582773252-16.jpg\" style=\"margin: 1px; width: 100px; border: 2px solid #ddd;\"/></div><div style=\"display: inline-block; width: 120px; vertical-align: top; text-align: center;\"><h4 style=\"font-size: 12px\">16</h4><h4 style=\"font-size: 9px; padding-left: 10px; padding-right: 10px; width: 90%; word-wrap: break-word; white-space: normal;\">https://firewallcafe.com/wp-content/uploads/2020/02/26/282263/google-1582773252-17.jpg</h4><img src=\"https://firewallcafe.com/wp-content/uploads/2020/02/26/282263/google-1582773252-17.jpg\" style=\"margin: 1px; width: 100px; border: 2px solid #ddd;\"/></div><div style=\"display: inline-block; width: 120px; vertical-align: top; text-align: center;\"><h4 style=\"font-size: 12px\">17</h4><h4 style=\"font-size: 9px; padding-left: 10px; padding-right: 10px; width: 90%; word-wrap: break-word; white-space: normal;\">https://firewallcafe.com/wp-content/uploads/2020/02/26/282263/google-1582773252-18.jpg</h4><img src=\"https://firewallcafe.com/wp-content/uploads/2020/02/26/282263/google-1582773252-18.jpg\" style=\"margin: 1px; width: 100px; border: 2px solid #ddd;\"/></div><div style=\"display: inline-block; width: 120px; vertical-align: top; text-align: center;\"><h4 style=\"font-size: 12px\">18</h4><h4 style=\"font-size: 9px; padding-left: 10px; padding-right: 10px; width: 90%; word-wrap: break-word; white-space: normal;\">https://firewallcafe.com/wp-content/uploads/2020/02/26/282263/google-1582773252-19.jpg</h4><img src=\"https://firewallcafe.com/wp-content/uploads/2020/02/26/282263/google-1582773252-19.jpg\" style=\"margin: 1px; width: 100px; border: 2px solid #ddd;\"/></div><div style=\"display: inline-block; width: 120px; vertical-align: top; text-align: center;\"><h4 style=\"font-size: 12px\">19</h4><h4 style=\"font-size: 9px; padding-left: 10px; padding-right: 10px; width: 90%; word-wrap: break-word; white-space: normal;\">https://firewallcafe.com/wp-content/uploads/2020/02/26/282263/google-1582773252-20.jpg</h4><img src=\"https://firewallcafe.com/wp-content/uploads/2020/02/26/282263/google-1582773252-20.jpg\" style=\"margin: 1px; width: 100px; border: 2px solid #ddd;\"/></div>"
      ],
      "text/plain": [
       "<IPython.core.display.HTML object>"
      ]
     },
     "metadata": {},
     "output_type": "display_data"
    },
    {
     "name": "stdout",
     "output_type": "stream",
     "text": [
      "plotting DB images\n"
     ]
    },
    {
     "data": {
      "text/html": [
       "<div style=\"display: inline-block; width: 120px; vertical-align: top; text-align: center;\"><h4 style=\"font-size: 12px\">0</h4><h4 style=\"font-size: 9px; padding-left: 10px; padding-right: 10px; width: 90%; word-wrap: break-word; white-space: normal;\">https://cdn.getyourguide.com/img/tour_img-1151994-148.jpg</h4><img src=\"https://cdn.getyourguide.com/img/tour_img-1151994-148.jpg\" style=\"margin: 1px; width: 100px; border: 2px solid #ddd;\"/></div><div style=\"display: inline-block; width: 120px; vertical-align: top; text-align: center;\"><h4 style=\"font-size: 12px\">1</h4><h4 style=\"font-size: 9px; padding-left: 10px; padding-right: 10px; width: 90%; word-wrap: break-word; white-space: normal;\">https://upload.wikimedia.org/wikipedia/commons/0/01/Moscow_July_2011-16.jpg</h4><img src=\"https://upload.wikimedia.org/wikipedia/commons/0/01/Moscow_July_2011-16.jpg\" style=\"margin: 1px; width: 100px; border: 2px solid #ddd;\"/></div><div style=\"display: inline-block; width: 120px; vertical-align: top; text-align: center;\"><h4 style=\"font-size: 12px\">2</h4><h4 style=\"font-size: 9px; padding-left: 10px; padding-right: 10px; width: 90%; word-wrap: break-word; white-space: normal;\">https://cdn.getyourguide.com/img/tour_img-1221220-148.jpg</h4><img src=\"https://cdn.getyourguide.com/img/tour_img-1221220-148.jpg\" style=\"margin: 1px; width: 100px; border: 2px solid #ddd;\"/></div><div style=\"display: inline-block; width: 120px; vertical-align: top; text-align: center;\"><h4 style=\"font-size: 12px\">3</h4><h4 style=\"font-size: 9px; padding-left: 10px; padding-right: 10px; width: 90%; word-wrap: break-word; white-space: normal;\">https://lp-cms-production.imgix.net/features/2015/04/State-History-Museum-Red-Square-Moscow_cs.jpg?w=1200&sharp=10&vib=20</h4><img src=\"https://lp-cms-production.imgix.net/features/2015/04/State-History-Museum-Red-Square-Moscow_cs.jpg?w=1200&sharp=10&vib=20\" style=\"margin: 1px; width: 100px; border: 2px solid #ddd;\"/></div><div style=\"display: inline-block; width: 120px; vertical-align: top; text-align: center;\"><h4 style=\"font-size: 12px\">4</h4><h4 style=\"font-size: 9px; padding-left: 10px; padding-right: 10px; width: 90%; word-wrap: break-word; white-space: normal;\">https://media.tacdn.com/media/attractions-splice-spp-674x446/07/01/29/16.jpg</h4><img src=\"https://media.tacdn.com/media/attractions-splice-spp-674x446/07/01/29/16.jpg\" style=\"margin: 1px; width: 100px; border: 2px solid #ddd;\"/></div><div style=\"display: inline-block; width: 120px; vertical-align: top; text-align: center;\"><h4 style=\"font-size: 12px\">5</h4><h4 style=\"font-size: 9px; padding-left: 10px; padding-right: 10px; width: 90%; word-wrap: break-word; white-space: normal;\">https://www.history.com/.image/ar_16:9%2Cc_fill%2Ccs_srgb%2Cfl_progressive%2Cg_faces:center%2Cq_auto:good%2Cw_768/MTU3ODc5MDg3NTA5ODczOTkz/istock_000003332948large.jpg</h4><img src=\"https://www.history.com/.image/ar_16:9%2Cc_fill%2Ccs_srgb%2Cfl_progressive%2Cg_faces:center%2Cq_auto:good%2Cw_768/MTU3ODc5MDg3NTA5ODczOTkz/istock_000003332948large.jpg\" style=\"margin: 1px; width: 100px; border: 2px solid #ddd;\"/></div><div style=\"display: inline-block; width: 120px; vertical-align: top; text-align: center;\"><h4 style=\"font-size: 12px\">6</h4><h4 style=\"font-size: 9px; padding-left: 10px; padding-right: 10px; width: 90%; word-wrap: break-word; white-space: normal;\">https://cdni.rbth.com/rbthmedia/images/2020.01/original/5e188f9515e9f94fa0103d3b.jpg</h4><img src=\"https://cdni.rbth.com/rbthmedia/images/2020.01/original/5e188f9515e9f94fa0103d3b.jpg\" style=\"margin: 1px; width: 100px; border: 2px solid #ddd;\"/></div><div style=\"display: inline-block; width: 120px; vertical-align: top; text-align: center;\"><h4 style=\"font-size: 12px\">7</h4><h4 style=\"font-size: 9px; padding-left: 10px; padding-right: 10px; width: 90%; word-wrap: break-word; white-space: normal;\">https://cdn.getyourguide.com/img/tour_img-1721221-148.jpg</h4><img src=\"https://cdn.getyourguide.com/img/tour_img-1721221-148.jpg\" style=\"margin: 1px; width: 100px; border: 2px solid #ddd;\"/></div><div style=\"display: inline-block; width: 120px; vertical-align: top; text-align: center;\"><h4 style=\"font-size: 12px\">8</h4><h4 style=\"font-size: 9px; padding-left: 10px; padding-right: 10px; width: 90%; word-wrap: break-word; white-space: normal;\">https://cdn.britannica.com/26/116526-050-76C37BBC/Cathedral-of-St-Basil-the-Blessed-Moscow.jpg</h4><img src=\"https://cdn.britannica.com/26/116526-050-76C37BBC/Cathedral-of-St-Basil-the-Blessed-Moscow.jpg\" style=\"margin: 1px; width: 100px; border: 2px solid #ddd;\"/></div><div style=\"display: inline-block; width: 120px; vertical-align: top; text-align: center;\"><h4 style=\"font-size: 12px\">9</h4><h4 style=\"font-size: 9px; padding-left: 10px; padding-right: 10px; width: 90%; word-wrap: break-word; white-space: normal;\">https://cmkt-image-prd.freetls.fastly.net/0.1.0/ps/7449720/910/607/m2/fpnw/wm1/xwbqckwpi6lgv6wnacv8rzjejnvtue9hk5whpupiex4qcklrtopaawpgsbbi6d2c-.jpg?1576083775&s=97493fc81949e3bdc3736d256593649e</h4><img src=\"https://cmkt-image-prd.freetls.fastly.net/0.1.0/ps/7449720/910/607/m2/fpnw/wm1/xwbqckwpi6lgv6wnacv8rzjejnvtue9hk5whpupiex4qcklrtopaawpgsbbi6d2c-.jpg?1576083775&s=97493fc81949e3bdc3736d256593649e\" style=\"margin: 1px; width: 100px; border: 2px solid #ddd;\"/></div><div style=\"display: inline-block; width: 120px; vertical-align: top; text-align: center;\"><h4 style=\"font-size: 12px\">10</h4><h4 style=\"font-size: 9px; padding-left: 10px; padding-right: 10px; width: 90%; word-wrap: break-word; white-space: normal;\">https://www.americasfinestlabels.com/images/CCS400RD.jpg</h4><img src=\"https://www.americasfinestlabels.com/images/CCS400RD.jpg\" style=\"margin: 1px; width: 100px; border: 2px solid #ddd;\"/></div><div style=\"display: inline-block; width: 120px; vertical-align: top; text-align: center;\"><h4 style=\"font-size: 12px\">11</h4><h4 style=\"font-size: 9px; padding-left: 10px; padding-right: 10px; width: 90%; word-wrap: break-word; white-space: normal;\">https://media.tacdn.com/media/attractions-splice-spp-674x446/06/6f/3e/59.jpg</h4><img src=\"https://media.tacdn.com/media/attractions-splice-spp-674x446/06/6f/3e/59.jpg\" style=\"margin: 1px; width: 100px; border: 2px solid #ddd;\"/></div><div style=\"display: inline-block; width: 120px; vertical-align: top; text-align: center;\"><h4 style=\"font-size: 12px\">12</h4><h4 style=\"font-size: 9px; padding-left: 10px; padding-right: 10px; width: 90%; word-wrap: break-word; white-space: normal;\">https://static.themoscowtimes.com/image/1360/0c/moscow10296761280.jpg</h4><img src=\"https://static.themoscowtimes.com/image/1360/0c/moscow10296761280.jpg\" style=\"margin: 1px; width: 100px; border: 2px solid #ddd;\"/></div><div style=\"display: inline-block; width: 120px; vertical-align: top; text-align: center;\"><h4 style=\"font-size: 12px\">13</h4><h4 style=\"font-size: 9px; padding-left: 10px; padding-right: 10px; width: 90%; word-wrap: break-word; white-space: normal;\">https://cdni.rbth.com/rbthmedia/images/2019.05/article/5ce7e34985600a7198000faa.jpg</h4><img src=\"https://cdni.rbth.com/rbthmedia/images/2019.05/article/5ce7e34985600a7198000faa.jpg\" style=\"margin: 1px; width: 100px; border: 2px solid #ddd;\"/></div><div style=\"display: inline-block; width: 120px; vertical-align: top; text-align: center;\"><h4 style=\"font-size: 12px\">14</h4><h4 style=\"font-size: 9px; padding-left: 10px; padding-right: 10px; width: 90%; word-wrap: break-word; white-space: normal;\">https://lonelyplanetimages.imgix.net/mastheads/GettyImages-498208877_high.jpg</h4><img src=\"https://lonelyplanetimages.imgix.net/mastheads/GettyImages-498208877_high.jpg\" style=\"margin: 1px; width: 100px; border: 2px solid #ddd;\"/></div><div style=\"display: inline-block; width: 120px; vertical-align: top; text-align: center;\"><h4 style=\"font-size: 12px\">15</h4><h4 style=\"font-size: 9px; padding-left: 10px; padding-right: 10px; width: 90%; word-wrap: break-word; white-space: normal;\">https://www.expresstorussia.com/img/guide/900x355/red-square.jpg</h4><img src=\"https://www.expresstorussia.com/img/guide/900x355/red-square.jpg\" style=\"margin: 1px; width: 100px; border: 2px solid #ddd;\"/></div><div style=\"display: inline-block; width: 120px; vertical-align: top; text-align: center;\"><h4 style=\"font-size: 12px\">16</h4><h4 style=\"font-size: 9px; padding-left: 10px; padding-right: 10px; width: 90%; word-wrap: break-word; white-space: normal;\">https://static.turbosquid.com/Preview/001271/146/K6/_Z.jpg</h4><img src=\"https://static.turbosquid.com/Preview/001271/146/K6/_Z.jpg\" style=\"margin: 1px; width: 100px; border: 2px solid #ddd;\"/></div><div style=\"display: inline-block; width: 120px; vertical-align: top; text-align: center;\"><h4 style=\"font-size: 12px\">17</h4><h4 style=\"font-size: 9px; padding-left: 10px; padding-right: 10px; width: 90%; word-wrap: break-word; white-space: normal;\">https://content.api.news/v3/images/bin/12a7763517ae6ca1046615099961d15c?width=1280</h4><img src=\"https://content.api.news/v3/images/bin/12a7763517ae6ca1046615099961d15c?width=1280\" style=\"margin: 1px; width: 100px; border: 2px solid #ddd;\"/></div><div style=\"display: inline-block; width: 120px; vertical-align: top; text-align: center;\"><h4 style=\"font-size: 12px\">18</h4><h4 style=\"font-size: 9px; padding-left: 10px; padding-right: 10px; width: 90%; word-wrap: break-word; white-space: normal;\">https://previews.123rf.com/images/f11photo/f11photo1801/f11photo180100097/94026481-basil-s-cathedral-at-red-square-in-moscow-russia-at-sunrise.jpg</h4><img src=\"https://previews.123rf.com/images/f11photo/f11photo1801/f11photo180100097/94026481-basil-s-cathedral-at-red-square-in-moscow-russia-at-sunrise.jpg\" style=\"margin: 1px; width: 100px; border: 2px solid #ddd;\"/></div><div style=\"display: inline-block; width: 120px; vertical-align: top; text-align: center;\"><h4 style=\"font-size: 12px\">19</h4><h4 style=\"font-size: 9px; padding-left: 10px; padding-right: 10px; width: 90%; word-wrap: break-word; white-space: normal;\">https://pmdvod.nationalgeographic.com/NG_Video/931/302/gettyimages-509155992.jpg</h4><img src=\"https://pmdvod.nationalgeographic.com/NG_Video/931/302/gettyimages-509155992.jpg\" style=\"margin: 1px; width: 100px; border: 2px solid #ddd;\"/></div>"
      ],
      "text/plain": [
       "<IPython.core.display.HTML object>"
      ]
     },
     "metadata": {},
     "output_type": "display_data"
    }
   ],
   "source": [
    "for search in wp[:5]:\n",
    "    search_db = get_search(search['id'])\n",
    "    if search_db['wordpress_search_result_post_slug'] != search['slug']:\n",
    "        raise Exception(\"we seem to have an incorrect correspondance\", search_db['wordpress_search_result_post_slug'], search['slug'])\n",
    "    r = requests.get(api_base + '/images/search_id/' + str(search_db['search_id']))\n",
    "    j = r.json()\n",
    "    print(\"plotting Wordpress images\")\n",
    "    ipyplot.plot_images(search['galleries'][0]['src'], img_width=100)\n",
    "    print(\"plotting DB images\")\n",
    "    db_imgs = [item['image_href'] for item in j if item['image_search_engine'] == 'google']\n",
    "    ipyplot.plot_images(db_imgs, img_width=100)"
   ]
  },
  {
   "cell_type": "markdown",
   "metadata": {},
   "source": [
    "## Empty search results\n",
    "\n",
    "We noticed that there are sometimes empty results being served by both Wordpress and Dataserve.\n",
    "\n",
    "Wordpress example: search for \"censorship\" on the archive, and find the search from 2016-02-11 (\"press censorship in China\").\n",
    "\n",
    "Dataserve: 2016-2-10 shows up as an empty date frequently, eg for \"backpacking\" (ID 120), \"clubbing\" (121), and others."
   ]
  },
  {
   "cell_type": "markdown",
   "metadata": {},
   "source": [
    "### Dataserve empty results\n",
    "\n",
    "```search_id, term, date, empty on archive?\n",
    "106, court, 2016-2-10, true\n",
    "118, shaolin, 2016-2-10, true\n",
    "119, car trip, 2016-2-10, true\n",
    "120, backpacking, 2016-2-10, true\n",
    "121, clubbing, 2016-2-10, true\n",
    "2599, dog, 2016-12-2, true\n",
    "```\n",
    "\n",
    "It appears that there's a 1-to-1 correspondence between these problems. Let's check what the API is returning for some of these IDs."
   ]
  },
  {
   "cell_type": "code",
   "execution_count": 17,
   "metadata": {},
   "outputs": [
    {
     "data": {
      "text/plain": [
       "[{'search_id': 2599,\n",
       "  'search_timestamp': '1480742148000',\n",
       "  'search_location': 'st_polten',\n",
       "  'search_ip_address': None,\n",
       "  'search_client_name': 'Client 462',\n",
       "  'search_engine_initial': None,\n",
       "  'search_engine_translation': None,\n",
       "  'search_term_initial': 'dog',\n",
       "  'search_term_initial_language_code': None,\n",
       "  'search_term_initial_language_confidence': None,\n",
       "  'search_term_initial_language_alternate_code': None,\n",
       "  'search_term_translation': '狗',\n",
       "  'search_term_translation_language_code': None,\n",
       "  'search_term_status_banned': False,\n",
       "  'search_term_status_sensitive': False,\n",
       "  'search_schema_initial': 0,\n",
       "  'wordpress_search_term_popularity': 2,\n",
       "  'wordpress_copyright_takedown': None,\n",
       "  'wordpress_unflattened': None,\n",
       "  'wordpress_regular_post_id': 3401,\n",
       "  'wordpress_search_result_post_id': 240110,\n",
       "  'wordpress_search_result_post_slug': 'dog-1480742148'}]"
      ]
     },
     "execution_count": 17,
     "metadata": {},
     "output_type": "execute_result"
    }
   ],
   "source": [
    "requests.get(api_base + \"/searches/search_id/2599\").json()"
   ]
  },
  {
   "cell_type": "code",
   "execution_count": 18,
   "metadata": {},
   "outputs": [
    {
     "data": {
      "text/plain": [
       "[{'image_id': None,\n",
       "  'image_search_engine': None,\n",
       "  'image_href': None,\n",
       "  'image_rank': None,\n",
       "  'image_mime_type': None,\n",
       "  'wordpress_attachment_post_id': None,\n",
       "  'wordpress_attachment_file_path': None}]"
      ]
     },
     "execution_count": 18,
     "metadata": {},
     "output_type": "execute_result"
    }
   ],
   "source": [
    "requests.get(api_base + \"/images/search_id/2599\").json()"
   ]
  },
  {
   "cell_type": "code",
   "execution_count": 19,
   "metadata": {},
   "outputs": [],
   "source": [
    "j=requests.get(\"https://firewallcafe.com/wp-json/wp/v2/search-result?per_page=25&page=1&search=dog\").json()"
   ]
  },
  {
   "cell_type": "code",
   "execution_count": 20,
   "metadata": {},
   "outputs": [
    {
     "name": "stdout",
     "output_type": "stream",
     "text": [
      "0 places-that-eat-dogs-1582767619 \t 2020-02-27T01:40:19\n",
      "1 dog-meals-1582767601 \t 2020-02-27T01:40:01\n",
      "2 dog-food-1582767590 \t 2020-02-27T01:39:50\n",
      "3 dogs-1582767551 \t 2020-02-27T01:39:11\n",
      "4 recep-tayyip-erdogan-1582756694 \t 2020-02-26T22:38:14\n",
      "5 hot-dog-1581546915 \t 2020-02-12T22:35:15\n",
      "6 dogs-1578684699 \t 2020-01-10T19:31:39\n",
      "7 dog-walker-1569071811 \t 2019-09-21T13:16:51\n",
      "8 dog-1532191736 \t 2018-07-21T16:48:56\n",
      "9 erdogan-1495616624 \t 2017-05-24T09:03:44\n",
      "10 erdogan-1495546901 \t 2017-05-23T13:41:41\n",
      "11 recep-tayyip-erdogan-1495539716 \t 2017-05-23T11:41:56\n",
      "12 dog-1495384485 \t 2017-05-21T16:34:45\n",
      "13 short-dog-food-1495268548 \t 2017-05-20T08:22:28\n",
      "14 dogs-1495123914 \t 2017-05-18T16:11:54\n",
      "15 hund-1481367467 \t 2016-12-10T10:57:47\n",
      "16 hunde-1481367443 \t 2016-12-10T10:57:23\n",
      "17 dog-1480742148 \t 2016-12-03T05:15:48\n",
      "18 american-bully-dog-1457126172 \t 2016-03-04T21:16:12\n",
      "19 xochi-the-dog-1456106340 \t 2016-02-22T01:59:00\n",
      "20 dog-print-1456100190 \t 2016-02-22T00:16:30\n",
      "21 %e7%8b%97-1455924265 \t 2016-02-19T23:24:25\n",
      "22 snoop-dogg-1455665115 \t 2016-02-16T23:25:15\n",
      "23 dog-festival-1455140077 \t 2016-02-10T21:34:37\n"
     ]
    }
   ],
   "source": [
    "for i,search in enumerate(j):\n",
    "    print(i, search['slug'], '\\t', search['date'])"
   ]
  },
  {
   "cell_type": "markdown",
   "metadata": {},
   "source": [
    "Here's what the Wordpress site is getting from the old API:"
   ]
  },
  {
   "cell_type": "code",
   "execution_count": 21,
   "metadata": {},
   "outputs": [
    {
     "data": {
      "text/plain": [
       "{'id': 240110,\n",
       " 'date': '2016-12-03T05:15:48',\n",
       " 'date_gmt': '2016-12-03T05:15:48',\n",
       " 'guid': {'rendered': 'https://staging.firewallcafe.com/archive/dog-1480742148/'},\n",
       " 'modified': '2016-12-03T05:15:48',\n",
       " 'modified_gmt': '2016-12-03T05:15:48',\n",
       " 'slug': 'dog-1480742148',\n",
       " 'status': 'publish',\n",
       " 'type': 'search-result',\n",
       " 'link': 'https://firewallcafe.com/archive/dog-1480742148/',\n",
       " 'title': {'rendered': 'dog'},\n",
       " 'content': {'rendered': '<p>Google<br />\\n<br />\\nBaidu<br />\\n</p>\\n',\n",
       "  'protected': False},\n",
       " 'excerpt': {'rendered': '<p>狗</p>\\n', 'protected': False},\n",
       " 'template': '',\n",
       " 'meta': [],\n",
       " 'tags': [{'term_id': 149,\n",
       "   'name': '2016',\n",
       "   'slug': 'has_search_year_2016',\n",
       "   'term_group': 0,\n",
       "   'term_taxonomy_id': 149,\n",
       "   'taxonomy': 'post_tag',\n",
       "   'description': '',\n",
       "   'parent': 0,\n",
       "   'count': 2691,\n",
       "   'filter': 'raw'},\n",
       "  {'term_id': 148,\n",
       "   'name': 'St. Polten',\n",
       "   'slug': 'has_search_location_st_polten',\n",
       "   'term_group': 0,\n",
       "   'term_taxonomy_id': 148,\n",
       "   'taxonomy': 'post_tag',\n",
       "   'description': '',\n",
       "   'parent': 0,\n",
       "   'count': 93,\n",
       "   'filter': 'raw'}],\n",
       " 'galleries': [{'ids': '', 'src': []}, {'ids': '', 'src': []}],\n",
       " '_links': {'self': [{'href': 'https://firewallcafe.com/wp-json/wp/v2/search-result/240110'}],\n",
       "  'collection': [{'href': 'https://firewallcafe.com/wp-json/wp/v2/search-result'}],\n",
       "  'about': [{'href': 'https://firewallcafe.com/wp-json/wp/v2/types/search-result'}],\n",
       "  'wp:attachment': [{'href': 'https://firewallcafe.com/wp-json/wp/v2/media?parent=240110'}],\n",
       "  'wp:term': [{'taxonomy': 'post_tag',\n",
       "    'embeddable': True,\n",
       "    'href': 'https://firewallcafe.com/wp-json/wp/v2/tags?post=240110'}],\n",
       "  'curies': [{'name': 'wp',\n",
       "    'href': 'https://api.w.org/{rel}',\n",
       "    'templated': True}]}}"
      ]
     },
     "execution_count": 21,
     "metadata": {},
     "output_type": "execute_result"
    }
   ],
   "source": [
    "j[17]"
   ]
  },
  {
   "cell_type": "markdown",
   "metadata": {},
   "source": [
    "We would expect there to be a bunch of images under \"galleries\", but there aren't any."
   ]
  },
  {
   "cell_type": "markdown",
   "metadata": {},
   "source": [
    "Here's another of the searches, abbreviated for readability."
   ]
  },
  {
   "cell_type": "code",
   "execution_count": 22,
   "metadata": {},
   "outputs": [
    {
     "data": {
      "text/plain": [
       "[{'image_id': 2052,\n",
       "  'image_search_engine': 'baidu',\n",
       "  'image_href': None,\n",
       "  'image_rank': '07',\n",
       "  'image_mime_type': 'image/jpeg',\n",
       "  'wordpress_attachment_post_id': None,\n",
       "  'wordpress_attachment_file_path': '/wp-content/uploads/2016/02/baidu-car trip-07.jpg'},\n",
       " {'image_id': 2046,\n",
       "  'image_search_engine': 'baidu',\n",
       "  'image_href': None,\n",
       "  'image_rank': '01',\n",
       "  'image_mime_type': 'image/jpeg',\n",
       "  'wordpress_attachment_post_id': None,\n",
       "  'wordpress_attachment_file_path': '/wp-content/uploads/2016/02/baidu-car trip-01.jpg'},\n",
       " {'image_id': 2047,\n",
       "  'image_search_engine': 'baidu',\n",
       "  'image_href': None,\n",
       "  'image_rank': '02',\n",
       "  'image_mime_type': 'image/jpeg',\n",
       "  'wordpress_attachment_post_id': None,\n",
       "  'wordpress_attachment_file_path': '/wp-content/uploads/2016/02/baidu-car trip-02.jpg'}]"
      ]
     },
     "execution_count": 22,
     "metadata": {},
     "output_type": "execute_result"
    }
   ],
   "source": [
    "j = requests.get(api_base + \"/images/search_id/119\").json()\n",
    "j[:3]"
   ]
  },
  {
   "cell_type": "markdown",
   "metadata": {},
   "source": [
    "Every search image is missing its `image_href` field. But it looks like there are images available for this search, let's take a look."
   ]
  },
  {
   "cell_type": "code",
   "execution_count": 23,
   "metadata": {},
   "outputs": [],
   "source": [
    "hrefs = [f\"https://firewallcafe.com/{img['wordpress_attachment_file_path']}\" for img in j]"
   ]
  },
  {
   "cell_type": "code",
   "execution_count": 24,
   "metadata": {},
   "outputs": [
    {
     "data": {
      "text/html": [
       "<div style=\"display: inline-block; width: 120px; vertical-align: top; text-align: center;\"><h4 style=\"font-size: 12px\">0</h4><h4 style=\"font-size: 9px; padding-left: 10px; padding-right: 10px; width: 90%; word-wrap: break-word; white-space: normal;\">https://firewallcafe.com//wp-content/uploads/2016/02/baidu-car trip-07.jpg</h4><img src=\"https://firewallcafe.com//wp-content/uploads/2016/02/baidu-car trip-07.jpg\" style=\"margin: 1px; width: 100px; border: 2px solid #ddd;\"/></div><div style=\"display: inline-block; width: 120px; vertical-align: top; text-align: center;\"><h4 style=\"font-size: 12px\">1</h4><h4 style=\"font-size: 9px; padding-left: 10px; padding-right: 10px; width: 90%; word-wrap: break-word; white-space: normal;\">https://firewallcafe.com//wp-content/uploads/2016/02/baidu-car trip-01.jpg</h4><img src=\"https://firewallcafe.com//wp-content/uploads/2016/02/baidu-car trip-01.jpg\" style=\"margin: 1px; width: 100px; border: 2px solid #ddd;\"/></div><div style=\"display: inline-block; width: 120px; vertical-align: top; text-align: center;\"><h4 style=\"font-size: 12px\">2</h4><h4 style=\"font-size: 9px; padding-left: 10px; padding-right: 10px; width: 90%; word-wrap: break-word; white-space: normal;\">https://firewallcafe.com//wp-content/uploads/2016/02/baidu-car trip-02.jpg</h4><img src=\"https://firewallcafe.com//wp-content/uploads/2016/02/baidu-car trip-02.jpg\" style=\"margin: 1px; width: 100px; border: 2px solid #ddd;\"/></div><div style=\"display: inline-block; width: 120px; vertical-align: top; text-align: center;\"><h4 style=\"font-size: 12px\">3</h4><h4 style=\"font-size: 9px; padding-left: 10px; padding-right: 10px; width: 90%; word-wrap: break-word; white-space: normal;\">https://firewallcafe.com//wp-content/uploads/2016/02/baidu-car trip-03.jpg</h4><img src=\"https://firewallcafe.com//wp-content/uploads/2016/02/baidu-car trip-03.jpg\" style=\"margin: 1px; width: 100px; border: 2px solid #ddd;\"/></div><div style=\"display: inline-block; width: 120px; vertical-align: top; text-align: center;\"><h4 style=\"font-size: 12px\">4</h4><h4 style=\"font-size: 9px; padding-left: 10px; padding-right: 10px; width: 90%; word-wrap: break-word; white-space: normal;\">https://firewallcafe.com//wp-content/uploads/2016/02/baidu-car trip-04.jpg</h4><img src=\"https://firewallcafe.com//wp-content/uploads/2016/02/baidu-car trip-04.jpg\" style=\"margin: 1px; width: 100px; border: 2px solid #ddd;\"/></div><div style=\"display: inline-block; width: 120px; vertical-align: top; text-align: center;\"><h4 style=\"font-size: 12px\">5</h4><h4 style=\"font-size: 9px; padding-left: 10px; padding-right: 10px; width: 90%; word-wrap: break-word; white-space: normal;\">https://firewallcafe.com//wp-content/uploads/2016/02/baidu-car trip-05.jpg</h4><img src=\"https://firewallcafe.com//wp-content/uploads/2016/02/baidu-car trip-05.jpg\" style=\"margin: 1px; width: 100px; border: 2px solid #ddd;\"/></div><div style=\"display: inline-block; width: 120px; vertical-align: top; text-align: center;\"><h4 style=\"font-size: 12px\">6</h4><h4 style=\"font-size: 9px; padding-left: 10px; padding-right: 10px; width: 90%; word-wrap: break-word; white-space: normal;\">https://firewallcafe.com//wp-content/uploads/2016/02/baidu-car trip-06.jpg</h4><img src=\"https://firewallcafe.com//wp-content/uploads/2016/02/baidu-car trip-06.jpg\" style=\"margin: 1px; width: 100px; border: 2px solid #ddd;\"/></div><div style=\"display: inline-block; width: 120px; vertical-align: top; text-align: center;\"><h4 style=\"font-size: 12px\">7</h4><h4 style=\"font-size: 9px; padding-left: 10px; padding-right: 10px; width: 90%; word-wrap: break-word; white-space: normal;\">https://firewallcafe.com//wp-content/uploads/2016/02/baidu-car trip-08.jpg</h4><img src=\"https://firewallcafe.com//wp-content/uploads/2016/02/baidu-car trip-08.jpg\" style=\"margin: 1px; width: 100px; border: 2px solid #ddd;\"/></div><div style=\"display: inline-block; width: 120px; vertical-align: top; text-align: center;\"><h4 style=\"font-size: 12px\">8</h4><h4 style=\"font-size: 9px; padding-left: 10px; padding-right: 10px; width: 90%; word-wrap: break-word; white-space: normal;\">https://firewallcafe.com//wp-content/uploads/2016/02/baidu-car trip-09.jpg</h4><img src=\"https://firewallcafe.com//wp-content/uploads/2016/02/baidu-car trip-09.jpg\" style=\"margin: 1px; width: 100px; border: 2px solid #ddd;\"/></div><div style=\"display: inline-block; width: 120px; vertical-align: top; text-align: center;\"><h4 style=\"font-size: 12px\">9</h4><h4 style=\"font-size: 9px; padding-left: 10px; padding-right: 10px; width: 90%; word-wrap: break-word; white-space: normal;\">https://firewallcafe.com//wp-content/uploads/2016/02/baidu-car trip-10.jpg</h4><img src=\"https://firewallcafe.com//wp-content/uploads/2016/02/baidu-car trip-10.jpg\" style=\"margin: 1px; width: 100px; border: 2px solid #ddd;\"/></div><div style=\"display: inline-block; width: 120px; vertical-align: top; text-align: center;\"><h4 style=\"font-size: 12px\">10</h4><h4 style=\"font-size: 9px; padding-left: 10px; padding-right: 10px; width: 90%; word-wrap: break-word; white-space: normal;\">https://firewallcafe.com//wp-content/uploads/2016/02/google-car trip-01.jpg</h4><img src=\"https://firewallcafe.com//wp-content/uploads/2016/02/google-car trip-01.jpg\" style=\"margin: 1px; width: 100px; border: 2px solid #ddd;\"/></div><div style=\"display: inline-block; width: 120px; vertical-align: top; text-align: center;\"><h4 style=\"font-size: 12px\">11</h4><h4 style=\"font-size: 9px; padding-left: 10px; padding-right: 10px; width: 90%; word-wrap: break-word; white-space: normal;\">https://firewallcafe.com//wp-content/uploads/2016/02/google-car trip-02.jpg</h4><img src=\"https://firewallcafe.com//wp-content/uploads/2016/02/google-car trip-02.jpg\" style=\"margin: 1px; width: 100px; border: 2px solid #ddd;\"/></div><div style=\"display: inline-block; width: 120px; vertical-align: top; text-align: center;\"><h4 style=\"font-size: 12px\">12</h4><h4 style=\"font-size: 9px; padding-left: 10px; padding-right: 10px; width: 90%; word-wrap: break-word; white-space: normal;\">https://firewallcafe.com//wp-content/uploads/2016/02/google-car trip-03.jpg</h4><img src=\"https://firewallcafe.com//wp-content/uploads/2016/02/google-car trip-03.jpg\" style=\"margin: 1px; width: 100px; border: 2px solid #ddd;\"/></div><div style=\"display: inline-block; width: 120px; vertical-align: top; text-align: center;\"><h4 style=\"font-size: 12px\">13</h4><h4 style=\"font-size: 9px; padding-left: 10px; padding-right: 10px; width: 90%; word-wrap: break-word; white-space: normal;\">https://firewallcafe.com//wp-content/uploads/2016/02/google-car trip-04.jpg</h4><img src=\"https://firewallcafe.com//wp-content/uploads/2016/02/google-car trip-04.jpg\" style=\"margin: 1px; width: 100px; border: 2px solid #ddd;\"/></div><div style=\"display: inline-block; width: 120px; vertical-align: top; text-align: center;\"><h4 style=\"font-size: 12px\">14</h4><h4 style=\"font-size: 9px; padding-left: 10px; padding-right: 10px; width: 90%; word-wrap: break-word; white-space: normal;\">https://firewallcafe.com//wp-content/uploads/2016/02/google-car trip-05.jpg</h4><img src=\"https://firewallcafe.com//wp-content/uploads/2016/02/google-car trip-05.jpg\" style=\"margin: 1px; width: 100px; border: 2px solid #ddd;\"/></div><div style=\"display: inline-block; width: 120px; vertical-align: top; text-align: center;\"><h4 style=\"font-size: 12px\">15</h4><h4 style=\"font-size: 9px; padding-left: 10px; padding-right: 10px; width: 90%; word-wrap: break-word; white-space: normal;\">https://firewallcafe.com//wp-content/uploads/2016/02/google-car trip-06.jpg</h4><img src=\"https://firewallcafe.com//wp-content/uploads/2016/02/google-car trip-06.jpg\" style=\"margin: 1px; width: 100px; border: 2px solid #ddd;\"/></div><div style=\"display: inline-block; width: 120px; vertical-align: top; text-align: center;\"><h4 style=\"font-size: 12px\">16</h4><h4 style=\"font-size: 9px; padding-left: 10px; padding-right: 10px; width: 90%; word-wrap: break-word; white-space: normal;\">https://firewallcafe.com//wp-content/uploads/2016/02/google-car trip-07.jpg</h4><img src=\"https://firewallcafe.com//wp-content/uploads/2016/02/google-car trip-07.jpg\" style=\"margin: 1px; width: 100px; border: 2px solid #ddd;\"/></div><div style=\"display: inline-block; width: 120px; vertical-align: top; text-align: center;\"><h4 style=\"font-size: 12px\">17</h4><h4 style=\"font-size: 9px; padding-left: 10px; padding-right: 10px; width: 90%; word-wrap: break-word; white-space: normal;\">https://firewallcafe.com//wp-content/uploads/2016/02/google-car trip-08.jpg</h4><img src=\"https://firewallcafe.com//wp-content/uploads/2016/02/google-car trip-08.jpg\" style=\"margin: 1px; width: 100px; border: 2px solid #ddd;\"/></div><div style=\"display: inline-block; width: 120px; vertical-align: top; text-align: center;\"><h4 style=\"font-size: 12px\">18</h4><h4 style=\"font-size: 9px; padding-left: 10px; padding-right: 10px; width: 90%; word-wrap: break-word; white-space: normal;\">https://firewallcafe.com//wp-content/uploads/2016/02/google-car trip-09.jpg</h4><img src=\"https://firewallcafe.com//wp-content/uploads/2016/02/google-car trip-09.jpg\" style=\"margin: 1px; width: 100px; border: 2px solid #ddd;\"/></div><div style=\"display: inline-block; width: 120px; vertical-align: top; text-align: center;\"><h4 style=\"font-size: 12px\">19</h4><h4 style=\"font-size: 9px; padding-left: 10px; padding-right: 10px; width: 90%; word-wrap: break-word; white-space: normal;\">https://firewallcafe.com//wp-content/uploads/2016/02/google-car trip-10.jpg</h4><img src=\"https://firewallcafe.com//wp-content/uploads/2016/02/google-car trip-10.jpg\" style=\"margin: 1px; width: 100px; border: 2px solid #ddd;\"/></div>"
      ],
      "text/plain": [
       "<IPython.core.display.HTML object>"
      ]
     },
     "metadata": {},
     "output_type": "display_data"
    }
   ],
   "source": [
    "ipyplot.plot_images(hrefs, img_width=100)"
   ]
  },
  {
   "cell_type": "markdown",
   "metadata": {},
   "source": [
    "The images are there. Not sure why they aren't showing up on the Wordpress site, but we can at least give access to them on Dataserve."
   ]
  },
  {
   "cell_type": "markdown",
   "metadata": {},
   "source": [
    "### What we need to do\n",
    "\n",
    "Right now, we can modify the code in Dataserve to use the Wordpress image URL as a backup if `image_url` isn't specified.\n",
    "\n",
    "For the new API, we have some URL management to do. We need a new `original_href` so we can keep track of where we first found the image. For any images with nothing in `image_href`, we need to make sure the image is in the image data lake and add the URL to it. Plus, there are still a lot of images where `image_url` is pointing to the original location, so we'll need to switch those URLs out for the new location that we control."
   ]
  }
 ],
 "metadata": {
  "kernelspec": {
   "display_name": "Python 3",
   "language": "python",
   "name": "python3"
  },
  "language_info": {
   "codemirror_mode": {
    "name": "ipython",
    "version": 3
   },
   "file_extension": ".py",
   "mimetype": "text/x-python",
   "name": "python",
   "nbconvert_exporter": "python",
   "pygments_lexer": "ipython3",
   "version": "3.8.3"
  }
 },
 "nbformat": 4,
 "nbformat_minor": 4
}
