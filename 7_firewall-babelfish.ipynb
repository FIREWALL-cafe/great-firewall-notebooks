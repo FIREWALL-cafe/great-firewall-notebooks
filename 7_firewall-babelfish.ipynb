{
 "cells": [
  {
   "cell_type": "code",
   "execution_count": 1,
   "metadata": {},
   "outputs": [],
   "source": [
    "import requests"
   ]
  },
  {
   "cell_type": "code",
   "execution_count": 2,
   "metadata": {},
   "outputs": [],
   "source": [
    "import json"
   ]
  },
  {
   "cell_type": "code",
   "execution_count": 3,
   "metadata": {},
   "outputs": [],
   "source": [
    "with open('service-keys.json') as f:\n",
    "    private_key_id = json.loads(f.read())['private_key_id']"
   ]
  },
  {
   "cell_type": "code",
   "execution_count": 4,
   "metadata": {},
   "outputs": [],
   "source": [
    "endpoint = 'https://babelfish.firewallcafe.com/'"
   ]
  },
  {
   "cell_type": "code",
   "execution_count": 17,
   "metadata": {},
   "outputs": [
    {
     "name": "stdout",
     "output_type": "stream",
     "text": [
      "200\n"
     ]
    },
    {
     "data": {
      "text/plain": [
       "{'ok': 1,\n",
       " 'query': 'toast',\n",
       " 'langFrom': 'en',\n",
       " 'langTo': 'zh-CN',\n",
       " 'translated': '吐司',\n",
       " 'sensitive': False}"
      ]
     },
     "execution_count": 17,
     "metadata": {},
     "output_type": "execute_result"
    }
   ],
   "source": [
    "r = requests.post(endpoint + 'translate', data={'secret':private_key_id, 'query':'toast', 'langFrom':'en', 'langTo':'zh-CN'})\n",
    "print(r.status_code)\n",
    "r.json()"
   ]
  },
  {
   "cell_type": "code",
   "execution_count": 8,
   "metadata": {},
   "outputs": [],
   "source": [
    "from pandas import read_csv"
   ]
  },
  {
   "cell_type": "code",
   "execution_count": 9,
   "metadata": {},
   "outputs": [],
   "source": [
    "df = read_csv('english5000_cleaned.csv')"
   ]
  },
  {
   "cell_type": "code",
   "execution_count": 13,
   "metadata": {},
   "outputs": [],
   "source": [
    "words = list(df.word)[1:]"
   ]
  },
  {
   "cell_type": "code",
   "execution_count": 19,
   "metadata": {},
   "outputs": [
    {
     "name": "stdout",
     "output_type": "stream",
     "text": [
      "got 1000 of 1000 words requested for translation\n"
     ]
    }
   ],
   "source": [
    "results = {}\n",
    "errors = 0\n",
    "limit = 1000\n",
    "for word in words[:limit]:\n",
    "    try:\n",
    "        r = requests.post(endpoint + 'translate', data={'secret':private_key_id, 'query':'toast', 'langFrom':'en', 'langTo':'zh-CN'})\n",
    "        j = r.json()\n",
    "        results[word] = j['translated']\n",
    "    except:\n",
    "        results[word] = None\n",
    "        errors += 1\n",
    "#     print(word, r.status_code)\n",
    "print(\"got\", (limit-errors), \"of\", limit, \"words requested for translation\")"
   ]
  }
 ],
 "metadata": {
  "kernelspec": {
   "display_name": "Python 3",
   "language": "python",
   "name": "python3"
  },
  "language_info": {
   "codemirror_mode": {
    "name": "ipython",
    "version": 3
   },
   "file_extension": ".py",
   "mimetype": "text/x-python",
   "name": "python",
   "nbconvert_exporter": "python",
   "pygments_lexer": "ipython3",
   "version": "3.8.3"
  }
 },
 "nbformat": 4,
 "nbformat_minor": 4
}
