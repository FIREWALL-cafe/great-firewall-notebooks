{
 "cells": [
  {
   "cell_type": "markdown",
   "metadata": {},
   "source": [
    "## transferring images from the Postgres DB into the Digital Ocean Space\n",
    "\n",
    "Here's what we need to do to transfer over the raw image data so it's no longer in the database.\n",
    "\n",
    "1. Determine that the size of the DO Space we've chosen will be big enough to last a long timme. What is the current size of the images in the DB? How fast do we expect the space usage to grow, given reasonable assumptions about how many keywords we're using?\n",
    "2. Get a list of all images we're going to query for\n",
    "3. Update the API so that saving all new images will save to the DO Space rather than the database\n",
    "4. Get the image binary data of an image, save it with the new API image save endpoint, then check that any query that includes that image metadata links to the new DO Space image URL\n",
    "5. run for all images"
   ]
  }
 ],
 "metadata": {
  "kernelspec": {
   "display_name": "Python 3",
   "language": "python",
   "name": "python3"
  },
  "language_info": {
   "codemirror_mode": {
    "name": "ipython",
    "version": 3
   },
   "file_extension": ".py",
   "mimetype": "text/x-python",
   "name": "python",
   "nbconvert_exporter": "python",
   "pygments_lexer": "ipython3",
   "version": "3.8.3"
  }
 },
 "nbformat": 4,
 "nbformat_minor": 4
}
