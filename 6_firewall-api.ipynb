{
 "cells": [
  {
   "cell_type": "markdown",
   "metadata": {},
   "source": [
    "## Testing the API"
   ]
  },
  {
   "cell_type": "code",
   "execution_count": 1,
   "metadata": {},
   "outputs": [],
   "source": [
    "import requests"
   ]
  },
  {
   "cell_type": "markdown",
   "metadata": {},
   "source": [
    "This is a test version set up on a Digital Ocean droplet created using the Firewall Cafe snapshot."
   ]
  },
  {
   "cell_type": "code",
   "execution_count": 2,
   "metadata": {},
   "outputs": [],
   "source": [
    "BASE_URL = 'http://159.89.80.47/'"
   ]
  },
  {
   "cell_type": "markdown",
   "metadata": {},
   "source": [
    "### GET endpoints"
   ]
  },
  {
   "cell_type": "code",
   "execution_count": 3,
   "metadata": {},
   "outputs": [],
   "source": [
    "endpoints = [\n",
    "    'searches',\n",
    "    'searches/search_id/1',\n",
    "    'searches/images',\n",
    "    'searches/images/search_id/1',\n",
    "    'searches/votes',\n",
    "    'searches/votes/search_id/1',\n",
    "    'searches/votes/vote_id/1',\n",
    "    'searches/votes/censored_searches',\n",
    "    'searches/votes/uncensored_searches',\n",
    "    'searches/votes/bad_translation_searches',\n",
    "    'searches/votes/good_translation_searches',\n",
    "    'searches/votes/nsfw_searches',\n",
    "    'searches/votes/wtf_searches',\n",
    "    'searches/votecounts',\n",
    "    'searches/1/votecounts',\n",
    "    'searches/votecounts/images',\n",
    "    'searches/1/votecounts/images',\n",
    "    'images',\n",
    "    'images/search_id/1',\n",
    "    'images/censored_searches',\n",
    "    'images/uncensored_searches',\n",
    "    'images/bad_translation_searches',\n",
    "    'images/good_translation_searches',\n",
    "    'images/nsfw_searches',\n",
    "    'images/wtf_searches',\n",
    "]"
   ]
  },
  {
   "cell_type": "code",
   "execution_count": 4,
   "metadata": {},
   "outputs": [],
   "source": [
    "import time"
   ]
  },
  {
   "cell_type": "code",
   "execution_count": 5,
   "metadata": {},
   "outputs": [
    {
     "name": "stdout",
     "output_type": "stream",
     "text": [
      "searches                                             6.1 seconds 200\n",
      "\t first query info: football\n",
      "searches/search_id/1                                 0.2 seconds 200\n",
      "\t first query info: football\n",
      "searches/images                                      4.2 seconds 200\n",
      "\t first query info: chinese feminist activists\n",
      "searches/images/search_id/1                          1.7 seconds 200\n",
      "\t first query info: football\n",
      "searches/votes                                       7.9 seconds 200\n",
      "\t first query info: blond jenny, Bad Translation\n",
      "searches/votes/search_id/1                           0.3 seconds 200\n",
      "searches/votes/vote_id/1                             1.9 seconds 200\n",
      "\t first query info: blond jenny artist, Censored\n",
      "searches/votes/censored_searches                     1.4 seconds 200\n",
      "\t first query info: shen yun\n",
      "searches/votes/uncensored_searches                   1.4 seconds 200\n",
      "\t first query info: black jesus\n",
      "searches/votes/bad_translation_searches              1.2 seconds 200\n",
      "\t first query info: history of women's suffrage\n",
      "searches/votes/good_translation_searches             2.8 seconds 200\n",
      "\t first query info: venezuela\n",
      "searches/votes/nsfw_searches                         1.7 seconds 200\n",
      "\t first query info: black jesus\n",
      "searches/votes/wtf_searches                          0.6 seconds 200\n",
      "\t first query info: history of women's suffrage\n",
      "searches/votecounts                                  6.9 seconds 200\n",
      "\t first query info: venezuela\n",
      "searches/1/votecounts                                0.2 seconds 200\n",
      "\t first query info: football\n",
      "searches/votecounts/images                           1.8 seconds 200\n",
      "\t first query info: football\n",
      "searches/1/votecounts/images                         1.1 seconds 200\n",
      "\t first query info: football\n",
      "images                                               1.3 seconds 200\n",
      "images/search_id/1                                   1.0 seconds 200\n",
      "images/censored_searches                             1.1 seconds 200\n",
      "images/uncensored_searches                           0.9 seconds 200\n",
      "images/bad_translation_searches                      0.9 seconds 200\n",
      "images/good_translation_searches                     1.2 seconds 200\n",
      "images/nsfw_searches                                 2.1 seconds 200\n",
      "images/wtf_searches                                  0.2 seconds 200\n"
     ]
    }
   ],
   "source": [
    "for endpoint in endpoints:\n",
    "    ts = time.time()\n",
    "    r = requests.get(BASE_URL + endpoint)\n",
    "    info = []\n",
    "    try:\n",
    "        first = r.json()[0]\n",
    "        check = ['search_term_initial', 'vote_name']\n",
    "        for item in check:\n",
    "            if item in first: info.append(first[item])\n",
    "    except: \n",
    "        pass\n",
    "    print(f'{endpoint:50} {round(time.time()-ts, 1):5} seconds {r.status_code}')\n",
    "    if info: print('\\t first query info:', ', '.join(info))"
   ]
  },
  {
   "cell_type": "markdown",
   "metadata": {},
   "source": [
    "Looks like they're all working, and the endpoints that weren't working were breaking because raw image data is being stored in the Postgres DB and the queries get too big fast."
   ]
  },
  {
   "cell_type": "markdown",
   "metadata": {},
   "source": [
    "### POST endpoints"
   ]
  },
  {
   "cell_type": "markdown",
   "metadata": {},
   "source": [
    "Okay, now try posting the results of a single search.\n",
    "\n",
    "This is a bit tricky as I believe that using this endpoint isn't documented at all, which means I have to read the actual functions, [createSearch](https://github.com/dphiffer/firewall-cafe/blob/d0f0ed33e511430d55c1a6e04994399afe0003c6/api/queries.js#L428) and [saveImage](https://github.com/dphiffer/firewall-cafe/blob/d0f0ed33e511430d55c1a6e04994399afe0003c6/api/queries.js#L510).\n",
    "\n",
    "Looks like we're going to have to call `saveImage()` once for each image we want to save, which will be a lot of overhead on the API."
   ]
  },
  {
   "cell_type": "code",
   "execution_count": 6,
   "metadata": {},
   "outputs": [],
   "source": [
    "from datetime import datetime"
   ]
  },
  {
   "cell_type": "code",
   "execution_count": 15,
   "metadata": {},
   "outputs": [
    {
     "data": {
      "text/plain": [
       "1610179839.702349"
      ]
     },
     "execution_count": 15,
     "metadata": {},
     "output_type": "execute_result"
    }
   ],
   "source": [
    "datetime.utcnow().timestamp()"
   ]
  },
  {
   "cell_type": "markdown",
   "metadata": {},
   "source": [
    "Let's look at an example search."
   ]
  },
  {
   "cell_type": "code",
   "execution_count": 21,
   "metadata": {},
   "outputs": [
    {
     "data": {
      "text/plain": [
       "[{'search_id': 1,\n",
       "  'search_timestamp': '1454979377000',\n",
       "  'search_location': 'new_york_city',\n",
       "  'search_ip_address': None,\n",
       "  'search_client_name': 'Dan',\n",
       "  'search_engine_initial': None,\n",
       "  'search_engine_translation': None,\n",
       "  'search_term_initial': 'football',\n",
       "  'search_term_initial_language_code': None,\n",
       "  'search_term_initial_language_confidence': None,\n",
       "  'search_term_initial_language_alternate_code': None,\n",
       "  'search_term_translation': '足球',\n",
       "  'search_term_translation_language_code': None,\n",
       "  'search_term_status_banned': False,\n",
       "  'search_term_status_sensitive': False,\n",
       "  'search_schema_initial': 0,\n",
       "  'wordpress_search_term_popularity': 1,\n",
       "  'wordpress_copyright_takedown': None,\n",
       "  'wordpress_unflattened': None,\n",
       "  'wordpress_regular_post_id': 223,\n",
       "  'wordpress_search_result_post_id': 241408,\n",
       "  'wordpress_search_result_post_slug': 'football-1454979377'}]"
      ]
     },
     "execution_count": 21,
     "metadata": {},
     "output_type": "execute_result"
    }
   ],
   "source": [
    "requests.get(BASE_URL + 'searches/search_id/1').json()"
   ]
  },
  {
   "cell_type": "markdown",
   "metadata": {},
   "source": [
    "### Create searches"
   ]
  },
  {
   "cell_type": "code",
   "execution_count": 48,
   "metadata": {},
   "outputs": [],
   "source": [
    "def create_search(text):\n",
    "    r = requests.post(BASE_URL + 'createSearch', data={\n",
    "        'search_timestamp':int(datetime.utcnow().timestamp()),\n",
    "        'search_location':'new_york_city',\n",
    "        'search_ip_address': None,\n",
    "        'search_client_name':'rowan_scraper_tests',\n",
    "        'search_engine_initial': None,\n",
    "        'search_engine_translation': None,\n",
    "        'search_term_initial': text,\n",
    "        'search_term_initial_language_code': None,\n",
    "        'search_term_initial_language_confidence': None,\n",
    "        'search_term_initial_language_alternate_code': None,\n",
    "        'search_term_translation': None,\n",
    "        'search_term_translation_language_code': None,\n",
    "        'search_term_status_banned': False,\n",
    "        'search_term_status_sensitive': False,\n",
    "        'search_schema_initial':0\n",
    "    })\n",
    "    return r"
   ]
  },
  {
   "cell_type": "code",
   "execution_count": 52,
   "metadata": {},
   "outputs": [
    {
     "name": "stdout",
     "output_type": "stream",
     "text": [
      "search 5588 in DB\n"
     ]
    }
   ],
   "source": [
    "def query_search(search_id):\n",
    "    r = requests.get(BASE_URL + 'searches/search_id/' + str(search_id))\n",
    "#     print(r.json())\n",
    "    # TODO: endpoint should return 404 if search_id not found\n",
    "    if r.status_code == 200 and r.json():\n",
    "        print(\"search\", search_id, \"in DB\")\n",
    "        return True\n",
    "    else:\n",
    "        print(\"could not find\", search_id)    \n",
    "        return False\n",
    "\n",
    "r = create_search('test')\n",
    "last_id_used = -1\n",
    "if r.status_code == 201:\n",
    "    for insert in r.json():\n",
    "        query_search(insert['search_id'])\n",
    "        last_id_used = insert['search_id']"
   ]
  },
  {
   "cell_type": "code",
   "execution_count": 53,
   "metadata": {},
   "outputs": [
    {
     "name": "stdout",
     "output_type": "stream",
     "text": [
      "could not find 5589\n"
     ]
    },
    {
     "data": {
      "text/plain": [
       "False"
      ]
     },
     "execution_count": 53,
     "metadata": {},
     "output_type": "execute_result"
    }
   ],
   "source": [
    "query_search(last_id_used+1)"
   ]
  },
  {
   "cell_type": "code",
   "execution_count": 54,
   "metadata": {},
   "outputs": [
    {
     "name": "stdout",
     "output_type": "stream",
     "text": [
      "search 5589 in DB\n"
     ]
    },
    {
     "data": {
      "text/plain": [
       "[{'search_id': 5589}]"
      ]
     },
     "execution_count": 54,
     "metadata": {},
     "output_type": "execute_result"
    }
   ],
   "source": [
    "r = create_search('test')\n",
    "query_search(last_id_used+1)\n",
    "r.json()"
   ]
  },
  {
   "cell_type": "markdown",
   "metadata": {},
   "source": [
    "### Create votes"
   ]
  },
  {
   "cell_type": "code",
   "execution_count": 55,
   "metadata": {},
   "outputs": [],
   "source": [
    "def create_vote(search_id):\n",
    "    r = requests.post(BASE_URL + 'createVote', data={\n",
    "        'vote_id': 1, # censored\n",
    "        'search_id': search_id,\n",
    "        'vote_timestamp': int(datetime.utcnow().timestamp()),\n",
    "        'vote_client_name': 'rowan_tests',\n",
    "        'vote_ip_address': '192.168.0.1'\n",
    "    })\n",
    "    return r"
   ]
  },
  {
   "cell_type": "code",
   "execution_count": 62,
   "metadata": {},
   "outputs": [],
   "source": [
    "def get_votes(search_id):\n",
    "    r = requests.get(BASE_URL + 'searches/votes/search_id/' + str(search_id))\n",
    "    return r.json()"
   ]
  },
  {
   "cell_type": "code",
   "execution_count": 66,
   "metadata": {},
   "outputs": [
    {
     "name": "stdout",
     "output_type": "stream",
     "text": [
      "102\r"
     ]
    }
   ],
   "source": [
    "for i in range(100, 1000):\n",
    "    votes = get_votes(i)\n",
    "    if len(votes) > 0:\n",
    "        break\n",
    "    print(i, end='\\r')"
   ]
  },
  {
   "cell_type": "code",
   "execution_count": 67,
   "metadata": {},
   "outputs": [
    {
     "data": {
      "text/plain": [
       "[{'vote_name': 'NSFW',\n",
       "  'vote_serial': 40,\n",
       "  'vote_id': 6,\n",
       "  'search_id': 103,\n",
       "  'vote_timestamp': None,\n",
       "  'vote_client_name': None,\n",
       "  'vote_ip_address': None,\n",
       "  'search_timestamp': '1455141099000',\n",
       "  'search_location': 'new_york_city',\n",
       "  'search_ip_address': None,\n",
       "  'search_client_name': 'Client 289',\n",
       "  'search_engine_initial': None,\n",
       "  'search_engine_translation': None,\n",
       "  'search_term_initial': 'ceo',\n",
       "  'search_term_initial_language_code': None,\n",
       "  'search_term_initial_language_confidence': None,\n",
       "  'search_term_initial_language_alternate_code': None,\n",
       "  'search_term_translation': 'all',\n",
       "  'search_term_translation_language_code': None,\n",
       "  'search_term_status_banned': False,\n",
       "  'search_term_status_sensitive': False,\n",
       "  'search_schema_initial': 0,\n",
       "  'wordpress_search_term_popularity': 1,\n",
       "  'wordpress_copyright_takedown': None,\n",
       "  'wordpress_unflattened': None,\n",
       "  'wordpress_regular_post_id': 3814,\n",
       "  'wordpress_search_result_post_id': 241338,\n",
       "  'wordpress_search_result_post_slug': 'ceo-1455141099'}]"
      ]
     },
     "execution_count": 67,
     "metadata": {},
     "output_type": "execute_result"
    }
   ],
   "source": [
    "votes"
   ]
  },
  {
   "cell_type": "code",
   "execution_count": 68,
   "metadata": {},
   "outputs": [
    {
     "data": {
      "text/plain": [
       "[]"
      ]
     },
     "execution_count": 68,
     "metadata": {},
     "output_type": "execute_result"
    }
   ],
   "source": [
    "get_votes(last_id_used)"
   ]
  },
  {
   "cell_type": "code",
   "execution_count": 69,
   "metadata": {},
   "outputs": [
    {
     "data": {
      "text/plain": [
       "<Response [201]>"
      ]
     },
     "execution_count": 69,
     "metadata": {},
     "output_type": "execute_result"
    }
   ],
   "source": [
    "create_vote(last_id_used)"
   ]
  },
  {
   "cell_type": "code",
   "execution_count": 70,
   "metadata": {},
   "outputs": [
    {
     "data": {
      "text/plain": [
       "[{'vote_name': 'Censored',\n",
       "  'vote_serial': 6102,\n",
       "  'vote_id': 1,\n",
       "  'search_id': 5588,\n",
       "  'vote_timestamp': '1610183085',\n",
       "  'vote_client_name': 'rowan_tests',\n",
       "  'vote_ip_address': '192.168.0.1',\n",
       "  'search_timestamp': '1610181394',\n",
       "  'search_location': 'new_york_city',\n",
       "  'search_ip_address': None,\n",
       "  'search_client_name': 'rowan_scraper_tests',\n",
       "  'search_engine_initial': None,\n",
       "  'search_engine_translation': None,\n",
       "  'search_term_initial': 'test',\n",
       "  'search_term_initial_language_code': None,\n",
       "  'search_term_initial_language_confidence': None,\n",
       "  'search_term_initial_language_alternate_code': None,\n",
       "  'search_term_translation': None,\n",
       "  'search_term_translation_language_code': None,\n",
       "  'search_term_status_banned': False,\n",
       "  'search_term_status_sensitive': False,\n",
       "  'search_schema_initial': None,\n",
       "  'wordpress_search_term_popularity': None,\n",
       "  'wordpress_copyright_takedown': None,\n",
       "  'wordpress_unflattened': None,\n",
       "  'wordpress_regular_post_id': None,\n",
       "  'wordpress_search_result_post_id': None,\n",
       "  'wordpress_search_result_post_slug': None}]"
      ]
     },
     "execution_count": 70,
     "metadata": {},
     "output_type": "execute_result"
    }
   ],
   "source": [
    "get_votes(last_id_used)"
   ]
  },
  {
   "cell_type": "markdown",
   "metadata": {},
   "source": [
    "### Create images"
   ]
  },
  {
   "cell_type": "code",
   "execution_count": 71,
   "metadata": {},
   "outputs": [],
   "source": [
    "def create_image(search_id):\n",
    "    r = requests.post(BASE_URL + 'saveImage', data={\n",
    "        'search_id': search_id,\n",
    "        'image_search_engine': 'test',\n",
    "        'image_href': 'https://firewallcafe.com/wp-content/themes/fwc/img/logo-firewall-generic.svg?1578614316',\n",
    "        'image_rank': 0\n",
    "    })\n",
    "    return r.json()"
   ]
  },
  {
   "cell_type": "code",
   "execution_count": 72,
   "metadata": {},
   "outputs": [
    {
     "data": {
      "text/plain": [
       "[]"
      ]
     },
     "execution_count": 72,
     "metadata": {},
     "output_type": "execute_result"
    }
   ],
   "source": [
    "create_image(last_id_used)"
   ]
  },
  {
   "cell_type": "code",
   "execution_count": 73,
   "metadata": {},
   "outputs": [],
   "source": [
    "def get_images(search_id):\n",
    "    r = requests.get(BASE_URL + 'images/search_id/' + str(search_id))\n",
    "    return r.json()"
   ]
  },
  {
   "cell_type": "code",
   "execution_count": 74,
   "metadata": {},
   "outputs": [
    {
     "data": {
      "text/plain": [
       "[{'image_id': 197468,\n",
       "  'search_id': 5588,\n",
       "  'image_search_engine': 'test',\n",
       "  'image_href': 'https://firewallcafe.com/wp-content/themes/fwc/img/logo-firewall-generic.svg?1578614316',\n",
       "  'image_rank': '0',\n",
       "  'image_mime_type': None,\n",
       "  'image_data': None,\n",
       "  'wordpress_attachment_post_id': None,\n",
       "  'wordpress_attachment_file_path': None}]"
      ]
     },
     "execution_count": 74,
     "metadata": {},
     "output_type": "execute_result"
    }
   ],
   "source": [
    "get_images(last_id_used)"
   ]
  },
  {
   "cell_type": "markdown",
   "metadata": {},
   "source": [
    "The POST endpoints are now working as well"
   ]
  },
  {
   "cell_type": "code",
   "execution_count": null,
   "metadata": {},
   "outputs": [],
   "source": []
  }
 ],
 "metadata": {
  "kernelspec": {
   "display_name": "Python 3",
   "language": "python",
   "name": "python3"
  },
  "language_info": {
   "codemirror_mode": {
    "name": "ipython",
    "version": 3
   },
   "file_extension": ".py",
   "mimetype": "text/x-python",
   "name": "python",
   "nbconvert_exporter": "python",
   "pygments_lexer": "ipython3",
   "version": "3.8.3"
  }
 },
 "nbformat": 4,
 "nbformat_minor": 4
}
