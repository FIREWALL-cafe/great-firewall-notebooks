{
 "cells": [
  {
   "cell_type": "code",
   "execution_count": 1,
   "metadata": {},
   "outputs": [
    {
     "name": "stdout",
     "output_type": "stream",
     "text": [
      "last run: 2021-05-13\n"
     ]
    }
   ],
   "source": [
    "from datetime import date\n",
    "\n",
    "today = date.today()\n",
    "print(\"last run:\", today)"
   ]
  },
  {
   "cell_type": "markdown",
   "metadata": {},
   "source": [
    "## Testing the API"
   ]
  },
  {
   "cell_type": "code",
   "execution_count": 2,
   "metadata": {},
   "outputs": [],
   "source": [
    "import json\n",
    "import requests"
   ]
  },
  {
   "cell_type": "markdown",
   "metadata": {},
   "source": [
    "This is a test version set up on a Digital Ocean droplet created using the Firewall Cafe snapshot."
   ]
  },
  {
   "cell_type": "code",
   "execution_count": 3,
   "metadata": {},
   "outputs": [],
   "source": [
    "# BASE_URL = 'http://159.89.80.47/'\n",
    "BASE_URL = 'http://test-api.firewallcafe.com/'"
   ]
  },
  {
   "cell_type": "markdown",
   "metadata": {},
   "source": [
    "### GET endpoints"
   ]
  },
  {
   "cell_type": "code",
   "execution_count": 4,
   "metadata": {},
   "outputs": [],
   "source": [
    "endpoints = [\n",
    "    'searches',\n",
    "    'searches/search_id/1',\n",
    "    'searches/images',\n",
    "    'searches/images/search_id/1',\n",
    "    'searches/votes',\n",
    "    'searches/votes/search_id/1',\n",
    "    'searches/votes/vote_id/1',\n",
    "    'searches/votes/censored_searches',\n",
    "    'searches/votes/uncensored_searches',\n",
    "    'searches/votes/bad_translation_searches',\n",
    "    'searches/votes/good_translation_searches',\n",
    "    'searches/votes/nsfw_searches',\n",
    "    'searches/votes/wtf_searches',\n",
    "    'searches/votecounts',\n",
    "    'searches/1/votecounts',\n",
    "    'searches/votecounts/images',\n",
    "    'searches/1/votecounts/images',\n",
    "    'images',\n",
    "    'images/search_id/1',\n",
    "    'images/censored_searches',\n",
    "    'images/uncensored_searches',\n",
    "    'images/bad_translation_searches',\n",
    "    'images/good_translation_searches',\n",
    "    'images/nsfw_searches',\n",
    "    'images/wtf_searches',\n",
    "]"
   ]
  },
  {
   "cell_type": "code",
   "execution_count": 5,
   "metadata": {},
   "outputs": [],
   "source": [
    "import time"
   ]
  },
  {
   "cell_type": "code",
   "execution_count": 6,
   "metadata": {},
   "outputs": [
    {
     "name": "stdout",
     "output_type": "stream",
     "text": [
      "searches                                             0.4 seconds 200\n",
      "\t first query info: test\n",
      "searches/search_id/1                                 0.2 seconds 200\n",
      "\t first query info: football\n",
      "searches/images                                      0.9 seconds 200\n",
      "\t first query info: test\n",
      "searches/images/search_id/1                          0.4 seconds 200\n",
      "\t first query info: football\n",
      "searches/votes                                       0.4 seconds 200\n",
      "\t first query info: test, Censored\n",
      "searches/votes/search_id/1                           0.2 seconds 200\n",
      "searches/votes/vote_id/1                             0.8 seconds 200\n",
      "\t first query info: blond jenny artist, Censored\n",
      "searches/votes/censored_searches                     0.8 seconds 200\n",
      "\t first query info: shen yun\n",
      "searches/votes/uncensored_searches                   0.6 seconds 200\n",
      "\t first query info: black jesus\n",
      "searches/votes/bad_translation_searches              0.6 seconds 200\n",
      "\t first query info: history of women's suffrage\n",
      "searches/votes/good_translation_searches             1.2 seconds 200\n",
      "\t first query info: venezuela\n",
      "searches/votes/nsfw_searches                         0.7 seconds 200\n",
      "\t first query info: black jesus\n",
      "searches/votes/wtf_searches                          0.3 seconds 200\n",
      "\t first query info: history of women's suffrage\n",
      "searches/votecounts                                  2.8 seconds 200\n",
      "\t first query info: venezuela\n",
      "searches/1/votecounts                                0.2 seconds 200\n",
      "\t first query info: football\n",
      "searches/votecounts/images                           1.9 seconds 200\n",
      "\t first query info: test\n",
      "searches/1/votecounts/images                         0.3 seconds 200\n",
      "\t first query info: football\n",
      "images                                               0.3 seconds 200\n",
      "images/search_id/1                                   0.2 seconds 200\n",
      "images/censored_searches                             0.2 seconds 500\n",
      "images/uncensored_searches                           0.2 seconds 500\n",
      "images/bad_translation_searches                      0.2 seconds 500\n",
      "images/good_translation_searches                     0.2 seconds 500\n",
      "images/nsfw_searches                                 0.2 seconds 500\n",
      "images/wtf_searches                                  0.2 seconds 500\n"
     ]
    }
   ],
   "source": [
    "for endpoint in endpoints:\n",
    "    ts = time.time()\n",
    "    r = requests.get(BASE_URL + endpoint)\n",
    "    info = []\n",
    "    try:\n",
    "        first = r.json()[0]\n",
    "        check = ['search_term_initial', 'vote_name']\n",
    "        for item in check:\n",
    "            if item in first: info.append(first[item])\n",
    "    except: \n",
    "        pass\n",
    "    print(f'{endpoint:50} {round(time.time()-ts, 1):5} seconds {r.status_code}')\n",
    "    if info: print('\\t first query info:', ', '.join(info))"
   ]
  },
  {
   "cell_type": "markdown",
   "metadata": {},
   "source": [
    "Looks like they're all working, and the endpoints that weren't working were breaking because raw image data is being stored in the Postgres DB and the queries get too big fast."
   ]
  },
  {
   "cell_type": "markdown",
   "metadata": {},
   "source": [
    "### POST endpoints"
   ]
  },
  {
   "cell_type": "markdown",
   "metadata": {},
   "source": [
    "Okay, now try posting the results of a single search.\n",
    "\n",
    "This is a bit tricky as I believe that using this endpoint isn't documented at all, which means I have to read the actual functions, [createSearch](https://github.com/dphiffer/firewall-cafe/blob/d0f0ed33e511430d55c1a6e04994399afe0003c6/api/queries.js#L428) and [saveImage](https://github.com/dphiffer/firewall-cafe/blob/d0f0ed33e511430d55c1a6e04994399afe0003c6/api/queries.js#L510).\n",
    "\n",
    "Looks like we're going to have to call `saveImage()` once for each image we want to save, which will be a lot of overhead on the API."
   ]
  },
  {
   "cell_type": "code",
   "execution_count": 7,
   "metadata": {},
   "outputs": [],
   "source": [
    "from datetime import datetime"
   ]
  },
  {
   "cell_type": "code",
   "execution_count": 8,
   "metadata": {},
   "outputs": [
    {
     "data": {
      "text/plain": [
       "1620984226.664925"
      ]
     },
     "execution_count": 8,
     "metadata": {},
     "output_type": "execute_result"
    }
   ],
   "source": [
    "datetime.utcnow().timestamp()"
   ]
  },
  {
   "cell_type": "markdown",
   "metadata": {},
   "source": [
    "Let's look at an example search."
   ]
  },
  {
   "cell_type": "code",
   "execution_count": 9,
   "metadata": {},
   "outputs": [
    {
     "data": {
      "text/plain": [
       "[{'search_id': 1,\n",
       "  'search_timestamp': '1454979377000',\n",
       "  'search_location': 'new_york_city',\n",
       "  'search_ip_address': None,\n",
       "  'search_client_name': 'Dan',\n",
       "  'search_engine_initial': None,\n",
       "  'search_engine_translation': None,\n",
       "  'search_term_initial': 'football',\n",
       "  'search_term_initial_language_code': None,\n",
       "  'search_term_initial_language_confidence': None,\n",
       "  'search_term_initial_language_alternate_code': None,\n",
       "  'search_term_translation': '足球',\n",
       "  'search_term_translation_language_code': None,\n",
       "  'search_term_status_banned': False,\n",
       "  'search_term_status_sensitive': False,\n",
       "  'search_schema_initial': 0,\n",
       "  'wordpress_search_term_popularity': 1,\n",
       "  'wordpress_copyright_takedown': None,\n",
       "  'wordpress_unflattened': None,\n",
       "  'wordpress_regular_post_id': 223,\n",
       "  'wordpress_search_result_post_id': 241408,\n",
       "  'wordpress_search_result_post_slug': 'football-1454979377'}]"
      ]
     },
     "execution_count": 9,
     "metadata": {},
     "output_type": "execute_result"
    }
   ],
   "source": [
    "requests.get(BASE_URL + 'searches/search_id/1').json()"
   ]
  },
  {
   "cell_type": "markdown",
   "metadata": {},
   "source": [
    "### Create searches"
   ]
  },
  {
   "cell_type": "code",
   "execution_count": 10,
   "metadata": {},
   "outputs": [],
   "source": [
    "with open('api-config.json') as f:\n",
    "    secret = json.loads(f.read())['secret']"
   ]
  },
  {
   "cell_type": "code",
   "execution_count": 11,
   "metadata": {},
   "outputs": [],
   "source": [
    "def create_search(text):\n",
    "    r = requests.post(BASE_URL + 'createSearch', data={\n",
    "        'search_timestamp':int(datetime.utcnow().timestamp()),\n",
    "        'search_location':'new_york_city',\n",
    "        'search_ip_address': None,\n",
    "        'search_client_name':'rowan_scraper_tests',\n",
    "        'search_engine_initial': None,\n",
    "        'search_engine_translation': None,\n",
    "        'search_term_initial': text,\n",
    "        'search_term_initial_language_code': None,\n",
    "        'search_term_initial_language_confidence': None,\n",
    "        'search_term_initial_language_alternate_code': None,\n",
    "        'search_term_translation': None,\n",
    "        'search_term_translation_language_code': None,\n",
    "        'search_term_status_banned': False,\n",
    "        'search_term_status_sensitive': False,\n",
    "        'search_schema_initial':0,\n",
    "        'secret': secret\n",
    "    })\n",
    "    return r"
   ]
  },
  {
   "cell_type": "code",
   "execution_count": 12,
   "metadata": {},
   "outputs": [
    {
     "name": "stdout",
     "output_type": "stream",
     "text": [
      "search 5764 in DB\n"
     ]
    }
   ],
   "source": [
    "def query_search(search_id):\n",
    "    r = requests.get(BASE_URL + 'searches/search_id/' + str(search_id))\n",
    "#     print(r.json())\n",
    "    # TODO: endpoint should return 404 if search_id not found\n",
    "    if r.status_code == 200 and r.json():\n",
    "        print(\"search\", search_id, \"in DB\")\n",
    "        return True\n",
    "    else:\n",
    "        print(\"could not find\", search_id)    \n",
    "        return False\n",
    "\n",
    "r = create_search('test')\n",
    "last_id_used = -1\n",
    "if r.status_code == 201:\n",
    "    for insert in r.json():\n",
    "        query_search(insert['search_id'])\n",
    "        last_id_used = insert['search_id']"
   ]
  },
  {
   "cell_type": "code",
   "execution_count": 13,
   "metadata": {},
   "outputs": [
    {
     "name": "stdout",
     "output_type": "stream",
     "text": [
      "could not find 5765\n"
     ]
    },
    {
     "data": {
      "text/plain": [
       "False"
      ]
     },
     "execution_count": 13,
     "metadata": {},
     "output_type": "execute_result"
    }
   ],
   "source": [
    "query_search(last_id_used+1)"
   ]
  },
  {
   "cell_type": "code",
   "execution_count": 14,
   "metadata": {},
   "outputs": [
    {
     "name": "stdout",
     "output_type": "stream",
     "text": [
      "search 5765 in DB\n"
     ]
    },
    {
     "data": {
      "text/plain": [
       "[{'search_id': 5765}]"
      ]
     },
     "execution_count": 14,
     "metadata": {},
     "output_type": "execute_result"
    }
   ],
   "source": [
    "r = create_search('test')\n",
    "query_search(last_id_used+1)\n",
    "r.json()"
   ]
  },
  {
   "cell_type": "markdown",
   "metadata": {},
   "source": [
    "### Create votes"
   ]
  },
  {
   "cell_type": "code",
   "execution_count": 15,
   "metadata": {},
   "outputs": [],
   "source": [
    "def create_vote(search_id):\n",
    "    r = requests.post(BASE_URL + 'createVote', data={\n",
    "        'vote_id': 1, # censored\n",
    "        'search_id': search_id,\n",
    "        'vote_timestamp': int(datetime.utcnow().timestamp()),\n",
    "        'vote_client_name': 'rowan_tests',\n",
    "        'vote_ip_address': '192.168.0.1', \n",
    "        'secret': secret\n",
    "    })\n",
    "    return r"
   ]
  },
  {
   "cell_type": "code",
   "execution_count": 16,
   "metadata": {},
   "outputs": [],
   "source": [
    "def get_votes(search_id):\n",
    "    r = requests.get(BASE_URL + 'searches/votes/search_id/' + str(search_id))\n",
    "    return r.json()"
   ]
  },
  {
   "cell_type": "code",
   "execution_count": 17,
   "metadata": {},
   "outputs": [
    {
     "name": "stdout",
     "output_type": "stream",
     "text": [
      "102\r"
     ]
    }
   ],
   "source": [
    "for i in range(100, 1000):\n",
    "    votes = get_votes(i)\n",
    "    if len(votes) > 0:\n",
    "        break\n",
    "    print(i, end='\\r')"
   ]
  },
  {
   "cell_type": "code",
   "execution_count": 18,
   "metadata": {},
   "outputs": [
    {
     "data": {
      "text/plain": [
       "[{'vote_name': 'NSFW',\n",
       "  'vote_serial': 40,\n",
       "  'vote_id': 6,\n",
       "  'search_id': 103,\n",
       "  'vote_timestamp': None,\n",
       "  'vote_client_name': None,\n",
       "  'vote_ip_address': None,\n",
       "  'search_timestamp': '1455141099000',\n",
       "  'search_location': 'new_york_city',\n",
       "  'search_ip_address': None,\n",
       "  'search_client_name': 'Client 289',\n",
       "  'search_engine_initial': None,\n",
       "  'search_engine_translation': None,\n",
       "  'search_term_initial': 'ceo',\n",
       "  'search_term_initial_language_code': None,\n",
       "  'search_term_initial_language_confidence': None,\n",
       "  'search_term_initial_language_alternate_code': None,\n",
       "  'search_term_translation': 'all',\n",
       "  'search_term_translation_language_code': None,\n",
       "  'search_term_status_banned': False,\n",
       "  'search_term_status_sensitive': False,\n",
       "  'search_schema_initial': 0,\n",
       "  'wordpress_search_term_popularity': 1,\n",
       "  'wordpress_copyright_takedown': None,\n",
       "  'wordpress_unflattened': None,\n",
       "  'wordpress_regular_post_id': 3814,\n",
       "  'wordpress_search_result_post_id': 241338,\n",
       "  'wordpress_search_result_post_slug': 'ceo-1455141099'}]"
      ]
     },
     "execution_count": 18,
     "metadata": {},
     "output_type": "execute_result"
    }
   ],
   "source": [
    "votes"
   ]
  },
  {
   "cell_type": "code",
   "execution_count": 19,
   "metadata": {},
   "outputs": [
    {
     "data": {
      "text/plain": [
       "[]"
      ]
     },
     "execution_count": 19,
     "metadata": {},
     "output_type": "execute_result"
    }
   ],
   "source": [
    "get_votes(last_id_used)"
   ]
  },
  {
   "cell_type": "code",
   "execution_count": 20,
   "metadata": {},
   "outputs": [
    {
     "name": "stdout",
     "output_type": "stream",
     "text": [
      "<Response [201]> []\n"
     ]
    }
   ],
   "source": [
    "r = create_vote(last_id_used)\n",
    "print(r, r.json())"
   ]
  },
  {
   "cell_type": "code",
   "execution_count": 21,
   "metadata": {},
   "outputs": [
    {
     "data": {
      "text/plain": [
       "[{'vote_name': 'Censored',\n",
       "  'vote_serial': 6106,\n",
       "  'vote_id': 1,\n",
       "  'search_id': 5764,\n",
       "  'vote_timestamp': '1620984228',\n",
       "  'vote_client_name': 'rowan_tests',\n",
       "  'vote_ip_address': '192.168.0.1',\n",
       "  'search_timestamp': '1620984226',\n",
       "  'search_location': 'new_york_city',\n",
       "  'search_ip_address': None,\n",
       "  'search_client_name': 'rowan_scraper_tests',\n",
       "  'search_engine_initial': None,\n",
       "  'search_engine_translation': None,\n",
       "  'search_term_initial': 'test',\n",
       "  'search_term_initial_language_code': None,\n",
       "  'search_term_initial_language_confidence': None,\n",
       "  'search_term_initial_language_alternate_code': None,\n",
       "  'search_term_translation': None,\n",
       "  'search_term_translation_language_code': None,\n",
       "  'search_term_status_banned': False,\n",
       "  'search_term_status_sensitive': False,\n",
       "  'search_schema_initial': None,\n",
       "  'wordpress_search_term_popularity': None,\n",
       "  'wordpress_copyright_takedown': None,\n",
       "  'wordpress_unflattened': None,\n",
       "  'wordpress_regular_post_id': None,\n",
       "  'wordpress_search_result_post_id': None,\n",
       "  'wordpress_search_result_post_slug': None}]"
      ]
     },
     "execution_count": 21,
     "metadata": {},
     "output_type": "execute_result"
    }
   ],
   "source": [
    "get_votes(last_id_used)"
   ]
  },
  {
   "cell_type": "markdown",
   "metadata": {},
   "source": [
    "### Create images"
   ]
  },
  {
   "cell_type": "code",
   "execution_count": 22,
   "metadata": {},
   "outputs": [],
   "source": [
    "def create_image(search_id):\n",
    "    r = requests.post(BASE_URL + 'saveImage', data={\n",
    "        'search_id': search_id,\n",
    "        'image_search_engine': 'test',\n",
    "        'image_href': 'https://firewallcafe.com/wp-content/themes/fwc/img/logo-firewall-generic.svg?1578614316',\n",
    "        'image_href_original': 'https://firewallcafe.com/thisisatest.jpg',\n",
    "        'image_rank': 0,\n",
    "        'secret': secret\n",
    "    })\n",
    "    if r.status_code >= 300:\n",
    "        print(r.json())\n",
    "        raise Exception(\"create_image failed\")\n",
    "    return r.json()"
   ]
  },
  {
   "cell_type": "code",
   "execution_count": 23,
   "metadata": {},
   "outputs": [
    {
     "data": {
      "text/plain": [
       "{'url': 'https://firewallcafe.com/wp-content/themes/fwc/img/logo-firewall-generic.svg?1578614316',\n",
       " 'query_result': {'command': 'INSERT',\n",
       "  'rowCount': 1,\n",
       "  'oid': 0,\n",
       "  'rows': [],\n",
       "  'fields': [],\n",
       "  '_types': {'_types': {'arrayParser': {},\n",
       "    'builtins': {'BOOL': 16,\n",
       "     'BYTEA': 17,\n",
       "     'CHAR': 18,\n",
       "     'INT8': 20,\n",
       "     'INT2': 21,\n",
       "     'INT4': 23,\n",
       "     'REGPROC': 24,\n",
       "     'TEXT': 25,\n",
       "     'OID': 26,\n",
       "     'TID': 27,\n",
       "     'XID': 28,\n",
       "     'CID': 29,\n",
       "     'JSON': 114,\n",
       "     'XML': 142,\n",
       "     'PG_NODE_TREE': 194,\n",
       "     'SMGR': 210,\n",
       "     'PATH': 602,\n",
       "     'POLYGON': 604,\n",
       "     'CIDR': 650,\n",
       "     'FLOAT4': 700,\n",
       "     'FLOAT8': 701,\n",
       "     'ABSTIME': 702,\n",
       "     'RELTIME': 703,\n",
       "     'TINTERVAL': 704,\n",
       "     'CIRCLE': 718,\n",
       "     'MACADDR8': 774,\n",
       "     'MONEY': 790,\n",
       "     'MACADDR': 829,\n",
       "     'INET': 869,\n",
       "     'ACLITEM': 1033,\n",
       "     'BPCHAR': 1042,\n",
       "     'VARCHAR': 1043,\n",
       "     'DATE': 1082,\n",
       "     'TIME': 1083,\n",
       "     'TIMESTAMP': 1114,\n",
       "     'TIMESTAMPTZ': 1184,\n",
       "     'INTERVAL': 1186,\n",
       "     'TIMETZ': 1266,\n",
       "     'BIT': 1560,\n",
       "     'VARBIT': 1562,\n",
       "     'NUMERIC': 1700,\n",
       "     'REFCURSOR': 1790,\n",
       "     'REGPROCEDURE': 2202,\n",
       "     'REGOPER': 2203,\n",
       "     'REGOPERATOR': 2204,\n",
       "     'REGCLASS': 2205,\n",
       "     'REGTYPE': 2206,\n",
       "     'UUID': 2950,\n",
       "     'TXID_SNAPSHOT': 2970,\n",
       "     'PG_LSN': 3220,\n",
       "     'PG_NDISTINCT': 3361,\n",
       "     'PG_DEPENDENCIES': 3402,\n",
       "     'TSVECTOR': 3614,\n",
       "     'TSQUERY': 3615,\n",
       "     'GTSVECTOR': 3642,\n",
       "     'REGCONFIG': 3734,\n",
       "     'REGDICTIONARY': 3769,\n",
       "     'JSONB': 3802,\n",
       "     'REGNAMESPACE': 4089,\n",
       "     'REGROLE': 4096}},\n",
       "   'text': {},\n",
       "   'binary': {}},\n",
       "  'RowCtor': None,\n",
       "  'rowAsArray': False}}"
      ]
     },
     "execution_count": 23,
     "metadata": {},
     "output_type": "execute_result"
    }
   ],
   "source": [
    "create_image(last_id_used)"
   ]
  },
  {
   "cell_type": "code",
   "execution_count": 24,
   "metadata": {},
   "outputs": [],
   "source": [
    "def get_images(search_id):\n",
    "    r = requests.get(BASE_URL + 'images/search_id/' + str(search_id))\n",
    "    return r.json()"
   ]
  },
  {
   "cell_type": "code",
   "execution_count": 25,
   "metadata": {},
   "outputs": [
    {
     "data": {
      "text/plain": [
       "[{'image_id': 216262,\n",
       "  'image_search_engine': 'test',\n",
       "  'image_href': 'https://firewallcafe.com/wp-content/themes/fwc/img/logo-firewall-generic.svg?1578614316',\n",
       "  'image_href_original': 'https://firewallcafe.com/thisisatest.jpg',\n",
       "  'image_rank': '0',\n",
       "  'image_mime_type': None,\n",
       "  'wordpress_attachment_post_id': None,\n",
       "  'wordpress_attachment_file_path': None}]"
      ]
     },
     "execution_count": 25,
     "metadata": {},
     "output_type": "execute_result"
    }
   ],
   "source": [
    "get_images(last_id_used)"
   ]
  },
  {
   "cell_type": "markdown",
   "metadata": {},
   "source": [
    "The POST endpoints are now working as well"
   ]
  },
  {
   "cell_type": "markdown",
   "metadata": {},
   "source": [
    "Make sure that pagination is working correctly."
   ]
  },
  {
   "cell_type": "code",
   "execution_count": 26,
   "metadata": {},
   "outputs": [],
   "source": [
    "paginated_endpoints = [\n",
    "    'searches',\n",
    "    'searches/images',\n",
    "    'searches/votes',\n",
    "    'searches/votecounts/images',\n",
    "    'images',\n",
    "    'images/type/censored_searches',\n",
    "    'images/type/uncensored_searches',\n",
    "    'images/type/bad_translation_searches',\n",
    "    'images/type/good_translation_searches',\n",
    "    'images/type/nsfw_searches',\n",
    "    'images/type/wtf_searches',\n",
    "]"
   ]
  },
  {
   "cell_type": "code",
   "execution_count": 27,
   "metadata": {},
   "outputs": [
    {
     "name": "stdout",
     "output_type": "stream",
     "text": [
      "http://test-api.firewallcafe.com/\n",
      "  searches\n",
      "  searches/images\n",
      "  searches/votes\n",
      "  searches/votecounts/images\n",
      "  images\n",
      "  images/type/censored_searches\n",
      "  images/type/uncensored_searches\n",
      "  images/type/bad_translation_searches\n",
      "  images/type/good_translation_searches\n",
      "  images/type/nsfw_searches\n",
      "  images/type/wtf_searches\n"
     ]
    }
   ],
   "source": [
    "print(BASE_URL)\n",
    "for endpoint in paginated_endpoints:\n",
    "#     try:\n",
    "    j1 = requests.get(f'{BASE_URL}{endpoint}?page_size=1&page=1').json()\n",
    "    j2 = requests.get(f'{BASE_URL}{endpoint}?page_size=1&page=100').json()\n",
    "    try:\n",
    "        j1 = j1[0]\n",
    "        j2 = j2[0]\n",
    "    except:\n",
    "        print(' ', endpoint, j2)\n",
    "#         break\n",
    "    identifier1 = ''\n",
    "    identifier2 = ''\n",
    "    if 'search_id' in j1:\n",
    "        identifier1 += str(j1['search_id'])\n",
    "        identifier2 += str(j2['search_id'])\n",
    "    if 'image_id' in j1:\n",
    "        identifier1 += str(j1['image_id'])\n",
    "        identifier2 += str(j2['image_id'])\n",
    "    if identifier1 == identifier2:\n",
    "        print('x', endpoint)\n",
    "#         break\n",
    "    else:\n",
    "        print(' ', endpoint)"
   ]
  }
 ],
 "metadata": {
  "kernelspec": {
   "display_name": "Python 3",
   "language": "python",
   "name": "python3"
  },
  "language_info": {
   "codemirror_mode": {
    "name": "ipython",
    "version": 3
   },
   "file_extension": ".py",
   "mimetype": "text/x-python",
   "name": "python",
   "nbconvert_exporter": "python",
   "pygments_lexer": "ipython3",
   "version": "3.8.3"
  }
 },
 "nbformat": 4,
 "nbformat_minor": 4
}
