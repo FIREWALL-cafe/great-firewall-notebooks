{
 "cells": [
  {
   "cell_type": "code",
   "execution_count": 11,
   "metadata": {},
   "outputs": [],
   "source": [
    "import requests"
   ]
  },
  {
   "cell_type": "code",
   "execution_count": 12,
   "metadata": {},
   "outputs": [],
   "source": [
    "BASE_URL = 'http://api.firewallcafe.com/'"
   ]
  },
  {
   "cell_type": "markdown",
   "metadata": {},
   "source": [
    "Here's one call that the client is making: [post query](https://github.com/dphiffer/firewall-cafe/blob/master/client/firewall-client.js#L383)\n",
    "\n",
    "server.js API POST methods:\n",
    "```\n",
    "/* POST Routes */\n",
    "app.post('/createSearch', db.createSearch)\n",
    "app.post('/createVote', db.createVote)\n",
    "app.post('/saveImage', db.saveImage)\n",
    "```"
   ]
  },
  {
   "cell_type": "markdown",
   "metadata": {},
   "source": [
    "Okay, let's try a GET request to make sure this is working."
   ]
  },
  {
   "cell_type": "code",
   "execution_count": 13,
   "metadata": {},
   "outputs": [
    {
     "data": {
      "text/plain": [
       "<Response [200]>"
      ]
     },
     "execution_count": 13,
     "metadata": {},
     "output_type": "execute_result"
    }
   ],
   "source": [
    "r = requests.get(BASE_URL + 'searches')\n",
    "r"
   ]
  },
  {
   "cell_type": "code",
   "execution_count": 14,
   "metadata": {},
   "outputs": [
    {
     "name": "stdout",
     "output_type": "stream",
     "text": [
      "5579\n"
     ]
    },
    {
     "data": {
      "text/plain": [
       "{'search_id': 1,\n",
       " 'search_timestamp': '1454979377000',\n",
       " 'search_location': 'new_york_city',\n",
       " 'search_ip_address': None,\n",
       " 'search_client_name': 'Dan',\n",
       " 'search_engine_initial': None,\n",
       " 'search_engine_translation': None,\n",
       " 'search_term_initial': 'football',\n",
       " 'search_term_initial_language_code': None,\n",
       " 'search_term_initial_language_confidence': None,\n",
       " 'search_term_initial_language_alternate_code': None,\n",
       " 'search_term_translation': '足球',\n",
       " 'search_term_translation_language_code': None,\n",
       " 'search_term_status_banned': False,\n",
       " 'search_term_status_sensitive': False,\n",
       " 'search_schema_initial': 0,\n",
       " 'wordpress_search_term_popularity': 1,\n",
       " 'wordpress_copyright_takedown': None,\n",
       " 'wordpress_unflattened': None,\n",
       " 'wordpress_regular_post_id': 223,\n",
       " 'wordpress_search_result_post_id': 241408,\n",
       " 'wordpress_search_result_post_slug': 'football-1454979377'}"
      ]
     },
     "execution_count": 14,
     "metadata": {},
     "output_type": "execute_result"
    }
   ],
   "source": [
    "j = r.json()\n",
    "print(len(j))\n",
    "j[0]"
   ]
  },
  {
   "cell_type": "markdown",
   "metadata": {},
   "source": [
    "Okay, now try posting the results of a single search.\n",
    "\n",
    "This is a bit tricky as I believe that using this endpoint isn't documented at all, which means I have to read the actual functions, [createSearch](https://github.com/dphiffer/firewall-cafe/blob/d0f0ed33e511430d55c1a6e04994399afe0003c6/api/queries.js#L428) and [saveImage](https://github.com/dphiffer/firewall-cafe/blob/d0f0ed33e511430d55c1a6e04994399afe0003c6/api/queries.js#L510).\n",
    "\n",
    "Looks like we're going to have to call `saveImage()` once for each image we want to save, which will be a lot of overhead on the API."
   ]
  },
  {
   "cell_type": "code",
   "execution_count": 11,
   "metadata": {},
   "outputs": [],
   "source": [
    "from datetime import datetime"
   ]
  },
  {
   "cell_type": "code",
   "execution_count": 17,
   "metadata": {},
   "outputs": [
    {
     "data": {
      "text/plain": [
       "(404,\n",
       " '<!DOCTYPE html>\\n<html lang=\"en\">\\n<head>\\n<meta charset=\"utf-8\">\\n<title>Error</title>\\n</head>\\n<body>\\n<pre>Cannot POST //createSearch</pre>\\n</body>\\n</html>\\n')"
      ]
     },
     "execution_count": 17,
     "metadata": {},
     "output_type": "execute_result"
    }
   ],
   "source": [
    "r = requests.post(BASE_URL + '/createSearch', data={\n",
    "    'search_timestamp':datetime.utcnow().timestamp(),\n",
    "    'search_location':'new_york_city',\n",
    "    'search_ip_address':'192.241.212.24',\n",
    "    'search_client_name':'rowan_scraper_tests',\n",
    "    'search_engine_initial':'test',\n",
    "    'search_engine_translation':'test',\n",
    "    'search_term_initial':'test',\n",
    "    'search_term_initial_language_code':'test',\n",
    "    'search_term_initial_language_confidence':'test',\n",
    "    'search_term_initial_language_alternate_code':'test',\n",
    "    'search_term_translation':'test',\n",
    "    'search_term_translation_language_code':'test',\n",
    "    'search_term_status_banned':'test',\n",
    "    'search_term_status_sensitive':'test',\n",
    "    'search_schema_initial':'test'\n",
    "})\n",
    "r.status_code, r.text"
   ]
  },
  {
   "cell_type": "code",
   "execution_count": 18,
   "metadata": {},
   "outputs": [],
   "source": [
    "endpoints = [\n",
    "    'searches',\n",
    "    'searches/images',\n",
    "    'searches/votes',\n",
    "    'searches/votecounts',\n",
    "    'searches/votecounts/images',\n",
    "    'images'\n",
    "]"
   ]
  },
  {
   "cell_type": "code",
   "execution_count": 20,
   "metadata": {},
   "outputs": [],
   "source": [
    "import time"
   ]
  },
  {
   "cell_type": "code",
   "execution_count": 23,
   "metadata": {},
   "outputs": [
    {
     "name": "stdout",
     "output_type": "stream",
     "text": [
      "searches 18.2 seconds 200\n",
      "searches/images 25.7 seconds 502\n",
      "searches/votes 24.7 seconds 200\n",
      "searches/votecounts 12.6 seconds 200\n",
      "searches/votecounts/images 0.5 seconds 404\n",
      "images 60.5 seconds 504\n"
     ]
    }
   ],
   "source": [
    "for endpoint in endpoints:\n",
    "    ts = time.time()\n",
    "    r = requests.get(BASE_URL + endpoint)\n",
    "    print(endpoint, round(time.time()-ts, 1), 'seconds', r.status_code)"
   ]
  },
  {
   "cell_type": "code",
   "execution_count": 25,
   "metadata": {},
   "outputs": [
    {
     "data": {
      "text/plain": [
       "'<html>\\r\\n<head><title>504 Gateway Time-out</title></head>\\r\\n<body bgcolor=\"white\">\\r\\n<center><h1>504 Gateway Time-out</h1></center>\\r\\n<hr><center>nginx/1.10.3 (Ubuntu)</center>\\r\\n</body>\\r\\n</html>\\r\\n'"
      ]
     },
     "execution_count": 25,
     "metadata": {},
     "output_type": "execute_result"
    }
   ],
   "source": [
    "r.text"
   ]
  },
  {
   "cell_type": "code",
   "execution_count": 1,
   "metadata": {},
   "outputs": [],
   "source": [
    "import socket"
   ]
  },
  {
   "cell_type": "code",
   "execution_count": 3,
   "metadata": {},
   "outputs": [],
   "source": [
    "host_name = socket.gethostname() \n",
    "host_ip = socket.gethostbyname(host_name) "
   ]
  },
  {
   "cell_type": "code",
   "execution_count": 5,
   "metadata": {},
   "outputs": [
    {
     "data": {
      "text/plain": [
       "('tanuki-oumuamua', '10.0.1.203')"
      ]
     },
     "execution_count": 5,
     "metadata": {},
     "output_type": "execute_result"
    }
   ],
   "source": [
    "host_name, host_ip"
   ]
  },
  {
   "cell_type": "code",
   "execution_count": 64,
   "metadata": {},
   "outputs": [
    {
     "data": {
      "text/plain": [
       "{'ip': '198.199.92.37'}"
      ]
     },
     "execution_count": 64,
     "metadata": {},
     "output_type": "execute_result"
    }
   ],
   "source": [
    "requests.get('https://api.ipify.org?format=json').json()"
   ]
  },
  {
   "cell_type": "code",
   "execution_count": null,
   "metadata": {},
   "outputs": [],
   "source": []
  }
 ],
 "metadata": {
  "kernelspec": {
   "display_name": "Python 3",
   "language": "python",
   "name": "python3"
  },
  "language_info": {
   "codemirror_mode": {
    "name": "ipython",
    "version": 3
   },
   "file_extension": ".py",
   "mimetype": "text/x-python",
   "name": "python",
   "nbconvert_exporter": "python",
   "pygments_lexer": "ipython3",
   "version": "3.8.3"
  }
 },
 "nbformat": 4,
 "nbformat_minor": 4
}
