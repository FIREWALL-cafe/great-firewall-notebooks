{
 "cells": [
  {
   "cell_type": "code",
   "execution_count": 1,
   "metadata": {},
   "outputs": [],
   "source": [
    "import os"
   ]
  },
  {
   "cell_type": "code",
   "execution_count": 2,
   "metadata": {},
   "outputs": [],
   "source": [
    "os.environ['GOOGLE_APPLICATION_CREDENTIALS'] = 'great-firewall-translator.json'"
   ]
  },
  {
   "cell_type": "code",
   "execution_count": 12,
   "metadata": {},
   "outputs": [
    {
     "name": "stdout",
     "output_type": "stream",
     "text": [
      "Text: kitten\n",
      "Translation: 小猫\n"
     ]
    }
   ],
   "source": [
    "\"\"\"Translates text into the target language.\n",
    "\n",
    "Target must be an ISO 639-1 language code.\n",
    "See https://g.co/cloud/translate/v2/translate-reference#supported_languages\n",
    "\"\"\"\n",
    "from google.cloud import translate_v2 as translate\n",
    "translate_client = translate.Client()\n",
    "text = 'kitten'\n",
    "target = 'zh-CN'\n",
    "\n",
    "# if isinstance(text, six.binary_type):\n",
    "#     text = text.decode(\"utf-8\")\n",
    "\n",
    "# Text can also be a sequence of strings, in which case this method\n",
    "# will return a sequence of results for each text.\n",
    "result = translate_client.translate(text, target_language=target, source_language='en')\n",
    "\n",
    "print(u\"Text: {}\".format(result[\"input\"]))\n",
    "print(u\"Translation: {}\".format(result[\"translatedText\"]))\n",
    "# print(u\"Detected source language: {}\".format(result[\"detectedSourceLanguage\"]))"
   ]
  },
  {
   "cell_type": "code",
   "execution_count": 5,
   "metadata": {},
   "outputs": [
    {
     "data": {
      "text/plain": [
       "[{'language': 'af', 'name': 'Afrikaans'},\n",
       " {'language': 'sq', 'name': 'Albanian'},\n",
       " {'language': 'am', 'name': 'Amharic'},\n",
       " {'language': 'ar', 'name': 'Arabic'},\n",
       " {'language': 'hy', 'name': 'Armenian'},\n",
       " {'language': 'az', 'name': 'Azerbaijani'},\n",
       " {'language': 'eu', 'name': 'Basque'},\n",
       " {'language': 'be', 'name': 'Belarusian'},\n",
       " {'language': 'bn', 'name': 'Bengali'},\n",
       " {'language': 'bs', 'name': 'Bosnian'},\n",
       " {'language': 'bg', 'name': 'Bulgarian'},\n",
       " {'language': 'ca', 'name': 'Catalan'},\n",
       " {'language': 'ceb', 'name': 'Cebuano'},\n",
       " {'language': 'ny', 'name': 'Chichewa'},\n",
       " {'language': 'zh-CN', 'name': 'Chinese (Simplified)'},\n",
       " {'language': 'zh-TW', 'name': 'Chinese (Traditional)'},\n",
       " {'language': 'co', 'name': 'Corsican'},\n",
       " {'language': 'hr', 'name': 'Croatian'},\n",
       " {'language': 'cs', 'name': 'Czech'},\n",
       " {'language': 'da', 'name': 'Danish'},\n",
       " {'language': 'nl', 'name': 'Dutch'},\n",
       " {'language': 'en', 'name': 'English'},\n",
       " {'language': 'eo', 'name': 'Esperanto'},\n",
       " {'language': 'et', 'name': 'Estonian'},\n",
       " {'language': 'tl', 'name': 'Filipino'},\n",
       " {'language': 'fi', 'name': 'Finnish'},\n",
       " {'language': 'fr', 'name': 'French'},\n",
       " {'language': 'fy', 'name': 'Frisian'},\n",
       " {'language': 'gl', 'name': 'Galician'},\n",
       " {'language': 'ka', 'name': 'Georgian'},\n",
       " {'language': 'de', 'name': 'German'},\n",
       " {'language': 'el', 'name': 'Greek'},\n",
       " {'language': 'gu', 'name': 'Gujarati'},\n",
       " {'language': 'ht', 'name': 'Haitian Creole'},\n",
       " {'language': 'ha', 'name': 'Hausa'},\n",
       " {'language': 'haw', 'name': 'Hawaiian'},\n",
       " {'language': 'iw', 'name': 'Hebrew'},\n",
       " {'language': 'hi', 'name': 'Hindi'},\n",
       " {'language': 'hmn', 'name': 'Hmong'},\n",
       " {'language': 'hu', 'name': 'Hungarian'},\n",
       " {'language': 'is', 'name': 'Icelandic'},\n",
       " {'language': 'ig', 'name': 'Igbo'},\n",
       " {'language': 'id', 'name': 'Indonesian'},\n",
       " {'language': 'ga', 'name': 'Irish'},\n",
       " {'language': 'it', 'name': 'Italian'},\n",
       " {'language': 'ja', 'name': 'Japanese'},\n",
       " {'language': 'jw', 'name': 'Javanese'},\n",
       " {'language': 'kn', 'name': 'Kannada'},\n",
       " {'language': 'kk', 'name': 'Kazakh'},\n",
       " {'language': 'km', 'name': 'Khmer'},\n",
       " {'language': 'rw', 'name': 'Kinyarwanda'},\n",
       " {'language': 'ko', 'name': 'Korean'},\n",
       " {'language': 'ku', 'name': 'Kurdish (Kurmanji)'},\n",
       " {'language': 'ky', 'name': 'Kyrgyz'},\n",
       " {'language': 'lo', 'name': 'Lao'},\n",
       " {'language': 'la', 'name': 'Latin'},\n",
       " {'language': 'lv', 'name': 'Latvian'},\n",
       " {'language': 'lt', 'name': 'Lithuanian'},\n",
       " {'language': 'lb', 'name': 'Luxembourgish'},\n",
       " {'language': 'mk', 'name': 'Macedonian'},\n",
       " {'language': 'mg', 'name': 'Malagasy'},\n",
       " {'language': 'ms', 'name': 'Malay'},\n",
       " {'language': 'ml', 'name': 'Malayalam'},\n",
       " {'language': 'mt', 'name': 'Maltese'},\n",
       " {'language': 'mi', 'name': 'Maori'},\n",
       " {'language': 'mr', 'name': 'Marathi'},\n",
       " {'language': 'mn', 'name': 'Mongolian'},\n",
       " {'language': 'my', 'name': 'Myanmar (Burmese)'},\n",
       " {'language': 'ne', 'name': 'Nepali'},\n",
       " {'language': 'no', 'name': 'Norwegian'},\n",
       " {'language': 'or', 'name': 'Odia (Oriya)'},\n",
       " {'language': 'ps', 'name': 'Pashto'},\n",
       " {'language': 'fa', 'name': 'Persian'},\n",
       " {'language': 'pl', 'name': 'Polish'},\n",
       " {'language': 'pt', 'name': 'Portuguese'},\n",
       " {'language': 'pa', 'name': 'Punjabi'},\n",
       " {'language': 'ro', 'name': 'Romanian'},\n",
       " {'language': 'ru', 'name': 'Russian'},\n",
       " {'language': 'sm', 'name': 'Samoan'},\n",
       " {'language': 'gd', 'name': 'Scots Gaelic'},\n",
       " {'language': 'sr', 'name': 'Serbian'},\n",
       " {'language': 'st', 'name': 'Sesotho'},\n",
       " {'language': 'sn', 'name': 'Shona'},\n",
       " {'language': 'sd', 'name': 'Sindhi'},\n",
       " {'language': 'si', 'name': 'Sinhala'},\n",
       " {'language': 'sk', 'name': 'Slovak'},\n",
       " {'language': 'sl', 'name': 'Slovenian'},\n",
       " {'language': 'so', 'name': 'Somali'},\n",
       " {'language': 'es', 'name': 'Spanish'},\n",
       " {'language': 'su', 'name': 'Sundanese'},\n",
       " {'language': 'sw', 'name': 'Swahili'},\n",
       " {'language': 'sv', 'name': 'Swedish'},\n",
       " {'language': 'tg', 'name': 'Tajik'},\n",
       " {'language': 'ta', 'name': 'Tamil'},\n",
       " {'language': 'tt', 'name': 'Tatar'},\n",
       " {'language': 'te', 'name': 'Telugu'},\n",
       " {'language': 'th', 'name': 'Thai'},\n",
       " {'language': 'tr', 'name': 'Turkish'},\n",
       " {'language': 'tk', 'name': 'Turkmen'},\n",
       " {'language': 'uk', 'name': 'Ukrainian'},\n",
       " {'language': 'ur', 'name': 'Urdu'},\n",
       " {'language': 'ug', 'name': 'Uyghur'},\n",
       " {'language': 'uz', 'name': 'Uzbek'},\n",
       " {'language': 'vi', 'name': 'Vietnamese'},\n",
       " {'language': 'cy', 'name': 'Welsh'},\n",
       " {'language': 'xh', 'name': 'Xhosa'},\n",
       " {'language': 'yi', 'name': 'Yiddish'},\n",
       " {'language': 'yo', 'name': 'Yoruba'},\n",
       " {'language': 'zu', 'name': 'Zulu'},\n",
       " {'language': 'he', 'name': 'Hebrew'},\n",
       " {'language': 'zh', 'name': 'Chinese (Simplified)'}]"
      ]
     },
     "execution_count": 5,
     "metadata": {},
     "output_type": "execute_result"
    }
   ],
   "source": [
    "translate_client.get_languages()"
   ]
  },
  {
   "cell_type": "code",
   "execution_count": 7,
   "metadata": {},
   "outputs": [
    {
     "data": {
      "text/plain": [
       "{'language': 'en', 'confidence': 0.8515625, 'input': 'kitten'}"
      ]
     },
     "execution_count": 7,
     "metadata": {},
     "output_type": "execute_result"
    }
   ],
   "source": [
    "translate_client.detect_language(text)"
   ]
  },
  {
   "cell_type": "code",
   "execution_count": 8,
   "metadata": {},
   "outputs": [
    {
     "data": {
      "text/plain": [
       "\u001b[1;31mSignature:\u001b[0m\n",
       "\u001b[0mtranslate_client\u001b[0m\u001b[1;33m.\u001b[0m\u001b[0mtranslate\u001b[0m\u001b[1;33m(\u001b[0m\u001b[1;33m\n",
       "\u001b[0m    \u001b[0mvalues\u001b[0m\u001b[1;33m,\u001b[0m\u001b[1;33m\n",
       "\u001b[0m    \u001b[0mtarget_language\u001b[0m\u001b[1;33m=\u001b[0m\u001b[1;32mNone\u001b[0m\u001b[1;33m,\u001b[0m\u001b[1;33m\n",
       "\u001b[0m    \u001b[0mformat_\u001b[0m\u001b[1;33m=\u001b[0m\u001b[1;32mNone\u001b[0m\u001b[1;33m,\u001b[0m\u001b[1;33m\n",
       "\u001b[0m    \u001b[0msource_language\u001b[0m\u001b[1;33m=\u001b[0m\u001b[1;32mNone\u001b[0m\u001b[1;33m,\u001b[0m\u001b[1;33m\n",
       "\u001b[0m    \u001b[0mcustomization_ids\u001b[0m\u001b[1;33m=\u001b[0m\u001b[1;33m(\u001b[0m\u001b[1;33m)\u001b[0m\u001b[1;33m,\u001b[0m\u001b[1;33m\n",
       "\u001b[0m    \u001b[0mmodel\u001b[0m\u001b[1;33m=\u001b[0m\u001b[1;32mNone\u001b[0m\u001b[1;33m,\u001b[0m\u001b[1;33m\n",
       "\u001b[0m\u001b[1;33m)\u001b[0m\u001b[1;33m\u001b[0m\u001b[1;33m\u001b[0m\u001b[0m\n",
       "\u001b[1;31mDocstring:\u001b[0m\n",
       "Translate a string or list of strings.\n",
       "\n",
       "See https://cloud.google.com/translate/docs/translating-text\n",
       "\n",
       ":type values: str or list\n",
       ":param values: String or list of strings to translate.\n",
       "\n",
       ":type target_language: str\n",
       ":param target_language: The language to translate results into. This\n",
       "                        is required by the API and defaults to\n",
       "                        the target language of the current instance.\n",
       "\n",
       ":type format_: str\n",
       ":param format_: (Optional) One of ``text`` or ``html``, to specify\n",
       "                if the input text is plain text or HTML.\n",
       "\n",
       ":type source_language: str\n",
       ":param source_language: (Optional) The language of the text to\n",
       "                        be translated.\n",
       "\n",
       ":type customization_ids: str or list\n",
       ":param customization_ids: (Optional) ID or list of customization IDs\n",
       "                          for translation. Sets the ``cid`` parameter\n",
       "                          in the query.\n",
       "\n",
       ":type model: str\n",
       ":param model: (Optional) The model used to translate the text, such\n",
       "              as ``'base'`` or ``'nmt'``.\n",
       "\n",
       ":rtype: str or list\n",
       ":returns: A list of dictionaries for each queried value. Each\n",
       "          dictionary typically contains three keys (though not\n",
       "          all will be present in all cases)\n",
       "\n",
       "          * ``detectedSourceLanguage``: The detected language (as an\n",
       "            ISO 639-1 language code) of the text.\n",
       "          * ``translatedText``: The translation of the text into the\n",
       "            target language.\n",
       "          * ``input``: The corresponding input value.\n",
       "          * ``model``: The model used to translate the text.\n",
       "\n",
       "          If only a single value is passed, then only a single\n",
       "          dictionary will be returned.\n",
       ":raises: :class:`~exceptions.ValueError` if the number of\n",
       "         values and translations differ.\n",
       "\u001b[1;31mFile:\u001b[0m      c:\\users\\rowan\\anaconda3\\lib\\site-packages\\google\\cloud\\translate_v2\\client.py\n",
       "\u001b[1;31mType:\u001b[0m      method\n"
      ]
     },
     "metadata": {},
     "output_type": "display_data"
    }
   ],
   "source": [
    "translate_client.translate(text)"
   ]
  }
 ],
 "metadata": {
  "kernelspec": {
   "display_name": "Python 3",
   "language": "python",
   "name": "python3"
  },
  "language_info": {
   "codemirror_mode": {
    "name": "ipython",
    "version": 3
   },
   "file_extension": ".py",
   "mimetype": "text/x-python",
   "name": "python",
   "nbconvert_exporter": "python",
   "pygments_lexer": "ipython3",
   "version": "3.8.3"
  }
 },
 "nbformat": 4,
 "nbformat_minor": 4
}
