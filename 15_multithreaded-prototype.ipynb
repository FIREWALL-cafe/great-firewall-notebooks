{
 "cells": [
  {
   "cell_type": "markdown",
   "metadata": {},
   "source": [
    "## Multithreaded prototype\n",
    "\n",
    "There are a few issues we can solve by rewriting the functions that take a list of image URLs and save them into the Firewall data systems. First of all, we can cut the amount of time it takes a run to complete substantially. We can (try to) fix issues with Google images only being saved as thumbnails. And we can address issues we're running into with some image requests hanging. We can check if an image [already exists](https://developers.digitalocean.com/documentation/spaces/#get-object-info) before uploading it (ideally we'd do this before downloading it too, only we would need to write more code to support that).\n",
    "\n",
    "Proposal: have an image_handler which black-boxes the multithreading (or subprocesses). Image URLs go in, and the new data lake URLs come out, in a way that we can still be associated with the term, search engine, and ordering.  "
   ]
  },
  {
   "cell_type": "markdown",
   "metadata": {},
   "source": [
    "### Google images only saving as thumbnails"
   ]
  },
  {
   "cell_type": "code",
   "execution_count": 7,
   "metadata": {},
   "outputs": [],
   "source": [
    "from bs4 import BeautifulSoup\n",
    "import ipyplot\n",
    "import json\n",
    "import requests\n",
    "import time"
   ]
  },
  {
   "cell_type": "code",
   "execution_count": 8,
   "metadata": {},
   "outputs": [],
   "source": [
    "def request_and_write_image(url, spaces_folder):\n",
    "    print(\"getting image:\", url, end=' ')\n",
    "    try:\n",
    "        r = requests.get(url, stream=True)\n",
    "    except Exception as e:\n",
    "        print(url, e)\n",
    "        return\n",
    "    print(r.status_code)\n",
    "    if not r.ok:\n",
    "        return\n",
    "    # write locally\n",
    "    with open('temp', 'wb') as f:\n",
    "        for block in r.iter_content(1024):\n",
    "            if not block:\n",
    "                break\n",
    "            f.write(block)\n",
    "    spaces_fname = image_fname('temp')\n",
    "    print(\"uploading\", spaces_fname, \"to data lake\", end=' ')\n",
    "    status = _write_public('temp', f'{spaces_folder}/{spaces_fname}')\n",
    "    print(status)\n",
    "    if status < 400:\n",
    "        return spaces_fname\n",
    "    \n",
    "def query_google(term):\n",
    "    google_template = 'https://www.google.com/search?q={}&tbm=isch'\n",
    "    r = requests.get(google_template.format(term))\n",
    "    soup = BeautifulSoup(r.text, features=\"html.parser\")\n",
    "    urls = [tag.get('src') for tag in soup.find_all('img') if tag.get('src')[:4] == 'http']\n",
    "    return urls"
   ]
  },
  {
   "cell_type": "code",
   "execution_count": 9,
   "metadata": {},
   "outputs": [],
   "source": [
    "term = \"apricot\""
   ]
  },
  {
   "cell_type": "code",
   "execution_count": 10,
   "metadata": {},
   "outputs": [],
   "source": [
    "urls = query_google(term)"
   ]
  },
  {
   "cell_type": "code",
   "execution_count": 13,
   "metadata": {},
   "outputs": [
    {
     "data": {
      "text/html": [
       "<div style=\"display: inline-block; width: 320px; vertical-align: top; text-align: center;\"><h4 style=\"font-size: 12px\">0</h4><h4 style=\"font-size: 9px; padding-left: 10px; padding-right: 10px; width: 90%; word-wrap: break-word; white-space: normal;\">https://encrypted-tbn0.gstatic.com/images?q=tbn:ANd9GcTkipujEvCT18z1ctqyq8F70bde9U69Wh9G0v94uXp099Y-zSHc4m5t4gNfi3U&s</h4><img src=\"https://encrypted-tbn0.gstatic.com/images?q=tbn:ANd9GcTkipujEvCT18z1ctqyq8F70bde9U69Wh9G0v94uXp099Y-zSHc4m5t4gNfi3U&s\" style=\"margin: 1px; width: 300px; border: 2px solid #ddd;\"/></div><div style=\"display: inline-block; width: 320px; vertical-align: top; text-align: center;\"><h4 style=\"font-size: 12px\">1</h4><h4 style=\"font-size: 9px; padding-left: 10px; padding-right: 10px; width: 90%; word-wrap: break-word; white-space: normal;\">https://encrypted-tbn0.gstatic.com/images?q=tbn:ANd9GcSLyo1X6pMATX2x-ZD3DxsXfB4hBJX7IQPvnfKfE3Pekf68CA05vkFSDhZT4w&s</h4><img src=\"https://encrypted-tbn0.gstatic.com/images?q=tbn:ANd9GcSLyo1X6pMATX2x-ZD3DxsXfB4hBJX7IQPvnfKfE3Pekf68CA05vkFSDhZT4w&s\" style=\"margin: 1px; width: 300px; border: 2px solid #ddd;\"/></div><div style=\"display: inline-block; width: 320px; vertical-align: top; text-align: center;\"><h4 style=\"font-size: 12px\">2</h4><h4 style=\"font-size: 9px; padding-left: 10px; padding-right: 10px; width: 90%; word-wrap: break-word; white-space: normal;\">https://encrypted-tbn0.gstatic.com/images?q=tbn:ANd9GcTbPax_v6sDX5kB-pv4ix7NyayZQbgMQgEGqhmcA3FPZrD_x7i0_2utE867Wrg&s</h4><img src=\"https://encrypted-tbn0.gstatic.com/images?q=tbn:ANd9GcTbPax_v6sDX5kB-pv4ix7NyayZQbgMQgEGqhmcA3FPZrD_x7i0_2utE867Wrg&s\" style=\"margin: 1px; width: 300px; border: 2px solid #ddd;\"/></div><div style=\"display: inline-block; width: 320px; vertical-align: top; text-align: center;\"><h4 style=\"font-size: 12px\">3</h4><h4 style=\"font-size: 9px; padding-left: 10px; padding-right: 10px; width: 90%; word-wrap: break-word; white-space: normal;\">https://encrypted-tbn0.gstatic.com/images?q=tbn:ANd9GcQ_CCEFwA8_znZk99TDP21geTQjOYUpQk7Jei_RoTTgJsWUhYDU3_m0kDKsWw&s</h4><img src=\"https://encrypted-tbn0.gstatic.com/images?q=tbn:ANd9GcQ_CCEFwA8_znZk99TDP21geTQjOYUpQk7Jei_RoTTgJsWUhYDU3_m0kDKsWw&s\" style=\"margin: 1px; width: 300px; border: 2px solid #ddd;\"/></div><div style=\"display: inline-block; width: 320px; vertical-align: top; text-align: center;\"><h4 style=\"font-size: 12px\">4</h4><h4 style=\"font-size: 9px; padding-left: 10px; padding-right: 10px; width: 90%; word-wrap: break-word; white-space: normal;\">https://encrypted-tbn0.gstatic.com/images?q=tbn:ANd9GcTXfljs9gxWQoB3RMn6yRXgQf3NcdKKNLNR42s2-Dg4Zosa5jLRVzvMzhvnAhk&s</h4><img src=\"https://encrypted-tbn0.gstatic.com/images?q=tbn:ANd9GcTXfljs9gxWQoB3RMn6yRXgQf3NcdKKNLNR42s2-Dg4Zosa5jLRVzvMzhvnAhk&s\" style=\"margin: 1px; width: 300px; border: 2px solid #ddd;\"/></div>"
      ],
      "text/plain": [
       "<IPython.core.display.HTML object>"
      ]
     },
     "metadata": {},
     "output_type": "display_data"
    }
   ],
   "source": [
    "ipyplot.plot_images(urls[:5])"
   ]
  },
  {
   "cell_type": "code",
   "execution_count": 19,
   "metadata": {},
   "outputs": [
    {
     "data": {
      "text/plain": [
       "False"
      ]
     },
     "execution_count": 19,
     "metadata": {},
     "output_type": "execute_result"
    }
   ],
   "source": [
    "'imgurl' in r.text"
   ]
  },
  {
   "cell_type": "code",
   "execution_count": 17,
   "metadata": {},
   "outputs": [
    {
     "data": {
      "text/plain": [
       "[<a class=\"lXLRf\" href=\"/?output=images&amp;ie=UTF-8&amp;tbm=isch&amp;sa=X&amp;ved=0ahUKEwiZxPewrp3vAhWSsJ4KHcAmAFUQPAgC\"><img alt=\"Google\" class=\"kgJEQe\" src=\"/images/branding/searchlogo/1x/googlelogo_desk_heirloom_color_150x55dp.gif\"/></a>,\n",
       " <a class=\"CsQyDc\" href=\"/search?q=apricot&amp;ie=UTF-8&amp;source=lnms&amp;sa=X&amp;ved=0ahUKEwiZxPewrp3vAhWSsJ4KHcAmAFUQ_AUIBCgA\">ALL</a>,\n",
       " <a class=\"CsQyDc\" href=\"/search?q=apricot&amp;ie=UTF-8&amp;tbm=nws&amp;source=lnms&amp;sa=X&amp;ved=0ahUKEwiZxPewrp3vAhWSsJ4KHcAmAFUQ_AUIBigC\">NEWS</a>,\n",
       " <a class=\"CsQyDc\" href=\"/search?q=apricot&amp;ie=UTF-8&amp;tbm=vid&amp;source=lnms&amp;sa=X&amp;ved=0ahUKEwiZxPewrp3vAhWSsJ4KHcAmAFUQ_AUIBygD\">VIDEOS</a>,\n",
       " <a class=\"TwVfHd\" href=\"/search?ie=UTF-8&amp;tbm=isch&amp;q=apricot&amp;chips=q:apricot,online_chips:dried+fruit&amp;sa=X&amp;ved=0ahUKEwiZxPewrp3vAhWSsJ4KHcAmAFUQ4lYICygA\">dried fruit</a>,\n",
       " <a class=\"TwVfHd\" href=\"/search?ie=UTF-8&amp;tbm=isch&amp;q=apricot&amp;chips=q:apricot,online_chips:jam&amp;sa=X&amp;ved=0ahUKEwiZxPewrp3vAhWSsJ4KHcAmAFUQ4lYIDCgB\">jam</a>,\n",
       " <a class=\"TwVfHd\" href=\"/search?ie=UTF-8&amp;tbm=isch&amp;q=apricot&amp;chips=q:apricot,online_chips:apricot+jam&amp;sa=X&amp;ved=0ahUKEwiZxPewrp3vAhWSsJ4KHcAmAFUQ4lYIDSgC\">apricot jam</a>,\n",
       " <a class=\"TwVfHd\" href=\"/search?ie=UTF-8&amp;tbm=isch&amp;q=apricot&amp;chips=q:apricot,online_chips:khubani&amp;sa=X&amp;ved=0ahUKEwiZxPewrp3vAhWSsJ4KHcAmAFUQ4lYIDigD\">khubani</a>,\n",
       " <a class=\"TwVfHd\" href=\"/search?ie=UTF-8&amp;tbm=isch&amp;q=apricot&amp;chips=q:apricot,online_chips:turkel&amp;sa=X&amp;ved=0ahUKEwiZxPewrp3vAhWSsJ4KHcAmAFUQ4lYIDygE\">turkel</a>,\n",
       " <a class=\"TwVfHd\" href=\"/search?ie=UTF-8&amp;tbm=isch&amp;q=apricot&amp;chips=q:apricot,online_chips:calories&amp;sa=X&amp;ved=0ahUKEwiZxPewrp3vAhWSsJ4KHcAmAFUQ4lYIECgF\">calories</a>,\n",
       " <a class=\"TwVfHd\" href=\"/search?ie=UTF-8&amp;tbm=isch&amp;q=apricot&amp;chips=q:apricot,online_chips:nutrition&amp;sa=X&amp;ved=0ahUKEwiZxPewrp3vAhWSsJ4KHcAmAFUQ4lYIESgG\">nutrition</a>,\n",
       " <a class=\"TwVfHd\" href=\"/search?ie=UTF-8&amp;tbm=isch&amp;q=apricot&amp;chips=q:apricot,online_chips:tree&amp;sa=X&amp;ved=0ahUKEwiZxPewrp3vAhWSsJ4KHcAmAFUQ4lYIEigH\">tree</a>,\n",
       " <a class=\"TwVfHd\" href=\"/search?ie=UTF-8&amp;tbm=isch&amp;q=apricot&amp;chips=q:apricot,online_chips:apricot+tree&amp;sa=X&amp;ved=0ahUKEwiZxPewrp3vAhWSsJ4KHcAmAFUQ4lYIEygI\">apricot tree</a>,\n",
       " <a class=\"TwVfHd\" href=\"/search?ie=UTF-8&amp;tbm=isch&amp;q=apricot&amp;chips=q:apricot,online_chips:varieties&amp;sa=X&amp;ved=0ahUKEwiZxPewrp3vAhWSsJ4KHcAmAFUQ4lYIFCgJ\">varieties</a>,\n",
       " <a href=\"/url?q=https://solidstarts.com/foods/apricot/&amp;sa=U&amp;ved=2ahUKEwiZxPewrp3vAhWSsJ4KHcAmAFUQqoUBMAB6BAgFEAE&amp;usg=AOvVaw2M1KBqXg3PUCqyN1bSP3nA\"><div class=\"RAyV4b\"><img alt=\"\" class=\"t0fcAb\" src=\"https://encrypted-tbn0.gstatic.com/images?q=tbn:ANd9GcTkipujEvCT18z1ctqyq8F70bde9U69Wh9G0v94uXp099Y-zSHc4m5t4gNfi3U&amp;s\"/></div></a>,\n",
       " <a href=\"/url?q=https://solidstarts.com/foods/apricot/&amp;sa=U&amp;ved=2ahUKEwiZxPewrp3vAhWSsJ4KHcAmAFUQr4kDMAB6BAgFEAI&amp;usg=AOvVaw2B99jrlky7NYNAA8qLsUmf\"><div class=\"Tor4Ec\"> <span class=\"qXLe6d x3G5ab\"> <span class=\"fYyStc\">Apricots for Babies - First...</span> </span> <span class=\"qXLe6d F9iS2e\"> <span class=\"fYyStc\">solidstarts.com</span> </span> </div></a>,\n",
       " <a href=\"/url?q=https://www.froghollow.com/products/organic-apricots&amp;sa=U&amp;ved=2ahUKEwiZxPewrp3vAhWSsJ4KHcAmAFUQqoUBMAF6BAgTEAE&amp;usg=AOvVaw1V_9QCr5S9yqlUX1EgmVkK\"><div class=\"RAyV4b\"><img alt=\"\" class=\"t0fcAb\" src=\"https://encrypted-tbn0.gstatic.com/images?q=tbn:ANd9GcSLyo1X6pMATX2x-ZD3DxsXfB4hBJX7IQPvnfKfE3Pekf68CA05vkFSDhZT4w&amp;s\"/></div></a>,\n",
       " <a href=\"/url?q=https://www.froghollow.com/products/organic-apricots&amp;sa=U&amp;ved=2ahUKEwiZxPewrp3vAhWSsJ4KHcAmAFUQr4kDMAF6BAgTEAI&amp;usg=AOvVaw0fRJEJU37Y4thSu2LJzMbi\"><div class=\"Tor4Ec\"> <span class=\"qXLe6d x3G5ab\"> <span class=\"fYyStc\">Organic Apricots - Frog...</span> </span> <span class=\"qXLe6d F9iS2e\"> <span class=\"fYyStc\">froghollow.com</span> </span> </div></a>,\n",
       " <a href=\"/url?q=https://nuts.com/driedfruit/apricots/jumbo.html&amp;sa=U&amp;ved=2ahUKEwiZxPewrp3vAhWSsJ4KHcAmAFUQqoUBMAJ6BAgSEAE&amp;usg=AOvVaw3l9hzy6tumq6lHhbnQAU7q\"><div class=\"RAyV4b\"><img alt=\"\" class=\"t0fcAb\" src=\"https://encrypted-tbn0.gstatic.com/images?q=tbn:ANd9GcTbPax_v6sDX5kB-pv4ix7NyayZQbgMQgEGqhmcA3FPZrD_x7i0_2utE867Wrg&amp;s\"/></div></a>,\n",
       " <a href=\"/url?q=https://nuts.com/driedfruit/apricots/jumbo.html&amp;sa=U&amp;ved=2ahUKEwiZxPewrp3vAhWSsJ4KHcAmAFUQr4kDMAJ6BAgSEAI&amp;usg=AOvVaw3fYNZSj9IdIjNBkwcAcdxs\"><div class=\"Tor4Ec\"> <span class=\"qXLe6d x3G5ab\"> <span class=\"fYyStc\">Dried Apricots - By the...</span> </span> <span class=\"qXLe6d F9iS2e\"> <span class=\"fYyStc\">nuts.com</span> </span> </div></a>,\n",
       " <a href=\"/url?q=https://portlandnursery.com/fruits/apricot/&amp;sa=U&amp;ved=2ahUKEwiZxPewrp3vAhWSsJ4KHcAmAFUQqoUBMAN6BAgREAE&amp;usg=AOvVaw2wdCtLRUTi-EjR_oNbvhWv\"><div class=\"RAyV4b\"><img alt=\"\" class=\"t0fcAb\" src=\"https://encrypted-tbn0.gstatic.com/images?q=tbn:ANd9GcQ_CCEFwA8_znZk99TDP21geTQjOYUpQk7Jei_RoTTgJsWUhYDU3_m0kDKsWw&amp;s\"/></div></a>,\n",
       " <a href=\"/url?q=https://portlandnursery.com/fruits/apricot/&amp;sa=U&amp;ved=2ahUKEwiZxPewrp3vAhWSsJ4KHcAmAFUQr4kDMAN6BAgREAI&amp;usg=AOvVaw02LoEbpVKQj0lAfHwM_gWX\"><div class=\"Tor4Ec\"> <span class=\"qXLe6d x3G5ab\"> <span class=\"fYyStc\">Apricot Tree | Portland...</span> </span> <span class=\"qXLe6d F9iS2e\"> <span class=\"fYyStc\">portlandnursery.com</span> </span> </div></a>,\n",
       " <a href=\"/url?q=https://www.bbcgoodfood.com/glossary/apricots-glossary&amp;sa=U&amp;ved=2ahUKEwiZxPewrp3vAhWSsJ4KHcAmAFUQqoUBMAR6BAgQEAE&amp;usg=AOvVaw05HJgTh0Nnj9_XFr-Y1bP1\"><div class=\"RAyV4b\"><img alt=\"\" class=\"t0fcAb\" src=\"https://encrypted-tbn0.gstatic.com/images?q=tbn:ANd9GcTXfljs9gxWQoB3RMn6yRXgQf3NcdKKNLNR42s2-Dg4Zosa5jLRVzvMzhvnAhk&amp;s\"/></div></a>,\n",
       " <a href=\"/url?q=https://www.bbcgoodfood.com/glossary/apricots-glossary&amp;sa=U&amp;ved=2ahUKEwiZxPewrp3vAhWSsJ4KHcAmAFUQr4kDMAR6BAgQEAI&amp;usg=AOvVaw31AVhwR949J60Dz42qgGY7\"><div class=\"Tor4Ec\"> <span class=\"qXLe6d x3G5ab\"> <span class=\"fYyStc\">Apricots - BBC Good Food</span> </span> <span class=\"qXLe6d F9iS2e\"> <span class=\"fYyStc\">bbcgoodfood.com</span> </span> </div></a>,\n",
       " <a href=\"/url?q=https://www.verywellfit.com/apricots-nutrition-facts-calories-and-health-benefits-4109220&amp;sa=U&amp;ved=2ahUKEwiZxPewrp3vAhWSsJ4KHcAmAFUQqoUBMAV6BAgPEAE&amp;usg=AOvVaw3dlHlNbnbNZyoTfVf3uIsh\"><div class=\"RAyV4b\"><img alt=\"\" class=\"t0fcAb\" src=\"https://encrypted-tbn0.gstatic.com/images?q=tbn:ANd9GcRJQiWKQ_6CLODidOuJKhTZLXbRsxbvCqnB74k1k7UcxFeLH0bBC-PAj6Cs9Q&amp;s\"/></div></a>,\n",
       " <a href=\"/url?q=https://www.verywellfit.com/apricots-nutrition-facts-calories-and-health-benefits-4109220&amp;sa=U&amp;ved=2ahUKEwiZxPewrp3vAhWSsJ4KHcAmAFUQr4kDMAV6BAgPEAI&amp;usg=AOvVaw2kFPbDIdTiyqiFKMJzcFJm\"><div class=\"Tor4Ec\"> <span class=\"qXLe6d x3G5ab\"> <span class=\"fYyStc\">Apricot Nutrition Facts and...</span> </span> <span class=\"qXLe6d F9iS2e\"> <span class=\"fYyStc\">verywellfit.com</span> </span> </div></a>,\n",
       " <a href=\"/url?q=https://www.medicalnewstoday.com/articles/apricot-benefits&amp;sa=U&amp;ved=2ahUKEwiZxPewrp3vAhWSsJ4KHcAmAFUQqoUBMAZ6BAgOEAE&amp;usg=AOvVaw3FkZ0Jjbd4LAJ2fnXYv3Ti\"><div class=\"RAyV4b\"><img alt=\"\" class=\"t0fcAb\" src=\"https://encrypted-tbn0.gstatic.com/images?q=tbn:ANd9GcTUUwBfDkAjNOdaQcOc7AU_chl4XCw1nD0LdttJjUPcO3o6cE73GEcxntjasl4&amp;s\"/></div></a>,\n",
       " <a href=\"/url?q=https://www.medicalnewstoday.com/articles/apricot-benefits&amp;sa=U&amp;ved=2ahUKEwiZxPewrp3vAhWSsJ4KHcAmAFUQr4kDMAZ6BAgOEAI&amp;usg=AOvVaw0Q3aQlK2O5-TO3kOPW93qP\"><div class=\"Tor4Ec\"> <span class=\"qXLe6d x3G5ab\"> <span class=\"fYyStc\">Apricot: Health benefits...</span> </span> <span class=\"qXLe6d F9iS2e\"> <span class=\"fYyStc\">medicalnewstoday.com</span> </span> </div></a>,\n",
       " <a href=\"/url?q=https://www.welcometothetable.coop/fresh-from-the-source/apricots&amp;sa=U&amp;ved=2ahUKEwiZxPewrp3vAhWSsJ4KHcAmAFUQqoUBMAd6BAgHEAE&amp;usg=AOvVaw1t4oe7jnlRl1xX0-fmzTJ3\"><div class=\"RAyV4b\"><img alt=\"\" class=\"t0fcAb\" src=\"https://encrypted-tbn0.gstatic.com/images?q=tbn:ANd9GcQG1ZS3cvrbtcFzd01QUDNgJgCyBEpJzru02DtudWIuA63jZ58dcfX-IhVILeo&amp;s\"/></div></a>,\n",
       " <a href=\"/url?q=https://www.welcometothetable.coop/fresh-from-the-source/apricots&amp;sa=U&amp;ved=2ahUKEwiZxPewrp3vAhWSsJ4KHcAmAFUQr4kDMAd6BAgHEAI&amp;usg=AOvVaw3HqfJ_p6hkL_CuxFtYtpiT\"><div class=\"Tor4Ec\"> <span class=\"qXLe6d x3G5ab\"> <span class=\"fYyStc\">Apricots | Co+op, welcome...</span> </span> <span class=\"qXLe6d F9iS2e\"> <span class=\"fYyStc\">welcometothetable.coop</span> </span> </div></a>,\n",
       " <a href=\"/url?q=https://www.britannica.com/plant/apricot&amp;sa=U&amp;ved=2ahUKEwiZxPewrp3vAhWSsJ4KHcAmAFUQqoUBMAh6BAgNEAE&amp;usg=AOvVaw0Wcorg8IBJpX8sCzmrjsji\"><div class=\"RAyV4b\"><img alt=\"\" class=\"t0fcAb\" src=\"https://encrypted-tbn0.gstatic.com/images?q=tbn:ANd9GcQilNseYC9A5qwOGHjnaKlTNEAPNl20TdTS3oK5NG1qT-_w9pKrbNp5_zAF1w&amp;s\"/></div></a>,\n",
       " <a href=\"/url?q=https://www.britannica.com/plant/apricot&amp;sa=U&amp;ved=2ahUKEwiZxPewrp3vAhWSsJ4KHcAmAFUQr4kDMAh6BAgNEAI&amp;usg=AOvVaw2pkvZbpPq4e1OrQjP7Bb6y\"><div class=\"Tor4Ec\"> <span class=\"qXLe6d x3G5ab\"> <span class=\"fYyStc\">Apricot | tree and fruit |...</span> </span> <span class=\"qXLe6d F9iS2e\"> <span class=\"fYyStc\">britannica.com</span> </span> </div></a>,\n",
       " <a href=\"/url?q=https://www.providenceperfume.com/products/apricot-natural-fruit-compound&amp;sa=U&amp;ved=2ahUKEwiZxPewrp3vAhWSsJ4KHcAmAFUQqoUBMAl6BAgKEAE&amp;usg=AOvVaw050R16RwjDKpYLPfX9uJMz\"><div class=\"RAyV4b\"><img alt=\"\" class=\"t0fcAb\" src=\"https://encrypted-tbn0.gstatic.com/images?q=tbn:ANd9GcRON3iczxzvrHwrRwA3AbZFZhok7cYQnruZpD5vktjSn34y5bfmSGwKZkw9Aew&amp;s\"/></div></a>,\n",
       " <a href=\"/url?q=https://www.providenceperfume.com/products/apricot-natural-fruit-compound&amp;sa=U&amp;ved=2ahUKEwiZxPewrp3vAhWSsJ4KHcAmAFUQr4kDMAl6BAgKEAI&amp;usg=AOvVaw3eL9sk4D_wNfMeJZWqNq1A\"><div class=\"Tor4Ec\"> <span class=\"qXLe6d x3G5ab\"> <span class=\"fYyStc\">Apricot Natural Fruit...</span> </span> <span class=\"qXLe6d F9iS2e\"> <span class=\"fYyStc\">providenceperfume.com</span> </span> </div></a>,\n",
       " <a href=\"/url?q=https://www.irandriedfruit.com/apricot/&amp;sa=U&amp;ved=2ahUKEwiZxPewrp3vAhWSsJ4KHcAmAFUQqoUBMAp6BAgIEAE&amp;usg=AOvVaw1ZiQRx1MNB9odAIEnwsrHk\"><div class=\"RAyV4b\"><img alt=\"\" class=\"t0fcAb\" src=\"https://encrypted-tbn0.gstatic.com/images?q=tbn:ANd9GcRs7rwTeKM5avb5nTs1ksYaY3c8xIqabtzxdaVkwKet1SROyp_enZzwBhEXUEs&amp;s\"/></div></a>,\n",
       " <a href=\"/url?q=https://www.irandriedfruit.com/apricot/&amp;sa=U&amp;ved=2ahUKEwiZxPewrp3vAhWSsJ4KHcAmAFUQr4kDMAp6BAgIEAI&amp;usg=AOvVaw3ca05aQ_rWtKKQhiIPH-_R\"><div class=\"Tor4Ec\"> <span class=\"qXLe6d x3G5ab\"> <span class=\"fYyStc\">Apricot » iran dried fruit</span> </span> <span class=\"qXLe6d F9iS2e\"> <span class=\"fYyStc\">irandriedfruit.com</span> </span> </div></a>,\n",
       " <a href=\"/url?q=https://chesenbio.com/1-mcp-for-apricot-storage/&amp;sa=U&amp;ved=2ahUKEwiZxPewrp3vAhWSsJ4KHcAmAFUQqoUBMAt6BAgJEAE&amp;usg=AOvVaw0f-zU9WvUIVOwQS2V5X0x8\"><div class=\"RAyV4b\"><img alt=\"\" class=\"t0fcAb\" src=\"https://encrypted-tbn0.gstatic.com/images?q=tbn:ANd9GcR5e69o9jlmcWdQzizdqedPYu5QZDd6NzfSbWvgl_f9Gs4qjFlc5g78pBBYe7o&amp;s\"/></div></a>,\n",
       " <a href=\"/url?q=https://chesenbio.com/1-mcp-for-apricot-storage/&amp;sa=U&amp;ved=2ahUKEwiZxPewrp3vAhWSsJ4KHcAmAFUQr4kDMAt6BAgJEAI&amp;usg=AOvVaw3zqj9gsrdC4bEwA8qmtcyF\"><div class=\"Tor4Ec\"> <span class=\"qXLe6d x3G5ab\"> <span class=\"fYyStc\">Inhibition of ethylene...</span> </span> <span class=\"qXLe6d F9iS2e\"> <span class=\"fYyStc\">chesenbio.com</span> </span> </div></a>,\n",
       " <a href=\"/url?q=https://www.amazon.com/Arashan-Apricots-Delicious-Delectable-Kyrgyzstan/dp/B07QTXHNLJ&amp;sa=U&amp;ved=2ahUKEwiZxPewrp3vAhWSsJ4KHcAmAFUQqoUBMAx6BAgLEAE&amp;usg=AOvVaw2B87wZKoeOeTZKB_6oWb7c\"><div class=\"RAyV4b\"><img alt=\"\" class=\"t0fcAb\" src=\"https://encrypted-tbn0.gstatic.com/images?q=tbn:ANd9GcTeRVVbc5j0lXXlfUgO2b6gp6_JW85gi0YeI4lz3BYcxVoVD6u9cKxh1Gyt3A&amp;s\"/></div></a>,\n",
       " <a href=\"/url?q=https://www.amazon.com/Arashan-Apricots-Delicious-Delectable-Kyrgyzstan/dp/B07QTXHNLJ&amp;sa=U&amp;ved=2ahUKEwiZxPewrp3vAhWSsJ4KHcAmAFUQr4kDMAx6BAgLEAI&amp;usg=AOvVaw3FNgX9LlV9d3Hym-LrvwWk\"><div class=\"Tor4Ec\"> <span class=\"qXLe6d x3G5ab\"> <span class=\"fYyStc\">Arashan Apricots –...</span> </span> <span class=\"qXLe6d F9iS2e\"> <span class=\"fYyStc\">amazon.com</span> </span> </div></a>,\n",
       " <a href=\"/url?q=https://www.gourmeturca.com/dried-apricot&amp;sa=U&amp;ved=2ahUKEwiZxPewrp3vAhWSsJ4KHcAmAFUQqoUBMA16BAgMEAE&amp;usg=AOvVaw2MMadeJXUnYjVGgeM8tNKf\"><div class=\"RAyV4b\"><img alt=\"\" class=\"t0fcAb\" src=\"https://encrypted-tbn0.gstatic.com/images?q=tbn:ANd9GcTf4UV8d-c6lMBNQD_w8TszgvwheDjHhBj9TBnICPRg1fWye8MBu7lz02Q1_Q&amp;s\"/></div></a>,\n",
       " <a href=\"/url?q=https://www.gourmeturca.com/dried-apricot&amp;sa=U&amp;ved=2ahUKEwiZxPewrp3vAhWSsJ4KHcAmAFUQr4kDMA16BAgMEAI&amp;usg=AOvVaw33VsnMxj2-PCygmBhrSazo\"><div class=\"Tor4Ec\"> <span class=\"qXLe6d x3G5ab\"> <span class=\"fYyStc\">Dried Apricot , 1.1lb -...</span> </span> <span class=\"qXLe6d F9iS2e\"> <span class=\"fYyStc\">gourmeturca.com</span> </span> </div></a>,\n",
       " <a href=\"/url?q=https://food.ndtv.com/opinions/8-apricot-benefits-the-nutritional-heavyweight-among-fruits-1248312&amp;sa=U&amp;ved=2ahUKEwiZxPewrp3vAhWSsJ4KHcAmAFUQqoUBMA56BAgGEAE&amp;usg=AOvVaw01izZwu9UO9wV8O2g7wiAn\"><div class=\"RAyV4b\"><img alt=\"\" class=\"t0fcAb\" src=\"https://encrypted-tbn0.gstatic.com/images?q=tbn:ANd9GcSUvWohL4ellME4mTGXPvPepN2o4bdfZCZ7Nrm-bMjN7uIyi5TpklwPoTqmEg&amp;s\"/></div></a>,\n",
       " <a href=\"/url?q=https://food.ndtv.com/opinions/8-apricot-benefits-the-nutritional-heavyweight-among-fruits-1248312&amp;sa=U&amp;ved=2ahUKEwiZxPewrp3vAhWSsJ4KHcAmAFUQr4kDMA56BAgGEAI&amp;usg=AOvVaw2VqmaWXRzYTeOJyNgpgn7D\"><div class=\"Tor4Ec\"> <span class=\"qXLe6d x3G5ab\"> <span class=\"fYyStc\">8 Amazing Benefits of...</span> </span> <span class=\"qXLe6d F9iS2e\"> <span class=\"fYyStc\">food.ndtv.com</span> </span> </div></a>,\n",
       " <a href=\"/url?q=https://www.brfarms.com/apricot-questions-and-answers/&amp;sa=U&amp;ved=2ahUKEwiZxPewrp3vAhWSsJ4KHcAmAFUQqoUBMA96BAgEEAE&amp;usg=AOvVaw1ezZKy6oSo_akf-3VkPrug\"><div class=\"RAyV4b\"><img alt=\"\" class=\"t0fcAb\" src=\"https://encrypted-tbn0.gstatic.com/images?q=tbn:ANd9GcQevDETwqipzBVaIjtHsD6mLBwjOtHGrN2orjglw2Zu8JbynUuTIbbUT0dwvg&amp;s\"/></div></a>,\n",
       " <a href=\"/url?q=https://www.brfarms.com/apricot-questions-and-answers/&amp;sa=U&amp;ved=2ahUKEwiZxPewrp3vAhWSsJ4KHcAmAFUQr4kDMA96BAgEEAI&amp;usg=AOvVaw2eDHGxckXjL9q5_5TSN7st\"><div class=\"Tor4Ec\"> <span class=\"qXLe6d x3G5ab\"> <span class=\"fYyStc\">Apricot Questions and...</span> </span> <span class=\"qXLe6d F9iS2e\"> <span class=\"fYyStc\">brfarms.com</span> </span> </div></a>,\n",
       " <a href=\"/url?q=https://improvisedlife.com/2020/07/17/how-to-eat-an-apricot/&amp;sa=U&amp;ved=2ahUKEwiZxPewrp3vAhWSsJ4KHcAmAFUQqoUBMBB6BAgDEAE&amp;usg=AOvVaw17HkLhvhSvhwwHduWcLjM6\"><div class=\"RAyV4b\"><img alt=\"\" class=\"t0fcAb\" src=\"https://encrypted-tbn0.gstatic.com/images?q=tbn:ANd9GcTPu20-RCihCsUx8utyAFnaT9Jn7xJT-Erx_jINl1vu_pjWBPlZfDbr6R3exA&amp;s\"/></div></a>,\n",
       " <a href=\"/url?q=https://improvisedlife.com/2020/07/17/how-to-eat-an-apricot/&amp;sa=U&amp;ved=2ahUKEwiZxPewrp3vAhWSsJ4KHcAmAFUQr4kDMBB6BAgDEAI&amp;usg=AOvVaw1V7MB8XumehQBIqsevwzSO\"><div class=\"Tor4Ec\"> <span class=\"qXLe6d x3G5ab\"> <span class=\"fYyStc\">How to Eat an Apricot -...</span> </span> <span class=\"qXLe6d F9iS2e\"> <span class=\"fYyStc\">improvisedlife.com</span> </span> </div></a>,\n",
       " <a href=\"/url?q=https://nuts.com/driedfruit/apricots/half-dried.html&amp;sa=U&amp;ved=2ahUKEwiZxPewrp3vAhWSsJ4KHcAmAFUQqoUBMBF6BAgBEAE&amp;usg=AOvVaw0Q_57bHdA8LtC_s3MVs5QQ\"><div class=\"RAyV4b\"><img alt=\"\" class=\"t0fcAb\" src=\"https://encrypted-tbn0.gstatic.com/images?q=tbn:ANd9GcTNGt-7f2LUpC9w_AeIKNRP-wliVS_qxEfeNmCNAmteaRaM6IrUzMAo7UT4oQ&amp;s\"/></div></a>,\n",
       " <a href=\"/url?q=https://nuts.com/driedfruit/apricots/half-dried.html&amp;sa=U&amp;ved=2ahUKEwiZxPewrp3vAhWSsJ4KHcAmAFUQr4kDMBF6BAgBEAI&amp;usg=AOvVaw2JSpHP7gFCLwolV5JqaI1g\"><div class=\"Tor4Ec\"> <span class=\"qXLe6d x3G5ab\"> <span class=\"fYyStc\">Half Dried Apricots</span> </span> <span class=\"qXLe6d F9iS2e\"> <span class=\"fYyStc\">nuts.com</span> </span> </div></a>,\n",
       " <a href=\"/url?q=https://shop.arborday.org/early-golden-apricot&amp;sa=U&amp;ved=2ahUKEwiZxPewrp3vAhWSsJ4KHcAmAFUQqoUBMBJ6BAgCEAE&amp;usg=AOvVaw0s4BDO-efAgmEIG7KeJ--D\"><div class=\"RAyV4b\"><img alt=\"\" class=\"t0fcAb\" src=\"https://encrypted-tbn0.gstatic.com/images?q=tbn:ANd9GcTdxoSrvaG1RlshAz4utmae_g-y2s-niP-IdBZTwvLZK8sBcHWrNXs0cV6iV9I&amp;s\"/></div></a>,\n",
       " <a href=\"/url?q=https://shop.arborday.org/early-golden-apricot&amp;sa=U&amp;ved=2ahUKEwiZxPewrp3vAhWSsJ4KHcAmAFUQr4kDMBJ6BAgCEAI&amp;usg=AOvVaw24t02pRMP3i_wOOLMU9Orh\"><div class=\"Tor4Ec\"> <span class=\"qXLe6d x3G5ab\"> <span class=\"fYyStc\">Buy affordable Early Golden...</span> </span> <span class=\"qXLe6d F9iS2e\"> <span class=\"fYyStc\">shop.arborday.org</span> </span> </div></a>,\n",
       " <a href=\"/url?q=http://allrecipes.co.uk/recipe/8072/apricot-jam.aspx&amp;sa=U&amp;ved=2ahUKEwiZxPewrp3vAhWSsJ4KHcAmAFUQqoUBMBN6BAgAEAE&amp;usg=AOvVaw2IqiUOyDIcpYgCBu6rnbMR\"><div class=\"RAyV4b\"><img alt=\"\" class=\"t0fcAb\" src=\"https://encrypted-tbn0.gstatic.com/images?q=tbn:ANd9GcRrfTt9M3SE3ftU08CJ9DChCmSh9ajXvBSaYCLj2-FHV0hiXG9tqLJ1uoji9-o&amp;s\"/></div></a>,\n",
       " <a href=\"/url?q=http://allrecipes.co.uk/recipe/8072/apricot-jam.aspx&amp;sa=U&amp;ved=2ahUKEwiZxPewrp3vAhWSsJ4KHcAmAFUQr4kDMBN6BAgAEAI&amp;usg=AOvVaw1KYycDhr2_Tchedbj-cXXk\"><div class=\"Tor4Ec\"> <span class=\"qXLe6d x3G5ab\"> <span class=\"fYyStc\">Apricot jam recipe - All...</span> </span> <span class=\"qXLe6d F9iS2e\"> <span class=\"fYyStc\">allrecipes.co.uk</span> </span> </div></a>,\n",
       " <a class=\"frGj1b\" href=\"/search?q=apricot&amp;ie=UTF-8&amp;tbm=isch&amp;ei=8FhEYJmMJ5Lh-gTAzYCoBQ&amp;start=20&amp;sa=N\">Next &gt;</a>,\n",
       " <a href=\"/url?q=https://support.google.com/websearch%3Fp%3Dws_settings_location%26hl%3Den&amp;sa=U&amp;ved=0ahUKEwiZxPewrp3vAhWSsJ4KHcAmAFUQty4IUw&amp;usg=AOvVaw3fGw2xp8VTK06XTIGHf6m7\">Learn more</a>,\n",
       " <a class=\"rEM8G\" href=\"/url?q=https://accounts.google.com/ServiceLogin%3Fcontinue%3Dhttps://www.google.com/search%253Fq%253Dapricot%2526tbm%253Disch%26hl%3Den&amp;sa=U&amp;ved=0ahUKEwiZxPewrp3vAhWSsJ4KHcAmAFUQxs8CCFQ&amp;usg=AOvVaw1ZBtysNWjN3gpKsZx1G2h6\">Sign in</a>,\n",
       " <a class=\"rEM8G\" href=\"https://www.google.com/preferences?hl=en&amp;sa=X&amp;ved=0ahUKEwiZxPewrp3vAhWSsJ4KHcAmAFUQv5YECFU\">Settings</a>,\n",
       " <a class=\"rEM8G\" href=\"https://www.google.com/intl/en_us/policies/privacy/\">Privacy</a>,\n",
       " <a class=\"rEM8G\" href=\"https://www.google.com/intl/en_us/policies/terms/\">Terms</a>]"
      ]
     },
     "execution_count": 17,
     "metadata": {},
     "output_type": "execute_result"
    }
   ],
   "source": [
    "soup.find_all('a')"
   ]
  },
  {
   "cell_type": "code",
   "execution_count": 14,
   "metadata": {},
   "outputs": [
    {
     "data": {
      "text/html": [
       "<div style=\"display: inline-block; width: 320px; vertical-align: top; text-align: center;\"><h4 style=\"font-size: 12px\">0</h4><h4 style=\"font-size: 9px; padding-left: 10px; padding-right: 10px; width: 90%; word-wrap: break-word; white-space: normal;\">https://encrypted-tbn0.gstatic.com/images?q=tbn:ANd9GcTkipujEvCT18z1ctqyq8F70bde9U69Wh9G0v94uXp099Y-zSHc4m5t4gNfi3U&s</h4><img src=\"https://encrypted-tbn0.gstatic.com/images?q=tbn:ANd9GcTkipujEvCT18z1ctqyq8F70bde9U69Wh9G0v94uXp099Y-zSHc4m5t4gNfi3U&s\" style=\"margin: 1px; width: 300px; border: 2px solid #ddd;\"/></div><div style=\"display: inline-block; width: 320px; vertical-align: top; text-align: center;\"><h4 style=\"font-size: 12px\">1</h4><h4 style=\"font-size: 9px; padding-left: 10px; padding-right: 10px; width: 90%; word-wrap: break-word; white-space: normal;\">https://encrypted-tbn0.gstatic.com/images?q=tbn:ANd9GcSLyo1X6pMATX2x-ZD3DxsXfB4hBJX7IQPvnfKfE3Pekf68CA05vkFSDhZT4w&s</h4><img src=\"https://encrypted-tbn0.gstatic.com/images?q=tbn:ANd9GcSLyo1X6pMATX2x-ZD3DxsXfB4hBJX7IQPvnfKfE3Pekf68CA05vkFSDhZT4w&s\" style=\"margin: 1px; width: 300px; border: 2px solid #ddd;\"/></div><div style=\"display: inline-block; width: 320px; vertical-align: top; text-align: center;\"><h4 style=\"font-size: 12px\">2</h4><h4 style=\"font-size: 9px; padding-left: 10px; padding-right: 10px; width: 90%; word-wrap: break-word; white-space: normal;\">https://encrypted-tbn0.gstatic.com/images?q=tbn:ANd9GcTbPax_v6sDX5kB-pv4ix7NyayZQbgMQgEGqhmcA3FPZrD_x7i0_2utE867Wrg&s</h4><img src=\"https://encrypted-tbn0.gstatic.com/images?q=tbn:ANd9GcTbPax_v6sDX5kB-pv4ix7NyayZQbgMQgEGqhmcA3FPZrD_x7i0_2utE867Wrg&s\" style=\"margin: 1px; width: 300px; border: 2px solid #ddd;\"/></div><div style=\"display: inline-block; width: 320px; vertical-align: top; text-align: center;\"><h4 style=\"font-size: 12px\">3</h4><h4 style=\"font-size: 9px; padding-left: 10px; padding-right: 10px; width: 90%; word-wrap: break-word; white-space: normal;\">https://encrypted-tbn0.gstatic.com/images?q=tbn:ANd9GcQ_CCEFwA8_znZk99TDP21geTQjOYUpQk7Jei_RoTTgJsWUhYDU3_m0kDKsWw&s</h4><img src=\"https://encrypted-tbn0.gstatic.com/images?q=tbn:ANd9GcQ_CCEFwA8_znZk99TDP21geTQjOYUpQk7Jei_RoTTgJsWUhYDU3_m0kDKsWw&s\" style=\"margin: 1px; width: 300px; border: 2px solid #ddd;\"/></div><div style=\"display: inline-block; width: 320px; vertical-align: top; text-align: center;\"><h4 style=\"font-size: 12px\">4</h4><h4 style=\"font-size: 9px; padding-left: 10px; padding-right: 10px; width: 90%; word-wrap: break-word; white-space: normal;\">https://encrypted-tbn0.gstatic.com/images?q=tbn:ANd9GcTXfljs9gxWQoB3RMn6yRXgQf3NcdKKNLNR42s2-Dg4Zosa5jLRVzvMzhvnAhk&s</h4><img src=\"https://encrypted-tbn0.gstatic.com/images?q=tbn:ANd9GcTXfljs9gxWQoB3RMn6yRXgQf3NcdKKNLNR42s2-Dg4Zosa5jLRVzvMzhvnAhk&s\" style=\"margin: 1px; width: 300px; border: 2px solid #ddd;\"/></div>"
      ],
      "text/plain": [
       "<IPython.core.display.HTML object>"
      ]
     },
     "metadata": {},
     "output_type": "display_data"
    }
   ],
   "source": [
    "google_template = 'https://www.google.com/search?q={}&tbm=isch'\n",
    "r = requests.get(google_template.format(term))\n",
    "soup = BeautifulSoup(r.text, features=\"html.parser\")\n",
    "urls = [tag.get('src') for tag in soup.find_all('img') if tag.get('src')[:4] == 'http']\n",
    "ipyplot.plot_images(urls[:5])"
   ]
  },
  {
   "cell_type": "code",
   "execution_count": null,
   "metadata": {},
   "outputs": [],
   "source": []
  }
 ],
 "metadata": {
  "kernelspec": {
   "display_name": "Python 3",
   "language": "python",
   "name": "python3"
  },
  "language_info": {
   "codemirror_mode": {
    "name": "ipython",
    "version": 3
   },
   "file_extension": ".py",
   "mimetype": "text/x-python",
   "name": "python",
   "nbconvert_exporter": "python",
   "pygments_lexer": "ipython3",
   "version": "3.8.3"
  }
 },
 "nbformat": 4,
 "nbformat_minor": 4
}
