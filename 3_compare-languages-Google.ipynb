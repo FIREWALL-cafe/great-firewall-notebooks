{
 "cells": [
  {
   "cell_type": "markdown",
   "metadata": {},
   "source": [
    "# Search Google simultaneously in English and Chinese\n",
    "\n",
    "Pick a search term to start with."
   ]
  },
  {
   "cell_type": "code",
   "execution_count": 1,
   "metadata": {},
   "outputs": [],
   "source": [
    "search_term_english = 'tiananmen square'"
   ]
  },
  {
   "cell_type": "code",
   "execution_count": 2,
   "metadata": {},
   "outputs": [],
   "source": [
    "import requests\n",
    "google_template = 'https://www.google.com/search?q={}&tbm=isch'\n",
    "r = requests.get(google_template.format(search_term_english))"
   ]
  },
  {
   "cell_type": "code",
   "execution_count": 3,
   "metadata": {},
   "outputs": [],
   "source": [
    "from bs4 import BeautifulSoup"
   ]
  },
  {
   "cell_type": "code",
   "execution_count": 4,
   "metadata": {},
   "outputs": [],
   "source": [
    "soup = BeautifulSoup(r.text)"
   ]
  },
  {
   "cell_type": "code",
   "execution_count": 5,
   "metadata": {},
   "outputs": [],
   "source": [
    "urls = [tag.get('src') for tag in soup.find_all('img') if tag.get('src')[:4] == 'http']"
   ]
  },
  {
   "cell_type": "markdown",
   "metadata": {},
   "source": [
    "Taking this from https://stackoverflow.com/questions/47508168/displaying-grid-of-images-in-jupyter-notebook"
   ]
  },
  {
   "cell_type": "markdown",
   "metadata": {},
   "source": [
    "# Searching with English"
   ]
  },
  {
   "cell_type": "code",
   "execution_count": 6,
   "metadata": {},
   "outputs": [
    {
     "data": {
      "text/html": [
       "<div style=\"display: inline-block; width: 170px; vertical-align: top; text-align: center;\"><h4 style=\"font-size: 12px\">tiananmen square 0</h4><h4 style=\"font-size: 9px; padding-left: 10px; padding-right: 10px; width: 90%; word-wrap: break-word; white-space: normal;\">https://encrypted-tbn0.gstatic.com/images?q=tbn:ANd9GcSWJJiximhScBYKWzD9SQAQEyX0qtDFyymOHPNPJLkOh5Om0pZajiCKX8OXGjU&s</h4><img src=\"https://encrypted-tbn0.gstatic.com/images?q=tbn:ANd9GcSWJJiximhScBYKWzD9SQAQEyX0qtDFyymOHPNPJLkOh5Om0pZajiCKX8OXGjU&s\" style=\"margin: 1px; width: 150px; border: 2px solid #ddd;\"/></div><div style=\"display: inline-block; width: 170px; vertical-align: top; text-align: center;\"><h4 style=\"font-size: 12px\">tiananmen square 1</h4><h4 style=\"font-size: 9px; padding-left: 10px; padding-right: 10px; width: 90%; word-wrap: break-word; white-space: normal;\">https://encrypted-tbn0.gstatic.com/images?q=tbn:ANd9GcT4i9wrG_CYOSI0cA253KdtnPqxeDrojNSA8m9R7PUQWl9E57AnvMi643pMgmE&s</h4><img src=\"https://encrypted-tbn0.gstatic.com/images?q=tbn:ANd9GcT4i9wrG_CYOSI0cA253KdtnPqxeDrojNSA8m9R7PUQWl9E57AnvMi643pMgmE&s\" style=\"margin: 1px; width: 150px; border: 2px solid #ddd;\"/></div><div style=\"display: inline-block; width: 170px; vertical-align: top; text-align: center;\"><h4 style=\"font-size: 12px\">tiananmen square 2</h4><h4 style=\"font-size: 9px; padding-left: 10px; padding-right: 10px; width: 90%; word-wrap: break-word; white-space: normal;\">https://encrypted-tbn0.gstatic.com/images?q=tbn:ANd9GcTh66cqrmnVrnNybwDUzJ1VpHM1wrB_qZu1hJqHTlRxI7AF1zpX4irVjVndzMY&s</h4><img src=\"https://encrypted-tbn0.gstatic.com/images?q=tbn:ANd9GcTh66cqrmnVrnNybwDUzJ1VpHM1wrB_qZu1hJqHTlRxI7AF1zpX4irVjVndzMY&s\" style=\"margin: 1px; width: 150px; border: 2px solid #ddd;\"/></div><div style=\"display: inline-block; width: 170px; vertical-align: top; text-align: center;\"><h4 style=\"font-size: 12px\">tiananmen square 3</h4><h4 style=\"font-size: 9px; padding-left: 10px; padding-right: 10px; width: 90%; word-wrap: break-word; white-space: normal;\">https://encrypted-tbn0.gstatic.com/images?q=tbn:ANd9GcQ8hgNeD6_BFHSCx255_mDy7zUJbUDoKGEE1qaGSAFhKIGd6F6I3dhcduN0WLw&s</h4><img src=\"https://encrypted-tbn0.gstatic.com/images?q=tbn:ANd9GcQ8hgNeD6_BFHSCx255_mDy7zUJbUDoKGEE1qaGSAFhKIGd6F6I3dhcduN0WLw&s\" style=\"margin: 1px; width: 150px; border: 2px solid #ddd;\"/></div><div style=\"display: inline-block; width: 170px; vertical-align: top; text-align: center;\"><h4 style=\"font-size: 12px\">tiananmen square 4</h4><h4 style=\"font-size: 9px; padding-left: 10px; padding-right: 10px; width: 90%; word-wrap: break-word; white-space: normal;\">https://encrypted-tbn0.gstatic.com/images?q=tbn:ANd9GcQOk0z63KYCvieFaGKiUkfvGACCa6bJWmR3JUb8_jFRGVEN8diDqzqDCzttwA&s</h4><img src=\"https://encrypted-tbn0.gstatic.com/images?q=tbn:ANd9GcQOk0z63KYCvieFaGKiUkfvGACCa6bJWmR3JUb8_jFRGVEN8diDqzqDCzttwA&s\" style=\"margin: 1px; width: 150px; border: 2px solid #ddd;\"/></div><div style=\"display: inline-block; width: 170px; vertical-align: top; text-align: center;\"><h4 style=\"font-size: 12px\">tiananmen square 5</h4><h4 style=\"font-size: 9px; padding-left: 10px; padding-right: 10px; width: 90%; word-wrap: break-word; white-space: normal;\">https://encrypted-tbn0.gstatic.com/images?q=tbn:ANd9GcRItffDmhsp4dsBInz-2Hwwq1goE7WnQPuVmF-dVHl8s0Fdm-gxQqFrPrD5Bw&s</h4><img src=\"https://encrypted-tbn0.gstatic.com/images?q=tbn:ANd9GcRItffDmhsp4dsBInz-2Hwwq1goE7WnQPuVmF-dVHl8s0Fdm-gxQqFrPrD5Bw&s\" style=\"margin: 1px; width: 150px; border: 2px solid #ddd;\"/></div><div style=\"display: inline-block; width: 170px; vertical-align: top; text-align: center;\"><h4 style=\"font-size: 12px\">tiananmen square 6</h4><h4 style=\"font-size: 9px; padding-left: 10px; padding-right: 10px; width: 90%; word-wrap: break-word; white-space: normal;\">https://encrypted-tbn0.gstatic.com/images?q=tbn:ANd9GcSSfdiUVM1h1cgnfV4iBK6bCgv5GAdR3hW5E4f6KRNUzTYaQD2Jqs-jJAicEA&s</h4><img src=\"https://encrypted-tbn0.gstatic.com/images?q=tbn:ANd9GcSSfdiUVM1h1cgnfV4iBK6bCgv5GAdR3hW5E4f6KRNUzTYaQD2Jqs-jJAicEA&s\" style=\"margin: 1px; width: 150px; border: 2px solid #ddd;\"/></div><div style=\"display: inline-block; width: 170px; vertical-align: top; text-align: center;\"><h4 style=\"font-size: 12px\">tiananmen square 7</h4><h4 style=\"font-size: 9px; padding-left: 10px; padding-right: 10px; width: 90%; word-wrap: break-word; white-space: normal;\">https://encrypted-tbn0.gstatic.com/images?q=tbn:ANd9GcTDdA89GqV5j5SaQotFLV3BXtFMAARBjl1nhHZp1QIbZXeCni_ukB5FzACykg&s</h4><img src=\"https://encrypted-tbn0.gstatic.com/images?q=tbn:ANd9GcTDdA89GqV5j5SaQotFLV3BXtFMAARBjl1nhHZp1QIbZXeCni_ukB5FzACykg&s\" style=\"margin: 1px; width: 150px; border: 2px solid #ddd;\"/></div><div style=\"display: inline-block; width: 170px; vertical-align: top; text-align: center;\"><h4 style=\"font-size: 12px\">tiananmen square 8</h4><h4 style=\"font-size: 9px; padding-left: 10px; padding-right: 10px; width: 90%; word-wrap: break-word; white-space: normal;\">https://encrypted-tbn0.gstatic.com/images?q=tbn:ANd9GcSvsfUOhK45V8d5pfvwwhbGWaDKacjgjpLb-LFVqMyZMelt6H2i9IZAj91aI1E&s</h4><img src=\"https://encrypted-tbn0.gstatic.com/images?q=tbn:ANd9GcSvsfUOhK45V8d5pfvwwhbGWaDKacjgjpLb-LFVqMyZMelt6H2i9IZAj91aI1E&s\" style=\"margin: 1px; width: 150px; border: 2px solid #ddd;\"/></div><div style=\"display: inline-block; width: 170px; vertical-align: top; text-align: center;\"><h4 style=\"font-size: 12px\">tiananmen square 9</h4><h4 style=\"font-size: 9px; padding-left: 10px; padding-right: 10px; width: 90%; word-wrap: break-word; white-space: normal;\">https://encrypted-tbn0.gstatic.com/images?q=tbn:ANd9GcQUBP9n9WMSn3g2yNAKTCgZ-nL6UE08qNjcYsL_-KLu4ApwiB-CX-vo1tW4A5Y&s</h4><img src=\"https://encrypted-tbn0.gstatic.com/images?q=tbn:ANd9GcQUBP9n9WMSn3g2yNAKTCgZ-nL6UE08qNjcYsL_-KLu4ApwiB-CX-vo1tW4A5Y&s\" style=\"margin: 1px; width: 150px; border: 2px solid #ddd;\"/></div><div style=\"display: inline-block; width: 170px; vertical-align: top; text-align: center;\"><h4 style=\"font-size: 12px\">tiananmen square 10</h4><h4 style=\"font-size: 9px; padding-left: 10px; padding-right: 10px; width: 90%; word-wrap: break-word; white-space: normal;\">https://encrypted-tbn0.gstatic.com/images?q=tbn:ANd9GcSE1KhfgQnSOcVpFuN9C8Z5ZoD1eUJmrwdVLx1TTr1jheq1DIUz0-mJk5mMUQ&s</h4><img src=\"https://encrypted-tbn0.gstatic.com/images?q=tbn:ANd9GcSE1KhfgQnSOcVpFuN9C8Z5ZoD1eUJmrwdVLx1TTr1jheq1DIUz0-mJk5mMUQ&s\" style=\"margin: 1px; width: 150px; border: 2px solid #ddd;\"/></div><div style=\"display: inline-block; width: 170px; vertical-align: top; text-align: center;\"><h4 style=\"font-size: 12px\">tiananmen square 11</h4><h4 style=\"font-size: 9px; padding-left: 10px; padding-right: 10px; width: 90%; word-wrap: break-word; white-space: normal;\">https://encrypted-tbn0.gstatic.com/images?q=tbn:ANd9GcSPL5547TflRyHM1fKtE7eye8qZ4Ab6gD1of_Kgsku3KMK6Sjh7vM3Ans8klg&s</h4><img src=\"https://encrypted-tbn0.gstatic.com/images?q=tbn:ANd9GcSPL5547TflRyHM1fKtE7eye8qZ4Ab6gD1of_Kgsku3KMK6Sjh7vM3Ans8klg&s\" style=\"margin: 1px; width: 150px; border: 2px solid #ddd;\"/></div><div style=\"display: inline-block; width: 170px; vertical-align: top; text-align: center;\"><h4 style=\"font-size: 12px\">tiananmen square 12</h4><h4 style=\"font-size: 9px; padding-left: 10px; padding-right: 10px; width: 90%; word-wrap: break-word; white-space: normal;\">https://encrypted-tbn0.gstatic.com/images?q=tbn:ANd9GcRXBpnFRrXuKWPB6Ru_BM1JAgM22axB0PdkEWQVjh1NOKlodhRbdJKRhbLxUw&s</h4><img src=\"https://encrypted-tbn0.gstatic.com/images?q=tbn:ANd9GcRXBpnFRrXuKWPB6Ru_BM1JAgM22axB0PdkEWQVjh1NOKlodhRbdJKRhbLxUw&s\" style=\"margin: 1px; width: 150px; border: 2px solid #ddd;\"/></div><div style=\"display: inline-block; width: 170px; vertical-align: top; text-align: center;\"><h4 style=\"font-size: 12px\">tiananmen square 13</h4><h4 style=\"font-size: 9px; padding-left: 10px; padding-right: 10px; width: 90%; word-wrap: break-word; white-space: normal;\">https://encrypted-tbn0.gstatic.com/images?q=tbn:ANd9GcTuTZB_b1zffzQnDp0YoVcD67FlIR3Tiu4H5wInevnAxUshJ1OXL0H0cCp4Clc&s</h4><img src=\"https://encrypted-tbn0.gstatic.com/images?q=tbn:ANd9GcTuTZB_b1zffzQnDp0YoVcD67FlIR3Tiu4H5wInevnAxUshJ1OXL0H0cCp4Clc&s\" style=\"margin: 1px; width: 150px; border: 2px solid #ddd;\"/></div><div style=\"display: inline-block; width: 170px; vertical-align: top; text-align: center;\"><h4 style=\"font-size: 12px\">tiananmen square 14</h4><h4 style=\"font-size: 9px; padding-left: 10px; padding-right: 10px; width: 90%; word-wrap: break-word; white-space: normal;\">https://encrypted-tbn0.gstatic.com/images?q=tbn:ANd9GcSzyHRYgcd5FUPsLQkBL_uTTQlZMQCQV5egpNVVkdhI7SF3ELbh2vwMIvF6meA&s</h4><img src=\"https://encrypted-tbn0.gstatic.com/images?q=tbn:ANd9GcSzyHRYgcd5FUPsLQkBL_uTTQlZMQCQV5egpNVVkdhI7SF3ELbh2vwMIvF6meA&s\" style=\"margin: 1px; width: 150px; border: 2px solid #ddd;\"/></div><div style=\"display: inline-block; width: 170px; vertical-align: top; text-align: center;\"><h4 style=\"font-size: 12px\">tiananmen square 15</h4><h4 style=\"font-size: 9px; padding-left: 10px; padding-right: 10px; width: 90%; word-wrap: break-word; white-space: normal;\">https://encrypted-tbn0.gstatic.com/images?q=tbn:ANd9GcQ1daGuti8gf-owSpG4gwZW4JaLpAh2zh5yOuR9Cb6HRYSbe1oBlE34AoL2wQ&s</h4><img src=\"https://encrypted-tbn0.gstatic.com/images?q=tbn:ANd9GcQ1daGuti8gf-owSpG4gwZW4JaLpAh2zh5yOuR9Cb6HRYSbe1oBlE34AoL2wQ&s\" style=\"margin: 1px; width: 150px; border: 2px solid #ddd;\"/></div><div style=\"display: inline-block; width: 170px; vertical-align: top; text-align: center;\"><h4 style=\"font-size: 12px\">tiananmen square 16</h4><h4 style=\"font-size: 9px; padding-left: 10px; padding-right: 10px; width: 90%; word-wrap: break-word; white-space: normal;\">https://encrypted-tbn0.gstatic.com/images?q=tbn:ANd9GcTQb7LiR-fg2FMlxpULzmxVqyAJXhaZFEFQ0PTWZbPydy_zs-mYypf-diVLdsA&s</h4><img src=\"https://encrypted-tbn0.gstatic.com/images?q=tbn:ANd9GcTQb7LiR-fg2FMlxpULzmxVqyAJXhaZFEFQ0PTWZbPydy_zs-mYypf-diVLdsA&s\" style=\"margin: 1px; width: 150px; border: 2px solid #ddd;\"/></div><div style=\"display: inline-block; width: 170px; vertical-align: top; text-align: center;\"><h4 style=\"font-size: 12px\">tiananmen square 17</h4><h4 style=\"font-size: 9px; padding-left: 10px; padding-right: 10px; width: 90%; word-wrap: break-word; white-space: normal;\">https://encrypted-tbn0.gstatic.com/images?q=tbn:ANd9GcQqJ7ZJYEJCN7QutjEWODx3gsu5ARhUOVQgL70YcI2HyrAMphtSWtWfMGqGMQ&s</h4><img src=\"https://encrypted-tbn0.gstatic.com/images?q=tbn:ANd9GcQqJ7ZJYEJCN7QutjEWODx3gsu5ARhUOVQgL70YcI2HyrAMphtSWtWfMGqGMQ&s\" style=\"margin: 1px; width: 150px; border: 2px solid #ddd;\"/></div><div style=\"display: inline-block; width: 170px; vertical-align: top; text-align: center;\"><h4 style=\"font-size: 12px\">tiananmen square 18</h4><h4 style=\"font-size: 9px; padding-left: 10px; padding-right: 10px; width: 90%; word-wrap: break-word; white-space: normal;\">https://encrypted-tbn0.gstatic.com/images?q=tbn:ANd9GcQT0x2-VdWtjvuBWYL1pli6GPvwsx7P7XaPXPvFsULps9s9SU3vmRkfh9GQj48&s</h4><img src=\"https://encrypted-tbn0.gstatic.com/images?q=tbn:ANd9GcQT0x2-VdWtjvuBWYL1pli6GPvwsx7P7XaPXPvFsULps9s9SU3vmRkfh9GQj48&s\" style=\"margin: 1px; width: 150px; border: 2px solid #ddd;\"/></div><div style=\"display: inline-block; width: 170px; vertical-align: top; text-align: center;\"><h4 style=\"font-size: 12px\">tiananmen square 19</h4><h4 style=\"font-size: 9px; padding-left: 10px; padding-right: 10px; width: 90%; word-wrap: break-word; white-space: normal;\">https://encrypted-tbn0.gstatic.com/images?q=tbn:ANd9GcSN6nITyIGADs4dG6AJ2nivCKv1Kls5oas0EDm4SdvpPjZ8oEFopuL3z_kxVZk&s</h4><img src=\"https://encrypted-tbn0.gstatic.com/images?q=tbn:ANd9GcSN6nITyIGADs4dG6AJ2nivCKv1Kls5oas0EDm4SdvpPjZ8oEFopuL3z_kxVZk&s\" style=\"margin: 1px; width: 150px; border: 2px solid #ddd;\"/></div>"
      ],
      "text/plain": [
       "<IPython.core.display.HTML object>"
      ]
     },
     "metadata": {},
     "output_type": "display_data"
    }
   ],
   "source": [
    "import ipyplot\n",
    "ipyplot.plot_images(urls, [f'{search_term_english} {i}' for i in range(len(urls))], img_width=150)"
   ]
  },
  {
   "cell_type": "markdown",
   "metadata": {},
   "source": [
    "# Searching with the Chinese translation\n",
    "\n",
    "I built a little module that abstracts messing with Google Cloud Translation."
   ]
  },
  {
   "cell_type": "code",
   "execution_count": 7,
   "metadata": {},
   "outputs": [],
   "source": [
    "from translate import Translator"
   ]
  },
  {
   "cell_type": "code",
   "execution_count": 8,
   "metadata": {},
   "outputs": [],
   "source": [
    "translator = Translator()\n",
    "search_term_chinese = translator.to_chinese(search_term_english)\n",
    "r = requests.get(google_template.format(search_term_chinese))\n",
    "soup = BeautifulSoup(r.text)\n",
    "urls = [tag.get('src') for tag in soup.find_all('img') if tag.get('src')[:4] == 'http']"
   ]
  },
  {
   "cell_type": "code",
   "execution_count": 9,
   "metadata": {},
   "outputs": [
    {
     "data": {
      "text/html": [
       "<div style=\"display: inline-block; width: 170px; vertical-align: top; text-align: center;\"><h4 style=\"font-size: 12px\">天安门广场 0</h4><h4 style=\"font-size: 9px; padding-left: 10px; padding-right: 10px; width: 90%; word-wrap: break-word; white-space: normal;\">https://encrypted-tbn0.gstatic.com/images?q=tbn:ANd9GcTs4QTqqtWxBqHcOa0wd98pm5ODh8fGY0-mqFxE6iBJi3a0whsx0ikbKN7pYw&s</h4><img src=\"https://encrypted-tbn0.gstatic.com/images?q=tbn:ANd9GcTs4QTqqtWxBqHcOa0wd98pm5ODh8fGY0-mqFxE6iBJi3a0whsx0ikbKN7pYw&s\" style=\"margin: 1px; width: 150px; border: 2px solid #ddd;\"/></div><div style=\"display: inline-block; width: 170px; vertical-align: top; text-align: center;\"><h4 style=\"font-size: 12px\">天安门广场 1</h4><h4 style=\"font-size: 9px; padding-left: 10px; padding-right: 10px; width: 90%; word-wrap: break-word; white-space: normal;\">https://encrypted-tbn0.gstatic.com/images?q=tbn:ANd9GcSt7rff3Qd_SX5UNuQYO77olr9YTEEfK4yn3mCFWwtC_iH5_s3LyaiSy4breg&s</h4><img src=\"https://encrypted-tbn0.gstatic.com/images?q=tbn:ANd9GcSt7rff3Qd_SX5UNuQYO77olr9YTEEfK4yn3mCFWwtC_iH5_s3LyaiSy4breg&s\" style=\"margin: 1px; width: 150px; border: 2px solid #ddd;\"/></div><div style=\"display: inline-block; width: 170px; vertical-align: top; text-align: center;\"><h4 style=\"font-size: 12px\">天安门广场 2</h4><h4 style=\"font-size: 9px; padding-left: 10px; padding-right: 10px; width: 90%; word-wrap: break-word; white-space: normal;\">https://encrypted-tbn0.gstatic.com/images?q=tbn:ANd9GcSBq-9eC3HhtcU0YJXKMoYl7ys5jbljQ4CARUU-oSvEUzEUlgn3cx8vKBGH9w&s</h4><img src=\"https://encrypted-tbn0.gstatic.com/images?q=tbn:ANd9GcSBq-9eC3HhtcU0YJXKMoYl7ys5jbljQ4CARUU-oSvEUzEUlgn3cx8vKBGH9w&s\" style=\"margin: 1px; width: 150px; border: 2px solid #ddd;\"/></div><div style=\"display: inline-block; width: 170px; vertical-align: top; text-align: center;\"><h4 style=\"font-size: 12px\">天安门广场 3</h4><h4 style=\"font-size: 9px; padding-left: 10px; padding-right: 10px; width: 90%; word-wrap: break-word; white-space: normal;\">https://encrypted-tbn0.gstatic.com/images?q=tbn:ANd9GcQkJ9UO5VvfPOsEv3xo_9QU-88xu--3ZoqgdTHugzwMWuZZgbS4CZdnWhh_YUY&s</h4><img src=\"https://encrypted-tbn0.gstatic.com/images?q=tbn:ANd9GcQkJ9UO5VvfPOsEv3xo_9QU-88xu--3ZoqgdTHugzwMWuZZgbS4CZdnWhh_YUY&s\" style=\"margin: 1px; width: 150px; border: 2px solid #ddd;\"/></div><div style=\"display: inline-block; width: 170px; vertical-align: top; text-align: center;\"><h4 style=\"font-size: 12px\">天安门广场 4</h4><h4 style=\"font-size: 9px; padding-left: 10px; padding-right: 10px; width: 90%; word-wrap: break-word; white-space: normal;\">https://encrypted-tbn0.gstatic.com/images?q=tbn:ANd9GcQx_BS6G3p53WLGDrq0Dn2ZxaIsvR_yfGudIREsaT37MCbgZ92rzdFff9vzsao&s</h4><img src=\"https://encrypted-tbn0.gstatic.com/images?q=tbn:ANd9GcQx_BS6G3p53WLGDrq0Dn2ZxaIsvR_yfGudIREsaT37MCbgZ92rzdFff9vzsao&s\" style=\"margin: 1px; width: 150px; border: 2px solid #ddd;\"/></div><div style=\"display: inline-block; width: 170px; vertical-align: top; text-align: center;\"><h4 style=\"font-size: 12px\">天安门广场 5</h4><h4 style=\"font-size: 9px; padding-left: 10px; padding-right: 10px; width: 90%; word-wrap: break-word; white-space: normal;\">https://encrypted-tbn0.gstatic.com/images?q=tbn:ANd9GcQkfKl77G_uJolx3LWzMUJlx6gDCdJhyvaqKUCjA0X3nbNtDion06Q1h0zK28M&s</h4><img src=\"https://encrypted-tbn0.gstatic.com/images?q=tbn:ANd9GcQkfKl77G_uJolx3LWzMUJlx6gDCdJhyvaqKUCjA0X3nbNtDion06Q1h0zK28M&s\" style=\"margin: 1px; width: 150px; border: 2px solid #ddd;\"/></div><div style=\"display: inline-block; width: 170px; vertical-align: top; text-align: center;\"><h4 style=\"font-size: 12px\">天安门广场 6</h4><h4 style=\"font-size: 9px; padding-left: 10px; padding-right: 10px; width: 90%; word-wrap: break-word; white-space: normal;\">https://encrypted-tbn0.gstatic.com/images?q=tbn:ANd9GcTabVrRTsUAkmttI0gUf8BIrgT6m1fIMnHShz1ECzqAR2ZuSH70-gqZW0mjyrk&s</h4><img src=\"https://encrypted-tbn0.gstatic.com/images?q=tbn:ANd9GcTabVrRTsUAkmttI0gUf8BIrgT6m1fIMnHShz1ECzqAR2ZuSH70-gqZW0mjyrk&s\" style=\"margin: 1px; width: 150px; border: 2px solid #ddd;\"/></div><div style=\"display: inline-block; width: 170px; vertical-align: top; text-align: center;\"><h4 style=\"font-size: 12px\">天安门广场 7</h4><h4 style=\"font-size: 9px; padding-left: 10px; padding-right: 10px; width: 90%; word-wrap: break-word; white-space: normal;\">https://encrypted-tbn0.gstatic.com/images?q=tbn:ANd9GcSR6BoONDm9Q2sT4F2QrrxM4b8YVYa04LGwvP-Lwnik_4lneLZO0jelS9qxSwQ&s</h4><img src=\"https://encrypted-tbn0.gstatic.com/images?q=tbn:ANd9GcSR6BoONDm9Q2sT4F2QrrxM4b8YVYa04LGwvP-Lwnik_4lneLZO0jelS9qxSwQ&s\" style=\"margin: 1px; width: 150px; border: 2px solid #ddd;\"/></div><div style=\"display: inline-block; width: 170px; vertical-align: top; text-align: center;\"><h4 style=\"font-size: 12px\">天安门广场 8</h4><h4 style=\"font-size: 9px; padding-left: 10px; padding-right: 10px; width: 90%; word-wrap: break-word; white-space: normal;\">https://encrypted-tbn0.gstatic.com/images?q=tbn:ANd9GcSITALfn56HN1ZG9aDtkqeRtfWORuH2QtXsSwmnKA_lhKZcGauNUF5RlSy4Ug&s</h4><img src=\"https://encrypted-tbn0.gstatic.com/images?q=tbn:ANd9GcSITALfn56HN1ZG9aDtkqeRtfWORuH2QtXsSwmnKA_lhKZcGauNUF5RlSy4Ug&s\" style=\"margin: 1px; width: 150px; border: 2px solid #ddd;\"/></div><div style=\"display: inline-block; width: 170px; vertical-align: top; text-align: center;\"><h4 style=\"font-size: 12px\">天安门广场 9</h4><h4 style=\"font-size: 9px; padding-left: 10px; padding-right: 10px; width: 90%; word-wrap: break-word; white-space: normal;\">https://encrypted-tbn0.gstatic.com/images?q=tbn:ANd9GcTMhlsKkj3KGufriIVPr-mkBxRSoVeOa-FSxZmjc8sussCupxYKQQWknMCnO18&s</h4><img src=\"https://encrypted-tbn0.gstatic.com/images?q=tbn:ANd9GcTMhlsKkj3KGufriIVPr-mkBxRSoVeOa-FSxZmjc8sussCupxYKQQWknMCnO18&s\" style=\"margin: 1px; width: 150px; border: 2px solid #ddd;\"/></div><div style=\"display: inline-block; width: 170px; vertical-align: top; text-align: center;\"><h4 style=\"font-size: 12px\">天安门广场 10</h4><h4 style=\"font-size: 9px; padding-left: 10px; padding-right: 10px; width: 90%; word-wrap: break-word; white-space: normal;\">https://encrypted-tbn0.gstatic.com/images?q=tbn:ANd9GcRu-5C2-zdq0q1q19pgqF1VOP5KHUEhlcMiPszO1nEiKc7opwKtPw1TrwZp-EM&s</h4><img src=\"https://encrypted-tbn0.gstatic.com/images?q=tbn:ANd9GcRu-5C2-zdq0q1q19pgqF1VOP5KHUEhlcMiPszO1nEiKc7opwKtPw1TrwZp-EM&s\" style=\"margin: 1px; width: 150px; border: 2px solid #ddd;\"/></div><div style=\"display: inline-block; width: 170px; vertical-align: top; text-align: center;\"><h4 style=\"font-size: 12px\">天安门广场 11</h4><h4 style=\"font-size: 9px; padding-left: 10px; padding-right: 10px; width: 90%; word-wrap: break-word; white-space: normal;\">https://encrypted-tbn0.gstatic.com/images?q=tbn:ANd9GcSUNGtxxMNeAEvtq57NfQTIeqDPTJN6T_pgKHGBYDMEteaNN4wcqr5pFG5u0VA&s</h4><img src=\"https://encrypted-tbn0.gstatic.com/images?q=tbn:ANd9GcSUNGtxxMNeAEvtq57NfQTIeqDPTJN6T_pgKHGBYDMEteaNN4wcqr5pFG5u0VA&s\" style=\"margin: 1px; width: 150px; border: 2px solid #ddd;\"/></div><div style=\"display: inline-block; width: 170px; vertical-align: top; text-align: center;\"><h4 style=\"font-size: 12px\">天安门广场 12</h4><h4 style=\"font-size: 9px; padding-left: 10px; padding-right: 10px; width: 90%; word-wrap: break-word; white-space: normal;\">https://encrypted-tbn0.gstatic.com/images?q=tbn:ANd9GcRYQAaZHUoI748pVfSq0rmoFXYS_Gm-K29St96dyN-TJNjmQeVpwVCqCa6PfJY&s</h4><img src=\"https://encrypted-tbn0.gstatic.com/images?q=tbn:ANd9GcRYQAaZHUoI748pVfSq0rmoFXYS_Gm-K29St96dyN-TJNjmQeVpwVCqCa6PfJY&s\" style=\"margin: 1px; width: 150px; border: 2px solid #ddd;\"/></div><div style=\"display: inline-block; width: 170px; vertical-align: top; text-align: center;\"><h4 style=\"font-size: 12px\">天安门广场 13</h4><h4 style=\"font-size: 9px; padding-left: 10px; padding-right: 10px; width: 90%; word-wrap: break-word; white-space: normal;\">https://encrypted-tbn0.gstatic.com/images?q=tbn:ANd9GcTjMh8Fdpm7jU5cWpzMCSKWPmhnuRjkOywzwMCxJlaxYTuA8BlExmnfwnL4BQ&s</h4><img src=\"https://encrypted-tbn0.gstatic.com/images?q=tbn:ANd9GcTjMh8Fdpm7jU5cWpzMCSKWPmhnuRjkOywzwMCxJlaxYTuA8BlExmnfwnL4BQ&s\" style=\"margin: 1px; width: 150px; border: 2px solid #ddd;\"/></div><div style=\"display: inline-block; width: 170px; vertical-align: top; text-align: center;\"><h4 style=\"font-size: 12px\">天安门广场 14</h4><h4 style=\"font-size: 9px; padding-left: 10px; padding-right: 10px; width: 90%; word-wrap: break-word; white-space: normal;\">https://encrypted-tbn0.gstatic.com/images?q=tbn:ANd9GcTdXy4kMxjIeF9LXW-YWnKTmTQf3T9Tt98VRuGTP5fnZPwWiynFBdBJvzxTDA&s</h4><img src=\"https://encrypted-tbn0.gstatic.com/images?q=tbn:ANd9GcTdXy4kMxjIeF9LXW-YWnKTmTQf3T9Tt98VRuGTP5fnZPwWiynFBdBJvzxTDA&s\" style=\"margin: 1px; width: 150px; border: 2px solid #ddd;\"/></div><div style=\"display: inline-block; width: 170px; vertical-align: top; text-align: center;\"><h4 style=\"font-size: 12px\">天安门广场 15</h4><h4 style=\"font-size: 9px; padding-left: 10px; padding-right: 10px; width: 90%; word-wrap: break-word; white-space: normal;\">https://encrypted-tbn0.gstatic.com/images?q=tbn:ANd9GcQhXpCA1B0AEPd2P52DIeMFNZA1WOv3gc0bJDKTGU2fSg3hafM5XB2yeabnVw&s</h4><img src=\"https://encrypted-tbn0.gstatic.com/images?q=tbn:ANd9GcQhXpCA1B0AEPd2P52DIeMFNZA1WOv3gc0bJDKTGU2fSg3hafM5XB2yeabnVw&s\" style=\"margin: 1px; width: 150px; border: 2px solid #ddd;\"/></div><div style=\"display: inline-block; width: 170px; vertical-align: top; text-align: center;\"><h4 style=\"font-size: 12px\">天安门广场 16</h4><h4 style=\"font-size: 9px; padding-left: 10px; padding-right: 10px; width: 90%; word-wrap: break-word; white-space: normal;\">https://encrypted-tbn0.gstatic.com/images?q=tbn:ANd9GcTqQQ1v6J6uWcHax3PvGzOyP6ti1eB3jbLBKpe2orhwFgUHOAWkcwuQPVe1bQ&s</h4><img src=\"https://encrypted-tbn0.gstatic.com/images?q=tbn:ANd9GcTqQQ1v6J6uWcHax3PvGzOyP6ti1eB3jbLBKpe2orhwFgUHOAWkcwuQPVe1bQ&s\" style=\"margin: 1px; width: 150px; border: 2px solid #ddd;\"/></div><div style=\"display: inline-block; width: 170px; vertical-align: top; text-align: center;\"><h4 style=\"font-size: 12px\">天安门广场 17</h4><h4 style=\"font-size: 9px; padding-left: 10px; padding-right: 10px; width: 90%; word-wrap: break-word; white-space: normal;\">https://encrypted-tbn0.gstatic.com/images?q=tbn:ANd9GcS7xdYDiir_T67jkYypaQ_CHRzmoMNN1j8bOiz7siRWKzrSHhHd8mpoOUA7z74&s</h4><img src=\"https://encrypted-tbn0.gstatic.com/images?q=tbn:ANd9GcS7xdYDiir_T67jkYypaQ_CHRzmoMNN1j8bOiz7siRWKzrSHhHd8mpoOUA7z74&s\" style=\"margin: 1px; width: 150px; border: 2px solid #ddd;\"/></div><div style=\"display: inline-block; width: 170px; vertical-align: top; text-align: center;\"><h4 style=\"font-size: 12px\">天安门广场 18</h4><h4 style=\"font-size: 9px; padding-left: 10px; padding-right: 10px; width: 90%; word-wrap: break-word; white-space: normal;\">https://encrypted-tbn0.gstatic.com/images?q=tbn:ANd9GcS7liQWffis1Sml373CBT4hVP_BO7VxXkGAINgABg9CBeWooEGI-w4GSUVRBtc&s</h4><img src=\"https://encrypted-tbn0.gstatic.com/images?q=tbn:ANd9GcS7liQWffis1Sml373CBT4hVP_BO7VxXkGAINgABg9CBeWooEGI-w4GSUVRBtc&s\" style=\"margin: 1px; width: 150px; border: 2px solid #ddd;\"/></div><div style=\"display: inline-block; width: 170px; vertical-align: top; text-align: center;\"><h4 style=\"font-size: 12px\">天安门广场 19</h4><h4 style=\"font-size: 9px; padding-left: 10px; padding-right: 10px; width: 90%; word-wrap: break-word; white-space: normal;\">https://encrypted-tbn0.gstatic.com/images?q=tbn:ANd9GcTryDc6lQuNanrO2uc6OwGnU1n-VGwHRS-0nOuoXlZrTHA4b3ftMFigVyCSFjc&s</h4><img src=\"https://encrypted-tbn0.gstatic.com/images?q=tbn:ANd9GcTryDc6lQuNanrO2uc6OwGnU1n-VGwHRS-0nOuoXlZrTHA4b3ftMFigVyCSFjc&s\" style=\"margin: 1px; width: 150px; border: 2px solid #ddd;\"/></div>"
      ],
      "text/plain": [
       "<IPython.core.display.HTML object>"
      ]
     },
     "metadata": {},
     "output_type": "display_data"
    }
   ],
   "source": [
    "ipyplot.plot_images(urls, [f'{search_term_chinese} {i}' for i in range(len(urls))], img_width=150)"
   ]
  }
 ],
 "metadata": {
  "kernelspec": {
   "display_name": "Python 3",
   "language": "python",
   "name": "python3"
  },
  "language_info": {
   "codemirror_mode": {
    "name": "ipython",
    "version": 3
   },
   "file_extension": ".py",
   "mimetype": "text/x-python",
   "name": "python",
   "nbconvert_exporter": "python",
   "pygments_lexer": "ipython3",
   "version": "3.8.3"
  }
 },
 "nbformat": 4,
 "nbformat_minor": 4
}
