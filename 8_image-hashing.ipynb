{
 "cells": [
  {
   "cell_type": "markdown",
   "metadata": {},
   "source": [
    "We need to be able to tell if we've already saved an image, and only save images we haven't seen before."
   ]
  },
  {
   "cell_type": "code",
   "execution_count": 1,
   "metadata": {},
   "outputs": [],
   "source": [
    "import hashlib\n",
    "import requests\n",
    "def request_and_write_image(url):\n",
    "    try:\n",
    "        r = requests.get(url, stream=True)\n",
    "    except Exception as e:\n",
    "        print(url, e)\n",
    "        return\n",
    "#     print(r.status_code, \"getting image\", url)\n",
    "    if not r.ok:\n",
    "        return\n",
    "    # write locally\n",
    "    # won't work because Google won't give you the real URL\n",
    "#     fname = url.split('/')[-1]\n",
    "    fname = hashlib.md5(url.encode(\"utf-8\")).hexdigest()\n",
    "    with open('thumbnails/'+fname, 'wb') as f:\n",
    "        for block in r.iter_content(1024):\n",
    "            if not block:\n",
    "                break\n",
    "            f.write(block)\n",
    "#     return _write_public('temp', spaces_fname)\n",
    "    return fname"
   ]
  },
  {
   "cell_type": "code",
   "execution_count": 2,
   "metadata": {},
   "outputs": [],
   "source": [
    "import imagehash\n",
    "from PIL import Image"
   ]
  },
  {
   "cell_type": "code",
   "execution_count": 3,
   "metadata": {},
   "outputs": [],
   "source": [
    "import os\n",
    "try:\n",
    "    os.mkdir('thumbnails')\n",
    "except:\n",
    "    pass"
   ]
  },
  {
   "cell_type": "markdown",
   "metadata": {},
   "source": [
    "## testing different hashing algorithms"
   ]
  },
  {
   "cell_type": "markdown",
   "metadata": {},
   "source": [
    "Method: \n",
    "- do a search for something that has several of the same picture in the results that are likely to have different byte values\n",
    "- visualize them with ipyplot\n",
    "- group the pictures by hash"
   ]
  },
  {
   "cell_type": "code",
   "execution_count": 4,
   "metadata": {},
   "outputs": [],
   "source": [
    "from bs4 import BeautifulSoup\n",
    "import ipyplot\n",
    "def get_urlset(search_term):\n",
    "    google_template = 'https://www.google.com/search?q={}&tbm=isch'\n",
    "    r = requests.get(google_template.format(search_term))\n",
    "    soup = BeautifulSoup(r.text)\n",
    "    return [tag.get('src') for tag in soup.find_all('img') if tag.get('src')[:4] == 'http']"
   ]
  },
  {
   "cell_type": "code",
   "execution_count": 5,
   "metadata": {},
   "outputs": [],
   "source": [
    "def hash_image(fname):\n",
    "    return imagehash.phash(Image.open(fname))"
   ]
  },
  {
   "cell_type": "code",
   "execution_count": 6,
   "metadata": {},
   "outputs": [],
   "source": [
    "urls = get_urlset('Milk Drop Coronet')"
   ]
  },
  {
   "cell_type": "markdown",
   "metadata": {},
   "source": [
    "Save them all into the thumbnails folder with a temporary name."
   ]
  },
  {
   "cell_type": "code",
   "execution_count": 7,
   "metadata": {},
   "outputs": [],
   "source": [
    "fnames = [f'thumbnails/{request_and_write_image(url)}' for url in urls]"
   ]
  },
  {
   "cell_type": "markdown",
   "metadata": {},
   "source": [
    "Let's sort the images by hash so we see which ones are similar."
   ]
  },
  {
   "cell_type": "code",
   "execution_count": 8,
   "metadata": {},
   "outputs": [],
   "source": [
    "sorted_by_hash = sorted([(fname,str(hash_image(fname))) for fname in fnames], key=lambda x: str(x[1]))"
   ]
  },
  {
   "cell_type": "code",
   "execution_count": 9,
   "metadata": {},
   "outputs": [
    {
     "data": {
      "text/plain": [
       "[('thumbnails/d26dd9e1ec298f2ede4f6cc0c2d95c48', '8f7ac53a659863a4'),\n",
       " ('thumbnails/82069861ee5d37648f4bde7ee7ea2f9c', '916d3a33659a26f1')]"
      ]
     },
     "execution_count": 9,
     "metadata": {},
     "output_type": "execute_result"
    }
   ],
   "source": [
    "sorted_by_hash[1:3]"
   ]
  },
  {
   "cell_type": "markdown",
   "metadata": {},
   "source": [
    "Of course, search engines employ image hashing as well, and Google probably filters out results of the exact same image.\n",
    "\n",
    "One issue we have is that we don't know the type of image we've got saved. We want to know so we can give it the proper extension and it can be opened by anything receiving the filename in an API query."
   ]
  },
  {
   "cell_type": "code",
   "execution_count": 10,
   "metadata": {},
   "outputs": [],
   "source": [
    "import imghdr"
   ]
  },
  {
   "cell_type": "code",
   "execution_count": 11,
   "metadata": {},
   "outputs": [],
   "source": [
    "import os\n",
    "for fname in os.listdir('thumbnails'):\n",
    "    ext = imghdr.what('thumbnails/'+fname)\n",
    "#     print(fname, ext)\n",
    "    if ext == 'jpeg':\n",
    "        ext = 'jpg'\n",
    "    try:\n",
    "        os.rename('thumbnails/'+fname, f'thumbnails/{fname}.{ext}')\n",
    "    except FileExistsError:\n",
    "        pass"
   ]
  },
  {
   "cell_type": "markdown",
   "metadata": {},
   "source": [
    "We're also going to want to resize them to cap out the size of the photos we're storing."
   ]
  },
  {
   "cell_type": "code",
   "execution_count": 12,
   "metadata": {},
   "outputs": [],
   "source": [
    "for fname in os.listdir('thumbnails'):\n",
    "    im = Image.open('thumbnails/'+fname)  \n",
    "\n",
    "    width, height = im.size\n",
    "    \n",
    "    # ensure total size of any image <= 1 megapixels\n",
    "    changed = False\n",
    "    while width*height > 1_000_000:\n",
    "        width //= 2\n",
    "        height //= 2\n",
    "        changed = True\n",
    "        \n",
    "    if changed:\n",
    "        im = im.resize(newsize)\n",
    "        im.save('thumbnails/'+fname)\n",
    "        print('resized', fname)"
   ]
  },
  {
   "cell_type": "code",
   "execution_count": 14,
   "metadata": {},
   "outputs": [
    {
     "data": {
      "text/html": [
       "<div style=\"display: inline-block; width: 220px; vertical-align: top; text-align: center;\"><h4 style=\"font-size: 12px\">0</h4><h4 style=\"font-size: 9px; padding-left: 10px; padding-right: 10px; width: 90%; word-wrap: break-word; white-space: normal;\">thumbnails/084bf7ca7ddb5ab5f5ddd042d260293a.jpg</h4><img src=\"thumbnails/084bf7ca7ddb5ab5f5ddd042d260293a.jpg\" style=\"margin: 1px; width: 200px; border: 2px solid #ddd;\"/></div><div style=\"display: inline-block; width: 220px; vertical-align: top; text-align: center;\"><h4 style=\"font-size: 12px\">1</h4><h4 style=\"font-size: 9px; padding-left: 10px; padding-right: 10px; width: 90%; word-wrap: break-word; white-space: normal;\">thumbnails/0dde0e78a81038ab8482adc1cb94a590.jpg</h4><img src=\"thumbnails/0dde0e78a81038ab8482adc1cb94a590.jpg\" style=\"margin: 1px; width: 200px; border: 2px solid #ddd;\"/></div><div style=\"display: inline-block; width: 220px; vertical-align: top; text-align: center;\"><h4 style=\"font-size: 12px\">2</h4><h4 style=\"font-size: 9px; padding-left: 10px; padding-right: 10px; width: 90%; word-wrap: break-word; white-space: normal;\">thumbnails/10767480dd027c58104ee41a811ab3b3.jpg</h4><img src=\"thumbnails/10767480dd027c58104ee41a811ab3b3.jpg\" style=\"margin: 1px; width: 200px; border: 2px solid #ddd;\"/></div><div style=\"display: inline-block; width: 220px; vertical-align: top; text-align: center;\"><h4 style=\"font-size: 12px\">3</h4><h4 style=\"font-size: 9px; padding-left: 10px; padding-right: 10px; width: 90%; word-wrap: break-word; white-space: normal;\">thumbnails/25eba361f8711c0da1af124df1710293.jpg</h4><img src=\"thumbnails/25eba361f8711c0da1af124df1710293.jpg\" style=\"margin: 1px; width: 200px; border: 2px solid #ddd;\"/></div><div style=\"display: inline-block; width: 220px; vertical-align: top; text-align: center;\"><h4 style=\"font-size: 12px\">4</h4><h4 style=\"font-size: 9px; padding-left: 10px; padding-right: 10px; width: 90%; word-wrap: break-word; white-space: normal;\">thumbnails/3d56445fc4ab12e0bb3d6091fc0cf705.jpg</h4><img src=\"thumbnails/3d56445fc4ab12e0bb3d6091fc0cf705.jpg\" style=\"margin: 1px; width: 200px; border: 2px solid #ddd;\"/></div><div style=\"display: inline-block; width: 220px; vertical-align: top; text-align: center;\"><h4 style=\"font-size: 12px\">5</h4><h4 style=\"font-size: 9px; padding-left: 10px; padding-right: 10px; width: 90%; word-wrap: break-word; white-space: normal;\">thumbnails/44b0504cc720b250adc7913fdaebca21.jpg</h4><img src=\"thumbnails/44b0504cc720b250adc7913fdaebca21.jpg\" style=\"margin: 1px; width: 200px; border: 2px solid #ddd;\"/></div><div style=\"display: inline-block; width: 220px; vertical-align: top; text-align: center;\"><h4 style=\"font-size: 12px\">6</h4><h4 style=\"font-size: 9px; padding-left: 10px; padding-right: 10px; width: 90%; word-wrap: break-word; white-space: normal;\">thumbnails/463ba98349ad8a49c830b0a53357ee7d.jpg</h4><img src=\"thumbnails/463ba98349ad8a49c830b0a53357ee7d.jpg\" style=\"margin: 1px; width: 200px; border: 2px solid #ddd;\"/></div><div style=\"display: inline-block; width: 220px; vertical-align: top; text-align: center;\"><h4 style=\"font-size: 12px\">7</h4><h4 style=\"font-size: 9px; padding-left: 10px; padding-right: 10px; width: 90%; word-wrap: break-word; white-space: normal;\">thumbnails/4ba56ee018b79d529c3a18d1f3c74855.jpg</h4><img src=\"thumbnails/4ba56ee018b79d529c3a18d1f3c74855.jpg\" style=\"margin: 1px; width: 200px; border: 2px solid #ddd;\"/></div><div style=\"display: inline-block; width: 220px; vertical-align: top; text-align: center;\"><h4 style=\"font-size: 12px\">8</h4><h4 style=\"font-size: 9px; padding-left: 10px; padding-right: 10px; width: 90%; word-wrap: break-word; white-space: normal;\">thumbnails/4f991b8d3dbae9908b9284a4916d1440.jpg</h4><img src=\"thumbnails/4f991b8d3dbae9908b9284a4916d1440.jpg\" style=\"margin: 1px; width: 200px; border: 2px solid #ddd;\"/></div><div style=\"display: inline-block; width: 220px; vertical-align: top; text-align: center;\"><h4 style=\"font-size: 12px\">9</h4><h4 style=\"font-size: 9px; padding-left: 10px; padding-right: 10px; width: 90%; word-wrap: break-word; white-space: normal;\">thumbnails/5ee9b16005874576384ac25fa530bbae.jpg</h4><img src=\"thumbnails/5ee9b16005874576384ac25fa530bbae.jpg\" style=\"margin: 1px; width: 200px; border: 2px solid #ddd;\"/></div><div style=\"display: inline-block; width: 220px; vertical-align: top; text-align: center;\"><h4 style=\"font-size: 12px\">10</h4><h4 style=\"font-size: 9px; padding-left: 10px; padding-right: 10px; width: 90%; word-wrap: break-word; white-space: normal;\">thumbnails/72026aeac13bf1090d6f18a2cad7fb9c.jpg</h4><img src=\"thumbnails/72026aeac13bf1090d6f18a2cad7fb9c.jpg\" style=\"margin: 1px; width: 200px; border: 2px solid #ddd;\"/></div><div style=\"display: inline-block; width: 220px; vertical-align: top; text-align: center;\"><h4 style=\"font-size: 12px\">11</h4><h4 style=\"font-size: 9px; padding-left: 10px; padding-right: 10px; width: 90%; word-wrap: break-word; white-space: normal;\">thumbnails/7e9b36acd3ac241bd589a0dc59e8e9c9.jpg</h4><img src=\"thumbnails/7e9b36acd3ac241bd589a0dc59e8e9c9.jpg\" style=\"margin: 1px; width: 200px; border: 2px solid #ddd;\"/></div><div style=\"display: inline-block; width: 220px; vertical-align: top; text-align: center;\"><h4 style=\"font-size: 12px\">12</h4><h4 style=\"font-size: 9px; padding-left: 10px; padding-right: 10px; width: 90%; word-wrap: break-word; white-space: normal;\">thumbnails/82069861ee5d37648f4bde7ee7ea2f9c.jpg</h4><img src=\"thumbnails/82069861ee5d37648f4bde7ee7ea2f9c.jpg\" style=\"margin: 1px; width: 200px; border: 2px solid #ddd;\"/></div><div style=\"display: inline-block; width: 220px; vertical-align: top; text-align: center;\"><h4 style=\"font-size: 12px\">13</h4><h4 style=\"font-size: 9px; padding-left: 10px; padding-right: 10px; width: 90%; word-wrap: break-word; white-space: normal;\">thumbnails/9f7e00d93b9b0db0f5f7cab697275d12.jpg</h4><img src=\"thumbnails/9f7e00d93b9b0db0f5f7cab697275d12.jpg\" style=\"margin: 1px; width: 200px; border: 2px solid #ddd;\"/></div><div style=\"display: inline-block; width: 220px; vertical-align: top; text-align: center;\"><h4 style=\"font-size: 12px\">14</h4><h4 style=\"font-size: 9px; padding-left: 10px; padding-right: 10px; width: 90%; word-wrap: break-word; white-space: normal;\">thumbnails/b1cfc78d9ca2e43c00f964aea72af6b3.jpg</h4><img src=\"thumbnails/b1cfc78d9ca2e43c00f964aea72af6b3.jpg\" style=\"margin: 1px; width: 200px; border: 2px solid #ddd;\"/></div><div style=\"display: inline-block; width: 220px; vertical-align: top; text-align: center;\"><h4 style=\"font-size: 12px\">15</h4><h4 style=\"font-size: 9px; padding-left: 10px; padding-right: 10px; width: 90%; word-wrap: break-word; white-space: normal;\">thumbnails/ce06574c3edbb6d041f2e5a24e2e33ba.jpg</h4><img src=\"thumbnails/ce06574c3edbb6d041f2e5a24e2e33ba.jpg\" style=\"margin: 1px; width: 200px; border: 2px solid #ddd;\"/></div><div style=\"display: inline-block; width: 220px; vertical-align: top; text-align: center;\"><h4 style=\"font-size: 12px\">16</h4><h4 style=\"font-size: 9px; padding-left: 10px; padding-right: 10px; width: 90%; word-wrap: break-word; white-space: normal;\">thumbnails/d26dd9e1ec298f2ede4f6cc0c2d95c48.jpg</h4><img src=\"thumbnails/d26dd9e1ec298f2ede4f6cc0c2d95c48.jpg\" style=\"margin: 1px; width: 200px; border: 2px solid #ddd;\"/></div><div style=\"display: inline-block; width: 220px; vertical-align: top; text-align: center;\"><h4 style=\"font-size: 12px\">17</h4><h4 style=\"font-size: 9px; padding-left: 10px; padding-right: 10px; width: 90%; word-wrap: break-word; white-space: normal;\">thumbnails/dc78b47fe9398ee57f14248f2749a1bd.jpg</h4><img src=\"thumbnails/dc78b47fe9398ee57f14248f2749a1bd.jpg\" style=\"margin: 1px; width: 200px; border: 2px solid #ddd;\"/></div><div style=\"display: inline-block; width: 220px; vertical-align: top; text-align: center;\"><h4 style=\"font-size: 12px\">18</h4><h4 style=\"font-size: 9px; padding-left: 10px; padding-right: 10px; width: 90%; word-wrap: break-word; white-space: normal;\">thumbnails/df907769d00e9ebb404b97665bbfaaca.jpg</h4><img src=\"thumbnails/df907769d00e9ebb404b97665bbfaaca.jpg\" style=\"margin: 1px; width: 200px; border: 2px solid #ddd;\"/></div><div style=\"display: inline-block; width: 220px; vertical-align: top; text-align: center;\"><h4 style=\"font-size: 12px\">19</h4><h4 style=\"font-size: 9px; padding-left: 10px; padding-right: 10px; width: 90%; word-wrap: break-word; white-space: normal;\">thumbnails/edf6888fa092cd1fd24fcf7530273e1c.jpg</h4><img src=\"thumbnails/edf6888fa092cd1fd24fcf7530273e1c.jpg\" style=\"margin: 1px; width: 200px; border: 2px solid #ddd;\"/></div>"
      ],
      "text/plain": [
       "<IPython.core.display.HTML object>"
      ]
     },
     "metadata": {},
     "output_type": "display_data"
    }
   ],
   "source": [
    "fnames = ['thumbnails/'+fname for fname in os.listdir('thumbnails')]\n",
    "ipyplot.plot_images(fnames, img_width=200)"
   ]
  }
 ],
 "metadata": {
  "kernelspec": {
   "display_name": "Python 3",
   "language": "python",
   "name": "python3"
  },
  "language_info": {
   "codemirror_mode": {
    "name": "ipython",
    "version": 3
   },
   "file_extension": ".py",
   "mimetype": "text/x-python",
   "name": "python",
   "nbconvert_exporter": "python",
   "pygments_lexer": "ipython3",
   "version": "3.8.3"
  }
 },
 "nbformat": 4,
 "nbformat_minor": 4
}
