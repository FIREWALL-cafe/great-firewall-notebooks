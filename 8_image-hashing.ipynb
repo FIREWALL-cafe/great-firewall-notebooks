{
 "cells": [
  {
   "cell_type": "markdown",
   "metadata": {},
   "source": [
    "We need to be able to tell if we've already saved an image, and only save images we haven't seen before."
   ]
  },
  {
   "cell_type": "code",
   "execution_count": 1,
   "metadata": {},
   "outputs": [],
   "source": [
    "import hashlib\n",
    "import requests\n",
    "def request_and_write_image(url):\n",
    "    try:\n",
    "        r = requests.get(url, stream=True)\n",
    "    except Exception as e:\n",
    "        print(url, e)\n",
    "        return\n",
    "#     print(r.status_code, \"getting image\", url)\n",
    "    if not r.ok:\n",
    "        return\n",
    "    # write locally\n",
    "    # won't work because Google won't give you the real URL\n",
    "#     fname = url.split('/')[-1]\n",
    "    fname = hashlib.md5(url.encode(\"utf-8\")).hexdigest()\n",
    "    with open('temp/'+fname, 'wb') as f:\n",
    "        for block in r.iter_content(1024):\n",
    "            if not block:\n",
    "                break\n",
    "            f.write(block)\n",
    "#     return _write_public('temp', spaces_fname)\n",
    "    return fname"
   ]
  },
  {
   "cell_type": "code",
   "execution_count": 2,
   "metadata": {},
   "outputs": [],
   "source": [
    "import imagehash\n",
    "from PIL import Image"
   ]
  },
  {
   "cell_type": "markdown",
   "metadata": {},
   "source": [
    "## testing different hashing algorithms"
   ]
  },
  {
   "cell_type": "markdown",
   "metadata": {},
   "source": [
    "Method: \n",
    "- do a search for something that has several of the same picture in the results that are likely to have different byte values\n",
    "- visualize them with ipyplot\n",
    "- group the pictures by hash"
   ]
  },
  {
   "cell_type": "code",
   "execution_count": 3,
   "metadata": {},
   "outputs": [],
   "source": [
    "from bs4 import BeautifulSoup\n",
    "import ipyplot\n",
    "def get_urlset(search_term):\n",
    "    google_template = 'https://www.google.com/search?q={}&tbm=isch'\n",
    "    r = requests.get(google_template.format(search_term))\n",
    "    soup = BeautifulSoup(r.text)\n",
    "    return [tag.get('src') for tag in soup.find_all('img') if tag.get('src')[:4] == 'http']"
   ]
  },
  {
   "cell_type": "code",
   "execution_count": 32,
   "metadata": {},
   "outputs": [],
   "source": [
    "def hash_image(fname):\n",
    "    return imagehash.phash(Image.open(fname))"
   ]
  },
  {
   "cell_type": "code",
   "execution_count": 33,
   "metadata": {},
   "outputs": [],
   "source": [
    "urls = get_urlset('Milk Drop Coronet')\n",
    "fnames = [f'temp/{request_and_write_image(url)}' for url in urls]"
   ]
  },
  {
   "cell_type": "markdown",
   "metadata": {},
   "source": [
    "Let's sort the images by hash so we see which ones are similar."
   ]
  },
  {
   "cell_type": "code",
   "execution_count": 34,
   "metadata": {},
   "outputs": [],
   "source": [
    "sorted_by_hash = sorted([(fname,str(hash_image(fname))) for fname in fnames], key=lambda x: str(x[1]))"
   ]
  },
  {
   "cell_type": "code",
   "execution_count": 35,
   "metadata": {},
   "outputs": [
    {
     "data": {
      "text/plain": [
       "('temp/d26dd9e1ec298f2ede4f6cc0c2d95c48', '8f7ac53a659863a4')"
      ]
     },
     "execution_count": 35,
     "metadata": {},
     "output_type": "execute_result"
    }
   ],
   "source": [
    "sorted_by_hash[1]"
   ]
  },
  {
   "cell_type": "code",
   "execution_count": 36,
   "metadata": {},
   "outputs": [
    {
     "data": {
      "text/html": [
       "<div style=\"display: inline-block; width: 170px; vertical-align: top; text-align: center;\"><h4 style=\"font-size: 12px\">807fc8b15fa11fc4</h4><h4 style=\"font-size: 9px; padding-left: 10px; padding-right: 10px; width: 90%; word-wrap: break-word; white-space: normal;\">temp/b1cfc78d9ca2e43c00f964aea72af6b3</h4><img src=\"temp/b1cfc78d9ca2e43c00f964aea72af6b3\" style=\"margin: 1px; width: 150px; border: 2px solid #ddd;\"/></div><div style=\"display: inline-block; width: 170px; vertical-align: top; text-align: center;\"><h4 style=\"font-size: 12px\">8f7ac53a659863a4</h4><h4 style=\"font-size: 9px; padding-left: 10px; padding-right: 10px; width: 90%; word-wrap: break-word; white-space: normal;\">temp/751e11583382e9b677c4c38e86b571fd</h4><img src=\"temp/751e11583382e9b677c4c38e86b571fd\" style=\"margin: 1px; width: 150px; border: 2px solid #ddd;\"/></div><div style=\"display: inline-block; width: 170px; vertical-align: top; text-align: center;\"><h4 style=\"font-size: 12px\">99669994d0a7dd98</h4><h4 style=\"font-size: 9px; padding-left: 10px; padding-right: 10px; width: 90%; word-wrap: break-word; white-space: normal;\">temp/dc78b47fe9398ee57f14248f2749a1bd</h4><img src=\"temp/dc78b47fe9398ee57f14248f2749a1bd\" style=\"margin: 1px; width: 150px; border: 2px solid #ddd;\"/></div><div style=\"display: inline-block; width: 170px; vertical-align: top; text-align: center;\"><h4 style=\"font-size: 12px\">9bcc2d316492cece</h4><h4 style=\"font-size: 9px; padding-left: 10px; padding-right: 10px; width: 90%; word-wrap: break-word; white-space: normal;\">temp/4f991b8d3dbae9908b9284a4916d1440</h4><img src=\"temp/4f991b8d3dbae9908b9284a4916d1440\" style=\"margin: 1px; width: 150px; border: 2px solid #ddd;\"/></div><div style=\"display: inline-block; width: 170px; vertical-align: top; text-align: center;\"><h4 style=\"font-size: 12px\">9f607887689bc678</h4><h4 style=\"font-size: 9px; padding-left: 10px; padding-right: 10px; width: 90%; word-wrap: break-word; white-space: normal;\">temp/df907769d00e9ebb404b97665bbfaaca</h4><img src=\"temp/df907769d00e9ebb404b97665bbfaaca\" style=\"margin: 1px; width: 150px; border: 2px solid #ddd;\"/></div><div style=\"display: inline-block; width: 170px; vertical-align: top; text-align: center;\"><h4 style=\"font-size: 12px\">9f64681ae6c59a36</h4><h4 style=\"font-size: 9px; padding-left: 10px; padding-right: 10px; width: 90%; word-wrap: break-word; white-space: normal;\">temp/80948e94f401d88506b703b68669d206</h4><img src=\"temp/80948e94f401d88506b703b68669d206\" style=\"margin: 1px; width: 150px; border: 2px solid #ddd;\"/></div><div style=\"display: inline-block; width: 170px; vertical-align: top; text-align: center;\"><h4 style=\"font-size: 12px\">9f6c78872893c578</h4><h4 style=\"font-size: 9px; padding-left: 10px; padding-right: 10px; width: 90%; word-wrap: break-word; white-space: normal;\">temp/44b0504cc720b250adc7913fdaebca21</h4><img src=\"temp/44b0504cc720b250adc7913fdaebca21\" style=\"margin: 1px; width: 150px; border: 2px solid #ddd;\"/></div><div style=\"display: inline-block; width: 170px; vertical-align: top; text-align: center;\"><h4 style=\"font-size: 12px\">bf60d887a09bc639</h4><h4 style=\"font-size: 9px; padding-left: 10px; padding-right: 10px; width: 90%; word-wrap: break-word; white-space: normal;\">temp/1861bd1e2c80c9d64702d6760fbae0f1</h4><img src=\"temp/1861bd1e2c80c9d64702d6760fbae0f1\" style=\"margin: 1px; width: 150px; border: 2px solid #ddd;\"/></div><div style=\"display: inline-block; width: 170px; vertical-align: top; text-align: center;\"><h4 style=\"font-size: 12px\">bf6dd1d2c031c664</h4><h4 style=\"font-size: 9px; padding-left: 10px; padding-right: 10px; width: 90%; word-wrap: break-word; white-space: normal;\">temp/ce06574c3edbb6d041f2e5a24e2e33ba</h4><img src=\"temp/ce06574c3edbb6d041f2e5a24e2e33ba\" style=\"margin: 1px; width: 150px; border: 2px solid #ddd;\"/></div><div style=\"display: inline-block; width: 170px; vertical-align: top; text-align: center;\"><h4 style=\"font-size: 12px\">bf6ec196c499c468</h4><h4 style=\"font-size: 9px; padding-left: 10px; padding-right: 10px; width: 90%; word-wrap: break-word; white-space: normal;\">temp/7e9b36acd3ac241bd589a0dc59e8e9c9</h4><img src=\"temp/7e9b36acd3ac241bd589a0dc59e8e9c9\" style=\"margin: 1px; width: 150px; border: 2px solid #ddd;\"/></div><div style=\"display: inline-block; width: 170px; vertical-align: top; text-align: center;\"><h4 style=\"font-size: 12px\">c33cc33ae5833ce1</h4><h4 style=\"font-size: 9px; padding-left: 10px; padding-right: 10px; width: 90%; word-wrap: break-word; white-space: normal;\">temp/9f9aa70e1a5a9d836c7bc1f366f5c0ff</h4><img src=\"temp/9f9aa70e1a5a9d836c7bc1f366f5c0ff\" style=\"margin: 1px; width: 150px; border: 2px solid #ddd;\"/></div><div style=\"display: inline-block; width: 170px; vertical-align: top; text-align: center;\"><h4 style=\"font-size: 12px\">ca392ed23dc6916c</h4><h4 style=\"font-size: 9px; padding-left: 10px; padding-right: 10px; width: 90%; word-wrap: break-word; white-space: normal;\">temp/f98de22eec20eba780fa84f88cf465bf</h4><img src=\"temp/f98de22eec20eba780fa84f88cf465bf\" style=\"margin: 1px; width: 150px; border: 2px solid #ddd;\"/></div><div style=\"display: inline-block; width: 170px; vertical-align: top; text-align: center;\"><h4 style=\"font-size: 12px\">cc273338bf4cb942</h4><h4 style=\"font-size: 9px; padding-left: 10px; padding-right: 10px; width: 90%; word-wrap: break-word; white-space: normal;\">temp/5662963303aa572dd2b41ffa1ce01e6d</h4><img src=\"temp/5662963303aa572dd2b41ffa1ce01e6d\" style=\"margin: 1px; width: 150px; border: 2px solid #ddd;\"/></div><div style=\"display: inline-block; width: 170px; vertical-align: top; text-align: center;\"><h4 style=\"font-size: 12px\">d03635f8620d1f4f</h4><h4 style=\"font-size: 9px; padding-left: 10px; padding-right: 10px; width: 90%; word-wrap: break-word; white-space: normal;\">temp/25eba361f8711c0da1af124df1710293</h4><img src=\"temp/25eba361f8711c0da1af124df1710293\" style=\"margin: 1px; width: 150px; border: 2px solid #ddd;\"/></div><div style=\"display: inline-block; width: 170px; vertical-align: top; text-align: center;\"><h4 style=\"font-size: 12px\">d0649e92659b966d</h4><h4 style=\"font-size: 9px; padding-left: 10px; padding-right: 10px; width: 90%; word-wrap: break-word; white-space: normal;\">temp/d26dd9e1ec298f2ede4f6cc0c2d95c48</h4><img src=\"temp/d26dd9e1ec298f2ede4f6cc0c2d95c48\" style=\"margin: 1px; width: 150px; border: 2px solid #ddd;\"/></div><div style=\"display: inline-block; width: 170px; vertical-align: top; text-align: center;\"><h4 style=\"font-size: 12px\">da2de2502dd29d66</h4><h4 style=\"font-size: 9px; padding-left: 10px; padding-right: 10px; width: 90%; word-wrap: break-word; white-space: normal;\">temp/3d56445fc4ab12e0bb3d6091fc0cf705</h4><img src=\"temp/3d56445fc4ab12e0bb3d6091fc0cf705\" style=\"margin: 1px; width: 150px; border: 2px solid #ddd;\"/></div><div style=\"display: inline-block; width: 170px; vertical-align: top; text-align: center;\"><h4 style=\"font-size: 12px\">da2df0c23dc2992e</h4><h4 style=\"font-size: 9px; padding-left: 10px; padding-right: 10px; width: 90%; word-wrap: break-word; white-space: normal;\">temp/edf6888fa092cd1fd24fcf7530273e1c</h4><img src=\"temp/edf6888fa092cd1fd24fcf7530273e1c\" style=\"margin: 1px; width: 150px; border: 2px solid #ddd;\"/></div><div style=\"display: inline-block; width: 170px; vertical-align: top; text-align: center;\"><h4 style=\"font-size: 12px\">dac3642c9bdeb061</h4><h4 style=\"font-size: 9px; padding-left: 10px; padding-right: 10px; width: 90%; word-wrap: break-word; white-space: normal;\">temp/4ba56ee018b79d529c3a18d1f3c74855</h4><img src=\"temp/4ba56ee018b79d529c3a18d1f3c74855\" style=\"margin: 1px; width: 150px; border: 2px solid #ddd;\"/></div><div style=\"display: inline-block; width: 170px; vertical-align: top; text-align: center;\"><h4 style=\"font-size: 12px\">dc66c04b0f27372b</h4><h4 style=\"font-size: 9px; padding-left: 10px; padding-right: 10px; width: 90%; word-wrap: break-word; white-space: normal;\">temp/288fa8f48cf14678a67dc54f9e6d12a0</h4><img src=\"temp/288fa8f48cf14678a67dc54f9e6d12a0\" style=\"margin: 1px; width: 150px; border: 2px solid #ddd;\"/></div><div style=\"display: inline-block; width: 170px; vertical-align: top; text-align: center;\"><h4 style=\"font-size: 12px\">ee6cc3d39c649838</h4><h4 style=\"font-size: 9px; padding-left: 10px; padding-right: 10px; width: 90%; word-wrap: break-word; white-space: normal;\">temp/5ee9b16005874576384ac25fa530bbae</h4><img src=\"temp/5ee9b16005874576384ac25fa530bbae\" style=\"margin: 1px; width: 150px; border: 2px solid #ddd;\"/></div>"
      ],
      "text/plain": [
       "<IPython.core.display.HTML object>"
      ]
     },
     "metadata": {},
     "output_type": "display_data"
    }
   ],
   "source": [
    "ipyplot.plot_images(fnames, [img_hash for fname,img_hash in sorted_by_hash], img_width=150)"
   ]
  },
  {
   "cell_type": "markdown",
   "metadata": {},
   "source": [
    "Of course, search engines employ image hashing as well, and Google probably filters out results of the exact same image.\n",
    "\n",
    "One issue we have is that we don't know the type of image we've got saved. We want to know so we can give it the proper extension and it can be opened by anything receiving the filename in an API query."
   ]
  },
  {
   "cell_type": "code",
   "execution_count": 37,
   "metadata": {},
   "outputs": [],
   "source": [
    "import imghdr"
   ]
  },
  {
   "cell_type": "code",
   "execution_count": 40,
   "metadata": {},
   "outputs": [
    {
     "name": "stdout",
     "output_type": "stream",
     "text": [
      "007bc4d1ffb86ba15347818bec2d6d8b jpeg\n",
      "02ce873a9fd79585333a2b27b107aeae jpeg\n",
      "03d887a0b0d9ac95ab8b0af2fd51efe9 jpeg\n",
      "047e27959cf9b4e13f112d3e1ee07d90 jpeg\n",
      "057b36f97f6649772fc542b4f0b308bf jpeg\n",
      "072944dca363e5b5c5ed521c3d7d986e jpeg\n",
      "073bf4012a1e351a4d32eb050f43939f jpeg\n",
      "075e98c23994320ab0777cb8bf79a734 jpeg\n",
      "07d458ae262daca51e05c712a60111ec jpeg\n",
      "0c6e9d4c1585649260e4814fa4a735be jpeg\n",
      "1043f47d9621bb22a949442b33eb59ce jpeg\n",
      "11388aa950da672c7c0244e3f5aa7d54 jpeg\n",
      "154c930e51f1930ac575086b00608e58 jpeg\n",
      "179046e913b5295740142b09d0dd3ea5 jpeg\n",
      "1857d69d4cbd11051393f86845ebf3d6 jpeg\n",
      "1861bd1e2c80c9d64702d6760fbae0f1 jpeg\n",
      "1ae1f8cdc1d4100269996023c11efd44 jpeg\n",
      "1d074865014710db22b30d9ae5bc3478 jpeg\n",
      "259d4cf47ff49d349efa0fb6bcda9367 jpeg\n",
      "25e5d8d60f8312596e2a81ee8f8ca457 jpeg\n",
      "25eba361f8711c0da1af124df1710293 jpeg\n",
      "2793c4a9eb084a6f9488e3160063d7a2 jpeg\n",
      "28625864bbf5231d96eee804a048a2b6 jpeg\n",
      "288fa8f48cf14678a67dc54f9e6d12a0 jpeg\n",
      "309f9b08acd1ae3660fdbc1e592f4bb7 jpeg\n",
      "3173c73e172e5c152b642dc724cf9dea jpeg\n",
      "38d45bfe999db051e22ddf5cda4b58a1 jpeg\n",
      "38fe4a39cb6608e6ce2b8f23cc70a87c jpeg\n",
      "393797e3bba303839fbf47dc9abe4073 jpeg\n",
      "3b43cfb07c5249eb7fde39cba5132b0c jpeg\n",
      "3b6b22c077585a848cff9f9e0702c18d jpeg\n",
      "3d56445fc4ab12e0bb3d6091fc0cf705 jpeg\n",
      "3e37bc5caa180279041b0eeadb57a2b2 jpeg\n",
      "3fbdd5d8794235de317120d2ddffe9cf jpeg\n",
      "41b569de8a6eb203177769630ea7e1a2 jpeg\n",
      "41d48b0961a29e0a618e052925a99a07 jpeg\n",
      "4443b3a276f55ba8cc350c53ada6e6f4 jpeg\n",
      "44b0504cc720b250adc7913fdaebca21 jpeg\n",
      "4527283b28ce001e5908cd53c365caaa jpeg\n",
      "496551ad4d5dee10f8098231e4d56f5a jpeg\n",
      "4ba56ee018b79d529c3a18d1f3c74855 jpeg\n",
      "4d26f1c7c45e4140a79d1a3eb22c0dcc jpeg\n",
      "4f991b8d3dbae9908b9284a4916d1440 jpeg\n",
      "53f55697bc23f913414459f1ceb9026f jpeg\n",
      "54759cc8f0b2ce98b070c84826ca28d9 jpeg\n",
      "54ffa24e6d5d9ac13b34d698450cf114 jpeg\n",
      "5662963303aa572dd2b41ffa1ce01e6d jpeg\n",
      "5709fde2c1e2f1857a7bdecae9ad86b5 jpeg\n",
      "5ee9b16005874576384ac25fa530bbae jpeg\n",
      "5fa00c678b29c86123b0bae35533ef8a jpeg\n",
      "6171b4539219765a32cc7ea3c998581f jpeg\n",
      "61993d478324f8dc14ce7a89c6e54b67 jpeg\n",
      "664102fa87c57dc4c3370d66f26813b9 jpeg\n",
      "67dddc7daa5357134d69196928df55bd jpeg\n",
      "687830a61a1c3548abec17eb911400cd jpeg\n",
      "6b21b18ae28964f8a6156cffb9e8e5b6 jpeg\n",
      "6ff81adbca8a083514203146e6eb52ce jpeg\n",
      "735c8f0e99b269ecf576db8a443d63f4 jpeg\n",
      "751e11583382e9b677c4c38e86b571fd jpeg\n",
      "791966eef5220bde37fe64bbb6678c67 jpeg\n",
      "7d6528bc13549f71f0e1dee2557d7240 jpeg\n",
      "7dab70c21919ff4fc4245532b5388361 jpeg\n",
      "7e9b36acd3ac241bd589a0dc59e8e9c9 jpeg\n",
      "7f6f197953c0f047ada35379954b4386 jpeg\n",
      "7fe66a017a935329f41145bfff1cdcd3 jpeg\n",
      "80948e94f401d88506b703b68669d206 jpeg\n",
      "80af53f5e0020252ec97149e7be2ba2a jpeg\n",
      "82b55907abe621c8cdabbef4fb9a4eaf jpeg\n",
      "835752a7cd8bf34535327cdca578294c jpeg\n",
      "84a71a020c5d618fd731d64f02153c8a jpeg\n",
      "87f217408678eae1b46025ca730c0993 jpeg\n",
      "90166e697d697db4d374bf232161a622 jpeg\n",
      "9065e0899d25c9bfc393db0349c92031 jpeg\n",
      "9158721befd6ee0b638a87ef9d02786b jpeg\n",
      "916f4ac23c50fa325ece263a71e859a8 jpeg\n",
      "98626e9bcdaae2084e4201212ecbed54 jpeg\n",
      "9a4f3cb106db95459097dbc91c622841 jpeg\n",
      "9ad0b0fc45d184ec4c5c1abc22a4e0a3 jpeg\n",
      "9c9068f5cf65946841e04b314fb2c253 jpeg\n",
      "9cfe031d4468ce4c3a5c864252705dca jpeg\n",
      "9e52d2b623ae92a1f05349360bf80c14 jpeg\n",
      "9f9aa70e1a5a9d836c7bc1f366f5c0ff jpeg\n",
      "a1f2ba4fae0ac649dff1f67697020292 jpeg\n",
      "a224cb654dc0af371b11e09853c33671 jpeg\n",
      "a28155a81842976165b6a03b61f4d20a jpeg\n",
      "a2b8fee47e3a5b9716615d2fa5bafdf8 jpeg\n",
      "a2dbbbaee3d13010cad6175721833694 jpeg\n",
      "a3b23f1329e4ded3617280470d037d18 jpeg\n",
      "a79fd44dc569e991cffdd8a5ae71afc1 jpeg\n",
      "a8540b0a0bd0aafd401deca76f172ed8 jpeg\n",
      "add371ce28c1839024e0289f222ef905 jpeg\n",
      "ae65bc45d00242b11aed4f55459690c8 jpeg\n",
      "ae7b92ca2351867fd142b6c85803550a jpeg\n",
      "b0f8f385d2b7d1865e4fd3e18808e04f jpeg\n",
      "b1cfc78d9ca2e43c00f964aea72af6b3 jpeg\n",
      "b2a10317275ef25a917a3fed04b1718d jpeg\n",
      "b3e7bf0aa836c7690c0b221618af6a3f jpeg\n",
      "b4afaf3001fd8696afe911aee02e01e3 jpeg\n",
      "b673d1e233fe7b40f328d0759218b388 jpeg\n",
      "b8d505f9b5893b2cdac32b50acf492fe jpeg\n",
      "baby-koala-wildlife-sydney-zoo-new-south-wales-australia-wild-life-sydney-zoo-wildlife-park-heart-city-102894356.jpg jpeg\n",
      "baby-koala-wildlife-sydney-zoo-new-south-wales-australia-wild-life-sydney-zoo-wildlife-park-heart-city-102894356_bnw.jpg jpeg\n",
      "bd787d6d266bf8a8967c6144255f499f jpeg\n",
      "bee345d69d6b792aa4ec355c6ae08d67 jpeg\n",
      "c15c72e0355b4e0f400ba3cc070a4246 jpeg\n",
      "c2d7f82200173bb08058803e419688d1 jpeg\n",
      "c3d211248c7e48119e0c8f05f7e7c93d jpeg\n",
      "c46b5e09418e47d4278290324bde90ff jpeg\n",
      "c551275bb608dcea44329a4d82ce90d9 jpeg\n",
      "c6d8673a1ec97ca3645409b16b8aed26 jpeg\n",
      "c760e0280c9ac2d9d908f77000e782d6 jpeg\n",
      "c8732cc21c1d8b4bfaab990d2af9ac3f jpeg\n",
      "cc02a851b8a3129e3171efd5fac0eba5 jpeg\n",
      "ce06574c3edbb6d041f2e5a24e2e33ba jpeg\n",
      "d26dd9e1ec298f2ede4f6cc0c2d95c48 jpeg\n",
      "d6093b6336fea578f5b42c6e70153c2c jpeg\n",
      "d7a2f0692ef9c51fb3d3c038f84ba79a jpeg\n",
      "d7bf20cfd6b3b0fd5c94e29f38ea391f jpeg\n",
      "d9dbd5357ed3a6bcd67163a7edde4490 jpeg\n",
      "da00fe8cd7276e91c64b4804fc3029e7 jpeg\n",
      "dc78b47fe9398ee57f14248f2749a1bd jpeg\n",
      "dd62bf1eb6ffb947a5b8bfe7c846878f jpeg\n",
      "df907769d00e9ebb404b97665bbfaaca jpeg\n",
      "e3c0240bdaccabcc2e1168d206f0bf66 jpeg\n",
      "e8faa4ead9fd16a341551f9623771062 jpeg\n",
      "eb45b8527229eacbaae24fa73e67f435 jpeg\n",
      "edf6888fa092cd1fd24fcf7530273e1c jpeg\n",
      "f177ec66ac5213ebca6ed70d30b69b77 jpeg\n",
      "f1bfe84de32bc87972ef5c7d26eda7b2 jpeg\n",
      "f23e6314e08bed34b781198ce921851a jpeg\n",
      "f98de22eec20eba780fa84f88cf465bf jpeg\n",
      "fe1675814d24cededd729ee6a53c5224 jpeg\n"
     ]
    }
   ],
   "source": [
    "import os\n",
    "for fname in os.listdir('temp'):\n",
    "    ext = imghdr.what('temp/'+fname)\n",
    "    print(fname, ext)"
   ]
  },
  {
   "cell_type": "code",
   "execution_count": null,
   "metadata": {},
   "outputs": [],
   "source": []
  }
 ],
 "metadata": {
  "kernelspec": {
   "display_name": "Python 3",
   "language": "python",
   "name": "python3"
  },
  "language_info": {
   "codemirror_mode": {
    "name": "ipython",
    "version": 3
   },
   "file_extension": ".py",
   "mimetype": "text/x-python",
   "name": "python",
   "nbconvert_exporter": "python",
   "pygments_lexer": "ipython3",
   "version": "3.8.3"
  }
 },
 "nbformat": 4,
 "nbformat_minor": 4
}
